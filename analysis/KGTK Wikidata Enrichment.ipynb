{
 "cells": [
  {
   "cell_type": "markdown",
   "id": "weekly-monthly",
   "metadata": {},
   "source": [
    "# Wikidata enrichment\n",
    "\n",
    "This notebook converts the IMKG graph to KGTK format and queries relevant entities in Wikidata to enrich IMKG with Wikidata knowledge."
   ]
  },
  {
   "cell_type": "markdown",
   "id": "frozen-movement",
   "metadata": {},
   "source": [
    "## 0. Setup"
   ]
  },
  {
   "cell_type": "code",
   "execution_count": 1,
   "id": "identified-thickness",
   "metadata": {},
   "outputs": [],
   "source": [
    "import os\n",
    "import os.path\n",
    "\n",
    "from kgtk.configure_kgtk_notebooks import ConfigureKGTK\n",
    "from kgtk.functions import kgtk, kypher"
   ]
  },
  {
   "cell_type": "code",
   "execution_count": 2,
   "id": "induced-young",
   "metadata": {},
   "outputs": [],
   "source": [
    "# Parameters\n",
    "\n",
    "# Folders on local machine where to create the output and temporary files:\n",
    "input_path = \"wikidata\"\n",
    "output_path = \"projects\"\n",
    "project_name = \"tutorial-kypher\""
   ]
  },
  {
   "cell_type": "code",
   "execution_count": 3,
   "id": "mexican-hands",
   "metadata": {},
   "outputs": [],
   "source": [
    "# IMKG files\n",
    "imkg_dir='imkg03'\n",
    "instances_file='%s/imgflip.seeds.nt' % imkg_dir\n",
    "templates_file='%s/template.kym.nt' % imkg_dir\n",
    "mapping_file='%s/kym2imgflip.sameAs(m4s).nt' % imkg_dir"
   ]
  },
  {
   "cell_type": "code",
   "execution_count": 4,
   "id": "accomplished-nightmare",
   "metadata": {},
   "outputs": [
    {
     "name": "stdout",
     "output_type": "stream",
     "text": [
      "User home: /Users/filipilievski\n",
      "Current dir: /Users/filipilievski/mcs/imkg\n",
      "KGTK dir: /Users/filipilievski/mcs\n",
      "Use-cases dir: /Users/filipilievski/mcs/use-cases\n"
     ]
    }
   ],
   "source": [
    "big_files=[\"label\"]\n",
    "\n",
    "additional_files = {\n",
    "    \"P31\": \"derived.P31.tsv.gz\",\n",
    "    \"items\": \"claims.wikibase-item.tsv.gz\",\n",
    "    \"P1963\": \"derived.P1963computed.count.star.tsv.gz\",\n",
    "    \"external\": \"claims.external-id.tsv.gz\",\n",
    "    \"indegree\": \"metadata.in_degree.tsv.gz\",\n",
    "    \"outdegree\": \"metadata.out_degree.tsv.gz\",\n",
    "    \"pagerank\": \"metadata.pagerank.directed.tsv.gz\"\n",
    "}\n",
    "\n",
    "ck = ConfigureKGTK(big_files)\n",
    "ck.configure_kgtk(input_graph_path=input_path, \n",
    "                  output_path=output_path, \n",
    "                  project_name=project_name,\n",
    "                  additional_files=additional_files)"
   ]
  },
  {
   "cell_type": "code",
   "execution_count": 5,
   "id": "appropriate-brown",
   "metadata": {},
   "outputs": [
    {
     "name": "stdout",
     "output_type": "stream",
     "text": [
      "KGTK_LABEL_FILE: wikidata/labels.en.tsv.gz\n",
      "kypher: kgtk query --graph-cache projects/tutorial-kypher/temp.tutorial-kypher/wikidata.sqlite3.db\n",
      "TEMP: projects/tutorial-kypher/temp.tutorial-kypher\n",
      "kgtk: kgtk\n",
      "KGTK_OPTION_DEBUG: false\n",
      "OUT: projects/tutorial-kypher\n",
      "EXAMPLES_DIR: /Users/filipilievski/mcs/examples\n",
      "USE_CASES_DIR: /Users/filipilievski/mcs/use-cases\n",
      "GRAPH: wikidata\n",
      "KGTK_GRAPH_CACHE: projects/tutorial-kypher/temp.tutorial-kypher/wikidata.sqlite3.db\n",
      "STORE: projects/tutorial-kypher/temp.tutorial-kypher/wikidata.sqlite3.db\n",
      "label: wikidata/labels.en.tsv.gz\n",
      "P31: wikidata/derived.P31.tsv.gz\n",
      "items: wikidata/claims.wikibase-item.tsv.gz\n",
      "P1963: wikidata/derived.P1963computed.count.star.tsv.gz\n",
      "external: wikidata/claims.external-id.tsv.gz\n",
      "indegree: wikidata/metadata.in_degree.tsv.gz\n",
      "outdegree: wikidata/metadata.out_degree.tsv.gz\n",
      "pagerank: wikidata/metadata.pagerank.directed.tsv.gz\n"
     ]
    }
   ],
   "source": [
    "ck.print_env_variables()"
   ]
  },
  {
   "cell_type": "markdown",
   "id": "extensive-benefit",
   "metadata": {},
   "source": [
    "## 1. Import into KGTK"
   ]
  },
  {
   "cell_type": "markdown",
   "id": "solid-vitamin",
   "metadata": {},
   "source": [
    "Define namespaces to make the import-ntriples command work:"
   ]
  },
  {
   "cell_type": "code",
   "execution_count": 6,
   "id": "present-hamburg",
   "metadata": {},
   "outputs": [],
   "source": [
    "namespaces={'\"http://www.wikidata.org/entity/\"': 'wde',\n",
    "           '\"https://www.wikidata.org/wiki/\"': 'wdp',\n",
    "           '\"https://knowyourmeme.com/memes/\"': 'kym',\n",
    "           '\"http://www.w3.org/2000/01/rdf-schema#\"': 'rdfs',\n",
    "           '\"http://www.w3.org/1999/02/22-rdf-syntax-ns#\"': 'rdf',\n",
    "           '\"http://dbpedia.org/resource/\"': 'dbr',\n",
    "           '\"https://meme4.science/\"': 'm4s',\n",
    "           '\"Http://xmlns.com/foaf/0.1/\"': 'foaf',\n",
    "           '\"https://knowyourmeme.com/types/\"': 'kymt',\n",
    "           '\"https://dbpedia.org/property/\"': 'dbp',\n",
    "           '\"https://dbpedia.org/ontology/\"': 'dbo',\n",
    "           '\"https://schema.org/\"': 'schema',\n",
    "           '\"https://imgflip.com/i/\"': 'imgflipi',\n",
    "           '\"https://imgflip.com/meme/\"': 'imgflipmeme',\n",
    "           '\"https://imgflip.com/user/\"': 'imgflipuser',\n",
    "           '\"https://imgflip.com/\"': 'imgflipr'}\n",
    "\n",
    "prop='prefix_expansion'\n",
    "with open('namespaces.tsv', 'w') as w:\n",
    "    w.write('node1\\tlabel\\tnode2\\n')\n",
    "    for k,v in namespaces.items():\n",
    "        triple=[v, prop, k]\n",
    "        w.write('\\t'.join(triple) + '\\n')"
   ]
  },
  {
   "cell_type": "code",
   "execution_count": 7,
   "id": "agreed-remainder",
   "metadata": {},
   "outputs": [
    {
     "name": "stdout",
     "output_type": "stream",
     "text": [
      "node1\tlabel\tnode2\n",
      "wde\tprefix_expansion\t\"http://www.wikidata.org/entity/\"\n",
      "wdp\tprefix_expansion\t\"https://www.wikidata.org/wiki/\"\n",
      "kym\tprefix_expansion\t\"https://knowyourmeme.com/memes/\"\n",
      "rdfs\tprefix_expansion\t\"http://www.w3.org/2000/01/rdf-schema#\"\n",
      "rdf\tprefix_expansion\t\"http://www.w3.org/1999/02/22-rdf-syntax-ns#\"\n",
      "dbr\tprefix_expansion\t\"http://dbpedia.org/resource/\"\n",
      "m4s\tprefix_expansion\t\"https://meme4.science/\"\n",
      "foaf\tprefix_expansion\t\"Http://xmlns.com/foaf/0.1/\"\n",
      "kymt\tprefix_expansion\t\"https://knowyourmeme.com/types/\"\n",
      "dbp\tprefix_expansion\t\"https://dbpedia.org/property/\"\n",
      "dbo\tprefix_expansion\t\"https://dbpedia.org/ontology/\"\n",
      "schema\tprefix_expansion\t\"https://schema.org/\"\n",
      "imgflipi\tprefix_expansion\t\"https://imgflip.com/i/\"\n",
      "imgflipmeme\tprefix_expansion\t\"https://imgflip.com/meme/\"\n",
      "imgflipuser\tprefix_expansion\t\"https://imgflip.com/user/\"\n",
      "imgflipr\tprefix_expansion\t\"https://imgflip.com/\"\n"
     ]
    }
   ],
   "source": [
    "!cat namespaces.tsv"
   ]
  },
  {
   "cell_type": "markdown",
   "id": "superior-ontario",
   "metadata": {},
   "source": [
    "### 1a. Import templates"
   ]
  },
  {
   "cell_type": "code",
   "execution_count": 8,
   "id": "fantastic-advocate",
   "metadata": {},
   "outputs": [
    {
     "name": "stdout",
     "output_type": "stream",
     "text": [
      "CPU times: user 3.94 ms, sys: 8.17 ms, total: 12.1 ms\n",
      "Wall time: 4.85 s\n"
     ]
    }
   ],
   "source": [
    "%%time\n",
    "kgtk(\"\"\"\n",
    "    --progress\n",
    "    import-ntriples -i \"imkg02/template.kym.nt\"  \n",
    "        --namespace-file \"namespaces.tsv\"    \n",
    "        -o $TEMP/raw_templates.kgtk.gz\n",
    "        --namespace-id-use-uuid True \n",
    "        --build-new-namespaces False\n",
    "        --output-only-used-namespaces True \n",
    "        --structured-value-label m4s:structured_value \n",
    "        --structured-uri-label m4s:structured_uri \n",
    "        --newnode-prefix node \n",
    "        --newnode-use-uuid True\n",
    "    \"\"\")"
   ]
  },
  {
   "cell_type": "markdown",
   "id": "green-silver",
   "metadata": {},
   "source": [
    "Let's clean up the data a bit:"
   ]
  },
  {
   "cell_type": "code",
   "execution_count": 9,
   "id": "elementary-dining",
   "metadata": {},
   "outputs": [],
   "source": [
    "import pandas\n",
    "\n",
    "templates_fn='projects/tutorial-kypher/temp.tutorial-kypher/raw_templates.kgtk.gz'\n",
    "templates_df = pandas.read_csv(templates_fn, sep='\\t')\n",
    "templates_out='projects/tutorial-kypher/temp.tutorial-kypher/clean_templates.kgtk'"
   ]
  },
  {
   "cell_type": "code",
   "execution_count": 10,
   "id": "human-documentary",
   "metadata": {},
   "outputs": [],
   "source": [
    "def replace_me(n):\n",
    "    try:\n",
    "        return n.replace('wdp:Property:', '').replace('wdp:', '').replace('wdt:', '').replace('wde:', '')\n",
    "    except:\n",
    "        return n"
   ]
  },
  {
   "cell_type": "code",
   "execution_count": 11,
   "id": "little-donor",
   "metadata": {},
   "outputs": [],
   "source": [
    "def clean_df(df, filename):\n",
    "    all_rows=[]\n",
    "    for i, row in df.iterrows():\n",
    "        n1, label, n2 = row\n",
    "        n1=replace_me(n1)\n",
    "        n2=replace_me(n2)\n",
    "        label=replace_me(label)\n",
    "        new_row=[str(n1),str(label),str(n2)]\n",
    "        all_rows.append(new_row)\n",
    "\n",
    "    with open(filename, 'w') as w:\n",
    "        w.write('node1\\tlabel\\tnode2\\n')\n",
    "        for row in all_rows:\n",
    "            w.write('\\t'.join(row) + '\\n')"
   ]
  },
  {
   "cell_type": "markdown",
   "id": "chicken-cheese",
   "metadata": {},
   "source": [
    "We do some cleaning of the graph"
   ]
  },
  {
   "cell_type": "code",
   "execution_count": 12,
   "id": "difficult-summer",
   "metadata": {},
   "outputs": [],
   "source": [
    "clean_df(templates_df, templates_out)"
   ]
  },
  {
   "cell_type": "code",
   "execution_count": 13,
   "id": "worthy-samba",
   "metadata": {},
   "outputs": [],
   "source": [
    "!kgtk deduplicate -i $TEMP/clean_templates.kgtk -o $TEMP/templates.kgtk.gz"
   ]
  },
  {
   "cell_type": "markdown",
   "id": "psychological-explorer",
   "metadata": {},
   "source": [
    "Now that we imported and deduplicated the instances, let's do some sanity check to make sure our graph is reasonable."
   ]
  },
  {
   "cell_type": "code",
   "execution_count": 14,
   "id": "burning-possession",
   "metadata": {},
   "outputs": [
    {
     "data": {
      "text/html": [
       "<div>\n",
       "<style scoped>\n",
       "    .dataframe tbody tr th:only-of-type {\n",
       "        vertical-align: middle;\n",
       "    }\n",
       "\n",
       "    .dataframe tbody tr th {\n",
       "        vertical-align: top;\n",
       "    }\n",
       "\n",
       "    .dataframe thead th {\n",
       "        text-align: right;\n",
       "    }\n",
       "</style>\n",
       "<table border=\"1\" class=\"dataframe\">\n",
       "  <thead>\n",
       "    <tr style=\"text-align: right;\">\n",
       "      <th></th>\n",
       "      <th>node1</th>\n",
       "      <th>label</th>\n",
       "      <th>node2</th>\n",
       "    </tr>\n",
       "  </thead>\n",
       "  <tbody>\n",
       "    <tr>\n",
       "      <th>0</th>\n",
       "      <td>Q104005472</td>\n",
       "      <td>P6760</td>\n",
       "      <td>kym:spongegar-primitive-sponge-caveman-spongebob</td>\n",
       "    </tr>\n",
       "    <tr>\n",
       "      <th>1</th>\n",
       "      <td>Q104841082</td>\n",
       "      <td>P6760</td>\n",
       "      <td>kym:the-cake-is-a-lie</td>\n",
       "    </tr>\n",
       "    <tr>\n",
       "      <th>2</th>\n",
       "      <td>Q104858864</td>\n",
       "      <td>P6760</td>\n",
       "      <td>kym:rule-63</td>\n",
       "    </tr>\n",
       "    <tr>\n",
       "      <th>3</th>\n",
       "      <td>Q104968209</td>\n",
       "      <td>P6760</td>\n",
       "      <td>kym:i-am-once-again-asking-for-your-financial-...</td>\n",
       "    </tr>\n",
       "    <tr>\n",
       "      <th>4</th>\n",
       "      <td>Q1050827</td>\n",
       "      <td>P6760</td>\n",
       "      <td>kym:waluigi</td>\n",
       "    </tr>\n",
       "    <tr>\n",
       "      <th>...</th>\n",
       "      <td>...</td>\n",
       "      <td>...</td>\n",
       "      <td>...</td>\n",
       "    </tr>\n",
       "    <tr>\n",
       "      <th>211884</th>\n",
       "      <td>nodeZrvbXNkUgr6pQuCFzMLKYh-999</td>\n",
       "      <td>m4s:structured_uri</td>\n",
       "      <td>http://www.w3.org/2001/XMLSchema#timestamp</td>\n",
       "    </tr>\n",
       "    <tr>\n",
       "      <th>211885</th>\n",
       "      <td>nodeZrvbXNkUgr6pQuCFzMLKYh-999</td>\n",
       "      <td>m4s:structured_value</td>\n",
       "      <td>1357981793</td>\n",
       "    </tr>\n",
       "    <tr>\n",
       "      <th>211886</th>\n",
       "      <td>rdf</td>\n",
       "      <td>prefix_expansion</td>\n",
       "      <td>http://www.w3.org/1999/02/22-rdf-syntax-ns#</td>\n",
       "    </tr>\n",
       "    <tr>\n",
       "      <th>211887</th>\n",
       "      <td>wde</td>\n",
       "      <td>prefix_expansion</td>\n",
       "      <td>http://www.wikidata.org/entity/</td>\n",
       "    </tr>\n",
       "    <tr>\n",
       "      <th>211888</th>\n",
       "      <td>wdp</td>\n",
       "      <td>prefix_expansion</td>\n",
       "      <td>https://www.wikidata.org/wiki/</td>\n",
       "    </tr>\n",
       "  </tbody>\n",
       "</table>\n",
       "<p>211889 rows × 3 columns</p>\n",
       "</div>"
      ],
      "text/plain": [
       "                                 node1                 label  \\\n",
       "0                           Q104005472                 P6760   \n",
       "1                           Q104841082                 P6760   \n",
       "2                           Q104858864                 P6760   \n",
       "3                           Q104968209                 P6760   \n",
       "4                             Q1050827                 P6760   \n",
       "...                                ...                   ...   \n",
       "211884  nodeZrvbXNkUgr6pQuCFzMLKYh-999    m4s:structured_uri   \n",
       "211885  nodeZrvbXNkUgr6pQuCFzMLKYh-999  m4s:structured_value   \n",
       "211886                             rdf      prefix_expansion   \n",
       "211887                             wde      prefix_expansion   \n",
       "211888                             wdp      prefix_expansion   \n",
       "\n",
       "                                                    node2  \n",
       "0        kym:spongegar-primitive-sponge-caveman-spongebob  \n",
       "1                                   kym:the-cake-is-a-lie  \n",
       "2                                             kym:rule-63  \n",
       "3       kym:i-am-once-again-asking-for-your-financial-...  \n",
       "4                                             kym:waluigi  \n",
       "...                                                   ...  \n",
       "211884         http://www.w3.org/2001/XMLSchema#timestamp  \n",
       "211885                                         1357981793  \n",
       "211886        http://www.w3.org/1999/02/22-rdf-syntax-ns#  \n",
       "211887                    http://www.wikidata.org/entity/  \n",
       "211888                     https://www.wikidata.org/wiki/  \n",
       "\n",
       "[211889 rows x 3 columns]"
      ]
     },
     "execution_count": 14,
     "metadata": {},
     "output_type": "execute_result"
    }
   ],
   "source": [
    "kgtk(\"\"\"cat -i $TEMP/templates.kgtk.gz\"\"\")"
   ]
  },
  {
   "cell_type": "markdown",
   "id": "personal-federation",
   "metadata": {},
   "source": [
    "How many memes we have in the graph?"
   ]
  },
  {
   "cell_type": "code",
   "execution_count": 15,
   "id": "mature-webmaster",
   "metadata": {},
   "outputs": [
    {
     "name": "stdout",
     "output_type": "stream",
     "text": [
      "count(DISTINCT graph_20_c1.\"node1\")\n",
      "1404\n"
     ]
    }
   ],
   "source": [
    "!kgtk query -i $TEMP/templates.kgtk.gz \\\n",
    "    --match '(n1)-[r:`rdf:type`]->(:`kym:Meme`)' \\\n",
    "    --return 'count(distinct n1)'"
   ]
  },
  {
   "cell_type": "markdown",
   "id": "driving-devon",
   "metadata": {},
   "source": [
    "What are the relations?"
   ]
  },
  {
   "cell_type": "code",
   "execution_count": 16,
   "id": "molecular-newton",
   "metadata": {},
   "outputs": [
    {
     "name": "stdout",
     "output_type": "stream",
     "text": [
      "Relation\n",
      "P6760\n",
      "dbp:confidence\n",
      "kym:about\n",
      "kym:added\n",
      "kym:child\n",
      "kym:from\n",
      "kym:last_update_source\n",
      "kym:origin\n",
      "kym:parent\n",
      "kym:sibling\n",
      "kym:spread\n",
      "kym:status\n",
      "kym:tag\n",
      "kym:title\n",
      "kym:year\n",
      "m4s:fromAbout\n",
      "m4s:fromImage\n",
      "m4s:fromTags\n",
      "m4s:structured_uri\n",
      "m4s:structured_value\n",
      "prefix_expansion\n",
      "rdf:type\n"
     ]
    }
   ],
   "source": [
    "!kgtk query -i $TEMP/templates.kgtk.gz \\\n",
    "    --match '()-[r]->()' \\\n",
    "    --return 'distinct r.label as Relation'"
   ]
  },
  {
   "cell_type": "markdown",
   "id": "broken-messaging",
   "metadata": {},
   "source": [
    "### 1b. Import instances"
   ]
  },
  {
   "cell_type": "markdown",
   "id": "destroyed-durham",
   "metadata": {},
   "source": [
    "Now let's import the instances file into KGTK. This command takes around 6mins on my laptop, I was not sure if it is running or got stuck somewhere."
   ]
  },
  {
   "cell_type": "code",
   "execution_count": 17,
   "id": "broad-parts",
   "metadata": {},
   "outputs": [
    {
     "name": "stdout",
     "output_type": "stream",
     "text": [
      "CPU times: user 16.6 ms, sys: 17.1 ms, total: 33.8 ms\n",
      "Wall time: 45.7 s\n"
     ]
    }
   ],
   "source": [
    "%%time\n",
    "kgtk(\"\"\"\n",
    "    import-ntriples -i \"imkg03/imgflip.seeds.nt\"  \n",
    "        --namespace-file \"namespaces.tsv\"\n",
    "        -o $TEMP/raw_instances.kgtk.gz\n",
    "        --namespace-id-use-uuid True \n",
    "        --build-new-namespaces False\n",
    "        --output-only-used-namespaces True \n",
    "        --structured-value-label m4s:structured_value \n",
    "        --structured-uri-label m4s:structured_uri \n",
    "        --newnode-prefix node \n",
    "        --newnode-use-uuid True\n",
    "    \"\"\")"
   ]
  },
  {
   "cell_type": "code",
   "execution_count": 18,
   "id": "fabulous-curtis",
   "metadata": {},
   "outputs": [],
   "source": [
    "instances_fn='projects/tutorial-kypher/temp.tutorial-kypher/raw_instances.kgtk.gz'\n",
    "instances_df = pandas.read_csv(instances_fn, sep='\\t')\n",
    "instances_out='projects/tutorial-kypher/temp.tutorial-kypher/clean_instances.kgtk'"
   ]
  },
  {
   "cell_type": "code",
   "execution_count": 19,
   "id": "sonic-kenya",
   "metadata": {},
   "outputs": [],
   "source": [
    "clean_df(instances_df, instances_out)"
   ]
  },
  {
   "cell_type": "code",
   "execution_count": 20,
   "id": "specialized-arthur",
   "metadata": {},
   "outputs": [],
   "source": [
    "!kgtk deduplicate -i $TEMP/clean_instances.kgtk -o $TEMP/instances.kgtk.gz"
   ]
  },
  {
   "cell_type": "code",
   "execution_count": 21,
   "id": "distinguished-barrel",
   "metadata": {},
   "outputs": [
    {
     "data": {
      "text/html": [
       "<div>\n",
       "<style scoped>\n",
       "    .dataframe tbody tr th:only-of-type {\n",
       "        vertical-align: middle;\n",
       "    }\n",
       "\n",
       "    .dataframe tbody tr th {\n",
       "        vertical-align: top;\n",
       "    }\n",
       "\n",
       "    .dataframe thead th {\n",
       "        text-align: right;\n",
       "    }\n",
       "</style>\n",
       "<table border=\"1\" class=\"dataframe\">\n",
       "  <thead>\n",
       "    <tr style=\"text-align: right;\">\n",
       "      <th></th>\n",
       "      <th>node1</th>\n",
       "      <th>label</th>\n",
       "      <th>node2</th>\n",
       "    </tr>\n",
       "  </thead>\n",
       "  <tbody>\n",
       "    <tr>\n",
       "      <th>0</th>\n",
       "      <td>imgflipi</td>\n",
       "      <td>prefix_expansion</td>\n",
       "      <td>https://imgflip.com/i/</td>\n",
       "    </tr>\n",
       "    <tr>\n",
       "      <th>1</th>\n",
       "      <td>imgflipi:1001ub</td>\n",
       "      <td>imgflipr:alt_text</td>\n",
       "      <td>Captain Picard Facepalm |  WIFE POSTS ON FB TH...</td>\n",
       "    </tr>\n",
       "    <tr>\n",
       "      <th>2</th>\n",
       "      <td>imgflipi:1001ub</td>\n",
       "      <td>imgflipr:image_url</td>\n",
       "      <td>https://i.imgflip.com/1001ub.jpg</td>\n",
       "    </tr>\n",
       "    <tr>\n",
       "      <th>3</th>\n",
       "      <td>imgflipi:1001ub</td>\n",
       "      <td>imgflipr:template</td>\n",
       "      <td>imgflipmeme:Captain-Picard-Facepalm</td>\n",
       "    </tr>\n",
       "    <tr>\n",
       "      <th>4</th>\n",
       "      <td>imgflipi:1001ub</td>\n",
       "      <td>imgflipr:templateId</td>\n",
       "      <td>1509839</td>\n",
       "    </tr>\n",
       "    <tr>\n",
       "      <th>5</th>\n",
       "      <td>imgflipi:1001ub</td>\n",
       "      <td>imgflipr:template_title</td>\n",
       "      <td>Captain Picard Facepalm</td>\n",
       "    </tr>\n",
       "    <tr>\n",
       "      <th>6</th>\n",
       "      <td>imgflipi:1001ub</td>\n",
       "      <td>imgflipr:title</td>\n",
       "      <td>Captain Picard Facepalm</td>\n",
       "    </tr>\n",
       "    <tr>\n",
       "      <th>7</th>\n",
       "      <td>imgflipi:1001ub</td>\n",
       "      <td>imgflipr:upvote_count</td>\n",
       "      <td>5</td>\n",
       "    </tr>\n",
       "    <tr>\n",
       "      <th>8</th>\n",
       "      <td>imgflipi:1001ub</td>\n",
       "      <td>imgflipr:view_count</td>\n",
       "      <td>3,780</td>\n",
       "    </tr>\n",
       "    <tr>\n",
       "      <th>9</th>\n",
       "      <td>imgflipi:1001ub</td>\n",
       "      <td>m4s:fromCaption</td>\n",
       "      <td>Q11661</td>\n",
       "    </tr>\n",
       "  </tbody>\n",
       "</table>\n",
       "</div>"
      ],
      "text/plain": [
       "             node1                    label  \\\n",
       "0         imgflipi         prefix_expansion   \n",
       "1  imgflipi:1001ub        imgflipr:alt_text   \n",
       "2  imgflipi:1001ub       imgflipr:image_url   \n",
       "3  imgflipi:1001ub        imgflipr:template   \n",
       "4  imgflipi:1001ub      imgflipr:templateId   \n",
       "5  imgflipi:1001ub  imgflipr:template_title   \n",
       "6  imgflipi:1001ub           imgflipr:title   \n",
       "7  imgflipi:1001ub    imgflipr:upvote_count   \n",
       "8  imgflipi:1001ub      imgflipr:view_count   \n",
       "9  imgflipi:1001ub          m4s:fromCaption   \n",
       "\n",
       "                                               node2  \n",
       "0                             https://imgflip.com/i/  \n",
       "1  Captain Picard Facepalm |  WIFE POSTS ON FB TH...  \n",
       "2                   https://i.imgflip.com/1001ub.jpg  \n",
       "3                imgflipmeme:Captain-Picard-Facepalm  \n",
       "4                                            1509839  \n",
       "5                            Captain Picard Facepalm  \n",
       "6                            Captain Picard Facepalm  \n",
       "7                                                  5  \n",
       "8                                              3,780  \n",
       "9                                             Q11661  "
      ]
     },
     "execution_count": 21,
     "metadata": {},
     "output_type": "execute_result"
    }
   ],
   "source": [
    "kgtk(\"\"\"head -i $TEMP/instances.kgtk.gz\"\"\")"
   ]
  },
  {
   "cell_type": "markdown",
   "id": "thousand-monkey",
   "metadata": {},
   "source": [
    "Let's validate that the import worked well:"
   ]
  },
  {
   "cell_type": "code",
   "execution_count": 22,
   "id": "continental-stroke",
   "metadata": {},
   "outputs": [
    {
     "name": "stdout",
     "output_type": "stream",
     "text": [
      "Relation\n",
      "prefix_expansion\n",
      "imgflipr:alt_text\n",
      "imgflipr:image_url\n",
      "imgflipr:template\n",
      "imgflipr:templateId\n",
      "imgflipr:template_title\n",
      "imgflipr:title\n",
      "imgflipr:upvote_count\n",
      "imgflipr:view_count\n",
      "m4s:fromCaption\n",
      "imgflipr:author\n"
     ]
    }
   ],
   "source": [
    "!kgtk query -i $TEMP/instances.kgtk.gz \\\n",
    "    --match '()-[r]->()' \\\n",
    "    --return 'distinct r.label as Relation'"
   ]
  },
  {
   "cell_type": "markdown",
   "id": "fabulous-marine",
   "metadata": {},
   "source": [
    "### 1c. Import mappings between KYM and ImgFlip"
   ]
  },
  {
   "cell_type": "code",
   "execution_count": 25,
   "id": "suffering-difference",
   "metadata": {},
   "outputs": [
    {
     "name": "stdout",
     "output_type": "stream",
     "text": [
      "CPU times: user 2.8 ms, sys: 11.3 ms, total: 14.1 ms\n",
      "Wall time: 784 ms\n"
     ]
    }
   ],
   "source": [
    "%%time\n",
    "kgtk(\"\"\"\n",
    "    import-ntriples --debug -i \"imkg03/kym2imgflip.sameAs(m4s).nt\"  \n",
    "        --namespace-file \"namespaces.tsv\"\n",
    "        -o $TEMP/raw_mappings.kgtk.gz\n",
    "        --namespace-id-use-uuid True \n",
    "        --build-new-namespaces False\n",
    "        --output-only-used-namespaces True \n",
    "        --structured-value-label m4s:structured_value \n",
    "        --structured-uri-label m4s:structured_uri \n",
    "        --newnode-prefix node \n",
    "        --newnode-use-uuid True\n",
    "    \"\"\")"
   ]
  },
  {
   "cell_type": "code",
   "execution_count": 26,
   "id": "dominant-canvas",
   "metadata": {},
   "outputs": [],
   "source": [
    "mappings_fn='projects/tutorial-kypher/temp.tutorial-kypher/raw_mappings.kgtk.gz'\n",
    "mappings_df = pandas.read_csv(mappings_fn, sep='\\t')\n",
    "mappings_out='projects/tutorial-kypher/temp.tutorial-kypher/clean_mappings.kgtk'"
   ]
  },
  {
   "cell_type": "code",
   "execution_count": 27,
   "id": "threaded-forge",
   "metadata": {},
   "outputs": [],
   "source": [
    "clean_df(mappings_df, mappings_out)"
   ]
  },
  {
   "cell_type": "code",
   "execution_count": 28,
   "id": "ongoing-revelation",
   "metadata": {},
   "outputs": [],
   "source": [
    "!kgtk deduplicate -i $TEMP/clean_mappings.kgtk -o $TEMP/mappings.kgtk.gz"
   ]
  },
  {
   "cell_type": "code",
   "execution_count": 29,
   "id": "informed-australia",
   "metadata": {},
   "outputs": [
    {
     "data": {
      "text/html": [
       "<div>\n",
       "<style scoped>\n",
       "    .dataframe tbody tr th:only-of-type {\n",
       "        vertical-align: middle;\n",
       "    }\n",
       "\n",
       "    .dataframe tbody tr th {\n",
       "        vertical-align: top;\n",
       "    }\n",
       "\n",
       "    .dataframe thead th {\n",
       "        text-align: right;\n",
       "    }\n",
       "</style>\n",
       "<table border=\"1\" class=\"dataframe\">\n",
       "  <thead>\n",
       "    <tr style=\"text-align: right;\">\n",
       "      <th></th>\n",
       "      <th>node1</th>\n",
       "      <th>label</th>\n",
       "      <th>node2</th>\n",
       "    </tr>\n",
       "  </thead>\n",
       "  <tbody>\n",
       "    <tr>\n",
       "      <th>0</th>\n",
       "      <td>imgflipmeme</td>\n",
       "      <td>prefix_expansion</td>\n",
       "      <td>https://imgflip.com/meme/</td>\n",
       "    </tr>\n",
       "    <tr>\n",
       "      <th>1</th>\n",
       "      <td>kym</td>\n",
       "      <td>prefix_expansion</td>\n",
       "      <td>https://knowyourmeme.com/memes/</td>\n",
       "    </tr>\n",
       "    <tr>\n",
       "      <th>2</th>\n",
       "      <td>kym:%CD%A1-%CD%9C%CA%96-%CD%A1-lenny-face</td>\n",
       "      <td>m4s:sameAs</td>\n",
       "      <td>imgflipmeme:223064762/Udo----</td>\n",
       "    </tr>\n",
       "    <tr>\n",
       "      <th>3</th>\n",
       "      <td>kym:%CD%A1-%CD%9C%CA%96-%CD%A1-lenny-face</td>\n",
       "      <td>m4s:sameAs</td>\n",
       "      <td>imgflipmeme:223065841/Udo----</td>\n",
       "    </tr>\n",
       "    <tr>\n",
       "      <th>4</th>\n",
       "      <td>kym:%CD%A1-%CD%9C%CA%96-%CD%A1-lenny-face</td>\n",
       "      <td>m4s:sameAs</td>\n",
       "      <td>imgflipmeme:322445094/sans-lenny-face</td>\n",
       "    </tr>\n",
       "    <tr>\n",
       "      <th>5</th>\n",
       "      <td>kym:%E0%B2%A0_%E0%B2%A0-look-of-disapproval</td>\n",
       "      <td>m4s:sameAs</td>\n",
       "      <td>imgflipmeme:340214490/Doris-look-of-disapproval</td>\n",
       "    </tr>\n",
       "    <tr>\n",
       "      <th>6</th>\n",
       "      <td>kym:a-winner-is-you</td>\n",
       "      <td>m4s:sameAs</td>\n",
       "      <td>imgflipmeme:284627388/A-winner-is-you</td>\n",
       "    </tr>\n",
       "    <tr>\n",
       "      <th>7</th>\n",
       "      <td>kym:all-your-base-are-belong-to-us</td>\n",
       "      <td>m4s:sameAs</td>\n",
       "      <td>imgflipmeme:100165392/All-Your-Bases-Are-Belon...</td>\n",
       "    </tr>\n",
       "    <tr>\n",
       "      <th>8</th>\n",
       "      <td>kym:all-your-base-are-belong-to-us</td>\n",
       "      <td>m4s:sameAs</td>\n",
       "      <td>imgflipmeme:151702926/ALL-YOUR-BASE-ARE-BELONG...</td>\n",
       "    </tr>\n",
       "    <tr>\n",
       "      <th>9</th>\n",
       "      <td>kym:all-your-base-are-belong-to-us</td>\n",
       "      <td>m4s:sameAs</td>\n",
       "      <td>imgflipmeme:20129073/all-your-base-are-belong-...</td>\n",
       "    </tr>\n",
       "  </tbody>\n",
       "</table>\n",
       "</div>"
      ],
      "text/plain": [
       "                                         node1             label  \\\n",
       "0                                  imgflipmeme  prefix_expansion   \n",
       "1                                          kym  prefix_expansion   \n",
       "2    kym:%CD%A1-%CD%9C%CA%96-%CD%A1-lenny-face        m4s:sameAs   \n",
       "3    kym:%CD%A1-%CD%9C%CA%96-%CD%A1-lenny-face        m4s:sameAs   \n",
       "4    kym:%CD%A1-%CD%9C%CA%96-%CD%A1-lenny-face        m4s:sameAs   \n",
       "5  kym:%E0%B2%A0_%E0%B2%A0-look-of-disapproval        m4s:sameAs   \n",
       "6                          kym:a-winner-is-you        m4s:sameAs   \n",
       "7           kym:all-your-base-are-belong-to-us        m4s:sameAs   \n",
       "8           kym:all-your-base-are-belong-to-us        m4s:sameAs   \n",
       "9           kym:all-your-base-are-belong-to-us        m4s:sameAs   \n",
       "\n",
       "                                               node2  \n",
       "0                          https://imgflip.com/meme/  \n",
       "1                    https://knowyourmeme.com/memes/  \n",
       "2                      imgflipmeme:223064762/Udo----  \n",
       "3                      imgflipmeme:223065841/Udo----  \n",
       "4              imgflipmeme:322445094/sans-lenny-face  \n",
       "5    imgflipmeme:340214490/Doris-look-of-disapproval  \n",
       "6              imgflipmeme:284627388/A-winner-is-you  \n",
       "7  imgflipmeme:100165392/All-Your-Bases-Are-Belon...  \n",
       "8  imgflipmeme:151702926/ALL-YOUR-BASE-ARE-BELONG...  \n",
       "9  imgflipmeme:20129073/all-your-base-are-belong-...  "
      ]
     },
     "execution_count": 29,
     "metadata": {},
     "output_type": "execute_result"
    }
   ],
   "source": [
    "kgtk(\"\"\"head -i $TEMP/mappings.kgtk.gz\"\"\")"
   ]
  },
  {
   "cell_type": "markdown",
   "id": "monthly-motorcycle",
   "metadata": {},
   "source": [
    "## 2. Enrich with Wikidata now"
   ]
  },
  {
   "cell_type": "markdown",
   "id": "virgin-accent",
   "metadata": {},
   "source": [
    "### 2a. Data where memes are subjects or objects"
   ]
  },
  {
   "cell_type": "markdown",
   "id": "respective-leonard",
   "metadata": {},
   "source": [
    "We start with relations where the meme Qnode is a subject in Wikidata:"
   ]
  },
  {
   "cell_type": "code",
   "execution_count": 30,
   "id": "republican-smart",
   "metadata": {},
   "outputs": [],
   "source": [
    "!kgtk query -i $items -i $TEMP/templates.kgtk.gz \\\n",
    "    --match 'templates: (meme_qid)-[:P6760]->(), \\\n",
    "            item: (meme_qid)-[mrel]->(mval)' \\\n",
    "    --return 'meme_qid as node1, mrel.label as label, mval as node2' \\\n",
    "    -o $TEMP/wikidata_sub.kgtk.gz"
   ]
  },
  {
   "cell_type": "code",
   "execution_count": 31,
   "id": "novel-leeds",
   "metadata": {},
   "outputs": [
    {
     "name": "stdout",
     "output_type": "stream",
     "text": [
      "count(graph_21_c1.\"node1\")\n",
      "1397\n"
     ]
    }
   ],
   "source": [
    "!kgtk query -i $TEMP/wikidata_sub.kgtk.gz \\\n",
    "    --match '(n1)-[r]->()' \\\n",
    "    --return 'count (n1)'"
   ]
  },
  {
   "cell_type": "markdown",
   "id": "amber-labor",
   "metadata": {},
   "source": [
    "We get information for 1,397 memes as subjects. What about memes as objects?"
   ]
  },
  {
   "cell_type": "code",
   "execution_count": 32,
   "id": "three-overhead",
   "metadata": {},
   "outputs": [],
   "source": [
    "!kgtk query -i $items -i $TEMP/templates.kgtk.gz \\\n",
    "    --match 'templates: (meme_qid)-[:P6760]->(), \\\n",
    "            item: (mval)-[mrel]->(meme_qid)' \\\n",
    "    --return 'mval as node1, mrel.label as label, meme_qid as node2' \\\n",
    "    -o $TEMP/wikidata_obj.kgtk.gz"
   ]
  },
  {
   "cell_type": "markdown",
   "id": "apparent-motion",
   "metadata": {},
   "source": [
    "Combine and deduplicate:"
   ]
  },
  {
   "cell_type": "code",
   "execution_count": 33,
   "id": "sharp-documentation",
   "metadata": {},
   "outputs": [],
   "source": [
    "!kgtk cat -i $TEMP/wikidata_sub.kgtk.gz -i $TEMP/wikidata_obj.kgtk.gz / deduplicate -o $TEMP/wikidata_memes.kgtk.gz"
   ]
  },
  {
   "cell_type": "code",
   "execution_count": 34,
   "id": "pleasant-appreciation",
   "metadata": {},
   "outputs": [
    {
     "name": "stdout",
     "output_type": "stream",
     "text": [
      "count(graph_22_c1.\"node1\")\n",
      "1587\n"
     ]
    }
   ],
   "source": [
    "!kgtk query -i $TEMP/wikidata_memes.kgtk.gz \\\n",
    "    --match '(n1)-[]->()' \\\n",
    "    --return 'count(n1)'"
   ]
  },
  {
   "cell_type": "code",
   "execution_count": 35,
   "id": "unusual-dealing",
   "metadata": {},
   "outputs": [
    {
     "name": "stdout",
     "output_type": "stream",
     "text": [
      "node1\tlabel\tnode2\n",
      "P1651\tP1855\tQ5230628\n",
      "P21\tP1855\tQ7714263\n",
      "P7946\tP1855\tQ7714263\n",
      "Q101833802\tP822\tQ98951569\n",
      "Q102240167\tP793\tQ17521923\n",
      "Q104005472\tP1080\tQ87609688\n",
      "Q104005472\tP1340\tQ17122834\n",
      "Q104005472\tP1441\tQ83279\n",
      "Q104005472\tP21\tQ6581097\n",
      "Q104005472\tP31\tQ15711870\n"
     ]
    }
   ],
   "source": [
    "!kgtk query -i $TEMP/wikidata_memes.kgtk.gz \\\n",
    "    --match '(n1)-[]->()' \\\n",
    "    --limit 10"
   ]
  },
  {
   "cell_type": "markdown",
   "id": "completed-corner",
   "metadata": {},
   "source": [
    "We now combine Wikidata information with the original graph:"
   ]
  },
  {
   "cell_type": "code",
   "execution_count": 48,
   "id": "polished-wells",
   "metadata": {},
   "outputs": [],
   "source": [
    "!kgtk cat -i $TEMP/wikidata_memes.kgtk.gz -i $TEMP/templates.kgtk.gz -i $TEMP/mappings.kgtk.gz -i $TEMP/instances.kgtk.gz / deduplicate -o $TEMP/combined_with_wd.kgtk.gz"
   ]
  },
  {
   "cell_type": "markdown",
   "id": "encouraging-proxy",
   "metadata": {},
   "source": [
    "### 2b. Data about Wikidata entities from the combined graph"
   ]
  },
  {
   "cell_type": "markdown",
   "id": "engaging-riverside",
   "metadata": {},
   "source": [
    "Next, let's obtain data about the other Qnodes that are not memes. Here, we want to get relations for Qnode pairs in our graph in Wikidata. So, we query Wikidata for statements where both node1 and node2 are in our graph:"
   ]
  },
  {
   "cell_type": "code",
   "execution_count": 13,
   "id": "surrounded-support",
   "metadata": {},
   "outputs": [],
   "source": [
    "!kgtk query -i $TEMP/combined_with_wd.kgtk.gz \\\n",
    "    --match '(x)-->(y)' \\\n",
    "     --return 'x as node1, \"member\" as label, \"set1\" as node2, y as node1, \"member\" as label, \"set1\" as node2' \\\n",
    "     --multi 2 \\\n",
    "     / deduplicate / add-id / \\\n",
    "     query -i - --as gnodes --idx mode:valuegraph -i $items --idx mode:graph \\\n",
    "     --match 'item:  (x)-[r]->(y), \\\n",
    "              gnodes: (x)-->(), \\\n",
    "                      (y)-->()' \\\n",
    "    --return 'distinct x, r.label, y' \\\n",
    "    -o $TEMP/wikidata_ent.kgtk.gz"
   ]
  },
  {
   "cell_type": "code",
   "execution_count": 14,
   "id": "informational-vaccine",
   "metadata": {},
   "outputs": [
    {
     "name": "stdout",
     "output_type": "stream",
     "text": [
      "Q99700\tP17\tQ16\n",
      "Q997170\tP17\tQ30\n",
      "Q997646\tP21\tQ6581097\n",
      "Q997646\tP31\tQ15632617\n",
      "Q99767280\tP279\tQ11410\n",
      "Q99775\tP527\tQ1337888\n",
      "Q998\tP279\tQ7569\n",
      "Q998303\tP31\tQ206989\n",
      "Q998426\tP279\tQ126793\n",
      "Q998653\tP31\tQ184439\n",
      "Q998653\tP31\tQ571571\n",
      "Q998840\tP1889\tQ15220419\n",
      "Q998840\tP279\tQ11410\n",
      "Q99895\tP1889\tQ10971235\n",
      "Q99895\tP279\tQ10971235\n",
      "Q99899353\tP1269\tQ4555537\n",
      "Q99899353\tP279\tQ1339070\n",
      "Q99899353\tP279\tQ138619\n",
      "Q99899353\tP527\tQ478798\n",
      "Q99899353\tP527\tQ82799\n",
      "Q998999\tP136\tQ170238\n",
      "Q998999\tP364\tQ1860\n",
      "Q998999\tP495\tQ16\n",
      "Q998999\tP641\tQ159992\n",
      "Q999278\tP279\tQ205555\n",
      "Q9993\tP361\tQ21204\n",
      "Q9993\tP361\tQ8229\n",
      "Q999646\tP2283\tQ1420\n",
      "Q99982\tP1269\tQ182154\n",
      "Q99982\tP279\tQ483372\n"
     ]
    }
   ],
   "source": [
    "!gzcat $TEMP/wikidata_ent.kgtk.gz | tail -30"
   ]
  },
  {
   "cell_type": "code",
   "execution_count": 15,
   "id": "bigger-impression",
   "metadata": {},
   "outputs": [
    {
     "name": "stdout",
     "output_type": "stream",
     "text": [
      "count(graph_36_c1.\"node1\")\n",
      "134990\n"
     ]
    }
   ],
   "source": [
    "!kgtk query -i $TEMP/wikidata_ent.kgtk.gz \\\n",
    "    --match '(n1)-[]->(n2)' \\\n",
    "    --return 'count(n1)'"
   ]
  },
  {
   "cell_type": "markdown",
   "id": "settled-aircraft",
   "metadata": {},
   "source": [
    "## 3. Merge all in IMKG\n"
   ]
  },
  {
   "cell_type": "code",
   "execution_count": 16,
   "id": "inclusive-guide",
   "metadata": {},
   "outputs": [],
   "source": [
    "!kgtk cat -i $TEMP/combined_with_wd.kgtk.gz -i $TEMP/wikidata_ent.kgtk.gz -o $TEMP/imkg.kgtk.gz"
   ]
  },
  {
   "cell_type": "code",
   "execution_count": 17,
   "id": "south-seafood",
   "metadata": {},
   "outputs": [
    {
     "data": {
      "text/html": [
       "<div>\n",
       "<style scoped>\n",
       "    .dataframe tbody tr th:only-of-type {\n",
       "        vertical-align: middle;\n",
       "    }\n",
       "\n",
       "    .dataframe tbody tr th {\n",
       "        vertical-align: top;\n",
       "    }\n",
       "\n",
       "    .dataframe thead th {\n",
       "        text-align: right;\n",
       "    }\n",
       "</style>\n",
       "<table border=\"1\" class=\"dataframe\">\n",
       "  <thead>\n",
       "    <tr style=\"text-align: right;\">\n",
       "      <th></th>\n",
       "      <th>node1</th>\n",
       "      <th>label</th>\n",
       "      <th>node2</th>\n",
       "    </tr>\n",
       "  </thead>\n",
       "  <tbody>\n",
       "    <tr>\n",
       "      <th>0</th>\n",
       "      <td>P1651</td>\n",
       "      <td>P1855</td>\n",
       "      <td>Q5230628</td>\n",
       "    </tr>\n",
       "    <tr>\n",
       "      <th>1</th>\n",
       "      <td>P21</td>\n",
       "      <td>P1855</td>\n",
       "      <td>Q7714263</td>\n",
       "    </tr>\n",
       "    <tr>\n",
       "      <th>2</th>\n",
       "      <td>P7946</td>\n",
       "      <td>P1855</td>\n",
       "      <td>Q7714263</td>\n",
       "    </tr>\n",
       "    <tr>\n",
       "      <th>3</th>\n",
       "      <td>Q101833802</td>\n",
       "      <td>P822</td>\n",
       "      <td>Q98951569</td>\n",
       "    </tr>\n",
       "    <tr>\n",
       "      <th>4</th>\n",
       "      <td>Q102240167</td>\n",
       "      <td>P793</td>\n",
       "      <td>Q17521923</td>\n",
       "    </tr>\n",
       "    <tr>\n",
       "      <th>...</th>\n",
       "      <td>...</td>\n",
       "      <td>...</td>\n",
       "      <td>...</td>\n",
       "    </tr>\n",
       "    <tr>\n",
       "      <th>2230494</th>\n",
       "      <td>Q9993</td>\n",
       "      <td>P361</td>\n",
       "      <td>Q21204</td>\n",
       "    </tr>\n",
       "    <tr>\n",
       "      <th>2230495</th>\n",
       "      <td>Q9993</td>\n",
       "      <td>P361</td>\n",
       "      <td>Q8229</td>\n",
       "    </tr>\n",
       "    <tr>\n",
       "      <th>2230496</th>\n",
       "      <td>Q999646</td>\n",
       "      <td>P2283</td>\n",
       "      <td>Q1420</td>\n",
       "    </tr>\n",
       "    <tr>\n",
       "      <th>2230497</th>\n",
       "      <td>Q99982</td>\n",
       "      <td>P1269</td>\n",
       "      <td>Q182154</td>\n",
       "    </tr>\n",
       "    <tr>\n",
       "      <th>2230498</th>\n",
       "      <td>Q99982</td>\n",
       "      <td>P279</td>\n",
       "      <td>Q483372</td>\n",
       "    </tr>\n",
       "  </tbody>\n",
       "</table>\n",
       "<p>2230499 rows × 3 columns</p>\n",
       "</div>"
      ],
      "text/plain": [
       "              node1  label      node2\n",
       "0             P1651  P1855   Q5230628\n",
       "1               P21  P1855   Q7714263\n",
       "2             P7946  P1855   Q7714263\n",
       "3        Q101833802   P822  Q98951569\n",
       "4        Q102240167   P793  Q17521923\n",
       "...             ...    ...        ...\n",
       "2230494       Q9993   P361     Q21204\n",
       "2230495       Q9993   P361      Q8229\n",
       "2230496     Q999646  P2283      Q1420\n",
       "2230497      Q99982  P1269    Q182154\n",
       "2230498      Q99982   P279    Q483372\n",
       "\n",
       "[2230499 rows x 3 columns]"
      ]
     },
     "execution_count": 17,
     "metadata": {},
     "output_type": "execute_result"
    }
   ],
   "source": [
    "kgtk(\"\"\"cat -i $TEMP/imkg.kgtk.gz\"\"\")"
   ]
  },
  {
   "cell_type": "markdown",
   "id": "injured-disney",
   "metadata": {},
   "source": [
    "## 4. Create label file"
   ]
  },
  {
   "cell_type": "code",
   "execution_count": null,
   "id": "iraqi-mitchell",
   "metadata": {},
   "outputs": [],
   "source": [
    "!kgtk query -i $label -i $TEMP/templates.kgtk.gz --force \\\n",
    "            --match 'templates: (n1)-[]->(n2), \\\n",
    "                label: (n)-[r]->(l)' \\\n",
    "            --where 'n1=n OR n2=n' \\\n",
    "            --return 'n as node1, r.label as label, l as node2' / deduplicate \\\n",
    "            -o $TEMP/labelfile_templates.kgtk.gz "
   ]
  },
  {
   "cell_type": "code",
   "execution_count": null,
   "id": "spanish-brave",
   "metadata": {},
   "outputs": [],
   "source": [
    "!wc -l $TEMP/labelfile_templates.kgtk.gz"
   ]
  },
  {
   "cell_type": "code",
   "execution_count": null,
   "id": "level-hypothesis",
   "metadata": {},
   "outputs": [],
   "source": [
    "kgtk(\"\"\"cat -i $TEMP/labelfile.kgtk.gz\"\"\")"
   ]
  },
  {
   "cell_type": "code",
   "execution_count": null,
   "id": "quick-plymouth",
   "metadata": {},
   "outputs": [],
   "source": [
    "!kgtk query -i $label -i $TEMP/instances.kgtk.gz --force \\\n",
    "            --match 'instances: (n1)-[:`m4s:fromCaption`]->(n2), \\\n",
    "                label: (n)-[r]->(l)' \\\n",
    "            --where 'n1=n OR n2=n' \\\n",
    "            --return 'n as node1, r.label as label, l as node2' / deduplicate \\\n",
    "            -o $TEMP/labelfile_instances.kgtk.gz "
   ]
  },
  {
   "cell_type": "code",
   "execution_count": null,
   "id": "hollow-bubble",
   "metadata": {},
   "outputs": [],
   "source": [
    "!wc -l $TEMP/labelfile_instances.kgtk.gz"
   ]
  },
  {
   "cell_type": "code",
   "execution_count": null,
   "id": "expected-palestine",
   "metadata": {},
   "outputs": [],
   "source": [
    "!kgtk cat -i $TEMP/labelfile_templates.kgtk.gz -i $TEMP/labelfile_instances.kgtk.gz -o $TEMP/labelfile.kgtk.gz"
   ]
  }
 ],
 "metadata": {
  "kernelspec": {
   "display_name": "Python 3",
   "language": "python",
   "name": "python3"
  },
  "language_info": {
   "codemirror_mode": {
    "name": "ipython",
    "version": 3
   },
   "file_extension": ".py",
   "mimetype": "text/x-python",
   "name": "python",
   "nbconvert_exporter": "python",
   "pygments_lexer": "ipython3",
   "version": "3.8.5"
  }
 },
 "nbformat": 4,
 "nbformat_minor": 5
}
