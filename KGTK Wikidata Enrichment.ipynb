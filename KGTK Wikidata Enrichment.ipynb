{
 "cells": [
  {
   "cell_type": "markdown",
   "id": "basic-location",
   "metadata": {},
   "source": [
    "# Wikidata enrichment\n",
    "\n",
    "This notebook converts the IMKG graph to KGTK format and queries relevant entities in Wikidata to enrich IMKG with Wikidata knowledge."
   ]
  },
  {
   "cell_type": "markdown",
   "id": "known-franchise",
   "metadata": {},
   "source": [
    "## 0. Setup"
   ]
  },
  {
   "cell_type": "code",
   "execution_count": 11,
   "id": "viral-strain",
   "metadata": {},
   "outputs": [],
   "source": [
    "import os\n",
    "import os.path\n",
    "\n",
    "from kgtk.configure_kgtk_notebooks import ConfigureKGTK\n",
    "from kgtk.functions import kgtk, kypher"
   ]
  },
  {
   "cell_type": "code",
   "execution_count": 12,
   "id": "approved-germany",
   "metadata": {},
   "outputs": [],
   "source": [
    "# Parameters\n",
    "\n",
    "# Folders on local machine where to create the output and temporary files:\n",
    "input_path = \"wikidata\"\n",
    "output_path = \"projects\"\n",
    "project_name = \"tutorial-kypher\""
   ]
  },
  {
   "cell_type": "code",
   "execution_count": 13,
   "id": "secondary-popularity",
   "metadata": {},
   "outputs": [],
   "source": [
    "# IMKG files\n",
    "imkg_dir='imkg04'\n",
    "instances_file='%s/imgflip.nt' % imkg_dir\n",
    "templates_file='%s/kym_all.nt' % imkg_dir\n",
    "mapping_file='%s/kym2imgflip.sameAs(m4s).nt' % imkg_dir"
   ]
  },
  {
   "cell_type": "code",
   "execution_count": 14,
   "id": "ultimate-landing",
   "metadata": {},
   "outputs": [
    {
     "name": "stdout",
     "output_type": "stream",
     "text": [
      "User home: /Users/filipilievski\n",
      "Current dir: /Users/filipilievski/mcs/imkg\n",
      "KGTK dir: /Users/filipilievski/mcs\n",
      "Use-cases dir: /Users/filipilievski/mcs/use-cases\n"
     ]
    }
   ],
   "source": [
    "big_files=[\"label\"]\n",
    "\n",
    "additional_files = {\n",
    "    \"P31\": \"derived.P31.tsv.gz\",\n",
    "    \"items\": \"claims.wikibase-item.tsv.gz\",\n",
    "    \"P1963\": \"derived.P1963computed.count.star.tsv.gz\",\n",
    "    \"external\": \"claims.external-id.tsv.gz\",\n",
    "    \"indegree\": \"metadata.in_degree.tsv.gz\",\n",
    "    \"outdegree\": \"metadata.out_degree.tsv.gz\",\n",
    "    \"pagerank\": \"metadata.pagerank.directed.tsv.gz\"\n",
    "}\n",
    "\n",
    "ck = ConfigureKGTK(big_files)\n",
    "ck.configure_kgtk(input_graph_path=input_path, \n",
    "                  output_path=output_path, \n",
    "                  project_name=project_name,\n",
    "                  additional_files=additional_files)"
   ]
  },
  {
   "cell_type": "code",
   "execution_count": 15,
   "id": "temporal-sheriff",
   "metadata": {},
   "outputs": [
    {
     "name": "stdout",
     "output_type": "stream",
     "text": [
      "KGTK_GRAPH_CACHE: projects/tutorial-kypher/temp.tutorial-kypher/wikidata.sqlite3.db\n",
      "USE_CASES_DIR: /Users/filipilievski/mcs/use-cases\n",
      "EXAMPLES_DIR: /Users/filipilievski/mcs/examples\n",
      "kypher: kgtk query --graph-cache projects/tutorial-kypher/temp.tutorial-kypher/wikidata.sqlite3.db\n",
      "OUT: projects/tutorial-kypher\n",
      "kgtk: kgtk\n",
      "KGTK_LABEL_FILE: wikidata/labels.en.tsv.gz\n",
      "TEMP: projects/tutorial-kypher/temp.tutorial-kypher\n",
      "GRAPH: wikidata\n",
      "KGTK_OPTION_DEBUG: false\n",
      "STORE: projects/tutorial-kypher/temp.tutorial-kypher/wikidata.sqlite3.db\n",
      "label: wikidata/labels.en.tsv.gz\n",
      "P31: wikidata/derived.P31.tsv.gz\n",
      "items: wikidata/claims.wikibase-item.tsv.gz\n",
      "P1963: wikidata/derived.P1963computed.count.star.tsv.gz\n",
      "external: wikidata/claims.external-id.tsv.gz\n",
      "indegree: wikidata/metadata.in_degree.tsv.gz\n",
      "outdegree: wikidata/metadata.out_degree.tsv.gz\n",
      "pagerank: wikidata/metadata.pagerank.directed.tsv.gz\n"
     ]
    }
   ],
   "source": [
    "ck.print_env_variables()"
   ]
  },
  {
   "cell_type": "markdown",
   "id": "advisory-array",
   "metadata": {},
   "source": [
    "## 1. Import into KGTK"
   ]
  },
  {
   "cell_type": "markdown",
   "id": "asian-stopping",
   "metadata": {},
   "source": [
    "Define namespaces to make the import-ntriples command work:"
   ]
  },
  {
   "cell_type": "code",
   "execution_count": 29,
   "id": "otherwise-ridge",
   "metadata": {},
   "outputs": [],
   "source": [
    "namespaces={'\"http://www.wikidata.org/entity/\"': 'wde',\n",
    "           '\"https://www.wikidata.org/wiki/\"': 'wdp',\n",
    "           '\"https://knowyourmeme.com/memes/\"': 'kym',\n",
    "           '\"http://www.w3.org/2000/01/rdf-schema#\"': 'rdfs',\n",
    "           '\"http://www.w3.org/1999/02/22-rdf-syntax-ns#\"': 'rdf',\n",
    "           '\"http://dbpedia.org/resource/\"': 'dbr',\n",
    "           '\"https://meme4.science/\"': 'm4s',\n",
    "           '\"Http://xmlns.com/foaf/0.1/\"': 'foaf',\n",
    "           '\"https://knowyourmeme.com/types/\"': 'kymt',\n",
    "           '\"https://dbpedia.org/property/\"': 'dbp',\n",
    "           '\"https://dbpedia.org/ontology/\"': 'dbo',\n",
    "           '\"https://schema.org/\"': 'schema',\n",
    "           '\"https://imgflip.com/i/\"': 'imgflipi',\n",
    "           '\"https://imgflip.com/meme/\"': 'imgflipmeme',\n",
    "           '\"https://imgflip.com/user/\"': 'imgflipuser',\n",
    "           '\"https://imgflip.com/\"': 'imgflipr',\n",
    "           '\"http://www.w3.org/2004/02/skos/core#\"': 'skos'}\n",
    "\n",
    "prop='prefix_expansion'\n",
    "with open('namespaces.tsv', 'w') as w:\n",
    "    w.write('node1\\tlabel\\tnode2\\n')\n",
    "    for k,v in namespaces.items():\n",
    "        triple=[v, prop, k]\n",
    "        w.write('\\t'.join(triple) + '\\n')"
   ]
  },
  {
   "cell_type": "code",
   "execution_count": 30,
   "id": "developing-chamber",
   "metadata": {},
   "outputs": [
    {
     "name": "stdout",
     "output_type": "stream",
     "text": [
      "node1\tlabel\tnode2\n",
      "wde\tprefix_expansion\t\"http://www.wikidata.org/entity/\"\n",
      "wdp\tprefix_expansion\t\"https://www.wikidata.org/wiki/\"\n",
      "kym\tprefix_expansion\t\"https://knowyourmeme.com/memes/\"\n",
      "rdfs\tprefix_expansion\t\"http://www.w3.org/2000/01/rdf-schema#\"\n",
      "rdf\tprefix_expansion\t\"http://www.w3.org/1999/02/22-rdf-syntax-ns#\"\n",
      "dbr\tprefix_expansion\t\"http://dbpedia.org/resource/\"\n",
      "m4s\tprefix_expansion\t\"https://meme4.science/\"\n",
      "foaf\tprefix_expansion\t\"Http://xmlns.com/foaf/0.1/\"\n",
      "kymt\tprefix_expansion\t\"https://knowyourmeme.com/types/\"\n",
      "dbp\tprefix_expansion\t\"https://dbpedia.org/property/\"\n",
      "dbo\tprefix_expansion\t\"https://dbpedia.org/ontology/\"\n",
      "schema\tprefix_expansion\t\"https://schema.org/\"\n",
      "imgflipi\tprefix_expansion\t\"https://imgflip.com/i/\"\n",
      "imgflipmeme\tprefix_expansion\t\"https://imgflip.com/meme/\"\n",
      "imgflipuser\tprefix_expansion\t\"https://imgflip.com/user/\"\n",
      "imgflipr\tprefix_expansion\t\"https://imgflip.com/\"\n",
      "skos\tprefix_expansion\t\"http://www.w3.org/2004/02/skos/core#\"\n"
     ]
    }
   ],
   "source": [
    "!cat namespaces.tsv"
   ]
  },
  {
   "cell_type": "markdown",
   "id": "confident-solomon",
   "metadata": {},
   "source": [
    "### 1a. Import templates"
   ]
  },
  {
   "cell_type": "code",
   "execution_count": 31,
   "id": "hourly-mauritius",
   "metadata": {},
   "outputs": [
    {
     "name": "stdout",
     "output_type": "stream",
     "text": [
      "CPU times: user 14.8 ms, sys: 19.9 ms, total: 34.7 ms\n",
      "Wall time: 36.7 s\n"
     ]
    }
   ],
   "source": [
    "%%time\n",
    "kgtk(\"\"\"\n",
    "    --progress\n",
    "    import-ntriples -i \"imkg04/kym_all.nt\"  \n",
    "        --namespace-file \"namespaces.tsv\"    \n",
    "        -o $TEMP/raw_templates.kgtk.gz\n",
    "        --namespace-id-use-uuid True \n",
    "        --build-new-namespaces False\n",
    "        --output-only-used-namespaces True \n",
    "        --structured-value-label m4s:structured_value \n",
    "        --structured-uri-label m4s:structured_uri \n",
    "        --newnode-prefix node \n",
    "        --newnode-use-uuid True\n",
    "    \"\"\")"
   ]
  },
  {
   "cell_type": "markdown",
   "id": "constant-witness",
   "metadata": {},
   "source": [
    "Let's clean up the data a bit:"
   ]
  },
  {
   "cell_type": "code",
   "execution_count": 32,
   "id": "pointed-document",
   "metadata": {},
   "outputs": [],
   "source": [
    "import pandas\n",
    "\n",
    "templates_fn='projects/tutorial-kypher/temp.tutorial-kypher/raw_templates.kgtk.gz'\n",
    "templates_df = pandas.read_csv(templates_fn, sep='\\t')\n",
    "templates_out='projects/tutorial-kypher/temp.tutorial-kypher/clean_templates.kgtk'"
   ]
  },
  {
   "cell_type": "code",
   "execution_count": 33,
   "id": "liquid-expression",
   "metadata": {},
   "outputs": [],
   "source": [
    "def replace_me(n):\n",
    "    try:\n",
    "        return n.replace('wdp:Property:', '').replace('wdp:', '').replace('wdt:', '').replace('wde:', '')\n",
    "    except:\n",
    "        return n"
   ]
  },
  {
   "cell_type": "code",
   "execution_count": 34,
   "id": "expressed-proxy",
   "metadata": {},
   "outputs": [],
   "source": [
    "def clean_df(df, filename):\n",
    "    all_rows=[]\n",
    "    for i, row in df.iterrows():\n",
    "        n1, label, n2 = row\n",
    "        n1=replace_me(n1)\n",
    "        n2=replace_me(n2)\n",
    "        label=replace_me(label)\n",
    "        new_row=[str(n1),str(label),str(n2)]\n",
    "        all_rows.append(new_row)\n",
    "\n",
    "    with open(filename, 'w') as w:\n",
    "        w.write('node1\\tlabel\\tnode2\\n')\n",
    "        for row in all_rows:\n",
    "            w.write('\\t'.join(row) + '\\n')"
   ]
  },
  {
   "cell_type": "markdown",
   "id": "transsexual-tract",
   "metadata": {},
   "source": [
    "We do some cleaning of the graph"
   ]
  },
  {
   "cell_type": "code",
   "execution_count": 35,
   "id": "respective-ecuador",
   "metadata": {},
   "outputs": [],
   "source": [
    "clean_df(templates_df, templates_out)"
   ]
  },
  {
   "cell_type": "code",
   "execution_count": 36,
   "id": "racial-garden",
   "metadata": {},
   "outputs": [],
   "source": [
    "!kgtk deduplicate -i $TEMP/clean_templates.kgtk -o $TEMP/templates.kgtk.gz"
   ]
  },
  {
   "cell_type": "markdown",
   "id": "macro-complaint",
   "metadata": {},
   "source": [
    "Now that we imported and deduplicated the instances, let's do some sanity check to make sure our graph is reasonable."
   ]
  },
  {
   "cell_type": "code",
   "execution_count": 37,
   "id": "abroad-diamond",
   "metadata": {},
   "outputs": [
    {
     "data": {
      "text/html": [
       "<div>\n",
       "<style scoped>\n",
       "    .dataframe tbody tr th:only-of-type {\n",
       "        vertical-align: middle;\n",
       "    }\n",
       "\n",
       "    .dataframe tbody tr th {\n",
       "        vertical-align: top;\n",
       "    }\n",
       "\n",
       "    .dataframe thead th {\n",
       "        text-align: right;\n",
       "    }\n",
       "</style>\n",
       "<table border=\"1\" class=\"dataframe\">\n",
       "  <thead>\n",
       "    <tr style=\"text-align: right;\">\n",
       "      <th></th>\n",
       "      <th>node1</th>\n",
       "      <th>label</th>\n",
       "      <th>node2</th>\n",
       "    </tr>\n",
       "  </thead>\n",
       "  <tbody>\n",
       "    <tr>\n",
       "      <th>0</th>\n",
       "      <td>kym</td>\n",
       "      <td>prefix_expansion</td>\n",
       "      <td>https://knowyourmeme.com/memes/</td>\n",
       "    </tr>\n",
       "    <tr>\n",
       "      <th>1</th>\n",
       "      <td>kym:%CD%A1-%CD%9C%CA%96-%CD%A1-lenny-face</td>\n",
       "      <td>m4s:about</td>\n",
       "      <td>( ͡° ͜ʖ ͡°) is an emoticon created with unicod...</td>\n",
       "    </tr>\n",
       "    <tr>\n",
       "      <th>2</th>\n",
       "      <td>kym:%CD%A1-%CD%9C%CA%96-%CD%A1-lenny-face</td>\n",
       "      <td>m4s:added</td>\n",
       "      <td>nodeDW9ARPJSRQYEUQn4RyWQMF-16625</td>\n",
       "    </tr>\n",
       "    <tr>\n",
       "      <th>3</th>\n",
       "      <td>kym:%CD%A1-%CD%9C%CA%96-%CD%A1-lenny-face</td>\n",
       "      <td>m4s:from</td>\n",
       "      <td>Ylilauta</td>\n",
       "    </tr>\n",
       "    <tr>\n",
       "      <th>4</th>\n",
       "      <td>kym:%CD%A1-%CD%9C%CA%96-%CD%A1-lenny-face</td>\n",
       "      <td>m4s:fromAbout</td>\n",
       "      <td>Q238330</td>\n",
       "    </tr>\n",
       "    <tr>\n",
       "      <th>...</th>\n",
       "      <td>...</td>\n",
       "      <td>...</td>\n",
       "      <td>...</td>\n",
       "    </tr>\n",
       "    <tr>\n",
       "      <th>914937</th>\n",
       "      <td>rdf</td>\n",
       "      <td>prefix_expansion</td>\n",
       "      <td>http://www.w3.org/1999/02/22-rdf-syntax-ns#</td>\n",
       "    </tr>\n",
       "    <tr>\n",
       "      <th>914938</th>\n",
       "      <td>rdfs</td>\n",
       "      <td>prefix_expansion</td>\n",
       "      <td>http://www.w3.org/2000/01/rdf-schema#</td>\n",
       "    </tr>\n",
       "    <tr>\n",
       "      <th>914939</th>\n",
       "      <td>skos</td>\n",
       "      <td>prefix_expansion</td>\n",
       "      <td>http://www.w3.org/2004/02/skos/core#</td>\n",
       "    </tr>\n",
       "    <tr>\n",
       "      <th>914940</th>\n",
       "      <td>wde</td>\n",
       "      <td>prefix_expansion</td>\n",
       "      <td>http://www.wikidata.org/entity/</td>\n",
       "    </tr>\n",
       "    <tr>\n",
       "      <th>914941</th>\n",
       "      <td>wdp</td>\n",
       "      <td>prefix_expansion</td>\n",
       "      <td>https://www.wikidata.org/wiki/</td>\n",
       "    </tr>\n",
       "  </tbody>\n",
       "</table>\n",
       "<p>914942 rows × 3 columns</p>\n",
       "</div>"
      ],
      "text/plain": [
       "                                            node1             label  \\\n",
       "0                                             kym  prefix_expansion   \n",
       "1       kym:%CD%A1-%CD%9C%CA%96-%CD%A1-lenny-face         m4s:about   \n",
       "2       kym:%CD%A1-%CD%9C%CA%96-%CD%A1-lenny-face         m4s:added   \n",
       "3       kym:%CD%A1-%CD%9C%CA%96-%CD%A1-lenny-face          m4s:from   \n",
       "4       kym:%CD%A1-%CD%9C%CA%96-%CD%A1-lenny-face     m4s:fromAbout   \n",
       "...                                           ...               ...   \n",
       "914937                                        rdf  prefix_expansion   \n",
       "914938                                       rdfs  prefix_expansion   \n",
       "914939                                       skos  prefix_expansion   \n",
       "914940                                        wde  prefix_expansion   \n",
       "914941                                        wdp  prefix_expansion   \n",
       "\n",
       "                                                    node2  \n",
       "0                         https://knowyourmeme.com/memes/  \n",
       "1       ( ͡° ͜ʖ ͡°) is an emoticon created with unicod...  \n",
       "2                        nodeDW9ARPJSRQYEUQn4RyWQMF-16625  \n",
       "3                                                Ylilauta  \n",
       "4                                                 Q238330  \n",
       "...                                                   ...  \n",
       "914937        http://www.w3.org/1999/02/22-rdf-syntax-ns#  \n",
       "914938              http://www.w3.org/2000/01/rdf-schema#  \n",
       "914939               http://www.w3.org/2004/02/skos/core#  \n",
       "914940                    http://www.wikidata.org/entity/  \n",
       "914941                     https://www.wikidata.org/wiki/  \n",
       "\n",
       "[914942 rows x 3 columns]"
      ]
     },
     "execution_count": 37,
     "metadata": {},
     "output_type": "execute_result"
    }
   ],
   "source": [
    "kgtk(\"\"\"cat -i $TEMP/templates.kgtk.gz\"\"\")"
   ]
  },
  {
   "cell_type": "markdown",
   "id": "interested-chapter",
   "metadata": {},
   "source": [
    "How many memes we have in the graph?"
   ]
  },
  {
   "cell_type": "code",
   "execution_count": 38,
   "id": "parallel-cream",
   "metadata": {},
   "outputs": [
    {
     "name": "stdout",
     "output_type": "stream",
     "text": [
      "count(DISTINCT graph_40_c1.\"node1\")\n",
      "12585\n"
     ]
    }
   ],
   "source": [
    "!kgtk query -i $TEMP/templates.kgtk.gz \\\n",
    "    --match '(n1)-[r:`rdf:type`]->(:`kym:Meme`)' \\\n",
    "    --return 'count(distinct n1)'"
   ]
  },
  {
   "cell_type": "markdown",
   "id": "monthly-latter",
   "metadata": {},
   "source": [
    "What are the relations?"
   ]
  },
  {
   "cell_type": "code",
   "execution_count": 39,
   "id": "wireless-article",
   "metadata": {},
   "outputs": [
    {
     "name": "stdout",
     "output_type": "stream",
     "text": [
      "Relation\n",
      "m4s:about\n",
      "m4s:added\n",
      "m4s:from\n",
      "m4s:fromAbout\n",
      "m4s:fromImage\n",
      "m4s:last_update_source\n",
      "m4s:origin\n",
      "m4s:spread\n",
      "m4s:status\n",
      "m4s:structured_uri\n",
      "m4s:structured_value\n",
      "m4s:tag\n",
      "m4s:title\n",
      "m4s:year\n",
      "prefix_expansion\n",
      "rdf:type\n",
      "rdfs:seeAlso\n",
      "skos:broader\n",
      "skos:narrower\n"
     ]
    }
   ],
   "source": [
    "!kgtk query -i $TEMP/templates.kgtk.gz \\\n",
    "    --match '()-[r]->()' \\\n",
    "    --return 'distinct r.label as Relation'"
   ]
  },
  {
   "cell_type": "markdown",
   "id": "micro-blowing",
   "metadata": {},
   "source": [
    "### 1b. Import instances"
   ]
  },
  {
   "cell_type": "markdown",
   "id": "varied-ocean",
   "metadata": {},
   "source": [
    "Now let's import the instances file into KGTK. This command takes around 6mins on my laptop, I was not sure if it is running or got stuck somewhere."
   ]
  },
  {
   "cell_type": "code",
   "execution_count": 40,
   "id": "attached-sierra",
   "metadata": {},
   "outputs": [
    {
     "name": "stdout",
     "output_type": "stream",
     "text": [
      "CPU times: user 116 ms, sys: 88.2 ms, total: 204 ms\n",
      "Wall time: 5min 39s\n"
     ]
    }
   ],
   "source": [
    "%%time\n",
    "kgtk(\"\"\"\n",
    "    import-ntriples -i \"imkg04/imgflip.nt\"  \n",
    "        --namespace-file \"namespaces.tsv\"\n",
    "        -o $TEMP/raw_instances.kgtk.gz\n",
    "        --namespace-id-use-uuid True \n",
    "        --build-new-namespaces False\n",
    "        --output-only-used-namespaces True \n",
    "        --structured-value-label m4s:structured_value \n",
    "        --structured-uri-label m4s:structured_uri \n",
    "        --newnode-prefix node \n",
    "        --newnode-use-uuid True\n",
    "    \"\"\")"
   ]
  },
  {
   "cell_type": "code",
   "execution_count": 41,
   "id": "bridal-thread",
   "metadata": {},
   "outputs": [],
   "source": [
    "instances_fn='projects/tutorial-kypher/temp.tutorial-kypher/raw_instances.kgtk.gz'\n",
    "instances_df = pandas.read_csv(instances_fn, sep='\\t')\n",
    "instances_out='projects/tutorial-kypher/temp.tutorial-kypher/clean_instances.kgtk'"
   ]
  },
  {
   "cell_type": "code",
   "execution_count": 42,
   "id": "massive-dubai",
   "metadata": {},
   "outputs": [],
   "source": [
    "clean_df(instances_df, instances_out)"
   ]
  },
  {
   "cell_type": "code",
   "execution_count": 43,
   "id": "informal-stocks",
   "metadata": {},
   "outputs": [],
   "source": [
    "!kgtk deduplicate -i $TEMP/clean_instances.kgtk -o $TEMP/instances.kgtk.gz"
   ]
  },
  {
   "cell_type": "code",
   "execution_count": 44,
   "id": "approved-auckland",
   "metadata": {},
   "outputs": [
    {
     "data": {
      "text/html": [
       "<div>\n",
       "<style scoped>\n",
       "    .dataframe tbody tr th:only-of-type {\n",
       "        vertical-align: middle;\n",
       "    }\n",
       "\n",
       "    .dataframe tbody tr th {\n",
       "        vertical-align: top;\n",
       "    }\n",
       "\n",
       "    .dataframe thead th {\n",
       "        text-align: right;\n",
       "    }\n",
       "</style>\n",
       "<table border=\"1\" class=\"dataframe\">\n",
       "  <thead>\n",
       "    <tr style=\"text-align: right;\">\n",
       "      <th></th>\n",
       "      <th>node1</th>\n",
       "      <th>label</th>\n",
       "      <th>node2</th>\n",
       "    </tr>\n",
       "  </thead>\n",
       "  <tbody>\n",
       "    <tr>\n",
       "      <th>0</th>\n",
       "      <td>imgflipi</td>\n",
       "      <td>prefix_expansion</td>\n",
       "      <td>https://imgflip.com/i/</td>\n",
       "    </tr>\n",
       "    <tr>\n",
       "      <th>1</th>\n",
       "      <td>imgflipi:100035</td>\n",
       "      <td>imgflipr:alt_text</td>\n",
       "      <td>I Should Buy A Boat Cat |  I SHOULD WATCH MAD ...</td>\n",
       "    </tr>\n",
       "    <tr>\n",
       "      <th>2</th>\n",
       "      <td>imgflipi:100035</td>\n",
       "      <td>imgflipr:image_url</td>\n",
       "      <td>https://i.imgflip.com/100035.jpg</td>\n",
       "    </tr>\n",
       "    <tr>\n",
       "      <th>3</th>\n",
       "      <td>imgflipi:100035</td>\n",
       "      <td>imgflipr:template</td>\n",
       "      <td>imgflipmeme:I-Should-Buy-A-Boat-Cat</td>\n",
       "    </tr>\n",
       "    <tr>\n",
       "      <th>4</th>\n",
       "      <td>imgflipi:100035</td>\n",
       "      <td>imgflipr:templateId</td>\n",
       "      <td>1367068</td>\n",
       "    </tr>\n",
       "    <tr>\n",
       "      <th>5</th>\n",
       "      <td>imgflipi:100035</td>\n",
       "      <td>imgflipr:template_title</td>\n",
       "      <td>I Should Buy A Boat Cat</td>\n",
       "    </tr>\n",
       "    <tr>\n",
       "      <th>6</th>\n",
       "      <td>imgflipi:100035</td>\n",
       "      <td>imgflipr:title</td>\n",
       "      <td>After watching the Oscars for 20 minutes and s...</td>\n",
       "    </tr>\n",
       "    <tr>\n",
       "      <th>7</th>\n",
       "      <td>imgflipi:100035</td>\n",
       "      <td>imgflipr:upvote_count</td>\n",
       "      <td>1</td>\n",
       "    </tr>\n",
       "    <tr>\n",
       "      <th>8</th>\n",
       "      <td>imgflipi:100035</td>\n",
       "      <td>imgflipr:view_count</td>\n",
       "      <td>2,437</td>\n",
       "    </tr>\n",
       "    <tr>\n",
       "      <th>9</th>\n",
       "      <td>imgflipi:100035</td>\n",
       "      <td>m4s:fromCaption</td>\n",
       "      <td>Q3275141</td>\n",
       "    </tr>\n",
       "  </tbody>\n",
       "</table>\n",
       "</div>"
      ],
      "text/plain": [
       "             node1                    label  \\\n",
       "0         imgflipi         prefix_expansion   \n",
       "1  imgflipi:100035        imgflipr:alt_text   \n",
       "2  imgflipi:100035       imgflipr:image_url   \n",
       "3  imgflipi:100035        imgflipr:template   \n",
       "4  imgflipi:100035      imgflipr:templateId   \n",
       "5  imgflipi:100035  imgflipr:template_title   \n",
       "6  imgflipi:100035           imgflipr:title   \n",
       "7  imgflipi:100035    imgflipr:upvote_count   \n",
       "8  imgflipi:100035      imgflipr:view_count   \n",
       "9  imgflipi:100035          m4s:fromCaption   \n",
       "\n",
       "                                               node2  \n",
       "0                             https://imgflip.com/i/  \n",
       "1  I Should Buy A Boat Cat |  I SHOULD WATCH MAD ...  \n",
       "2                   https://i.imgflip.com/100035.jpg  \n",
       "3                imgflipmeme:I-Should-Buy-A-Boat-Cat  \n",
       "4                                            1367068  \n",
       "5                            I Should Buy A Boat Cat  \n",
       "6  After watching the Oscars for 20 minutes and s...  \n",
       "7                                                  1  \n",
       "8                                              2,437  \n",
       "9                                           Q3275141  "
      ]
     },
     "execution_count": 44,
     "metadata": {},
     "output_type": "execute_result"
    }
   ],
   "source": [
    "kgtk(\"\"\"head -i $TEMP/instances.kgtk.gz\"\"\")"
   ]
  },
  {
   "cell_type": "markdown",
   "id": "loved-newcastle",
   "metadata": {},
   "source": [
    "Let's validate that the import worked well:"
   ]
  },
  {
   "cell_type": "code",
   "execution_count": 45,
   "id": "flexible-result",
   "metadata": {},
   "outputs": [
    {
     "name": "stdout",
     "output_type": "stream",
     "text": [
      "Relation\n",
      "prefix_expansion\n",
      "imgflipr:alt_text\n",
      "imgflipr:image_url\n",
      "imgflipr:template\n",
      "imgflipr:templateId\n",
      "imgflipr:template_title\n",
      "imgflipr:title\n",
      "imgflipr:upvote_count\n",
      "imgflipr:view_count\n",
      "m4s:fromCaption\n",
      "imgflipr:author\n"
     ]
    }
   ],
   "source": [
    "!kgtk query -i $TEMP/instances.kgtk.gz \\\n",
    "    --match '()-[r]->()' \\\n",
    "    --return 'distinct r.label as Relation'"
   ]
  },
  {
   "cell_type": "markdown",
   "id": "leading-poland",
   "metadata": {},
   "source": [
    "### 1c. Import mappings between KYM and ImgFlip"
   ]
  },
  {
   "cell_type": "code",
   "execution_count": 74,
   "id": "constant-block",
   "metadata": {},
   "outputs": [
    {
     "name": "stdout",
     "output_type": "stream",
     "text": [
      "Starting 'import-ntriples' on pid 14171.\n",
      "\n",
      "CPU times: user 5.41 ms, sys: 77.5 ms, total: 82.9 ms\n",
      "Wall time: 853 ms\n"
     ]
    }
   ],
   "source": [
    "%%time\n",
    "kgtk(\"\"\"\n",
    "    import-ntriples --debug -i \"imkg04/mappings.nt\"  \n",
    "        --namespace-file \"namespaces.tsv\"\n",
    "        -o $TEMP/raw_mappings.kgtk.gz\n",
    "        --namespace-id-use-uuid True \n",
    "        --build-new-namespaces False\n",
    "        --output-only-used-namespaces True \n",
    "        --structured-value-label m4s:structured_value \n",
    "        --structured-uri-label m4s:structured_uri \n",
    "        --newnode-prefix node \n",
    "        --newnode-use-uuid True\n",
    "    \"\"\")"
   ]
  },
  {
   "cell_type": "code",
   "execution_count": 75,
   "id": "alike-elite",
   "metadata": {},
   "outputs": [],
   "source": [
    "mappings_fn='projects/tutorial-kypher/temp.tutorial-kypher/raw_mappings.kgtk.gz'\n",
    "mappings_df = pandas.read_csv(mappings_fn, sep='\\t')\n",
    "mappings_out='projects/tutorial-kypher/temp.tutorial-kypher/clean_mappings.kgtk'"
   ]
  },
  {
   "cell_type": "code",
   "execution_count": 76,
   "id": "presidential-traveler",
   "metadata": {},
   "outputs": [],
   "source": [
    "clean_df(mappings_df, mappings_out)"
   ]
  },
  {
   "cell_type": "code",
   "execution_count": 77,
   "id": "ranking-transsexual",
   "metadata": {},
   "outputs": [],
   "source": [
    "!kgtk deduplicate -i $TEMP/clean_mappings.kgtk -o $TEMP/mappings.kgtk.gz"
   ]
  },
  {
   "cell_type": "code",
   "execution_count": 80,
   "id": "elder-spider",
   "metadata": {},
   "outputs": [
    {
     "data": {
      "text/html": [
       "<div>\n",
       "<style scoped>\n",
       "    .dataframe tbody tr th:only-of-type {\n",
       "        vertical-align: middle;\n",
       "    }\n",
       "\n",
       "    .dataframe tbody tr th {\n",
       "        vertical-align: top;\n",
       "    }\n",
       "\n",
       "    .dataframe thead th {\n",
       "        text-align: right;\n",
       "    }\n",
       "</style>\n",
       "<table border=\"1\" class=\"dataframe\">\n",
       "  <thead>\n",
       "    <tr style=\"text-align: right;\">\n",
       "      <th></th>\n",
       "      <th>node1</th>\n",
       "      <th>label</th>\n",
       "      <th>node2</th>\n",
       "    </tr>\n",
       "  </thead>\n",
       "  <tbody>\n",
       "    <tr>\n",
       "      <th>0</th>\n",
       "      <td>Q104005472</td>\n",
       "      <td>P6760</td>\n",
       "      <td>kym:spongegar-primitive-sponge-caveman-spongebob</td>\n",
       "    </tr>\n",
       "    <tr>\n",
       "      <th>1</th>\n",
       "      <td>Q104841082</td>\n",
       "      <td>P6760</td>\n",
       "      <td>kym:the-cake-is-a-lie</td>\n",
       "    </tr>\n",
       "    <tr>\n",
       "      <th>2</th>\n",
       "      <td>Q104858864</td>\n",
       "      <td>P6760</td>\n",
       "      <td>kym:rule-63</td>\n",
       "    </tr>\n",
       "    <tr>\n",
       "      <th>3</th>\n",
       "      <td>Q104968209</td>\n",
       "      <td>P6760</td>\n",
       "      <td>kym:i-am-once-again-asking-for-your-financial-...</td>\n",
       "    </tr>\n",
       "    <tr>\n",
       "      <th>4</th>\n",
       "      <td>Q1050827</td>\n",
       "      <td>P6760</td>\n",
       "      <td>kym:waluigi</td>\n",
       "    </tr>\n",
       "    <tr>\n",
       "      <th>...</th>\n",
       "      <td>...</td>\n",
       "      <td>...</td>\n",
       "      <td>...</td>\n",
       "    </tr>\n",
       "    <tr>\n",
       "      <th>483</th>\n",
       "      <td>imgflipr:memetemplate/Zombie-Overly-Attached-G...</td>\n",
       "      <td>m4s:templateOf</td>\n",
       "      <td>kym:overly-attached-girlfriend</td>\n",
       "    </tr>\n",
       "    <tr>\n",
       "      <th>484</th>\n",
       "      <td>kym</td>\n",
       "      <td>prefix_expansion</td>\n",
       "      <td>https://knowyourmeme.com/memes/</td>\n",
       "    </tr>\n",
       "    <tr>\n",
       "      <th>485</th>\n",
       "      <td>m4s</td>\n",
       "      <td>prefix_expansion</td>\n",
       "      <td>https://meme4.science/</td>\n",
       "    </tr>\n",
       "    <tr>\n",
       "      <th>486</th>\n",
       "      <td>wde</td>\n",
       "      <td>prefix_expansion</td>\n",
       "      <td>http://www.wikidata.org/entity/</td>\n",
       "    </tr>\n",
       "    <tr>\n",
       "      <th>487</th>\n",
       "      <td>wdp</td>\n",
       "      <td>prefix_expansion</td>\n",
       "      <td>https://www.wikidata.org/wiki/</td>\n",
       "    </tr>\n",
       "  </tbody>\n",
       "</table>\n",
       "<p>488 rows × 3 columns</p>\n",
       "</div>"
      ],
      "text/plain": [
       "                                                 node1             label  \\\n",
       "0                                           Q104005472             P6760   \n",
       "1                                           Q104841082             P6760   \n",
       "2                                           Q104858864             P6760   \n",
       "3                                           Q104968209             P6760   \n",
       "4                                             Q1050827             P6760   \n",
       "..                                                 ...               ...   \n",
       "483  imgflipr:memetemplate/Zombie-Overly-Attached-G...    m4s:templateOf   \n",
       "484                                                kym  prefix_expansion   \n",
       "485                                                m4s  prefix_expansion   \n",
       "486                                                wde  prefix_expansion   \n",
       "487                                                wdp  prefix_expansion   \n",
       "\n",
       "                                                 node2  \n",
       "0     kym:spongegar-primitive-sponge-caveman-spongebob  \n",
       "1                                kym:the-cake-is-a-lie  \n",
       "2                                          kym:rule-63  \n",
       "3    kym:i-am-once-again-asking-for-your-financial-...  \n",
       "4                                          kym:waluigi  \n",
       "..                                                 ...  \n",
       "483                     kym:overly-attached-girlfriend  \n",
       "484                    https://knowyourmeme.com/memes/  \n",
       "485                             https://meme4.science/  \n",
       "486                    http://www.wikidata.org/entity/  \n",
       "487                     https://www.wikidata.org/wiki/  \n",
       "\n",
       "[488 rows x 3 columns]"
      ]
     },
     "execution_count": 80,
     "metadata": {},
     "output_type": "execute_result"
    }
   ],
   "source": [
    "kgtk(\"\"\"cat -i $TEMP/mappings.kgtk.gz\"\"\")"
   ]
  },
  {
   "cell_type": "markdown",
   "id": "surprising-transition",
   "metadata": {},
   "source": [
    "## 2. Enrich with Wikidata now"
   ]
  },
  {
   "cell_type": "markdown",
   "id": "structured-victim",
   "metadata": {},
   "source": [
    "### 2a. Data where memes are subjects or objects"
   ]
  },
  {
   "cell_type": "markdown",
   "id": "romantic-fireplace",
   "metadata": {},
   "source": [
    "We start with relations where the meme Qnode is a subject in Wikidata:"
   ]
  },
  {
   "cell_type": "code",
   "execution_count": 88,
   "id": "separated-emerald",
   "metadata": {},
   "outputs": [
    {
     "name": "stdout",
     "output_type": "stream",
     "text": [
      "ERROR! Session/line number was not unique in database. History logging moved to new session 473\n"
     ]
    }
   ],
   "source": [
    "!kgtk query -i $items -i $TEMP/mappings.kgtk.gz \\\n",
    "    --match 'mapping: (meme_qid)-[:P6760]->(), \\\n",
    "            item: (meme_qid)-[mrel]->(mval)' \\\n",
    "    --return 'meme_qid as node1, mrel.label as label, mval as node2' \\\n",
    "    -o $TEMP/wikidata_sub.kgtk.gz"
   ]
  },
  {
   "cell_type": "code",
   "execution_count": 106,
   "id": "vulnerable-definition",
   "metadata": {},
   "outputs": [
    {
     "name": "stdout",
     "output_type": "stream",
     "text": [
      "count(DISTINCT graph_36_c1.\"node1\")\n",
      "240\n"
     ]
    }
   ],
   "source": [
    "!kgtk query -i $TEMP/wikidata_sub.kgtk.gz \\\n",
    "    --match '(n1)-[r]->()' \\\n",
    "    --return 'count (distinct n1)'"
   ]
  },
  {
   "cell_type": "markdown",
   "id": "moral-membership",
   "metadata": {},
   "source": [
    "We get information for 1,397 memes as subjects. What about memes as objects?"
   ]
  },
  {
   "cell_type": "code",
   "execution_count": 90,
   "id": "younger-waste",
   "metadata": {},
   "outputs": [],
   "source": [
    "!kgtk query -i $items -i $TEMP/mappings.kgtk.gz \\\n",
    "    --match 'mapping: (meme_qid)-[:P6760]->(), \\\n",
    "            item: (mval)-[mrel]->(meme_qid)' \\\n",
    "    --return 'mval as node1, mrel.label as label, meme_qid as node2' \\\n",
    "    -o $TEMP/wikidata_obj.kgtk.gz"
   ]
  },
  {
   "cell_type": "markdown",
   "id": "exposed-elevation",
   "metadata": {},
   "source": [
    "Combine and deduplicate:"
   ]
  },
  {
   "cell_type": "code",
   "execution_count": 91,
   "id": "distant-elevation",
   "metadata": {},
   "outputs": [],
   "source": [
    "!kgtk cat -i $TEMP/wikidata_sub.kgtk.gz -i $TEMP/wikidata_obj.kgtk.gz / deduplicate -o $TEMP/wikidata_memes.kgtk.gz"
   ]
  },
  {
   "cell_type": "code",
   "execution_count": 92,
   "id": "improving-sympathy",
   "metadata": {},
   "outputs": [
    {
     "name": "stdout",
     "output_type": "stream",
     "text": [
      "count(graph_31_c1.\"node1\")\n",
      "1587\n"
     ]
    }
   ],
   "source": [
    "!kgtk query -i $TEMP/wikidata_memes.kgtk.gz \\\n",
    "    --match '(n1)-[]->()' \\\n",
    "    --return 'count(n1)'"
   ]
  },
  {
   "cell_type": "code",
   "execution_count": 93,
   "id": "median-marina",
   "metadata": {},
   "outputs": [],
   "source": [
    "!kgtk cat -i $TEMP/templates.kgtk.gz -i $TEMP/mappings.kgtk.gz -i $TEMP/instances.kgtk.gz / deduplicate -o $TEMP/combined.kgtk.gz"
   ]
  },
  {
   "cell_type": "markdown",
   "id": "informed-victorian",
   "metadata": {},
   "source": [
    "We now combine Wikidata information with the original graph:"
   ]
  },
  {
   "cell_type": "code",
   "execution_count": 94,
   "id": "electoral-mozambique",
   "metadata": {},
   "outputs": [],
   "source": [
    "!kgtk cat -i $TEMP/wikidata_memes.kgtk.gz -i $TEMP/templates.kgtk.gz -i $TEMP/mappings.kgtk.gz -i $TEMP/instances.kgtk.gz / deduplicate -o $TEMP/combined_with_wd.kgtk.gz"
   ]
  },
  {
   "cell_type": "markdown",
   "id": "expanded-accused",
   "metadata": {},
   "source": [
    "### 2b. Data about Wikidata entities from the combined graph"
   ]
  },
  {
   "cell_type": "markdown",
   "id": "crucial-christian",
   "metadata": {},
   "source": [
    "Next, let's obtain data about the other Qnodes that are not memes. Here, we want to get relations for Qnode pairs in our graph in Wikidata. So, we query Wikidata for statements where both node1 and node2 are in our graph:"
   ]
  },
  {
   "cell_type": "code",
   "execution_count": 95,
   "id": "athletic-sweden",
   "metadata": {},
   "outputs": [],
   "source": [
    "!kgtk query -i $TEMP/combined_with_wd.kgtk.gz \\\n",
    "    --match '(x)-->(y)' \\\n",
    "     --return 'x as node1, \"member\" as label, \"set1\" as node2, y as node1, \"member\" as label, \"set1\" as node2' \\\n",
    "     --multi 2 \\\n",
    "     / deduplicate / add-id / \\\n",
    "     query -i - --as gnodes --idx mode:valuegraph -i $items --idx mode:graph \\\n",
    "     --match 'item:  (x)-[r]->(y), \\\n",
    "              gnodes: (x)-->(), \\\n",
    "                      (y)-->()' \\\n",
    "    --return 'distinct x, r.label, y' \\\n",
    "    -o $TEMP/wikidata_ent.kgtk.gz"
   ]
  },
  {
   "cell_type": "code",
   "execution_count": 96,
   "id": "blond-cross",
   "metadata": {},
   "outputs": [
    {
     "name": "stdout",
     "output_type": "stream",
     "text": [
      "Q998999\tP495\tQ16\n",
      "Q998999\tP641\tQ159992\n",
      "Q999\tP189\tQ30\n",
      "Q999\tP279\tQ19605\n",
      "Q999\tP31\tQ11344\n",
      "Q999\tP361\tQ19605\n",
      "Q999\tP61\tQ173028\n",
      "Q999159\tP1192\tQ5503\n",
      "Q999159\tP131\tQ171689\n",
      "Q999159\tP17\tQ142\n",
      "Q999159\tP30\tQ46\n",
      "Q999159\tP31\tQ928830\n",
      "Q999259\tP2341\tQ11772\n",
      "Q999278\tP279\tQ205555\n",
      "Q9993\tP361\tQ21204\n",
      "Q9993\tP361\tQ8229\n",
      "Q999587\tP136\tQ5937792\n",
      "Q999587\tP407\tQ1860\n",
      "Q999587\tP495\tQ30\n",
      "Q999587\tP674\tQ15220681\n",
      "Q999587\tP7937\tQ8261\n",
      "Q999587\tP840\tQ1297\n",
      "Q999591\tP136\tQ591990\n",
      "Q999591\tP31\tQ105543609\n",
      "Q999591\tP7937\tQ7366\n",
      "Q999646\tP2283\tQ1420\n",
      "Q99997\tP17\tQ55\n",
      "Q99997\tP31\tQ532\n",
      "Q999981\tP1269\tQ162297\n",
      "Q999981\tP1889\tQ1147070\n"
     ]
    }
   ],
   "source": [
    "!gzcat $TEMP/wikidata_ent.kgtk.gz | tail -30"
   ]
  },
  {
   "cell_type": "code",
   "execution_count": 97,
   "id": "correct-kentucky",
   "metadata": {},
   "outputs": [
    {
     "name": "stdout",
     "output_type": "stream",
     "text": [
      "count(graph_42_c1.\"node1\")\n",
      "504781\n"
     ]
    }
   ],
   "source": [
    "!kgtk query -i $TEMP/wikidata_ent.kgtk.gz \\\n",
    "    --match '(n1)-[]->(n2)' \\\n",
    "    --return 'count(n1)'"
   ]
  },
  {
   "cell_type": "markdown",
   "id": "progressive-carbon",
   "metadata": {},
   "source": [
    "## 3. Merge all in IMKG\n"
   ]
  },
  {
   "cell_type": "code",
   "execution_count": 103,
   "id": "informed-polymer",
   "metadata": {},
   "outputs": [],
   "source": [
    "!kgtk cat -i $TEMP/wikidata_memes.kgtk.gz -i $TEMP/wikidata_ent.kgtk.gz / deduplicate -o $TEMP/wd.kgtk.gz"
   ]
  },
  {
   "cell_type": "code",
   "execution_count": 104,
   "id": "limited-stack",
   "metadata": {},
   "outputs": [],
   "source": [
    "!kgtk cat -i $TEMP/combined_with_wd.kgtk.gz -i $TEMP/wikidata_ent.kgtk.gz / deduplicate -o $TEMP/imkg.kgtk.gz"
   ]
  },
  {
   "cell_type": "code",
   "execution_count": 105,
   "id": "primary-welcome",
   "metadata": {},
   "outputs": [
    {
     "data": {
      "text/html": [
       "<div>\n",
       "<style scoped>\n",
       "    .dataframe tbody tr th:only-of-type {\n",
       "        vertical-align: middle;\n",
       "    }\n",
       "\n",
       "    .dataframe tbody tr th {\n",
       "        vertical-align: top;\n",
       "    }\n",
       "\n",
       "    .dataframe thead th {\n",
       "        text-align: right;\n",
       "    }\n",
       "</style>\n",
       "<table border=\"1\" class=\"dataframe\">\n",
       "  <thead>\n",
       "    <tr style=\"text-align: right;\">\n",
       "      <th></th>\n",
       "      <th>node1</th>\n",
       "      <th>label</th>\n",
       "      <th>node2</th>\n",
       "    </tr>\n",
       "  </thead>\n",
       "  <tbody>\n",
       "    <tr>\n",
       "      <th>0</th>\n",
       "      <td>P1651</td>\n",
       "      <td>P10726</td>\n",
       "      <td>Q63412991</td>\n",
       "    </tr>\n",
       "    <tr>\n",
       "      <th>1</th>\n",
       "      <td>P1651</td>\n",
       "      <td>P1855</td>\n",
       "      <td>Q5230628</td>\n",
       "    </tr>\n",
       "    <tr>\n",
       "      <th>2</th>\n",
       "      <td>P1651</td>\n",
       "      <td>P9073</td>\n",
       "      <td>Q866</td>\n",
       "    </tr>\n",
       "    <tr>\n",
       "      <th>3</th>\n",
       "      <td>P21</td>\n",
       "      <td>P1629</td>\n",
       "      <td>Q290</td>\n",
       "    </tr>\n",
       "    <tr>\n",
       "      <th>4</th>\n",
       "      <td>P21</td>\n",
       "      <td>P1855</td>\n",
       "      <td>Q1395624</td>\n",
       "    </tr>\n",
       "    <tr>\n",
       "      <th>...</th>\n",
       "      <td>...</td>\n",
       "      <td>...</td>\n",
       "      <td>...</td>\n",
       "    </tr>\n",
       "    <tr>\n",
       "      <th>16549805</th>\n",
       "      <td>rdf</td>\n",
       "      <td>prefix_expansion</td>\n",
       "      <td>http://www.w3.org/1999/02/22-rdf-syntax-ns#</td>\n",
       "    </tr>\n",
       "    <tr>\n",
       "      <th>16549806</th>\n",
       "      <td>rdfs</td>\n",
       "      <td>prefix_expansion</td>\n",
       "      <td>http://www.w3.org/2000/01/rdf-schema#</td>\n",
       "    </tr>\n",
       "    <tr>\n",
       "      <th>16549807</th>\n",
       "      <td>skos</td>\n",
       "      <td>prefix_expansion</td>\n",
       "      <td>http://www.w3.org/2004/02/skos/core#</td>\n",
       "    </tr>\n",
       "    <tr>\n",
       "      <th>16549808</th>\n",
       "      <td>wde</td>\n",
       "      <td>prefix_expansion</td>\n",
       "      <td>http://www.wikidata.org/entity/</td>\n",
       "    </tr>\n",
       "    <tr>\n",
       "      <th>16549809</th>\n",
       "      <td>wdp</td>\n",
       "      <td>prefix_expansion</td>\n",
       "      <td>https://www.wikidata.org/wiki/</td>\n",
       "    </tr>\n",
       "  </tbody>\n",
       "</table>\n",
       "<p>16549810 rows × 3 columns</p>\n",
       "</div>"
      ],
      "text/plain": [
       "          node1             label                                        node2\n",
       "0         P1651            P10726                                    Q63412991\n",
       "1         P1651             P1855                                     Q5230628\n",
       "2         P1651             P9073                                         Q866\n",
       "3           P21             P1629                                         Q290\n",
       "4           P21             P1855                                     Q1395624\n",
       "...         ...               ...                                          ...\n",
       "16549805    rdf  prefix_expansion  http://www.w3.org/1999/02/22-rdf-syntax-ns#\n",
       "16549806   rdfs  prefix_expansion        http://www.w3.org/2000/01/rdf-schema#\n",
       "16549807   skos  prefix_expansion         http://www.w3.org/2004/02/skos/core#\n",
       "16549808    wde  prefix_expansion              http://www.wikidata.org/entity/\n",
       "16549809    wdp  prefix_expansion               https://www.wikidata.org/wiki/\n",
       "\n",
       "[16549810 rows x 3 columns]"
      ]
     },
     "execution_count": 105,
     "metadata": {},
     "output_type": "execute_result"
    }
   ],
   "source": [
    "kgtk(\"\"\"cat -i $TEMP/imkg.kgtk.gz\"\"\")"
   ]
  },
  {
   "cell_type": "markdown",
   "id": "entire-shopper",
   "metadata": {},
   "source": [
    "## 4. Create label file (optional, for visualization)"
   ]
  },
  {
   "cell_type": "code",
   "execution_count": null,
   "id": "homeless-organic",
   "metadata": {},
   "outputs": [],
   "source": [
    "!kgtk query -i $label -i $TEMP/templates.kgtk.gz --force \\\n",
    "            --match 'templates: (n1)-[]->(n2), \\\n",
    "                label: (n)-[r]->(l)' \\\n",
    "            --where 'n1=n OR n2=n' \\\n",
    "            --return 'n as node1, r.label as label, l as node2' / deduplicate \\\n",
    "            -o $TEMP/labelfile_templates.kgtk.gz "
   ]
  },
  {
   "cell_type": "code",
   "execution_count": null,
   "id": "eligible-concert",
   "metadata": {},
   "outputs": [],
   "source": [
    "!wc -l $TEMP/labelfile_templates.kgtk.gz"
   ]
  },
  {
   "cell_type": "code",
   "execution_count": null,
   "id": "human-latin",
   "metadata": {},
   "outputs": [],
   "source": [
    "kgtk(\"\"\"cat -i $TEMP/labelfile.kgtk.gz\"\"\")"
   ]
  },
  {
   "cell_type": "code",
   "execution_count": null,
   "id": "worthy-literacy",
   "metadata": {},
   "outputs": [],
   "source": [
    "!kgtk query -i $label -i $TEMP/instances.kgtk.gz --force \\\n",
    "            --match 'instances: (n1)-[:`m4s:fromCaption`]->(n2), \\\n",
    "                label: (n)-[r]->(l)' \\\n",
    "            --where 'n1=n OR n2=n' \\\n",
    "            --return 'n as node1, r.label as label, l as node2' / deduplicate \\\n",
    "            -o $TEMP/labelfile_instances.kgtk.gz "
   ]
  },
  {
   "cell_type": "code",
   "execution_count": null,
   "id": "romantic-republican",
   "metadata": {},
   "outputs": [],
   "source": [
    "!wc -l $TEMP/labelfile_instances.kgtk.gz"
   ]
  },
  {
   "cell_type": "code",
   "execution_count": null,
   "id": "separated-sister",
   "metadata": {},
   "outputs": [],
   "source": [
    "!kgtk cat -i $TEMP/labelfile_templates.kgtk.gz -i $TEMP/labelfile_instances.kgtk.gz -o $TEMP/labelfile.kgtk.gz"
   ]
  }
 ],
 "metadata": {
  "kernelspec": {
   "display_name": "Python 3",
   "language": "python",
   "name": "python3"
  },
  "language_info": {
   "codemirror_mode": {
    "name": "ipython",
    "version": 3
   },
   "file_extension": ".py",
   "mimetype": "text/x-python",
   "name": "python",
   "nbconvert_exporter": "python",
   "pygments_lexer": "ipython3",
   "version": "3.8.5"
  }
 },
 "nbformat": 4,
 "nbformat_minor": 5
}
