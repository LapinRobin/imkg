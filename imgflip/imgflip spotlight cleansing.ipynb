{
 "cells": [
  {
   "cell_type": "code",
   "execution_count": 1,
   "id": "8557e4ec-2dd0-4a53-9390-7d04799273d7",
   "metadata": {},
   "outputs": [],
   "source": [
    "import json\n",
    "from os.path import exists"
   ]
  },
  {
   "cell_type": "code",
   "execution_count": null,
   "id": "607a37e7-2316-414d-bc4d-a319e89cac5a",
   "metadata": {},
   "outputs": [],
   "source": [
    "for i in range(60,61):\n",
    "    print(i)\n",
    "    if(exists('./imgflip/spot/imgflip.spotlighted.'+str(i)+'.json')):\n",
    "        f = open('./imgflip/spot/imgflip.spotlighted.'+str(i)+'.json', \"r\")\n",
    "        j = json.load(f)\n",
    "        if(not exists('./imgflip/spot/imgflip.spotlighted.'+str(i)+'bis.json')):\n",
    "            f2 = out_file = open('imgflip.spotlighted.'+str(i)+'.bis.json', \"w\")\n",
    "            json.dump(j, f2, indent = 0)\n",
    "            f2.close()\n",
    "        f.close()\n",
    "    else:\n",
    "        print('./imgflip/spot/imgflip.spotlighted.'+str(i)+'.json')"
   ]
  },
  {
   "cell_type": "code",
   "execution_count": null,
   "id": "09fe0362-5396-499a-9674-cf7cfc608b99",
   "metadata": {},
   "outputs": [],
   "source": [
    "f0 = open('./imgflip/spot/imgflip.spotlighted.60.json', \"r\")\n",
    "j0 = json.load(f0)"
   ]
  },
  {
   "cell_type": "code",
   "execution_count": null,
   "id": "507cca89-ed1a-4d8d-9283-7b8021cc5a71",
   "metadata": {},
   "outputs": [],
   "source": [
    "print(len(j0.keys()))"
   ]
  },
  {
   "cell_type": "code",
   "execution_count": null,
   "id": "3749cee9-2b0b-4b92-b71e-6aa41050ebd3",
   "metadata": {},
   "outputs": [],
   "source": [
    "f1 = open('./imgflip/spot/test/imgflip.spotlighted.1.json', \"r\")\n",
    "j1 = json.load(f1)\n",
    "print(len(j1.keys()))"
   ]
  },
  {
   "cell_type": "code",
   "execution_count": null,
   "id": "9796dd27-3364-4e72-91bc-66a0d6bb99af",
   "metadata": {},
   "outputs": [],
   "source": [
    "f2 = open('./imgflip/spot/test/imgflip.spotlighted.2.json', \"r\")\n",
    "j2 = json.load(f2)\n",
    "print(len(j2.keys()))"
   ]
  },
  {
   "cell_type": "code",
   "execution_count": null,
   "id": "7b388995-370e-4ba3-bf78-b7c846bcee36",
   "metadata": {},
   "outputs": [],
   "source": [
    "m = open('./imgflip/spot/test/merged2.json', \"r\")\n",
    "merged = json.load(m)\n",
    "print(len(merged.keys()))"
   ]
  },
  {
   "cell_type": "code",
   "execution_count": null,
   "id": "f9be6822-316f-48c8-aa21-f06060c61426",
   "metadata": {},
   "outputs": [],
   "source": [
    "print(len(j0.keys())+len(j1.keys())+len(j2.keys()))"
   ]
  },
  {
   "cell_type": "code",
   "execution_count": null,
   "id": "9c90c88f-1593-46a0-963e-815e1cfa473d",
   "metadata": {},
   "outputs": [],
   "source": [
    "m = open('./imgflip/splits/imgflip.spotlight.json', \"r\")\n",
    "merged = json.load(m)\n",
    "print(len(merged.keys()))"
   ]
  },
  {
   "cell_type": "code",
   "execution_count": null,
   "id": "10e24d1b-4ba4-469c-9b9a-2c28c5c93486",
   "metadata": {},
   "outputs": [],
   "source": [
    "total = 0\n",
    "for i in range(0,155):\n",
    "    if(exists('./imgflip/splits/shrinked.'+str(i)+'.json')):\n",
    "        f = open('./imgflip/spot/imgflip.spotlighted.'+str(i)+'.json', \"r\")\n",
    "        j = json.load(f)\n",
    "        total =  total + len(j)"
   ]
  },
  {
   "cell_type": "code",
   "execution_count": null,
   "id": "7583bb3e-08e1-4d45-a07a-1061d7bd7373",
   "metadata": {},
   "outputs": [],
   "source": [
    "total"
   ]
  },
  {
   "cell_type": "code",
   "execution_count": null,
   "id": "596e54c3-c1d7-4e9d-b45f-4d4039b8c74f",
   "metadata": {},
   "outputs": [],
   "source": [
    "m = open('./imgflip/imgflip.spotlight.json', \"r\")\n",
    "merged = json.load(m)\n",
    "print(len(merged.keys()))"
   ]
  },
  {
   "cell_type": "code",
   "execution_count": 4,
   "id": "2a8602bc-4d52-4404-85e5-86ab67679ad7",
   "metadata": {},
   "outputs": [],
   "source": [
    "def save2json(filename, dump):\n",
    "    out_file = open(filename, \"w\")\n",
    "    json.dump(dump, out_file)\n",
    "    out_file.close()"
   ]
  },
  {
   "cell_type": "code",
   "execution_count": 2,
   "id": "c0220dd0-4e38-4412-aa64-49a940d30319",
   "metadata": {},
   "outputs": [],
   "source": [
    "f1 = open('../imgflip.cleaned.json', 'r', encoding='utf8')\n",
    "j1 = json.load(f1)"
   ]
  },
  {
   "cell_type": "code",
   "execution_count": null,
   "id": "b9aed0cf-d2de-4537-b70b-a00f8ef1aee9",
   "metadata": {},
   "outputs": [],
   "source": [
    "by_template = {}\n",
    "for k in j1.keys():\n",
    "    meme = j1[k]\n",
    "    name = meme['template_ID']\n",
    "    file_name = name+\".json\"\n",
    "    if(not exists(file_name)):\n",
    "        save2json(file_name, [meme])"
   ]
  },
  {
   "cell_type": "code",
   "execution_count": null,
   "id": "c5737405-8738-43ce-bd3d-87eb2f8fba73",
   "metadata": {},
   "outputs": [],
   "source": []
  }
 ],
 "metadata": {
  "kernelspec": {
   "display_name": "Python 3 (ipykernel)",
   "language": "python",
   "name": "python3"
  },
  "language_info": {
   "codemirror_mode": {
    "name": "ipython",
    "version": 3
   },
   "file_extension": ".py",
   "mimetype": "text/x-python",
   "name": "python",
   "nbconvert_exporter": "python",
   "pygments_lexer": "ipython3",
   "version": "3.10.6"
  }
 },
 "nbformat": 4,
 "nbformat_minor": 5
}
