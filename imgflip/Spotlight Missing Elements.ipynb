{
 "cells": [
  {
   "cell_type": "code",
   "execution_count": 1,
   "id": "9f26d43e-90d9-40c7-a61b-40150995a740",
   "metadata": {},
   "outputs": [],
   "source": [
    "import json"
   ]
  },
  {
   "cell_type": "code",
   "execution_count": 2,
   "id": "e201c648-13e8-4e73-9ec1-41d936d42f8d",
   "metadata": {},
   "outputs": [],
   "source": [
    "def save2json(filename, dump):\n",
    "    out_file = open(filename, \"w\")\n",
    "    json.dump(dump, out_file)\n",
    "    out_file.close()"
   ]
  },
  {
   "cell_type": "code",
   "execution_count": null,
   "id": "b7371755-8911-44d7-83d4-de5ef6f838d1",
   "metadata": {},
   "outputs": [],
   "source": [
    "with open('imgflip.spotlight.json', 'r') as f2:\n",
    "    spotlight = json.load(f2)\n",
    "    keys = list(spotlight.keys())\n",
    "    # save2csv('imgflip.spotlighted.csv', ['URL'], keys)"
   ]
  },
  {
   "cell_type": "code",
   "execution_count": null,
   "id": "e03b12a2-711c-42dc-b38c-ece877e06fc4",
   "metadata": {},
   "outputs": [],
   "source": [
    "keys[0]"
   ]
  },
  {
   "cell_type": "code",
   "execution_count": null,
   "id": "b5d6b181-e6a5-481e-947d-288497137837",
   "metadata": {},
   "outputs": [],
   "source": [
    "num = 0\n",
    "memes = []\n",
    "with open('imgflip.cleaned.json', 'r', encoding='utf8') as f1:\n",
    "    for m in json.load(f1):\n",
    "        if(m['URL'] in keys):\n",
    "            continue\n",
    "        else:\n",
    "            print({'URL': m['URL'], 'alt_text':m['alt_text']})\n",
    "            memes.append({'URL': m['URL'], 'alt_text':m['alt_text']})\n",
    "            if(len(memes) == 10000):\n",
    "                save2json('shrinked.'+str(num)+'.json',memes)\n",
    "                break"
   ]
  },
  {
   "cell_type": "code",
   "execution_count": 3,
   "id": "f56a2f6e-a0ed-455c-8ccc-fe59d79f1c87",
   "metadata": {},
   "outputs": [],
   "source": [
    "with open('todiff.json', 'r', encoding='utf8') as f1:\n",
    "    m = json.load(f1)\n",
    "    a = m['all']\n",
    "    b = m['some']    "
   ]
  },
  {
   "cell_type": "code",
   "execution_count": 4,
   "id": "89214e23-b57f-40f2-9c5c-10a15a6f430f",
   "metadata": {},
   "outputs": [],
   "source": [
    "c  = set(a) - set(b)"
   ]
  },
  {
   "cell_type": "code",
   "execution_count": null,
   "id": "bffb2b88-9253-4e30-b032-4df4a668fd29",
   "metadata": {},
   "outputs": [],
   "source": [
    "save2json('diffs.json', list(c))"
   ]
  },
  {
   "cell_type": "code",
   "execution_count": 8,
   "id": "ce99b157-5f9c-40c1-9a8e-3161fbf2bee0",
   "metadata": {},
   "outputs": [
    {
     "data": {
      "text/plain": [
       "'/i/4a3nvo'"
      ]
     },
     "execution_count": 8,
     "metadata": {},
     "output_type": "execute_result"
    }
   ],
   "source": [
    "list(c)[0]"
   ]
  },
  {
   "cell_type": "code",
   "execution_count": 9,
   "id": "05263e7e-cb0d-4e51-9cca-94862478dad4",
   "metadata": {},
   "outputs": [],
   "source": [
    "subset = []\n",
    "subset2 = {}\n",
    "with open('imgflip.cleaned.2.json', 'r', encoding='utf8') as f1:\n",
    "    memes = json.load(f1)\n",
    "    for d in list(c):\n",
    "        if(d in memes.keys()):\n",
    "            subset.append(memes[d])\n",
    "            subset2[d]=memes[d"
   ]
  },
  {
   "cell_type": "code",
   "execution_count": 10,
   "id": "38cb13e3-c9aa-42a6-8b48-ea11db655cca",
   "metadata": {},
   "outputs": [],
   "source": [
    "save2json('retry.json',subset)"
   ]
  },
  {
   "cell_type": "code",
   "execution_count": 12,
   "id": "f9e00526-1c15-455a-b804-9130719e0e0f",
   "metadata": {},
   "outputs": [
    {
     "data": {
      "text/plain": [
       "'the f4f incident |  STEP 1: GO TO YOUR COMPUTER; STEP 2: GO TO SCRATCH; STEP 3: TYPE F4F; STEP 4: EVERYBODY HATES YOUR COMMENT; STEP 5: YOU GET DEPRESSED; s̸̨̝̩̯͙͕̰̬̖̗̩̥̾̔̓̿̀̾͐̚͠͝ͅt̴̢̢̝̙̳̗̻̱̟̭̅̋̀͑͗ḙ̸̡̧̧̱̗̗͙̮͉̼̅̌̌̑̄̽͘͘͜ͅp̸͇͙͎̀̄͐̿́͝ ̴͙͂̎̎̏̽̆͝6̶̦̝̻͑̀̔:̸̧̡̗͙͇̖̦̞̳͈̆̆̇͆͊̽͂̅̚͝ ̴̨̨̛̯̼̗̪͉̬̲̩̀͛̉̉̽̇̈́͂̀̋͗͛͜ȳ̴̧̟̲͚̬͇̘̞̳ơ̸̘̓̃̀̈͛̋̑͝͠u̶̢̙̹̬̳͍̝̇̈́͋̑̅̉́̿̔͐̌̍̚͝͝ ̶̳̦͉͎̘̹͚͒̎̇̀̄̋g̸̖͓̣̞͔͚̈͛̿͂̒ȩ̸̧̲̣̬̩͉̠͂̎͛̓͗͆̀t̶͈͚̜͋̽͑͝ ̴̢̭̦̣̟̼̤̠̈́͋̎̈͑͛͐͗́̅̓̀͝r̴̟̄͌͊͆͒͗̄̐̆̀͗̕͝e̵̢̡̨̠͖̖͓̲̰̼̫̲͇͍͗̃̆̈͑v̴̫͙̰͍̭̪̝̳̂̇̑͒̓̿̅̓͗͗̐̉̚͝ͅȩ̷̛͇̪̬͋̂̐̓ņ̸̛͖̀͆̃͌̓̄͒̀̀͂͝͝g̶͕̔̏͘ȇ̶̢̛̼̣͕̩͎͍̪̥́̿̽̀̅͊̏̋͘̚͠; S̷̛̰͋̔̌́̇̿͑͐̀̇̆͊́͒̓͗͒̑̆̋̃̓̉͒̅̈́̒̂̈̀̀̀̀̀̌̀̄͌́̏̒̕̕̚͘̕͠͠͝͠Ţ̴̨̧̺͓̜͇̝̗̯̬̥̜͔͔͗̾́̃̃̊̕͜͝Ι̮̤͓̙̠̩Ι̰̮̞̩̪̠̘̖͜È̸̠̳̽̓͐̃̈̐͑̄̍͂̆̇̐̓̋̀̈́͂͆̒͑͒̈́͘͝Ι̧̢̡̡̡͍͖͖̥͙̤͎̣͙͖̩̘̮̺͖͕̳̮̯̻̣̩Ι̝͚͇̖͕̥P̴̛̳̭̗̦̘̜͎̋̑̈̂̈́̈́͗̒̋̍̇̏̃̔̄̀̎̀̄̋́̀͗̐͒̒̑͒̄̽̚͠͠Ι̡̨̨̧̧̣̣̣͚̮͕̤̭̪̦̬̟̤͉ ̶̡͉͍͚͖̽̑͌̽̏̈́̾̾̓́͑̔͑̈͊̓̒͐̒̽̌̈́̽̏̄̊̀͆͘͘͘̕͘͠͠͝͠͠7̷̧̢̢̟̹̥̖̀́̔͋̎͗͐̿̓̉͂̅̑̊̈́͒̇̀̊̐̾̂̾̈́͗̐͐̍̓̆̄͑̊̄̀̍̓̔̀́̋̑͂͒̓̀̑̕̕̕͝͝͝͝͝Ι̡̟̮̣̪͜Ι̫Ι̖̩͇̠̱̼̟̲͇͔̝͎:̶̟͎̹͊̂̔̿̓Ι̼͕̦̩͍͕͙̥̝͓̣͈̹͎̥̹̞̫̜̜̻̼̼ ̴̡̢̡̱̥͓̜̩̠͔̠̪͚͔͕͓̤̼̰̹̬̫̞̼͉̘̖̗̄̓͗͐̏̔̍̈̌́͗̀͌̅̒͋̆͒̎̀̌̄͊̈̋̔͛̀̋̄̇͆͜͜͠Ģ̴̛̲̘̖͍͕̺͚̲̑̾͒͗̆͒̇͆̋́̇̈́͆̍̒̿̍̐̾̽͐̀͊͌̆̍̕̕͝͝͠Ι͇̟̦̤̭͈̩̘O̸̜̗̭̬͙̳͒̀̊͌̋͒̀̋̽̑̄͘͘ ̴̢̡̳̜̟̤̠̯̜͓̖̦̪̰͇̞͈̖́̈́͗̒̽̈́̈́̍̽̃̔͑̽͗̂̆͒̌͂́̓͛͜͠Ι̡̬̭͓͈̯͎̖̺͓̪̪̪T̶̹͚̃͒́̆͒͒͂̓̾̌͂̽̀̋̋͆̿̈̂͐̐͂͌̉̄͘̕͝͝Ι̡̢̡̧̺͕̩̼̦̗̯̱͎̪̠̜͇̥̦̭̤̣̦̬͎̮̦͈̟Ǫ̴̦̖̆̄̿̕͘Ι̩̤̜̟̻̭̰̲̹̥̦̮̫̬͎̦̤̫͓Ι͜Ι̡͍̝͚̦̣͇̘̳̥̰̹͓̪̱̖̺͎̦͚̗͔̟͜͜ ̶̡̨̨̛̟̳̘̻̪̗͉̻͎̱͎̗̩̟̤̩̥͕̜̟̣͇͓͔̥̝͍͎͎͎̳̳̦̥̩̻̲͎͕͇̞͍̗̻͍͓͉̤̗̳̯͎̏̔̈̎̐͗̆͑͒̅͗̉͋̏̓̽͂̃͐̐͑̆͊͋̆͑̐̿̇̎̎̐̽͘̕͜͜͜͝͠͠͠H̷̡̡̢̧̛̤̥̩̲̲̙̭͔͇̜̣̝̻̠̩̖̖͍̳̠͓͈̲̖̥̫͍͈͓̲͇̲̮̟̞͈̬͖̲̲̙̖̘͇̽̀̆͑͂͋̒̆̄̇̒̊́̔̇́̈́̌͑̐̊̉͑̄͐͘̕͘̕͜͜͜͝͝I̸̛̛̛̟̥̙̔̑̒̾̎͛̊̆̈́̇͌̈́̔͐͑̽͆̒̍͑͂̀̒͗̐̃́̚̚̕͘͠͝Ι̢̡̖̗̫̱͍̺̪͓̩̦̼̩Ι̧̼̺͙̝͙̮̠̠̺̘̻͜Ι̰̫̯̞̠̪̜̤̥͙̭Ṣ̵̨̧̢̢̡̨̧̛̦͖͎̘̤͉̻̩̗̩̰͎̫̻̦̻̞̠̙̣̟̣̜̱̥̜͙̻̬̹̻̮͈̣̜̬̤̗̮̮͍̪̋̄́̀̋̿͒̏̓̓̐͒̂̆̋͐͌̂͒̇̒̕͘͘Ι̡̦̗͜͜ ̵̢̛̛͍̤̼̰̯̗͓̞͉̝̱͓̤͇̫͕̮̟̻̠͋̓̐̿͊̔̒̋̊͂̍̉͊͑͛̆̍̔̎̀̑̎̄̕̚͝Ι̧̢̧͕̹͙̤̦̙̮̫̳̜̫̤͇̼̼͙̤̝̤̳̤̖̦̮H̶̨̨̲̼̬̞̞͙̺̣̰͉̥̍̌̒̐Ỏ̷̧̢̨̖̦͕̖̰̠͇̼͕̰̝͓̬͕̳̩̼̠̳͎̺̫̫̠̹̞̙̩̫̪̰̬͍̮̺͉̝̝̑̅͒͐̃̑͑̌̏͛͛̕͘Ứ̸̧̥͚̐̀͋͐̀̆̄̈̀̊̿͆̈́́̓̆̋͌́̉̈̊̒͊́̇̑̒̀͐̏̕͘̚̕͘͝͝͠͝Ι̢̢̨̡̡̢̧̗̩̦̳͖̙̳̖̦̙̱̬̰͇̗̮̣̬͎̞͖̣̞̰̯͔̩̟̬͖̹̲̲͙̼̹̺͍͚̘͖̗̩͜͜Ş̵̨̜̟̳̦͍͙̜̩̠̹̻̰̥͍̻̦͚̮̬̪͎͉̗̞͖̄̃̈́͗̾̒̾͆̎̏́͛̓́̐̒͌̐̾͂̇̑̅̊͘̕̚͜Ě̷̡̨̤̜͚͍͓͓̩̩͕̠̦̞̯̲̰͍͕̮̟̦̣͎̪̖̺͚̤͑͑͌͑̄͂̋̑̿̀̃́̐͜͝ΙΙ̬͙̦̱̯̼̗͍̺̲̰̣̳͉̣͎̞̣͜; S T E P 8: Y O U  F 4 F  E V E R Y O N E; 5/24/42, THE F4F INCIDENT | image tagged in blank white template,trollge | made w/ Imgflip meme maker'"
      ]
     },
     "execution_count": 12,
     "metadata": {},
     "output_type": "execute_result"
    }
   ],
   "source": [
    "memes['/i/5aidzh']['alt_text']"
   ]
  },
  {
   "cell_type": "code",
   "execution_count": null,
   "id": "5d5ea168-db1d-4c50-b036-3d4de259b00a",
   "metadata": {},
   "outputs": [],
   "source": []
  }
 ],
 "metadata": {
  "kernelspec": {
   "display_name": "Python 3 (ipykernel)",
   "language": "python",
   "name": "python3"
  },
  "language_info": {
   "codemirror_mode": {
    "name": "ipython",
    "version": 3
   },
   "file_extension": ".py",
   "mimetype": "text/x-python",
   "name": "python",
   "nbconvert_exporter": "python",
   "pygments_lexer": "ipython3",
   "version": "3.10.5"
  }
 },
 "nbformat": 4,
 "nbformat_minor": 5
}
