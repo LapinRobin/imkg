{
 "cells": [
  {
   "cell_type": "code",
   "execution_count": 4,
   "id": "7b0364bf-e34a-4c12-a0de-73c0c7bd2611",
   "metadata": {},
   "outputs": [
    {
     "name": "stdout",
     "output_type": "stream",
     "text": [
      "Requirement already satisfied: asyncio in /opt/conda/lib/python3.10/site-packages (3.4.3)\n",
      "Collecting aiohttp\n",
      "  Downloading aiohttp-3.8.1-cp310-cp310-manylinux_2_5_x86_64.manylinux1_x86_64.manylinux_2_12_x86_64.manylinux2010_x86_64.whl (1.2 MB)\n",
      "\u001b[2K     \u001b[90m━━━━━━━━━━━━━━━━━━━━━━━━━━━━━━━━━━━━━━━━\u001b[0m \u001b[32m1.2/1.2 MB\u001b[0m \u001b[31m2.4 MB/s\u001b[0m eta \u001b[36m0:00:00\u001b[0ma \u001b[36m0:00:01\u001b[0m0m\n",
      "\u001b[?25hCollecting async-timeout<5.0,>=4.0.0a3\n",
      "  Downloading async_timeout-4.0.2-py3-none-any.whl (5.8 kB)\n",
      "Collecting frozenlist>=1.1.1\n",
      "  Downloading frozenlist-1.3.1-cp310-cp310-manylinux_2_5_x86_64.manylinux1_x86_64.manylinux_2_17_x86_64.manylinux2014_x86_64.whl (149 kB)\n",
      "\u001b[2K     \u001b[90m━━━━━━━━━━━━━━━━━━━━━━━━━━━━━━━━━━━━━━━\u001b[0m \u001b[32m149.6/149.6 kB\u001b[0m \u001b[31m3.6 MB/s\u001b[0m eta \u001b[36m0:00:00\u001b[0ma \u001b[36m0:00:01\u001b[0m\n",
      "\u001b[?25hRequirement already satisfied: charset-normalizer<3.0,>=2.0 in /opt/conda/lib/python3.10/site-packages (from aiohttp) (2.1.0)\n",
      "Requirement already satisfied: attrs>=17.3.0 in /opt/conda/lib/python3.10/site-packages (from aiohttp) (21.4.0)\n",
      "Collecting yarl<2.0,>=1.0\n",
      "  Downloading yarl-1.8.1-cp310-cp310-manylinux_2_17_x86_64.manylinux2014_x86_64.whl (263 kB)\n",
      "\u001b[2K     \u001b[90m━━━━━━━━━━━━━━━━━━━━━━━━━━━━━━━━━━━━━━━\u001b[0m \u001b[32m264.0/264.0 kB\u001b[0m \u001b[31m5.5 MB/s\u001b[0m eta \u001b[36m0:00:00\u001b[0ma \u001b[36m0:00:01\u001b[0m\n",
      "\u001b[?25hCollecting aiosignal>=1.1.2\n",
      "  Downloading aiosignal-1.2.0-py3-none-any.whl (8.2 kB)\n",
      "Collecting multidict<7.0,>=4.5\n",
      "  Downloading multidict-6.0.2-cp310-cp310-manylinux_2_17_x86_64.manylinux2014_x86_64.whl (114 kB)\n",
      "\u001b[2K     \u001b[90m━━━━━━━━━━━━━━━━━━━━━━━━━━━━━━━━━━━━━\u001b[0m \u001b[32m114.5/114.5 kB\u001b[0m \u001b[31m493.0 kB/s\u001b[0m eta \u001b[36m0:00:00\u001b[0ma \u001b[36m0:00:01\u001b[0m\n",
      "\u001b[?25hRequirement already satisfied: idna>=2.0 in /opt/conda/lib/python3.10/site-packages (from yarl<2.0,>=1.0->aiohttp) (3.3)\n",
      "Installing collected packages: multidict, frozenlist, async-timeout, yarl, aiosignal, aiohttp\n",
      "Successfully installed aiohttp-3.8.1 aiosignal-1.2.0 async-timeout-4.0.2 frozenlist-1.3.1 multidict-6.0.2 yarl-1.8.1\n"
     ]
    }
   ],
   "source": [
    "!pip install asyncio\n",
    "!pip install aiohttp"
   ]
  },
  {
   "cell_type": "code",
   "execution_count": 5,
   "id": "ab67b3a4-86ea-4ef8-ad76-d6af77969b04",
   "metadata": {},
   "outputs": [],
   "source": [
    "import asyncio\n",
    "from queue import Queue\n",
    "from time import time\n",
    "from collections import Counter\n",
    "import os\n",
    "import json\n",
    "\n",
    "import aiohttp"
   ]
  },
  {
   "cell_type": "code",
   "execution_count": 6,
   "id": "ee593e89-00cf-4935-8442-e40dde9a0740",
   "metadata": {},
   "outputs": [],
   "source": [
    "CALLS_PER_SECOND = os.getenv('CALLS_PER_SECOND', default=2)"
   ]
  },
  {
   "cell_type": "code",
   "execution_count": 7,
   "id": "dc8927d4-c7a0-4a02-8649-636990bb396c",
   "metadata": {},
   "outputs": [],
   "source": [
    "BASE_URL = 'https://api.dbpedia-spotlight.org/en'\n",
    "ENDPOINT_URL = f'{BASE_URL}/annotate'"
   ]
  },
  {
   "cell_type": "code",
   "execution_count": 8,
   "id": "2c64e1a0-da90-4edd-9de4-e3679d9978e3",
   "metadata": {},
   "outputs": [],
   "source": [
    "write_queue = Queue()\n",
    "\n",
    "stats = Counter()"
   ]
  },
  {
   "cell_type": "code",
   "execution_count": 9,
   "id": "249e2bf6-053e-4f4a-b00c-2f87f2e306af",
   "metadata": {},
   "outputs": [],
   "source": [
    "class SimpleLimiter:\n",
    "    \"\"\"\n",
    "    The reasoning for this is that even though the requests are scheduled sequentially,\n",
    "    they're executed asynchronously and the rate may exceed what is considered good-natured API usage.\n",
    "    It is only sufficient for a single scheduler use-case.\n",
    "    \"\"\"\n",
    "\n",
    "    def __init__(self, calls_per_second: float):\n",
    "        self.delay = (1 / calls_per_second) if calls_per_second else None\n",
    "        self.next = 0\n",
    "\n",
    "    async def __aenter__(self):\n",
    "        if not self.delay:\n",
    "            return\n",
    "        t = time()\n",
    "        if t < self.next:\n",
    "            await asyncio.sleep(self.next - t)\n",
    "        self.next = time() + self.delay\n",
    "\n",
    "    async def __aexit__(self, *_):\n",
    "        pass"
   ]
  },
  {
   "cell_type": "code",
   "execution_count": 10,
   "id": "6a986244-9c92-4b9a-88d7-6bfa8c882a06",
   "metadata": {},
   "outputs": [],
   "source": [
    "def to_file():\n",
    "    with open(\"imgflip.spotlight.json\", \"a\", encoding='utf8') as f:\n",
    "        f.write(\"{\\n\")\n",
    "        while True:\n",
    "            data = write_queue.get()\n",
    "            if data is None:\n",
    "                break\n",
    "            f.write(f\"\\\"{data[0]}\\\": {json.dumps(data[1], ensure_ascii=False)},\\n\")\n",
    "            stats['written'] += 1\n",
    "        f.write(\"}\")"
   ]
  },
  {
   "cell_type": "code",
   "execution_count": 16,
   "id": "9ea386cb-c2e2-494f-ac73-8170f23a1012",
   "metadata": {},
   "outputs": [
    {
     "name": "stdout",
     "output_type": "stream",
     "text": []
    },
    {
     "name": "stdout",
     "output_type": "stream",
     "text": [
      "\r"
     ]
    }
   ],
   "source": [
    "def texts():\n",
    "    with open('imgflip.cleaned.json', 'r', encoding='utf8') as f:\n",
    "        for item in json.load(f):\n",
    "            url = item['URL'] #we use the instance id\n",
    "            text = item['alt_text'].replace('|',\"\")\n",
    "            stats['texts_read'] += 1\n",
    "            yield url, text"
   ]
  },
  {
   "cell_type": "code",
   "execution_count": 12,
   "id": "2e352663-245b-45b5-828d-cd3f3639936e",
   "metadata": {},
   "outputs": [],
   "source": [
    "async def printer():\n",
    "    while True:\n",
    "        msg = '\\t'.join(f\"{key}:\\t{value}\" for key, value in stats.items())\n",
    "        print(f\"\\r{msg}\", end='')\n",
    "        await asyncio.sleep(1)"
   ]
  },
  {
   "cell_type": "code",
   "execution_count": 13,
   "id": "a4ee1d07-9fe8-4ecc-a748-adc4c7bf297b",
   "metadata": {},
   "outputs": [],
   "source": [
    "async def main():\n",
    "    limiter = SimpleLimiter(CALLS_PER_SECOND)\n",
    "    client = aiohttp.ClientSession()\n",
    "\n",
    "    _to_file = asyncio.create_task(asyncio.to_thread(to_file))\n",
    "    _printer = asyncio.create_task(printer())\n",
    "\n",
    "    async def _fetch(url, text):\n",
    "        stats['requests'] += 1\n",
    "        for _ in range(5):\n",
    "            response = await client.get(ENDPOINT_URL,\n",
    "                                        params={\"text\": text,  # more configuration?\n",
    "                                                'confidence': 0.5\n",
    "                                                },\n",
    "                                        headers={'Accept': 'application/json'}\n",
    "                                        )\n",
    "            if response.status == 200:\n",
    "                write_queue.put((url, await response.json()))\n",
    "                break\n",
    "        else:\n",
    "            print(\"\\nFAILED:\", url)\n",
    "            stats['failed'] += 1\n",
    "        stats['requests'] -= 1\n",
    "\n",
    "    coros = []\n",
    "    for url, text in texts():\n",
    "        async with limiter:\n",
    "            coros.append(asyncio.create_task(_fetch(url, text)))\n",
    "\n",
    "    print(\"\\nall done\")\n",
    "    await asyncio.gather(coros)\n",
    "    print(\"\\ngathered\")\n",
    "    write_queue.put(None)\n",
    "    print(\"\\npoisoned\")\n",
    "    await _to_file\n",
    "    print(\"\\nwriter done\")\n",
    "    _printer.cancel()\n",
    "    print(\"\\nprinter canceled\")\n",
    "    await client.close()"
   ]
  },
  {
   "cell_type": "code",
   "execution_count": 18,
   "id": "3b664408-f2d5-46fc-aa72-82fad2d727c9",
   "metadata": {},
   "outputs": [
    {
     "name": "stdout",
     "output_type": "stream",
     "text": [
      "texts_read:\t182\trequests:\t0\twritten:\t181"
     ]
    },
    {
     "ename": "AttributeError",
     "evalue": "'NoneType' object has no attribute 'replace'",
     "output_type": "error",
     "traceback": [
      "\u001b[0;31m---------------------------------------------------------------------------\u001b[0m",
      "\u001b[0;31mAttributeError\u001b[0m                            Traceback (most recent call last)",
      "Input \u001b[0;32mIn [18]\u001b[0m, in \u001b[0;36m<cell line: 1>\u001b[0;34m()\u001b[0m\n\u001b[0;32m----> 1\u001b[0m \u001b[38;5;28;01mawait\u001b[39;00m main()\n",
      "Input \u001b[0;32mIn [13]\u001b[0m, in \u001b[0;36mmain\u001b[0;34m()\u001b[0m\n\u001b[1;32m     23\u001b[0m     stats[\u001b[38;5;124m'\u001b[39m\u001b[38;5;124mrequests\u001b[39m\u001b[38;5;124m'\u001b[39m] \u001b[38;5;241m-\u001b[39m\u001b[38;5;241m=\u001b[39m \u001b[38;5;241m1\u001b[39m\n\u001b[1;32m     25\u001b[0m coros \u001b[38;5;241m=\u001b[39m []\n\u001b[0;32m---> 26\u001b[0m \u001b[38;5;28;01mfor\u001b[39;00m url, text \u001b[38;5;129;01min\u001b[39;00m texts():\n\u001b[1;32m     27\u001b[0m     \u001b[38;5;28;01masync\u001b[39;00m \u001b[38;5;28;01mwith\u001b[39;00m limiter:\n\u001b[1;32m     28\u001b[0m         coros\u001b[38;5;241m.\u001b[39mappend(asyncio\u001b[38;5;241m.\u001b[39mcreate_task(_fetch(url, text)))\n",
      "Input \u001b[0;32mIn [16]\u001b[0m, in \u001b[0;36mtexts\u001b[0;34m()\u001b[0m\n\u001b[1;32m      3\u001b[0m \u001b[38;5;28;01mfor\u001b[39;00m item \u001b[38;5;129;01min\u001b[39;00m json\u001b[38;5;241m.\u001b[39mload(f):\n\u001b[1;32m      4\u001b[0m     url \u001b[38;5;241m=\u001b[39m item[\u001b[38;5;124m'\u001b[39m\u001b[38;5;124mturl\u001b[39m\u001b[38;5;124m'\u001b[39m]\n\u001b[0;32m----> 5\u001b[0m     text \u001b[38;5;241m=\u001b[39m \u001b[43mitem\u001b[49m\u001b[43m[\u001b[49m\u001b[38;5;124;43m'\u001b[39;49m\u001b[38;5;124;43malt_text\u001b[39;49m\u001b[38;5;124;43m'\u001b[39;49m\u001b[43m]\u001b[49m\u001b[38;5;241;43m.\u001b[39;49m\u001b[43mreplace\u001b[49m(\u001b[38;5;124m'\u001b[39m\u001b[38;5;124m|\u001b[39m\u001b[38;5;124m'\u001b[39m,\u001b[38;5;124m\"\u001b[39m\u001b[38;5;124m\"\u001b[39m)\n\u001b[1;32m      6\u001b[0m     stats[\u001b[38;5;124m'\u001b[39m\u001b[38;5;124mtexts_read\u001b[39m\u001b[38;5;124m'\u001b[39m] \u001b[38;5;241m+\u001b[39m\u001b[38;5;241m=\u001b[39m \u001b[38;5;241m1\u001b[39m\n\u001b[1;32m      7\u001b[0m     \u001b[38;5;28;01myield\u001b[39;00m url, text\n",
      "\u001b[0;31mAttributeError\u001b[0m: 'NoneType' object has no attribute 'replace'"
     ]
    },
    {
     "name": "stdout",
     "output_type": "stream",
     "text": [
      "texts_read:\t182\trequests:\t0\twritten:\t182"
     ]
    }
   ],
   "source": [
    "await main()"
   ]
  },
  {
   "cell_type": "code",
   "execution_count": null,
   "id": "e1824537-77a6-4f9c-8526-ac1fd7025dae",
   "metadata": {},
   "outputs": [],
   "source": []
  }
 ],
 "metadata": {
  "kernelspec": {
   "display_name": "Python 3 (ipykernel)",
   "language": "python",
   "name": "python3"
  },
  "language_info": {
   "codemirror_mode": {
    "name": "ipython",
    "version": 3
   },
   "file_extension": ".py",
   "mimetype": "text/x-python",
   "name": "python",
   "nbconvert_exporter": "python",
   "pygments_lexer": "ipython3",
   "version": "3.10.5"
  }
 },
 "nbformat": 4,
 "nbformat_minor": 5
}
