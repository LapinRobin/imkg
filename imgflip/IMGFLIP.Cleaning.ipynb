{
 "cells": [
  {
   "cell_type": "code",
   "execution_count": 2,
   "id": "bb9fe957-2670-49e4-bf0c-2b04529dd655",
   "metadata": {},
   "outputs": [],
   "source": [
    "import json, csv, os\n",
    "from csv import writer, reader"
   ]
  },
  {
   "cell_type": "code",
   "execution_count": 2,
   "id": "da1ea4a6-b85b-4d39-870d-df9fdbdf3075",
   "metadata": {},
   "outputs": [],
   "source": [
    "def save2csv(filename, header, data):\n",
    "    with open(filename, 'w', newline='') as csvfile:\n",
    "        csvw = csv.writer(csvfile, delimiter=',',quotechar='|', quoting=csv.QUOTE_MINIMAL)\n",
    "        csvw.writerow(header)\n",
    "        for d in data:\n",
    "            csvw.writerow(d)"
   ]
  },
  {
   "cell_type": "code",
   "execution_count": 3,
   "id": "0274df51-ae6f-4a6c-b105-15e8a8f254ec",
   "metadata": {},
   "outputs": [],
   "source": [
    "def save2json(filename, dump):\n",
    "    out_file = open(filename, \"w\")\n",
    "    json.dump(dump, out_file)\n",
    "    out_file.close()"
   ]
  },
  {
   "cell_type": "code",
   "execution_count": null,
   "id": "b9c8a4ff-2fee-44ad-a0c8-1e225adb30c3",
   "metadata": {},
   "outputs": [],
   "source": [
    "ts = set()"
   ]
  },
  {
   "cell_type": "code",
   "execution_count": null,
   "id": "5390bafd-e66e-4df5-8096-8940970244d8",
   "metadata": {},
   "outputs": [],
   "source": [
    "with open('imgflip.json') as jsonfile:\n",
    "    ist =  json.load(jsonfile)\n",
    "    for ii in ist:\n",
    "        ts.add(ii['template_ID'])"
   ]
  },
  {
   "cell_type": "code",
   "execution_count": null,
   "id": "50272744-90cc-4456-8617-b9ca01bea511",
   "metadata": {},
   "outputs": [],
   "source": [
    "ls = list(map(lambda x: [x,'https://imgflip.com/meme/' + x],list(ts)))"
   ]
  },
  {
   "cell_type": "code",
   "execution_count": null,
   "id": "f60ae4b7-5ae4-4b1e-a067-bcf682c79597",
   "metadata": {},
   "outputs": [],
   "source": [
    "save2csv('imgflip_templates2.csv',['template','templ'],ls)"
   ]
  },
  {
   "cell_type": "code",
   "execution_count": null,
   "id": "3db5f34f-ff63-4861-9f55-2c0fdc9a9e38",
   "metadata": {},
   "outputs": [],
   "source": [
    "dump = {}\n",
    "with open('aliases.csv') as aliasfile:\n",
    "    aliases = reader(aliasfile)\n",
    "    for a in aliases:\n",
    "        dump[a[1]]=a[0]\n",
    "save2json('aliases.json',dump)"
   ]
  },
  {
   "cell_type": "code",
   "execution_count": null,
   "id": "2fceb621-c273-404a-b637-71fa035239d9",
   "metadata": {},
   "outputs": [],
   "source": [
    "cleaned = {}\n",
    "with open('aliases.json') as aliasfile:\n",
    "    alias_map = json.load(aliasfile)\n",
    "    with open('imgflip.json') as jsonfile:\n",
    "        ist =  json.load(jsonfile)\n",
    "        for ii in ist:\n",
    "            if(ii['URL']==None or ii['alt_text']==None):\n",
    "                continue\n",
    "            ii['turl'] = alias_map[ii['template_ID']]\n",
    "            cleaned[ii['URL']] = ii\n",
    "            \n",
    "save2json('imgflip.cleaned.2.json',cleaned)"
   ]
  },
  {
   "cell_type": "code",
   "execution_count": null,
   "id": "6c0ef09f-c0b4-4885-8848-6b9fb02a9a0c",
   "metadata": {},
   "outputs": [],
   "source": [
    "ist[0]"
   ]
  },
  {
   "cell_type": "code",
   "execution_count": null,
   "id": "bd82d1e6-672a-4a22-9226-e5685af98f4c",
   "metadata": {},
   "outputs": [],
   "source": [
    "{'template_title': 'Is This A Pigeon',\n",
    " 'template_ID': '100777631',\n",
    " 'URL': '/i/6lv2qe',\n",
    " 'title': 'What parents here',\n",
    " 'author': '-Luigifan-',\n",
    " 'view_count': '2,421',\n",
    " 'upvote_count': '39',\n",
    " 'comment_count': '1',\n",
    " 'image_url': '//i.imgflip.com/6lv2qe.jpg',\n",
    " 'alt_text': 'What parents here |  PARENTS; ANYTHING I SAY; HMMM. . . TASTES LIKE DISRESPECT | image tagged in memes,is this a pigeon | made w/ Imgflip meme maker',\n",
    " 'turl': 'https://imgflip.com/meme/Is-This-A-Pigeon'}"
   ]
  },
  {
   "cell_type": "code",
   "execution_count": null,
   "id": "307fd63e-b1ba-466b-8f3e-234f45bfd15d",
   "metadata": {},
   "outputs": [],
   "source": [
    "with open('imgflip.spotlight.json', 'r') as f2:\n",
    "    spotlight = json.load(f2)\n",
    "    keys = list(map(lambda x: [x], list(spotlight.keys())))\n",
    "    save2csv('imgflip.spotlighted.csv', ['URL'], keys)"
   ]
  },
  {
   "cell_type": "code",
   "execution_count": null,
   "id": "4a267dcb-4d02-486d-ab8e-25e271ce5ffd",
   "metadata": {},
   "outputs": [],
   "source": [
    "num = 0\n",
    "memes = []\n",
    "with open('imgflip.cleaned.json', 'r', encoding='utf8') as f1:\n",
    "    for m in json.load(f1):\n",
    "        if(m['URL'] in keys or (m['URL']==None) or m['alt_text']==None):\n",
    "            continue\n",
    "        else:\n",
    "            memes.append({'URL': m['URL'], 'alt_text':m['alt_text']})\n",
    "            # if(len(memes) == 10000):\n",
    "            #     save2json('shrinked.'+str(num)+'.json',memes)\n",
    "            #     num = num + 1\n",
    "            #     memes = []\n",
    "save2json('imgflip.cleaned2.json',ist)"
   ]
  },
  {
   "cell_type": "code",
   "execution_count": null,
   "id": "1ad27fdb-b9fc-4f39-a8fa-9648a7f8f77d",
   "metadata": {},
   "outputs": [],
   "source": [
    "len(memes)"
   ]
  },
  {
   "cell_type": "code",
   "execution_count": null,
   "id": "fd9d3465-6673-4b87-b07d-756e420343fb",
   "metadata": {},
   "outputs": [],
   "source": []
  },
  {
   "cell_type": "code",
   "execution_count": null,
   "id": "f0bc8bab-779e-4a72-b31d-009a6ebc388c",
   "metadata": {},
   "outputs": [],
   "source": [
    "save2json('shrinked.json',memes[1:10000])"
   ]
  },
  {
   "cell_type": "code",
   "execution_count": null,
   "id": "b5d70951-294c-4c48-b262-eb33bbfd149c",
   "metadata": {},
   "outputs": [],
   "source": [
    "memes"
   ]
  },
  {
   "cell_type": "code",
   "execution_count": 4,
   "id": "29daefbb-1511-48cc-ae6e-511b7a4c9c2a",
   "metadata": {},
   "outputs": [],
   "source": [
    "f1 = open('imgflip.cleaned.json', 'r', encoding='utf8')\n",
    "j1 = json.load(f1)"
   ]
  },
  {
   "cell_type": "code",
   "execution_count": 7,
   "id": "58822034-7eb4-4c5d-aaa6-771ea48c5539",
   "metadata": {},
   "outputs": [
    {
     "data": {
      "text/plain": [
       "{'template_title': 'Is This A Pigeon',\n",
       " 'template_ID': '100777631',\n",
       " 'URL': '/i/6lv2qe',\n",
       " 'title': 'What parents here',\n",
       " 'author': '-Luigifan-',\n",
       " 'view_count': '2,421',\n",
       " 'upvote_count': '39',\n",
       " 'comment_count': '1',\n",
       " 'image_url': '//i.imgflip.com/6lv2qe.jpg',\n",
       " 'alt_text': 'What parents here |  PARENTS; ANYTHING I SAY; HMMM. . . TASTES LIKE DISRESPECT | image tagged in memes,is this a pigeon | made w/ Imgflip meme maker',\n",
       " 'turl': 'https://imgflip.com/meme/Is-This-A-Pigeon'}"
      ]
     },
     "execution_count": 7,
     "metadata": {},
     "output_type": "execute_result"
    }
   ],
   "source": [
    "j1[\"/i/6lv2qe\"]"
   ]
  },
  {
   "cell_type": "code",
   "execution_count": 14,
   "id": "49d98694-c935-4872-92ec-eccc6c5bad28",
   "metadata": {},
   "outputs": [
    {
     "name": "stderr",
     "output_type": "stream",
     "text": [
      "IOPub data rate exceeded.\n",
      "The Jupyter server will temporarily stop sending output\n",
      "to the client in order to avoid crashing it.\n",
      "To change this limit, set the config variable\n",
      "`--ServerApp.iopub_data_rate_limit`.\n",
      "\n",
      "Current values:\n",
      "ServerApp.iopub_data_rate_limit=1000000.0 (bytes/sec)\n",
      "ServerApp.rate_limit_window=3.0 (secs)\n",
      "\n"
     ]
    },
    {
     "ename": "KeyboardInterrupt",
     "evalue": "",
     "output_type": "error",
     "traceback": [
      "\u001b[0;31m---------------------------------------------------------------------------\u001b[0m",
      "\u001b[0;31mKeyboardInterrupt\u001b[0m                         Traceback (most recent call last)",
      "Input \u001b[0;32mIn [14]\u001b[0m, in \u001b[0;36m<cell line: 2>\u001b[0;34m()\u001b[0m\n\u001b[1;32m      2\u001b[0m \u001b[38;5;28;01mfor\u001b[39;00m k \u001b[38;5;129;01min\u001b[39;00m j1\u001b[38;5;241m.\u001b[39mkeys():\n\u001b[1;32m      3\u001b[0m     meme \u001b[38;5;241m=\u001b[39m j1[k]\n\u001b[0;32m----> 4\u001b[0m     \u001b[38;5;28;43mprint\u001b[39;49m\u001b[43m(\u001b[49m\u001b[43mby_template\u001b[49m\u001b[43m)\u001b[49m\n\u001b[1;32m      5\u001b[0m     \u001b[38;5;28;01mif\u001b[39;00m(meme[\u001b[38;5;124m'\u001b[39m\u001b[38;5;124mtemplate_ID\u001b[39m\u001b[38;5;124m'\u001b[39m] \u001b[38;5;129;01min\u001b[39;00m by_template\u001b[38;5;241m.\u001b[39mkeys()):\n\u001b[1;32m      6\u001b[0m         by_template[meme[\u001b[38;5;124m'\u001b[39m\u001b[38;5;124mtemplate_ID\u001b[39m\u001b[38;5;124m'\u001b[39m]]\u001b[38;5;241m.\u001b[39mappend(meme)\n",
      "File \u001b[0;32m/opt/conda/lib/python3.10/site-packages/ipykernel/iostream.py:528\u001b[0m, in \u001b[0;36mOutStream.write\u001b[0;34m(self, string)\u001b[0m\n\u001b[1;32m    518\u001b[0m \u001b[38;5;28;01mdef\u001b[39;00m \u001b[38;5;21mwrite\u001b[39m(\u001b[38;5;28mself\u001b[39m, string: \u001b[38;5;28mstr\u001b[39m) \u001b[38;5;241m-\u001b[39m\u001b[38;5;241m>\u001b[39m Optional[\u001b[38;5;28mint\u001b[39m]:  \u001b[38;5;66;03m# type:ignore[override]\u001b[39;00m\n\u001b[1;32m    519\u001b[0m     \u001b[38;5;124;03m\"\"\"Write to current stream after encoding if necessary\u001b[39;00m\n\u001b[1;32m    520\u001b[0m \n\u001b[1;32m    521\u001b[0m \u001b[38;5;124;03m    Returns\u001b[39;00m\n\u001b[0;32m   (...)\u001b[0m\n\u001b[1;32m    525\u001b[0m \n\u001b[1;32m    526\u001b[0m \u001b[38;5;124;03m    \"\"\"\u001b[39;00m\n\u001b[0;32m--> 528\u001b[0m     \u001b[38;5;28;01mif\u001b[39;00m \u001b[38;5;129;01mnot\u001b[39;00m \u001b[38;5;28;43misinstance\u001b[39;49m\u001b[43m(\u001b[49m\u001b[43mstring\u001b[49m\u001b[43m,\u001b[49m\u001b[43m \u001b[49m\u001b[38;5;28;43mstr\u001b[39;49m\u001b[43m)\u001b[49m:\n\u001b[1;32m    529\u001b[0m         \u001b[38;5;28;01mraise\u001b[39;00m \u001b[38;5;167;01mTypeError\u001b[39;00m(\u001b[38;5;124mf\u001b[39m\u001b[38;5;124m\"\u001b[39m\u001b[38;5;124mwrite() argument must be str, not \u001b[39m\u001b[38;5;132;01m{\u001b[39;00m\u001b[38;5;28mtype\u001b[39m(string)\u001b[38;5;132;01m}\u001b[39;00m\u001b[38;5;124m\"\u001b[39m)\n\u001b[1;32m    531\u001b[0m     \u001b[38;5;28;01mif\u001b[39;00m \u001b[38;5;28mself\u001b[39m\u001b[38;5;241m.\u001b[39mecho \u001b[38;5;129;01mis\u001b[39;00m \u001b[38;5;129;01mnot\u001b[39;00m \u001b[38;5;28;01mNone\u001b[39;00m:\n",
      "\u001b[0;31mKeyboardInterrupt\u001b[0m: "
     ]
    }
   ],
   "source": [
    "by_template = {}\n",
    "for k in j1.keys():\n",
    "    meme = j1[k]\n",
    "    print(by_template)\n",
    "    if(meme['template_ID'] in by_template.keys()):\n",
    "        \n",
    "        by_template[meme['template_ID']].append(meme)\n",
    "    else:\n",
    "        by_template[meme['template_ID']] = [meme]"
   ]
  },
  {
   "cell_type": "code",
   "execution_count": 4,
   "id": "5c0d6681-8241-4ee4-9967-d3dd84ffbea9",
   "metadata": {},
   "outputs": [],
   "source": [
    "import json, os"
   ]
  },
  {
   "cell_type": "code",
   "execution_count": 3,
   "id": "e1e4bd53-0e2a-4c71-8850-4f8c5fe6f2c0",
   "metadata": {},
   "outputs": [
    {
     "name": "stderr",
     "output_type": "stream",
     "text": [
      "\n",
      "KeyboardInterrupt\n",
      "\n"
     ]
    }
   ],
   "source": [
    "memes_entities = []\n",
    "with open('../imkg/dbpedia-wikidata.json') as jsonfile:\n",
    "    db2wdmapping = json.load(jsonfile)\n",
    "    for file in os.listdir('./data prep/imgflip.spotlight.bytemplate'):\n",
    "        outFname = './data prep/imgflip.spotlight.bytemplate/kym/'+file.replace(file,\"kym.\"+file)\n",
    "        if (os.path.isfile(os.path.join('./data prep/imgflip.spotlight.bytemplate', file)) and file.endswith(\"json\") and not os.path.exists(os.path.join('./data prep/imgflip.spotlight.bytemplate/kym', file))):\n",
    "            with open(outFname, 'w') as out_file:\n",
    "                fname = './data prep/imgflip.spotlight.bytemplate/'+str(file)\n",
    "                spotlight_entities = open(fname)\n",
    "                jse = json.load(spotlight_entities)\n",
    "                for je in jse:\n",
    "                    if(\"Resources\" in je.keys()):\n",
    "                        for r in je[\"Resources\"]:\n",
    "                            res = r['@URI'].replace('http://dbpedia.org/resource/','')\n",
    "                            if(res in db2wdmapping.keys()):\n",
    "                                r['QID'] = 'https://www.wikidata.org/wiki/'+db2wdmapping[res]\n",
    "                                if(type(r[\"@types\"])==str):\n",
    "                                    ls = r[\"@types\"].replace(\"DUL:\", \"http://www.loa-cnr.it/ontologies/DOLCE-Lite#\").replace(\"Wikidata:\", \"https://www.wikidata.org/wiki/\").replace(\"Schema:\", \"https://schema.org/\").split(\",\")\n",
    "                                    ls = list(filter(None, ls))\n",
    "                                    ls = [l for l in ls if 'DBpedia' not in l]\n",
    "                                elif(type(r[\"@types\"])==list):\n",
    "                                    ls = list(map(lambda s: s.replace(\"DUL:\", \"http://www.loa-cnr.it/ontologies/DOLCE-Lite#\").replace(\"Wikidata:\", \"https://www.wikidata.org/wiki/\").replace(\"Schema:\", \"https://schema.org/\").replace(\"DBpedia:\", \"\"),r[\"@types\"]))\n",
    "                                    errors.append([row[1],res,r[\"@types\"]])\n",
    "                               #Removing dbpedia types that do not have a correspondence in wikidata\n",
    "                                for l in ls:\n",
    "                                    if(l in db2wdmapping.keys()):\n",
    "                                        l = 'https://www.wikidata.org/wiki/'+db2wdmapping[l]     \n",
    "                                r[\"@typeList\"]=ls\n",
    "                memes_entities.append(je)\n",
    "                spotlight_entities.close()\n",
    "                json.dump(memes_entities, out_file, indent = 6)"
   ]
  },
  {
   "cell_type": "code",
   "execution_count": 21,
   "id": "d6afcee3-0fe2-4f9f-8b31-fbcfc0ce0544",
   "metadata": {},
   "outputs": [],
   "source": [
    "for file in os.listdir('./data prep/imgflip.cleaned.bytemplate'):\n",
    "    if (file.endswith(\".json\")):\n",
    "        with open('./data prep/imgflip.cleaned.bytemplate/'+file, \"r\") as jfile:\n",
    "            jj = json.load(jfile) \n",
    "            for j in jj:\n",
    "                # j['URL']= \"http://imgflip.com\"+j['URL']\n",
    "                j['URL']= j['URL'].replace('http','https')\n",
    "                # j['image_url'] = 'https:'+ j['image_url']\n",
    "            out_file = open('./data prep/imgflip.cleaned.bytemplate/'+ file, 'w')\n",
    "            json.dump(jj,out_file)\n",
    "            out_file.close()"
   ]
  },
  {
   "cell_type": "code",
   "execution_count": 24,
   "id": "315400c3-1ef3-4d31-b648-decda8fdb80e",
   "metadata": {},
   "outputs": [],
   "source": [
    "for file in os.listdir('./data prep/imgflip.spotlight.bytemplate/'):\n",
    "    if (file.endswith(\".json\")):\n",
    "        with open('./data prep/imgflip.spotlight.bytemplate/'+file, \"r\") as jfile:\n",
    "            jj = json.load(jfile) \n",
    "            for j in jj:\n",
    "                j['instance_ID']= \"https://imgflip.com\"+j['instance_ID']\n",
    "                # j['image_url'] = 'https:'+ j['image_url']\n",
    "            out_file = open('./data prep/imgflip.spotlight.bytemplate/'+ file, 'w')\n",
    "            json.dump(jj,out_file)\n",
    "            out_file.close()"
   ]
  },
  {
   "cell_type": "code",
   "execution_count": 23,
   "id": "ca13ddeb-1aca-4bfc-922d-8294911bb2d4",
   "metadata": {},
   "outputs": [
    {
     "ename": "NameError",
     "evalue": "name 'affo' is not defined",
     "output_type": "error",
     "traceback": [
      "\u001b[0;31m---------------------------------------------------------------------------\u001b[0m",
      "\u001b[0;31mNameError\u001b[0m                                 Traceback (most recent call last)",
      "Cell \u001b[0;32mIn [23], line 1\u001b[0m\n\u001b[0;32m----> 1\u001b[0m \u001b[38;5;28mprint\u001b[39m(\u001b[43maffo\u001b[49m)\n",
      "\u001b[0;31mNameError\u001b[0m: name 'affo' is not defined"
     ]
    }
   ],
   "source": []
  },
  {
   "cell_type": "code",
   "execution_count": null,
   "id": "ab43bb50-d392-4d3b-b135-c450896a26e4",
   "metadata": {},
   "outputs": [],
   "source": []
  }
 ],
 "metadata": {
  "kernelspec": {
   "display_name": "Python 3 (ipykernel)",
   "language": "python",
   "name": "python3"
  },
  "language_info": {
   "codemirror_mode": {
    "name": "ipython",
    "version": 3
   },
   "file_extension": ".py",
   "mimetype": "text/x-python",
   "name": "python",
   "nbconvert_exporter": "python",
   "pygments_lexer": "ipython3",
   "version": "3.10.6"
  }
 },
 "nbformat": 4,
 "nbformat_minor": 5
}
