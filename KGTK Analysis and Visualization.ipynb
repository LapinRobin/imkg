{
 "cells": [
  {
   "cell_type": "markdown",
   "id": "suffering-salon",
   "metadata": {},
   "source": [
    "# Analysis and Visualization"
   ]
  },
  {
   "cell_type": "markdown",
   "id": "straight-selling",
   "metadata": {},
   "source": [
    "Let's create a visualization of a single meme:"
   ]
  },
  {
   "cell_type": "markdown",
   "id": "maritime-imagination",
   "metadata": {},
   "source": [
    "## 0. Setup"
   ]
  },
  {
   "cell_type": "code",
   "execution_count": 17,
   "id": "unusual-thomas",
   "metadata": {},
   "outputs": [],
   "source": [
    "import os\n",
    "import os.path\n",
    "\n",
    "from kgtk.configure_kgtk_notebooks import ConfigureKGTK\n",
    "from kgtk.functions import kgtk, kypher"
   ]
  },
  {
   "cell_type": "code",
   "execution_count": 18,
   "id": "armed-despite",
   "metadata": {},
   "outputs": [],
   "source": [
    "# Parameters\n",
    "\n",
    "# Folders on local machine where to create the output and temporary files:\n",
    "input_path = \"wikidata\"\n",
    "output_path = \"projects\"\n",
    "project_name = \"tutorial-kypher\""
   ]
  },
  {
   "cell_type": "code",
   "execution_count": 19,
   "id": "naughty-headset",
   "metadata": {},
   "outputs": [
    {
     "name": "stdout",
     "output_type": "stream",
     "text": [
      "User home: /Users/filipilievski\n",
      "Current dir: /Users/filipilievski/mcs/imkg\n",
      "KGTK dir: /Users/filipilievski/mcs\n",
      "Use-cases dir: /Users/filipilievski/mcs/use-cases\n"
     ]
    }
   ],
   "source": [
    "big_files=[\"label\"]\n",
    "\n",
    "additional_files = {\n",
    "    \"P31\": \"derived.P31.tsv.gz\",\n",
    "    \"items\": \"claims.wikibase-item.tsv.gz\",\n",
    "    \"P1963\": \"derived.P1963computed.count.star.tsv.gz\",\n",
    "    \"external\": \"claims.external-id.tsv.gz\",\n",
    "    \"indegree\": \"metadata.in_degree.tsv.gz\",\n",
    "    \"outdegree\": \"metadata.out_degree.tsv.gz\",\n",
    "    \"pagerank\": \"metadata.pagerank.directed.tsv.gz\"\n",
    "}\n",
    "\n",
    "ck = ConfigureKGTK(big_files)\n",
    "ck.configure_kgtk(input_graph_path=input_path, \n",
    "                  output_path=output_path, \n",
    "                  project_name=project_name,\n",
    "                  additional_files=additional_files)"
   ]
  },
  {
   "cell_type": "code",
   "execution_count": 20,
   "id": "billion-grant",
   "metadata": {},
   "outputs": [
    {
     "name": "stdout",
     "output_type": "stream",
     "text": [
      "EXAMPLES_DIR: /Users/filipilievski/mcs/examples\n",
      "kgtk: kgtk\n",
      "STORE: projects/tutorial-kypher/temp.tutorial-kypher/wikidata.sqlite3.db\n",
      "USE_CASES_DIR: /Users/filipilievski/mcs/use-cases\n",
      "KGTK_LABEL_FILE: wikidata/labels.en.tsv.gz\n",
      "TEMP: projects/tutorial-kypher/temp.tutorial-kypher\n",
      "kypher: kgtk query --graph-cache projects/tutorial-kypher/temp.tutorial-kypher/wikidata.sqlite3.db\n",
      "GRAPH: wikidata\n",
      "OUT: projects/tutorial-kypher\n",
      "KGTK_GRAPH_CACHE: projects/tutorial-kypher/temp.tutorial-kypher/wikidata.sqlite3.db\n",
      "KGTK_OPTION_DEBUG: false\n",
      "label: wikidata/labels.en.tsv.gz\n",
      "P31: wikidata/derived.P31.tsv.gz\n",
      "items: wikidata/claims.wikibase-item.tsv.gz\n",
      "P1963: wikidata/derived.P1963computed.count.star.tsv.gz\n",
      "external: wikidata/claims.external-id.tsv.gz\n",
      "indegree: wikidata/metadata.in_degree.tsv.gz\n",
      "outdegree: wikidata/metadata.out_degree.tsv.gz\n",
      "pagerank: wikidata/metadata.pagerank.directed.tsv.gz\n"
     ]
    }
   ],
   "source": [
    "ck.print_env_variables()"
   ]
  },
  {
   "cell_type": "code",
   "execution_count": 5,
   "id": "cellular-norwegian",
   "metadata": {},
   "outputs": [
    {
     "name": "stdout",
     "output_type": "stream",
     "text": [
      "imgflipi:2494xe\timgflipr:alt_text\thope the water in mordor don\\'t brian him. \\|  WINS A TICKET TO A FOREIGN COUNTRY; MORDOR \\| image tagged in memes,bad luck brian \\| made w/ Imgflip meme maker\n",
      "imgflipi:2494xe\timgflipr:title\thope the water in mordor don\\'t brian him.\n",
      "imgflipi:627jk1\timgflipr:alt_text\tMan going to mordor \\|  THAT OTHER GUY; BOROMIR; MORDOR \\| image tagged in memes,distracted boyfriend \\| made w/ Imgflip meme maker\n",
      "imgflipi:627jk1\timgflipr:title\tMan going to mordor\n"
     ]
    }
   ],
   "source": [
    "!gzcat \"$TEMP/imkg.kgtk.gz\" | grep \"mordor\""
   ]
  },
  {
   "cell_type": "code",
   "execution_count": null,
   "id": "hydraulic-hungarian",
   "metadata": {},
   "outputs": [],
   "source": []
  },
  {
   "cell_type": "markdown",
   "id": "sapphire-jones",
   "metadata": {},
   "source": [
    "# 0. Find memes that show the connection between KYM, ImgFlip and Wikidata"
   ]
  },
  {
   "cell_type": "code",
   "execution_count": 36,
   "id": "robust-wilson",
   "metadata": {},
   "outputs": [
    {
     "name": "stdout",
     "output_type": "stream",
     "text": [
      "node1\tlabel\tnode2\tnode1\tlabel\tnode2\n"
     ]
    }
   ],
   "source": [
    "!kgtk query -i $TEMP/imkg.kgtk.gz \\\n",
    "            --match '()-[:`m4s:sameAs`]->(k), \\\n",
    "                    (k)-[]->(kinfo)'"
   ]
  },
  {
   "cell_type": "code",
   "execution_count": 94,
   "id": "exempt-listening",
   "metadata": {},
   "outputs": [
    {
     "name": "stdout",
     "output_type": "stream",
     "text": [
      "node1\tlabel\tnode2\n"
     ]
    }
   ],
   "source": [
    "!kgtk query -i $TEMP/imkg.kgtk.gz \\\n",
    "            --match '()-[:`m4s:templateOf`]->(:`kym:one-does-not-simply-walk-into-mordor`)' \\\n",
    "            --limit 40"
   ]
  },
  {
   "cell_type": "code",
   "execution_count": 14,
   "id": "listed-freeware",
   "metadata": {},
   "outputs": [
    {
     "name": "stdout",
     "output_type": "stream",
     "text": [
      "node2\tlabel\tnode2\n"
     ]
    }
   ],
   "source": [
    "!kgtk query -i $TEMP/imkg.kgtk.gz \\\n",
    "            --match '(:`imgflipmeme:135990973/distracted-boyfriend-anime-re-zero`)-[:`kym:fromAbout`]->(info1), \\\n",
    "                    (:`kym:distracted-boyfriend`)-[`kym:fromImage`]->(info2), \\\n",
    "                    (info1)-[r]->(info2)' \\\n",
    "            --where 'info2!=\"0.5\"' \\\n",
    "            --return 'distinct info1, r.label, info2' \\\n",
    "            --limit 500"
   ]
  },
  {
   "cell_type": "code",
   "execution_count": 95,
   "id": "expected-ability",
   "metadata": {},
   "outputs": [
    {
     "name": "stdout",
     "output_type": "stream",
     "text": [
      "about\tlabel\timage\n",
      "Q202886\tP1441\tQ15228\n",
      "Q219504\tP1441\tQ15228\n",
      "Q892\tP800\tQ15228\n",
      "Q15228\tP4969\tQ190214\n",
      "Q15228\tP840\tQ202886\n",
      "Q15228\tP674\tQ2281\n",
      "Q202886\tP35\tQ2281\n",
      "Q219504\tP7047\tQ2281\n"
     ]
    }
   ],
   "source": [
    "!kgtk query -i $TEMP/imkg.kgtk.gz \\\n",
    "            --match '(:`kym:one-does-not-simply-walk-into-mordor`)-[:`m4s:fromAbout`]->(info1), \\\n",
    "                    (:`kym:one-does-not-simply-walk-into-mordor`)-[:`m4s:fromImage`]->(info2), \\\n",
    "                    (info1)-[r]->(info2)' \\\n",
    "            --where 'info2!=\"0.5\"' \\\n",
    "            --return 'distinct info1 as about, r.label, info2 as image' \\\n",
    "            --limit 1000"
   ]
  },
  {
   "cell_type": "markdown",
   "id": "mighty-winter",
   "metadata": {},
   "source": [
    "## 1. Visualize most relations for the Distracted-Boyfriend meme"
   ]
  },
  {
   "cell_type": "code",
   "execution_count": 5,
   "id": "centered-living",
   "metadata": {},
   "outputs": [],
   "source": [
    "!kgtk query -i $TEMP/templates.kgtk.gz \\\n",
    "            --match '(:`kym:distracted-boyfriend`)-[r]->()' \\\n",
    "             --where 'r.label in [\"kym:parent\", \"kym:child\", \"kym:year\", \"rdf:type\", \"m4s:fromAbout\", \"m4s:fromTags\", \"m4s:fromImage\"]' \\\n",
    "            -o $TEMP/db_subject.kgtk.gz"
   ]
  },
  {
   "cell_type": "markdown",
   "id": "collectible-cooking",
   "metadata": {},
   "source": [
    "Create node file:"
   ]
  },
  {
   "cell_type": "code",
   "execution_count": 6,
   "id": "educational-ordinance",
   "metadata": {},
   "outputs": [],
   "source": [
    "!kgtk query -i $TEMP/labelfile.kgtk.gz -i $TEMP/db_subject.kgtk.gz \\\n",
    "            --match 'db: ()-[]->(n), \\\n",
    "                label: (n)-[r]->(l)' \\\n",
    "            --return 'n as id, l as label' / deduplicate \\\n",
    "            -o $TEMP/nodefile.kgtk.gz "
   ]
  },
  {
   "cell_type": "code",
   "execution_count": 9,
   "id": "equipped-lecture",
   "metadata": {},
   "outputs": [],
   "source": [
    "kgtk(\"\"\"visualize-graph \n",
    "        -i $TEMP/db_subject.kgtk.gz\n",
    "        --node-file $TEMP/nodefile.kgtk.gz\n",
    "        --show-text above\n",
    "        --tooltip-column label\n",
    "        --direction arrow\n",
    "        --edge-color-column label\n",
    "        --edge-color-style d3.schemeDark2\n",
    "        -o distracted.graph.html\"\"\")"
   ]
  },
  {
   "cell_type": "markdown",
   "id": "valuable-coach",
   "metadata": {},
   "source": [
    "## 2. Visualize children and parents for the TLDR meme"
   ]
  },
  {
   "cell_type": "code",
   "execution_count": 16,
   "id": "light-patrick",
   "metadata": {},
   "outputs": [],
   "source": [
    "!kgtk query -i $TEMP/templates.kgtk.gz \\\n",
    "            --match '(n)-[r]->(n2)' \\\n",
    "            --where 'r.label in [\"kym:parent\", \"kym:child\"] and (n=\"kym:tldr\" or n2=\"kym:tldr\")' \\\n",
    "            -o $TEMP/db_subject.kgtk.gz"
   ]
  },
  {
   "cell_type": "code",
   "execution_count": 19,
   "id": "powered-trader",
   "metadata": {},
   "outputs": [],
   "source": [
    "kgtk(\"\"\"visualize-graph \n",
    "        -i $TEMP/db_subject.kgtk.gz\n",
    "        --show-text above\n",
    "        --tooltip-column label\n",
    "        --direction arrow\n",
    "        --edge-color-column label\n",
    "        --edge-color-style d3.schemeDark2\n",
    "        -o tldr.graph.html\"\"\")"
   ]
  },
  {
   "cell_type": "markdown",
   "id": "worth-postage",
   "metadata": {},
   "source": [
    "## 3. Visualize all sibling relations"
   ]
  },
  {
   "cell_type": "code",
   "execution_count": 7,
   "id": "complimentary-addiction",
   "metadata": {},
   "outputs": [],
   "source": [
    "!kgtk query -i $TEMP/imkg.kgtk.gz \\\n",
    "            --match '()-[r:`kym:sibling`]->()' \\\n",
    "            -o $TEMP/siblings.kgtk.gz"
   ]
  },
  {
   "cell_type": "code",
   "execution_count": 8,
   "id": "bibliographic-collect",
   "metadata": {},
   "outputs": [],
   "source": [
    "kgtk(\"\"\"visualize-graph \n",
    "        -i $TEMP/siblings.kgtk.gz\n",
    "        --direction arrow\n",
    "        -o sibling.graph.html\"\"\")"
   ]
  },
  {
   "cell_type": "markdown",
   "id": "opened-holder",
   "metadata": {},
   "source": [
    "## 4. Analyze graph"
   ]
  },
  {
   "cell_type": "markdown",
   "id": "historical-constant",
   "metadata": {},
   "source": [
    "### IMKG"
   ]
  },
  {
   "cell_type": "code",
   "execution_count": 66,
   "id": "unknown-verse",
   "metadata": {},
   "outputs": [
    {
     "name": "stdout",
     "output_type": "stream",
     "text": [
      "\n",
      "(kgtk:15654): Gtk-\u001b[1;33mWARNING\u001b[0m **: \u001b[34m22:47:13.758\u001b[0m: Locale not supported by C library.\n",
      "\tUsing the fallback 'C' locale.\n",
      "objc[15654]: Class GNotificationCenterDelegate is implemented in both /Users/filipilievski/opt/anaconda3/envs/wikiEnv/lib/libgio-2.0.0.dylib (0x116145960) and /usr/local/Cellar/glib/2.72.2/lib/libgio-2.0.0.dylib (0x1c3c5f6b0). One of the two will be used. Which one is undefined.\n"
     ]
    }
   ],
   "source": [
    "!kgtk graph-statistics \\\n",
    "     -i $TEMP/imkg.kgtk.gz \\\n",
    "     --log-file $TEMP/meme_summary.txt \\\n",
    "     --output-statistics-only \\\n",
    "     -o $TEMP/meme_stats.tsv"
   ]
  },
  {
   "cell_type": "code",
   "execution_count": 67,
   "id": "strong-criticism",
   "metadata": {},
   "outputs": [
    {
     "name": "stdout",
     "output_type": "stream",
     "text": [
      "graph loaded! It has 4850636 nodes and 16549810 edges\n",
      "\n",
      "*** Top relations:\n",
      "m4s:fromCaption\t3344941\n",
      "imgflipr:alt_text\t1326032\n",
      "imgflipr:image_url\t1326032\n",
      "imgflipr:template\t1326032\n",
      "imgflipr:templateId\t1326032\n",
      "imgflipr:template_title\t1326032\n",
      "imgflipr:upvote_count\t1326032\n",
      "imgflipr:view_count\t1326032\n",
      "imgflipr:title\t1326021\n",
      "imgflipr:author\t1176414\n",
      "\n",
      "*** Degrees:\n",
      "in degree stats: mean=3.411885, std=0.202183, max=1\n",
      "out degree stats: mean=3.411885, std=0.003003, max=1\n",
      "total degree stats: mean=6.823769, std=0.202210, max=1\n",
      "\n",
      "*** PageRank\n",
      "Max pageranks\n",
      "1895\tQ2927074\t0.006458\n",
      "43756\tQ978\t0.006304\n",
      "7339\tQ336\t0.003967\n",
      "23\tQ30\t0.003257\n",
      "678\tQ11862829\t0.002837\n",
      "\n",
      "*** HITS\n",
      "HITS hubs\n",
      "1895\tQ2927074\t0.806012\n",
      "43756\tQ978\t0.274611\n",
      "86178\tnan\t0.259774\n",
      "86169\t1\t0.245116\n",
      "86229\t2\t0.155478\n",
      "HITS auth\n",
      "4716157\tkym:memeing\t0.002565\n",
      "4752934\tkym:expression-memes\t0.002512\n",
      "4724355\tkym:nice-meme\t0.002505\n",
      "4715463\tkym:1\t0.002497\n",
      "4827988\tkym:x-shuts-up-the-queen-of-hearts\t0.002493\n"
     ]
    }
   ],
   "source": [
    "!cat $TEMP/meme_summary.txt"
   ]
  },
  {
   "cell_type": "code",
   "execution_count": 68,
   "id": "raising-ocean",
   "metadata": {},
   "outputs": [
    {
     "name": "stdout",
     "output_type": "stream",
     "text": [
      "count(DISTINCT graph_33_c1.\"label\")\n",
      "837\n"
     ]
    }
   ],
   "source": [
    "!kgtk query -i $TEMP/imkg.kgtk.gz \\\n",
    "    --match '(n)-[r]->()' \\\n",
    "    --return 'count (distinct r.label)'"
   ]
  },
  {
   "cell_type": "markdown",
   "id": "shared-croatia",
   "metadata": {},
   "source": [
    "### For KYM"
   ]
  },
  {
   "cell_type": "code",
   "execution_count": 6,
   "id": "floppy-butler",
   "metadata": {},
   "outputs": [
    {
     "name": "stdout",
     "output_type": "stream",
     "text": [
      "\n",
      "(kgtk:11857): Gtk-\u001b[1;33mWARNING\u001b[0m **: \u001b[34m21:00:27.498\u001b[0m: Locale not supported by C library.\n",
      "\tUsing the fallback 'C' locale.\n",
      "objc[11857]: Class GNotificationCenterDelegate is implemented in both /Users/filipilievski/opt/anaconda3/envs/wikiEnv/lib/libgio-2.0.0.dylib (0x1ba40c960) and /usr/local/Cellar/glib/2.72.2/lib/libgio-2.0.0.dylib (0x1c2ffa6b0). One of the two will be used. Which one is undefined.\n"
     ]
    }
   ],
   "source": [
    "!kgtk graph-statistics \\\n",
    "     -i $TEMP/templates.kgtk.gz \\\n",
    "     --log-file $TEMP/kym_summary.txt \\\n",
    "     --output-statistics-only \\\n",
    "     -o $TEMP/kym_stats.tsv"
   ]
  },
  {
   "cell_type": "code",
   "execution_count": 7,
   "id": "failing-expansion",
   "metadata": {},
   "outputs": [
    {
     "name": "stdout",
     "output_type": "stream",
     "text": [
      "graph loaded! It has 167662 nodes and 914941 edges\n",
      "\n",
      "*** Top relations:\n",
      "m4s:fromImage\t388579\n",
      "rdfs:seeAlso\t196594\n",
      "m4s:tag\t73951\n",
      "m4s:fromAbout\t47455\n",
      "m4s:structured_uri\t30440\n",
      "m4s:structured_value\t30440\n",
      "rdf:type\t28939\n",
      "m4s:last_update_source\t15298\n",
      "m4s:added\t15142\n",
      "m4s:from\t12585\n",
      "\n",
      "*** Degrees:\n",
      "in degree stats: mean=5.457056, std=0.265688, max=1\n",
      "out degree stats: mean=5.457056, std=0.053455, max=1\n",
      "total degree stats: mean=10.914113, std=0.273411, max=1\n",
      "\n",
      "*** PageRank\n",
      "Max pageranks\n",
      "147851\thttp://www.w3.org/2001/XMLSchema#timestamp\t0.062911\n",
      "69\tm4s:MediaFrame\t0.001176\n",
      "67\tkym:Meme\t0.001176\n",
      "147890\t1249931663\t0.000821\n",
      "147889\t1592330442\t0.000821\n",
      "\n",
      "*** HITS\n",
      "HITS hubs\n",
      "67\tkym:Meme\t0.347072\n",
      "69\tm4s:MediaFrame\t0.347072\n",
      "33\tQ2927074\t0.240190\n",
      "38\tQ4868296\t0.236590\n",
      "37\tQ478798\t0.218499\n",
      "HITS auth\n",
      "1798\tkym:derp\t0.022974\n",
      "1884\tkym:noice\t0.022725\n",
      "1816\tkym:fap\t0.022573\n",
      "1738\tkym:internet-slang\t0.021543\n",
      "1784\tkym:calm-your-tits\t0.021419\n"
     ]
    }
   ],
   "source": [
    "!cat $TEMP/kym_summary.txt"
   ]
  },
  {
   "cell_type": "markdown",
   "id": "brown-haiti",
   "metadata": {},
   "source": [
    "Count relations:"
   ]
  },
  {
   "cell_type": "code",
   "execution_count": 8,
   "id": "impossible-porter",
   "metadata": {},
   "outputs": [
    {
     "name": "stdout",
     "output_type": "stream",
     "text": [
      "count(DISTINCT graph_39_c1.\"label\")\n",
      "19\n"
     ]
    }
   ],
   "source": [
    "!kgtk query -i $TEMP/templates.kgtk.gz \\\n",
    "    --match '(n)-[r]->()' \\\n",
    "    --return 'count (distinct r.label)'"
   ]
  },
  {
   "cell_type": "markdown",
   "id": "steady-kentucky",
   "metadata": {},
   "source": [
    "Count memes:"
   ]
  },
  {
   "cell_type": "code",
   "execution_count": 9,
   "id": "challenging-softball",
   "metadata": {},
   "outputs": [
    {
     "name": "stdout",
     "output_type": "stream",
     "text": [
      "count(DISTINCT graph_40_c1.\"node1\")\n",
      "12585\n"
     ]
    }
   ],
   "source": [
    "!kgtk query -i $TEMP/templates.kgtk.gz \\\n",
    "    --match '(n1)-[r:`rdf:type`]->(:`kym:Meme`)' \\\n",
    "    --return 'count(distinct n1)'"
   ]
  },
  {
   "cell_type": "markdown",
   "id": "behind-silver",
   "metadata": {},
   "source": [
    "Count media frames:"
   ]
  },
  {
   "cell_type": "code",
   "execution_count": 10,
   "id": "received-desktop",
   "metadata": {},
   "outputs": [
    {
     "name": "stdout",
     "output_type": "stream",
     "text": [
      "count(DISTINCT graph_40_c1.\"node1\")\n",
      "12585\n"
     ]
    }
   ],
   "source": [
    "!kgtk query -i $TEMP/templates.kgtk.gz \\\n",
    "    --match '(n1)-[r:`rdf:type`]->(:`m4s:MediaFrame`)' \\\n",
    "    --return 'count(distinct n1)'"
   ]
  },
  {
   "cell_type": "code",
   "execution_count": 12,
   "id": "resident-psychiatry",
   "metadata": {},
   "outputs": [
    {
     "name": "stdout",
     "output_type": "stream",
     "text": [
      "node2\n",
      "kym:Meme\n",
      "kymt:emoticon\n",
      "m4s:MediaFrame\n",
      "kymt:exploitable\n",
      "kymt:parody\n",
      "kymt:remix\n",
      "kymt:image-macro\n",
      "kymt:catchphrase\n",
      "kymt:viral-video\n",
      "kymt:slang\n",
      "kymt:shock-media\n",
      "kymt:social-game\n",
      "kymt:participatory-media\n",
      "kymt:pop-culture-reference\n",
      "kymt:creepypasta\n",
      "kymt:photoshop\n",
      "kymt:hoax\n",
      "kymt:character\n",
      "kymt:fan-labor\n",
      "kymt:conspiracy-theory\n",
      "kymt:copypasta\n",
      "kymt:animal\n",
      "kymt:reaction\n",
      "kymt:optical-illusion\n",
      "kymt:advertisement\n",
      "kymt:song\n",
      "kymt:dance\n",
      "kymt:axiom\n",
      "kymt:snowclone\n",
      "kymt:cliche\n",
      "kymt:hashtag\n",
      "kymt:visual-effect\n",
      "kymt:fan-art\n",
      "kymt:sound-effect\n",
      "kymt:viral-debate\n",
      "kymt:lip-dub\n"
     ]
    }
   ],
   "source": [
    "!kgtk query -i $TEMP/templates.kgtk.gz \\\n",
    "    --match '(n1)-[r:`rdf:type`]->(t)' \\\n",
    "    --return 'distinct t'"
   ]
  },
  {
   "cell_type": "markdown",
   "id": "considered-shopping",
   "metadata": {},
   "source": [
    "### For ImgFlip"
   ]
  },
  {
   "cell_type": "code",
   "execution_count": 31,
   "id": "continent-press",
   "metadata": {},
   "outputs": [
    {
     "name": "stdout",
     "output_type": "stream",
     "text": [
      "\n",
      "(kgtk:12638): Gtk-\u001b[1;33mWARNING\u001b[0m **: \u001b[34m21:33:05.480\u001b[0m: Locale not supported by C library.\n",
      "\tUsing the fallback 'C' locale.\n",
      "objc[12638]: Class GNotificationCenterDelegate is implemented in both /Users/filipilievski/opt/anaconda3/envs/wikiEnv/lib/libgio-2.0.0.dylib (0x11c7b4960) and /usr/local/Cellar/glib/2.72.2/lib/libgio-2.0.0.dylib (0x1c415c6b0). One of the two will be used. Which one is undefined.\n"
     ]
    }
   ],
   "source": [
    "!kgtk graph-statistics \\\n",
    "     -i $TEMP/instances.kgtk.gz \\\n",
    "     --log-file $TEMP/imgflip_summary.txt \\\n",
    "     --output-statistics-only \\\n",
    "     -o $TEMP/imgflip_stats.tsv"
   ]
  },
  {
   "cell_type": "code",
   "execution_count": 32,
   "id": "activated-isolation",
   "metadata": {},
   "outputs": [
    {
     "name": "stdout",
     "output_type": "stream",
     "text": [
      "graph loaded! It has 4698912 nodes and 15129606 edges\n",
      "\n",
      "*** Top relations:\n",
      "m4s:fromCaption\t3344941\n",
      "imgflipr:alt_text\t1326032\n",
      "imgflipr:image_url\t1326032\n",
      "imgflipr:template\t1326032\n",
      "imgflipr:templateId\t1326032\n",
      "imgflipr:template_title\t1326032\n",
      "imgflipr:upvote_count\t1326032\n",
      "imgflipr:view_count\t1326032\n",
      "imgflipr:title\t1326021\n",
      "imgflipr:author\t1176414\n",
      "\n",
      "*** Degrees:\n",
      "in degree stats: mean=3.219810, std=0.206577, max=1\n",
      "out degree stats: mean=3.219810, std=0.002397, max=1\n",
      "total degree stats: mean=6.439621, std=0.206580, max=1\n",
      "\n",
      "*** PageRank\n",
      "Max pageranks\n",
      "24\tQ2927074\t0.008046\n",
      "49\tQ978\t0.006035\n",
      "19\tnan\t0.003439\n",
      "9\t1\t0.003325\n",
      "88\t2\t0.002381\n",
      "\n",
      "*** HITS\n",
      "HITS hubs\n",
      "24\tQ2927074\t0.805660\n",
      "49\tQ978\t0.265607\n",
      "19\tnan\t0.262922\n",
      "9\t1\t0.247974\n",
      "88\t2\t0.156977\n",
      "HITS auth\n",
      "1475101\timgflipi:2tlnsa\t0.001720\n",
      "3743252\timgflipi:622n2u\t0.001712\n",
      "2461839\timgflipi:4f4ytd\t0.001704\n",
      "1252652\timgflipi:2hl310\t0.001704\n",
      "2195344\timgflipi:3zi361\t0.001703\n"
     ]
    }
   ],
   "source": [
    "!cat $TEMP/imgflip_summary.txt"
   ]
  },
  {
   "cell_type": "code",
   "execution_count": 33,
   "id": "multiple-thomas",
   "metadata": {},
   "outputs": [
    {
     "name": "stdout",
     "output_type": "stream",
     "text": [
      "count(DISTINCT graph_39_c1.\"label\")\n",
      "11\n"
     ]
    }
   ],
   "source": [
    "!kgtk query -i $TEMP/instances.kgtk.gz \\\n",
    "    --match '(n)-[r]->()' \\\n",
    "    --return 'count (distinct r.label)'"
   ]
  },
  {
   "cell_type": "code",
   "execution_count": 34,
   "id": "atmospheric-festival",
   "metadata": {},
   "outputs": [
    {
     "name": "stdout",
     "output_type": "stream",
     "text": [
      "count(DISTINCT graph_39_c1.\"node1\")\n",
      "0\n"
     ]
    }
   ],
   "source": [
    "!kgtk query -i $TEMP/instances.kgtk.gz \\\n",
    "    --match '(n1)-[r:`rdf:type`]->(:`kym:Meme`)' \\\n",
    "    --return 'count(distinct n1)'"
   ]
  },
  {
   "cell_type": "code",
   "execution_count": 43,
   "id": "convenient-hostel",
   "metadata": {},
   "outputs": [
    {
     "name": "stdout",
     "output_type": "stream",
     "text": [
      "node2\n",
      "imgflipmeme:I-Should-Buy-A-Boat-Cat\n",
      "imgflipmeme:Third-World-Success-Kid\n",
      "imgflipmeme:10-Guy\n",
      "imgflipmeme:Back-In-My-Day\n",
      "imgflipmeme:One-Does-Not-Simply\n",
      "imgflipmeme:Picard-Wtf\n",
      "imgflipmeme:Leonardo-Dicaprio-Cheers\n",
      "imgflipmeme:40181531/Donald-Trump\n",
      "imgflipmeme:40181531/Donald-Trump\n",
      "imgflipmeme:Leonardo-Dicaprio-Cheers\n"
     ]
    }
   ],
   "source": [
    "!kgtk query -i $TEMP/instances.kgtk.gz \\\n",
    "    --match '(m)-[:`imgflipr:template`]->(t)' \\\n",
    "    --return 't' \\\n",
    "    --limit 10"
   ]
  },
  {
   "cell_type": "code",
   "execution_count": 36,
   "id": "sunrise-burlington",
   "metadata": {},
   "outputs": [
    {
     "name": "stdout",
     "output_type": "stream",
     "text": [
      "count(DISTINCT graph_39_c1.\"node1\")\n",
      "0\n"
     ]
    }
   ],
   "source": [
    "!kgtk query -i $TEMP/instances.kgtk.gz \\\n",
    "    --match '(n1)-[r:`rdf:type`]->(:`m4s:MediaFrame`)' \\\n",
    "    --return 'count(distinct n1)'"
   ]
  },
  {
   "cell_type": "markdown",
   "id": "established-asian",
   "metadata": {},
   "source": [
    "### For ImgFlip to KYM"
   ]
  },
  {
   "cell_type": "code",
   "execution_count": 44,
   "id": "royal-geometry",
   "metadata": {},
   "outputs": [
    {
     "name": "stdout",
     "output_type": "stream",
     "text": [
      "\n",
      "(kgtk:13640): Gtk-\u001b[1;33mWARNING\u001b[0m **: \u001b[34m21:58:50.792\u001b[0m: Locale not supported by C library.\n",
      "\tUsing the fallback 'C' locale.\n",
      "objc[13640]: Class GNotificationCenterDelegate is implemented in both /Users/filipilievski/opt/anaconda3/envs/wikiEnv/lib/libgio-2.0.0.dylib (0x1ad538960) and /usr/local/Cellar/glib/2.72.2/lib/libgio-2.0.0.dylib (0x1ca6926b0). One of the two will be used. Which one is undefined.\n"
     ]
    }
   ],
   "source": [
    "!kgtk graph-statistics \\\n",
    "     -i $TEMP/mappings.kgtk.gz \\\n",
    "     --log-file $TEMP/mappings_summary.txt \\\n",
    "     --output-statistics-only \\\n",
    "     -o $TEMP/mappings_stats.tsv"
   ]
  },
  {
   "cell_type": "code",
   "execution_count": 45,
   "id": "several-rouge",
   "metadata": {},
   "outputs": [
    {
     "name": "stdout",
     "output_type": "stream",
     "text": [
      "graph loaded! It has 343 nodes and 244 edges\n",
      "\n",
      "*** Top relations:\n",
      "m4s:templateOf\t241\n",
      "prefix_expansion\t3\n",
      "\n",
      "*** Degrees:\n",
      "in degree stats: mean=0.711370, std=0.105216, max=1\n",
      "out degree stats: mean=0.711370, std=0.024466, max=1\n",
      "total degree stats: mean=1.422741, std=0.093372, max=1\n",
      "\n",
      "*** PageRank\n",
      "Max pageranks\n",
      "36\tkym:facepalm\t0.028070\n",
      "19\tkym:captain-obvious\t0.026526\n",
      "9\tkym:crying-michael-jordan\t0.024982\n",
      "23\tkym:disaster-girl\t0.015716\n",
      "103\tkym:bad-luck-brian\t0.015716\n",
      "\n",
      "*** HITS\n",
      "HITS hubs\n",
      "36\tkym:facepalm\t1.000000\n",
      "19\tkym:captain-obvious\t0.000016\n",
      "9\tkym:crying-michael-jordan\t0.000000\n",
      "23\tkym:disaster-girl\t0.000000\n",
      "103\tkym:bad-luck-brian\t0.000000\n",
      "HITS auth\n",
      "303\timgflipr:memetemplate/Confession-Kid\t0.242536\n",
      "69\timgflipr:memetemplate/171112483/The-most-interesting-man-in-the-world-facepalm\t0.242536\n",
      "216\timgflipr:memetemplate/56176911/Alice-in-Wonderland-Face-Palm-Facepalm\t0.242536\n",
      "247\timgflipr:memetemplate/73607583/Ash-Ketchum-Facepalm\t0.242536\n",
      "70\timgflipr:memetemplate/17450694/Putin-Facepalm\t0.242536\n"
     ]
    }
   ],
   "source": [
    "!cat $TEMP/mappings_summary.txt"
   ]
  },
  {
   "cell_type": "code",
   "execution_count": 48,
   "id": "embedded-fields",
   "metadata": {},
   "outputs": [
    {
     "name": "stdout",
     "output_type": "stream",
     "text": [
      "count(DISTINCT graph_36_c1.\"label\")\n",
      "2\n"
     ]
    }
   ],
   "source": [
    "!kgtk query -i $TEMP/mappings.kgtk.gz \\\n",
    "    --match '(n)-[r]->()' \\\n",
    "    --return 'count (distinct r.label)'"
   ]
  },
  {
   "cell_type": "code",
   "execution_count": 50,
   "id": "challenging-newport",
   "metadata": {},
   "outputs": [
    {
     "name": "stdout",
     "output_type": "stream",
     "text": [
      "count(DISTINCT graph_36_c1.\"node2\")\n",
      "96\n"
     ]
    }
   ],
   "source": [
    "!kgtk query -i $TEMP/mappings.kgtk.gz \\\n",
    "    --match '(if)-[r:`m4s:templateOf`]->(kym)' \\\n",
    "    --return 'count(distinct kym)'"
   ]
  },
  {
   "cell_type": "code",
   "execution_count": 43,
   "id": "martial-obligation",
   "metadata": {},
   "outputs": [
    {
     "name": "stdout",
     "output_type": "stream",
     "text": [
      "node2\n",
      "imgflipmeme:I-Should-Buy-A-Boat-Cat\n",
      "imgflipmeme:Third-World-Success-Kid\n",
      "imgflipmeme:10-Guy\n",
      "imgflipmeme:Back-In-My-Day\n",
      "imgflipmeme:One-Does-Not-Simply\n",
      "imgflipmeme:Picard-Wtf\n",
      "imgflipmeme:Leonardo-Dicaprio-Cheers\n",
      "imgflipmeme:40181531/Donald-Trump\n",
      "imgflipmeme:40181531/Donald-Trump\n",
      "imgflipmeme:Leonardo-Dicaprio-Cheers\n"
     ]
    }
   ],
   "source": [
    "!kgtk query -i $TEMP/instances.kgtk.gz \\\n",
    "    --match '(m)-[:`imgflipr:template`]->(t)' \\\n",
    "    --return 't' \\\n",
    "    --limit 10"
   ]
  },
  {
   "cell_type": "code",
   "execution_count": 36,
   "id": "swiss-imaging",
   "metadata": {},
   "outputs": [
    {
     "name": "stdout",
     "output_type": "stream",
     "text": [
      "count(DISTINCT graph_39_c1.\"node1\")\n",
      "0\n"
     ]
    }
   ],
   "source": [
    "!kgtk query -i $TEMP/instances.kgtk.gz \\\n",
    "    --match '(n1)-[r:`rdf:type`]->(:`m4s:MediaFrame`)' \\\n",
    "    --return 'count(distinct n1)'"
   ]
  },
  {
   "cell_type": "markdown",
   "id": "fundamental-greeting",
   "metadata": {},
   "source": [
    "### Wikidata"
   ]
  },
  {
   "cell_type": "code",
   "execution_count": 62,
   "id": "developed-greeting",
   "metadata": {},
   "outputs": [
    {
     "name": "stdout",
     "output_type": "stream",
     "text": [
      "\n",
      "(kgtk:15422): Gtk-\u001b[1;33mWARNING\u001b[0m **: \u001b[34m22:42:01.380\u001b[0m: Locale not supported by C library.\n",
      "\tUsing the fallback 'C' locale.\n",
      "objc[15422]: Class GNotificationCenterDelegate is implemented in both /Users/filipilievski/opt/anaconda3/envs/wikiEnv/lib/libgio-2.0.0.dylib (0x116e19960) and /usr/local/Cellar/glib/2.72.2/lib/libgio-2.0.0.dylib (0x1c32356b0). One of the two will be used. Which one is undefined.\n"
     ]
    }
   ],
   "source": [
    "!kgtk graph-statistics \\\n",
    "     -i $TEMP/wd.kgtk.gz \\\n",
    "     --log-file $TEMP/wd_summary.txt \\\n",
    "     --output-statistics-only \\\n",
    "     -o $TEMP/wd_stats.tsv"
   ]
  },
  {
   "cell_type": "code",
   "execution_count": 63,
   "id": "brilliant-packing",
   "metadata": {},
   "outputs": [
    {
     "name": "stdout",
     "output_type": "stream",
     "text": [
      "graph loaded! It has 85917 nodes and 504781 edges\n",
      "\n",
      "*** Top relations:\n",
      "P31\t58153\n",
      "P136\t33657\n",
      "P106\t27605\n",
      "P495\t21292\n",
      "P17\t19657\n",
      "P279\t14079\n",
      "P21\t13430\n",
      "P407\t12470\n",
      "P27\t11675\n",
      "P161\t9723\n",
      "\n",
      "*** Degrees:\n",
      "in degree stats: mean=5.875217, std=0.490461, max=1\n",
      "out degree stats: mean=5.875217, std=0.025491, max=1\n",
      "total degree stats: mean=11.750434, std=0.496360, max=1\n",
      "\n",
      "*** PageRank\n",
      "Max pageranks\n",
      "23\tQ30\t0.020220\n",
      "68\tQ1860\t0.010631\n",
      "7309\tQ336\t0.010355\n",
      "678\tQ11862829\t0.007924\n",
      "89\tQ145\t0.006180\n",
      "\n",
      "*** HITS\n",
      "HITS hubs\n",
      "68\tQ1860\t0.690033\n",
      "23\tQ30\t0.554272\n",
      "93\tQ5\t0.266455\n",
      "91\tQ6581097\t0.228796\n",
      "350\tQ33999\t0.098193\n",
      "HITS auth\n",
      "25250\tQ192707\t0.018051\n",
      "1287\tQ102341\t0.017434\n",
      "15690\tQ171363\t0.017193\n",
      "46664\tQ722042\t0.016891\n",
      "32383\tQ179051\t0.016825\n"
     ]
    }
   ],
   "source": [
    "!cat $TEMP/wd_summary.txt"
   ]
  },
  {
   "cell_type": "code",
   "execution_count": 64,
   "id": "equal-purse",
   "metadata": {},
   "outputs": [
    {
     "name": "stdout",
     "output_type": "stream",
     "text": [
      "count(DISTINCT graph_44_c1.\"label\")\n",
      "806\n"
     ]
    }
   ],
   "source": [
    "!kgtk query -i $TEMP/wd.kgtk.gz \\\n",
    "    --match '(n)-[r]->()' \\\n",
    "    --return 'count (distinct r.label)'"
   ]
  },
  {
   "cell_type": "markdown",
   "id": "graduate-symbol",
   "metadata": {},
   "source": [
    "What are the most common relations?"
   ]
  },
  {
   "cell_type": "code",
   "execution_count": 65,
   "id": "interpreted-abuse",
   "metadata": {},
   "outputs": [],
   "source": [
    "!kgtk query -i $TEMP/templates_with_wd.kgtk.gz \\\n",
    "    --match '(n)-[r]->()' \\\n",
    "    --return 'r.label, count(n) as c' \\\n",
    "    --order-by 'c desc' \\\n",
    "    -o $TEMP/rel_stats.tsv"
   ]
  },
  {
   "cell_type": "markdown",
   "id": "governmental-avenue",
   "metadata": {},
   "source": [
    "Let's get nodes with highest indegree:"
   ]
  },
  {
   "cell_type": "code",
   "execution_count": 61,
   "id": "civilian-click",
   "metadata": {},
   "outputs": [
    {
     "name": "stdout",
     "output_type": "stream",
     "text": [
      "^C\n",
      "\n",
      "Keyboard interrupt in query -i projects/tutorial-kypher/temp.tutorial-kypher/meme_stats.tsv --match (n1)-[:vertex_in_degree]->(n2) --return n1 as node1, printf(\"(%d),\", n2) as node2 --limit 10 --order-by n2 desc.\n"
     ]
    }
   ],
   "source": [
    "!kgtk query -i $TEMP/meme_stats.tsv \\\n",
    "    --match '(n1)-[:vertex_in_degree]->(n2)' \\\n",
    "    --return 'n1 as node1, printf(\"(%d),\", n2) as node2' \\\n",
    "    --limit 10 \\\n",
    "    --order-by 'n2 desc'"
   ]
  },
  {
   "cell_type": "code",
   "execution_count": null,
   "id": "willing-perspective",
   "metadata": {},
   "outputs": [],
   "source": []
  },
  {
   "cell_type": "markdown",
   "id": "choice-shelf",
   "metadata": {},
   "source": [
    "## 5. Visualize instances"
   ]
  },
  {
   "cell_type": "code",
   "execution_count": 34,
   "id": "formal-corpus",
   "metadata": {},
   "outputs": [],
   "source": [
    "!kgtk query -i $TEMP/instances.kgtk.gz \\\n",
    "    --match '(:`imgflipi:1001ub`)-[r]->()' \\\n",
    "    --where 'r.label!=\"imgflipr:alt_text\"' \\\n",
    "-o $TEMP/1001_ub.kgtk.gz"
   ]
  },
  {
   "cell_type": "markdown",
   "id": "copyrighted-hostel",
   "metadata": {},
   "source": [
    "Create node file:"
   ]
  },
  {
   "cell_type": "code",
   "execution_count": 35,
   "id": "liable-river",
   "metadata": {},
   "outputs": [],
   "source": [
    "!kgtk query -i $TEMP/labelfile.kgtk.gz -i $TEMP/1001_ub.kgtk.gz \\\n",
    "            --match 'ub: ()-[]->(n), \\\n",
    "                label: (n)-[r]->(l)' \\\n",
    "            --return 'n as id, l as label' / deduplicate \\\n",
    "            -o $TEMP/nodefile.kgtk.gz "
   ]
  },
  {
   "cell_type": "code",
   "execution_count": 36,
   "id": "corresponding-family",
   "metadata": {},
   "outputs": [],
   "source": [
    "kgtk(\"\"\"visualize-graph \n",
    "        -i $TEMP/1001_ub.kgtk.gz\n",
    "        --node-file $TEMP/nodefile.kgtk.gz\n",
    "        --show-text above\n",
    "        --show-edge-label\n",
    "        --tooltip-column label\n",
    "        --direction arrow\n",
    "        --edge-color-column label\n",
    "        --edge-color-style d3.schemeDark2\n",
    "        --show-text-limit 50\n",
    "        -o viz/imgflip.graph.html\"\"\")"
   ]
  },
  {
   "cell_type": "markdown",
   "id": "victorian-ethiopia",
   "metadata": {},
   "source": [
    "## 5. Visualize the full KG"
   ]
  },
  {
   "cell_type": "code",
   "execution_count": 9,
   "id": "warming-advertising",
   "metadata": {},
   "outputs": [],
   "source": [
    "kgtk(\"\"\"visualize-graph \n",
    "        -i $TEMP/imkg.kgtk.gz\n",
    "        -o full.graph.html\"\"\")"
   ]
  },
  {
   "cell_type": "markdown",
   "id": "dependent-cloud",
   "metadata": {},
   "source": [
    "## 6. Graph statistics for IMKG"
   ]
  },
  {
   "cell_type": "code",
   "execution_count": 10,
   "id": "first-traveler",
   "metadata": {},
   "outputs": [
    {
     "name": "stdout",
     "output_type": "stream",
     "text": [
      "\n",
      "(kgtk:13430): Gtk-\u001b[1;33mWARNING\u001b[0m **: \u001b[34m21:15:40.937\u001b[0m: Locale not supported by C library.\n",
      "\tUsing the fallback 'C' locale.\n",
      "objc[13430]: Class GNotificationCenterDelegate is implemented in both /Users/filipilievski/opt/anaconda3/envs/wikiEnv/lib/libgio-2.0.0.dylib (0x19f2f1960) and /usr/local/Cellar/glib/2.72.2/lib/libgio-2.0.0.dylib (0x1b36496b0). One of the two will be used. Which one is undefined.\n"
     ]
    }
   ],
   "source": [
    "!kgtk graph-statistics \\\n",
    "     -i $TEMP/imkg.kgtk.gz \\\n",
    "     --log-file $TEMP/imkg_summary.txt \\\n",
    "     --output-statistics-only \\\n",
    "     -o $TEMP/imkg_stats.tsv"
   ]
  },
  {
   "cell_type": "code",
   "execution_count": 11,
   "id": "spanish-database",
   "metadata": {},
   "outputs": [
    {
     "name": "stdout",
     "output_type": "stream",
     "text": [
      "graph loaded! It has 646690 nodes and 2230499 edges\n",
      "\n",
      "*** Top relations:\n",
      "m4s:fromCaption\t460177\n",
      "imgflipr:alt_text\t160461\n",
      "imgflipr:image_url\t160461\n",
      "imgflipr:template\t160461\n",
      "imgflipr:templateId\t160461\n",
      "imgflipr:template_title\t160461\n",
      "imgflipr:title\t160461\n",
      "imgflipr:upvote_count\t160461\n",
      "imgflipr:view_count\t160461\n",
      "imgflipr:author\t137923\n",
      "\n",
      "*** Degrees:\n",
      "in degree stats: mean=3.449101, std=0.301658, max=1\n",
      "out degree stats: mean=3.449101, std=0.011192, max=1\n",
      "total degree stats: mean=6.898202, std=0.301999, max=1\n",
      "\n",
      "*** PageRank\n",
      "Max pageranks\n",
      "15\tQ2927074\t0.009397\n",
      "101\tQ30\t0.006346\n",
      "621526\tQ336\t0.005086\n",
      "630289\tQ9081\t0.004848\n",
      "1560\tBad Luck Brian\t0.004195\n",
      "\n",
      "*** HITS\n",
      "HITS hubs\n",
      "15\tQ2927074\t0.546047\n",
      "1560\tBad Luck Brian\t0.524021\n",
      "503\tQ18738659\t0.290511\n",
      "1558\timgflipmeme:Bad-Luck-Brian\t0.290051\n",
      "1559\t61585\t0.290043\n",
      "HITS auth\n",
      "545738\timgflipi:izyph\t0.005110\n",
      "46211\timgflipi:183a7b\t0.005105\n",
      "555539\timgflipi:l4j55\t0.005103\n",
      "303752\timgflipi:33jv3i\t0.005095\n",
      "600279\timgflipi:vumoh\t0.005093\n"
     ]
    }
   ],
   "source": [
    "!cat $TEMP/imkg_summary.txt"
   ]
  },
  {
   "cell_type": "code",
   "execution_count": 69,
   "id": "standard-formula",
   "metadata": {},
   "outputs": [
    {
     "name": "stdout",
     "output_type": "stream",
     "text": [
      "label\tc\n",
      "m4s:fromCaption\t3344941\n",
      "imgflipr:view_count\t1326032\n",
      "imgflipr:upvote_count\t1326032\n",
      "imgflipr:template_title\t1326032\n",
      "imgflipr:templateId\t1326032\n",
      "imgflipr:template\t1326032\n",
      "imgflipr:image_url\t1326032\n",
      "imgflipr:alt_text\t1326032\n",
      "imgflipr:title\t1326021\n",
      "imgflipr:author\t1176414\n",
      "m4s:fromImage\t388579\n",
      "rdfs:seeAlso\t196594\n",
      "m4s:tag\t73951\n",
      "P31\t58153\n",
      "m4s:fromAbout\t47455\n",
      "P136\t33657\n",
      "m4s:structured_value\t30440\n",
      "m4s:structured_uri\t30440\n",
      "rdf:type\t28939\n",
      "P106\t27605\n"
     ]
    }
   ],
   "source": [
    "!kgtk query -i $TEMP/imkg.kgtk.gz \\\n",
    "    --match '()-[r]->()' \\\n",
    "    --return 'r.label, count(r.label) as c' \\\n",
    "    --order-by 'c desc' \\\n",
    "    --limit 20"
   ]
  },
  {
   "cell_type": "code",
   "execution_count": 70,
   "id": "premier-coast",
   "metadata": {},
   "outputs": [
    {
     "name": "stdout",
     "output_type": "stream",
     "text": [
      "node2\tkgtk_lqstring_text_string(graph_17_c2.\"node2\")\tc\n",
      "Q2927074\t\"Internet meme\"\t641428\n",
      "Q978\t\"meme\"\t464579\n",
      "Q11661\t\"information technology\"\t75104\n",
      "Q44359\t\"bling-bling\"\t34331\n",
      "Q2695156\t\"Batman\"\t30132\n",
      "Q728183\t\"CAN bus\"\t27661\n",
      "Q492038\t\"human brain\"\t26777\n",
      "Q20992398\t\"Hotline Bling\"\t20873\n",
      "Q1107971\t\"Kermit the Frog\"\t18217\n",
      "Q1967556\t\"National Organization for Women\"\t17974\n"
     ]
    }
   ],
   "source": [
    "!kgtk query -i $TEMP/imkg.kgtk.gz -i $label \\\n",
    "    --match 'imkg: ()-[:`m4s:fromCaption`]->(n), \\\n",
    "            label: (n)-[]->(lbl)' \\\n",
    "    --return 'n, kgtk_lqstring_text_string(lbl), count(n) as c' \\\n",
    "    --order-by 'c desc' \\\n",
    "    --limit 10"
   ]
  },
  {
   "cell_type": "code",
   "execution_count": 71,
   "id": "recorded-niger",
   "metadata": {},
   "outputs": [
    {
     "name": "stdout",
     "output_type": "stream",
     "text": [
      "node2\tkgtk_lqstring_text_string(graph_17_c2.\"node2\")\tc\n",
      "Q4868296\t\"font\"\t7567\n",
      "Q478798\t\"image\"\t6863\n",
      "Q2927074\t\"Internet meme\"\t6606\n",
      "Q2071334\t\"Know Your Meme\"\t5510\n",
      "Q978\t\"meme\"\t5380\n",
      "Q735\t\"art\"\t5285\n",
      "Q8\t\"happiness\"\t4762\n",
      "Q371174\t\"gesture\"\t4624\n",
      "Q178659\t\"illustration\"\t4331\n",
      "Q95074\t\"fictional character\"\t4125\n"
     ]
    }
   ],
   "source": [
    "!kgtk query -i $TEMP/imkg.kgtk.gz -i $label \\\n",
    "    --match 'imkg: ()-[:`m4s:fromImage`]->(n), \\\n",
    "            label: (n)-[]->(lbl)' \\\n",
    "    --return 'n, kgtk_lqstring_text_string(lbl), count(n) as c' \\\n",
    "    --order-by 'c desc' \\\n",
    "    --limit 10"
   ]
  },
  {
   "cell_type": "code",
   "execution_count": 72,
   "id": "allied-lawrence",
   "metadata": {},
   "outputs": [
    {
     "name": "stdout",
     "output_type": "stream",
     "text": [
      "node2\tkgtk_lqstring_text_string(graph_17_c2.\"node2\")\tc\n",
      "Q6002242\t\"image macro\"\t1122\n",
      "Q238330\t\"4chan\"\t902\n",
      "Q2927074\t\"Internet meme\"\t833\n",
      "Q2708515\t\"catchphrase\"\t650\n",
      "Q866\t\"YouTube\"\t573\n",
      "Q170539\t\"parody\"\t501\n",
      "Q5287\t\"Japanese\"\t455\n",
      "Q384060\t\"Tumblr\"\t426\n",
      "Q978\t\"meme\"\t403\n",
      "Q30\t\"United States of America\"\t373\n"
     ]
    }
   ],
   "source": [
    "!kgtk query -i $TEMP/imkg.kgtk.gz -i $label \\\n",
    "    --match 'imkg: ()-[:`m4s:fromAbout`]->(n), \\\n",
    "            label: (n)-[]->(lbl)' \\\n",
    "    --return 'n, kgtk_lqstring_text_string(lbl), count(n) as c' \\\n",
    "    --order-by 'c desc' \\\n",
    "    --limit 10"
   ]
  },
  {
   "cell_type": "code",
   "execution_count": 73,
   "id": "processed-newton",
   "metadata": {},
   "outputs": [
    {
     "name": "stdout",
     "output_type": "stream",
     "text": [
      "node2\tkgtk_lqstring_text_string(graph_17_c2.\"node2\")\tc\n"
     ]
    }
   ],
   "source": [
    "!kgtk query -i $TEMP/imkg.kgtk.gz -i $label \\\n",
    "    --match 'imkg: ()-[:`m4s:fromTags`]->(n), \\\n",
    "            label: (n)-[]->(lbl)' \\\n",
    "    --return 'n, kgtk_lqstring_text_string(lbl), count(n) as c' \\\n",
    "    --order-by 'c desc' \\\n",
    "    --limit 10"
   ]
  },
  {
   "cell_type": "code",
   "execution_count": 26,
   "id": "likely-texas",
   "metadata": {},
   "outputs": [
    {
     "name": "stdout",
     "output_type": "stream",
     "text": [
      "\n",
      "(kgtk:13891): Gtk-\u001b[1;33mWARNING\u001b[0m **: \u001b[34m21:39:56.356\u001b[0m: Locale not supported by C library.\n",
      "\tUsing the fallback 'C' locale.\n",
      "objc[13891]: Class GNotificationCenterDelegate is implemented in both /Users/filipilievski/opt/anaconda3/envs/wikiEnv/lib/libgio-2.0.0.dylib (0x19cb35960) and /usr/local/Cellar/glib/2.72.2/lib/libgio-2.0.0.dylib (0x1a80c16b0). One of the two will be used. Which one is undefined.\n"
     ]
    }
   ],
   "source": [
    "!kgtk graph-statistics \\\n",
    "     -i $TEMP/combined.kgtk.gz \\\n",
    "     --log-file $TEMP/combined_summary.txt \\\n",
    "     --output-statistics-only \\\n",
    "     -o $TEMP/combined_stats.tsv"
   ]
  },
  {
   "cell_type": "code",
   "execution_count": 27,
   "id": "statewide-atlantic",
   "metadata": {},
   "outputs": [
    {
     "name": "stdout",
     "output_type": "stream",
     "text": [
      "graph loaded! It has 646109 nodes and 2093922 edges\n",
      "\n",
      "*** Top relations:\n",
      "m4s:fromCaption\t460177\n",
      "imgflipr:alt_text\t160461\n",
      "imgflipr:image_url\t160461\n",
      "imgflipr:template\t160461\n",
      "imgflipr:templateId\t160461\n",
      "imgflipr:template_title\t160461\n",
      "imgflipr:title\t160461\n",
      "imgflipr:upvote_count\t160461\n",
      "imgflipr:view_count\t160461\n",
      "imgflipr:author\t137923\n",
      "\n",
      "*** Degrees:\n",
      "in degree stats: mean=3.240818, std=0.300632, max=1\n",
      "out degree stats: mean=3.240818, std=0.011095, max=1\n",
      "total degree stats: mean=6.481637, std=0.300917, max=1\n",
      "\n",
      "*** PageRank\n",
      "Max pageranks\n",
      "499\tQ2927074\t0.011136\n",
      "641\tBad Luck Brian\t0.005408\n",
      "141724\tDistracted Boyfriend\t0.004409\n",
      "518\tDisaster Girl\t0.003240\n",
      "156\tQ18738659\t0.003121\n",
      "\n",
      "*** HITS\n",
      "HITS hubs\n",
      "499\tQ2927074\t0.544366\n",
      "641\tBad Luck Brian\t0.524943\n",
      "156\tQ18738659\t0.291014\n",
      "639\timgflipmeme:Bad-Luck-Brian\t0.290554\n",
      "640\t61585\t0.290546\n",
      "HITS auth\n",
      "544994\timgflipi:izyph\t0.005117\n",
      "45347\timgflipi:183a7b\t0.005111\n",
      "554795\timgflipi:l4j55\t0.005109\n",
      "302974\timgflipi:33jv3i\t0.005101\n",
      "599536\timgflipi:vumoh\t0.005100\n"
     ]
    }
   ],
   "source": [
    "!cat $TEMP/combined_summary.txt"
   ]
  },
  {
   "cell_type": "markdown",
   "id": "headed-reward",
   "metadata": {},
   "source": [
    "# 8. Number of memes and media frames"
   ]
  },
  {
   "cell_type": "code",
   "execution_count": 17,
   "id": "apparent-formula",
   "metadata": {},
   "outputs": [
    {
     "name": "stdout",
     "output_type": "stream",
     "text": [
      "count(graph_27_c1.\"node1\")\n",
      "241\n"
     ]
    }
   ],
   "source": [
    "!kgtk query -i $TEMP/imkg.kgtk.gz \\\n",
    "        --match '(a)-[:`m4s:sameAs`]->()' \\\n",
    "        --return 'count(a)'\\\n",
    "        --limit 100"
   ]
  },
  {
   "cell_type": "markdown",
   "id": "attempted-exhibit",
   "metadata": {},
   "source": [
    "So, we have 241 links between KYM and ImgFlip."
   ]
  },
  {
   "cell_type": "code",
   "execution_count": 18,
   "id": "earlier-passion",
   "metadata": {},
   "outputs": [
    {
     "name": "stdout",
     "output_type": "stream",
     "text": [
      "count(graph_27_c1.\"node1\")\n",
      "1404\n"
     ]
    }
   ],
   "source": [
    "!kgtk query -i $TEMP/imkg.kgtk.gz \\\n",
    "        --match '(a)-[:`rdf:type`]->(:`kym:Meme`)' \\\n",
    "        --return 'count(a)'\\\n",
    "        --limit 100"
   ]
  },
  {
   "cell_type": "markdown",
   "id": "introductory-conspiracy",
   "metadata": {},
   "source": [
    "We have 1404 media frames from KYM."
   ]
  },
  {
   "cell_type": "code",
   "execution_count": 23,
   "id": "signal-suite",
   "metadata": {},
   "outputs": [
    {
     "name": "stdout",
     "output_type": "stream",
     "text": [
      "node1\tlabel\tnode2\tnode1\tlabel\tnode2\tnode1\tlabel\tnode2\n",
      "kym:%CD%A1-%CD%9C%CA%96-%CD%A1-lenny-face\tm4s:sameAs\timgflipmeme:223064762/Udo----\tkym:%CD%A1-%CD%9C%CA%96-%CD%A1-lenny-face\trdf:type\tkym:Meme\tkym:%CD%A1-%CD%9C%CA%96-%CD%A1-lenny-face\tm4s:sameAs\timgflipmeme:223064762/Udo----\n",
      "kym:%CD%A1-%CD%9C%CA%96-%CD%A1-lenny-face\tm4s:sameAs\timgflipmeme:223064762/Udo----\tkym:%CD%A1-%CD%9C%CA%96-%CD%A1-lenny-face\trdf:type\tkymt:emoticon\tkym:%CD%A1-%CD%9C%CA%96-%CD%A1-lenny-face\tm4s:sameAs\timgflipmeme:223064762/Udo----\n",
      "kym:%CD%A1-%CD%9C%CA%96-%CD%A1-lenny-face\tm4s:sameAs\timgflipmeme:223065841/Udo----\tkym:%CD%A1-%CD%9C%CA%96-%CD%A1-lenny-face\trdf:type\tkym:Meme\tkym:%CD%A1-%CD%9C%CA%96-%CD%A1-lenny-face\tm4s:sameAs\timgflipmeme:223065841/Udo----\n",
      "kym:%CD%A1-%CD%9C%CA%96-%CD%A1-lenny-face\tm4s:sameAs\timgflipmeme:223065841/Udo----\tkym:%CD%A1-%CD%9C%CA%96-%CD%A1-lenny-face\trdf:type\tkymt:emoticon\tkym:%CD%A1-%CD%9C%CA%96-%CD%A1-lenny-face\tm4s:sameAs\timgflipmeme:223065841/Udo----\n",
      "kym:%CD%A1-%CD%9C%CA%96-%CD%A1-lenny-face\tm4s:sameAs\timgflipmeme:322445094/sans-lenny-face\tkym:%CD%A1-%CD%9C%CA%96-%CD%A1-lenny-face\trdf:type\tkym:Meme\tkym:%CD%A1-%CD%9C%CA%96-%CD%A1-lenny-face\tm4s:sameAs\timgflipmeme:322445094/sans-lenny-face\n",
      "kym:%CD%A1-%CD%9C%CA%96-%CD%A1-lenny-face\tm4s:sameAs\timgflipmeme:322445094/sans-lenny-face\tkym:%CD%A1-%CD%9C%CA%96-%CD%A1-lenny-face\trdf:type\tkymt:emoticon\tkym:%CD%A1-%CD%9C%CA%96-%CD%A1-lenny-face\tm4s:sameAs\timgflipmeme:322445094/sans-lenny-face\n",
      "kym:%E0%B2%A0_%E0%B2%A0-look-of-disapproval\tm4s:sameAs\timgflipmeme:340214490/Doris-look-of-disapproval\tkym:%E0%B2%A0_%E0%B2%A0-look-of-disapproval\trdf:type\tkym:Meme\tkym:%E0%B2%A0_%E0%B2%A0-look-of-disapproval\tm4s:sameAs\timgflipmeme:340214490/Doris-look-of-disapproval\n",
      "kym:%E0%B2%A0_%E0%B2%A0-look-of-disapproval\tm4s:sameAs\timgflipmeme:340214490/Doris-look-of-disapproval\tkym:%E0%B2%A0_%E0%B2%A0-look-of-disapproval\trdf:type\tkymt:emoticon\tkym:%E0%B2%A0_%E0%B2%A0-look-of-disapproval\tm4s:sameAs\timgflipmeme:340214490/Doris-look-of-disapproval\n",
      "kym:a-winner-is-you\tm4s:sameAs\timgflipmeme:284627388/A-winner-is-you\tkym:a-winner-is-you\trdf:type\tkym:Meme\tkym:a-winner-is-you\tm4s:sameAs\timgflipmeme:284627388/A-winner-is-you\n",
      "kym:a-winner-is-you\tm4s:sameAs\timgflipmeme:284627388/A-winner-is-you\tkym:a-winner-is-you\trdf:type\tkymt:pop-culture-reference\tkym:a-winner-is-you\tm4s:sameAs\timgflipmeme:284627388/A-winner-is-you\n"
     ]
    }
   ],
   "source": [
    "!kgtk query -i $TEMP/imkg.kgtk.gz \\\n",
    "        --match '(ky)-[:`m4s:sameAs`]->(if),\\\n",
    "                (ky)-[:`rdf:type`]->(t),\\\n",
    "                (ifdata)-->(if)' \\\n",
    "        --limit 10"
   ]
  },
  {
   "cell_type": "markdown",
   "id": "located-employment",
   "metadata": {},
   "source": [
    "So this is what I see when I analyze IMKG. The m4s:sameAs links seem to be between media frames in KYM and templates of ImgFlip.\n",
    "\n",
    "For instance:\n",
    "\n",
    "kym:all-your-base-are-belong-to-us\tm4s:sameAs\timgflipmeme:4503404/All-your-base\n",
    "\n",
    "kym:all-your-base-are-belong-to-us\trdf:type\tkym:Meme # Meme should be Media Frame in the new version\n",
    "\n",
    "imgflipi:36lid7\timgflipr:template\timgflipmeme:4503404/All-your-base"
   ]
  },
  {
   "cell_type": "markdown",
   "id": "emerging-chain",
   "metadata": {},
   "source": [
    "## Prepare for visualization"
   ]
  },
  {
   "cell_type": "code",
   "execution_count": 27,
   "id": "valid-responsibility",
   "metadata": {},
   "outputs": [],
   "source": [
    "!kgtk query -i $TEMP/imkg.kgtk.gz \\\n",
    "        --match '(a)-[:`m4s:sameAs`]->()' \\\n",
    "        -o $TEMP/sameas.kgtk.gz"
   ]
  },
  {
   "cell_type": "code",
   "execution_count": 54,
   "id": "neither-tonight",
   "metadata": {},
   "outputs": [],
   "source": [
    "!kgtk query -i $TEMP/imkg.kgtk.gz -i $TEMP/sameas.kgtk.gz \\\n",
    "        --match 'same: ()-[:`m4s:sameAs`]->(if),\\\n",
    "                 imkg: (ifmeme)-[r:`imgflipr:template`]->(if)' \\\n",
    "        --return 'ifmeme, r.label, if' \\\n",
    "        --limit 5000 \\\n",
    "        -o $TEMP/imgflip_templates.kgtk.gz"
   ]
  },
  {
   "cell_type": "code",
   "execution_count": 55,
   "id": "stable-religion",
   "metadata": {},
   "outputs": [
    {
     "name": "stdout",
     "output_type": "stream",
     "text": [
      "node1\tlabel\tnode2\n",
      "imgflipi:3758ki\timgflipr:alt_text\tAll your base \\|  ALL YOUR OLD MEMES; ARE BELONG TO US \\| image tagged in all your base \\| made w/ Imgflip meme maker\n",
      "imgflipi:3758ki\timgflipr:image_url\thttps://i.imgflip.com/3758ki.jpg\n",
      "imgflipi:3758ki\timgflipr:template\timgflipmeme:4503404/All-your-base\n",
      "imgflipi:3758ki\timgflipr:templateId\t4503404\n",
      "imgflipi:3758ki\timgflipr:template_title\tAll your base\n",
      "imgflipi:3758ki\timgflipr:title\tAll your base\n",
      "imgflipi:3758ki\timgflipr:upvote_count\tnan\n",
      "imgflipi:3758ki\timgflipr:view_count\t579\n",
      "imgflipi:3758ki\tm4s:fromCaption\tQ978\n"
     ]
    }
   ],
   "source": [
    "!kgtk query -i $TEMP/imkg.kgtk.gz \\\n",
    "        --match '(:`imgflipi:3758ki`)-[]->()' \\\n",
    "        --limit 10"
   ]
  },
  {
   "cell_type": "code",
   "execution_count": 56,
   "id": "innocent-fiction",
   "metadata": {},
   "outputs": [
    {
     "name": "stdout",
     "output_type": "stream",
     "text": [
      "node1\tlabel\tnode2\n",
      "imgflipi:16ggwx\timgflipr:template\timgflipmeme:4503404/All-your-base\n",
      "imgflipi:222o5o\timgflipr:template\timgflipmeme:4503404/All-your-base\n",
      "imgflipi:36lid7\timgflipr:template\timgflipmeme:4503404/All-your-base\n",
      "imgflipi:3758ki\timgflipr:template\timgflipmeme:4503404/All-your-base\n",
      "imgflipi:39088b\timgflipr:template\timgflipmeme:4503404/All-your-base\n",
      "imgflipi:3nf9lm\timgflipr:template\timgflipmeme:4503404/All-your-base\n",
      "imgflipi:3pfsn3\timgflipr:template\timgflipmeme:4503404/All-your-base\n",
      "imgflipi:3q5zp9\timgflipr:template\timgflipmeme:4503404/All-your-base\n",
      "imgflipi:3r9ve9\timgflipr:template\timgflipmeme:4503404/All-your-base\n",
      "gzcat: error writing to output: Broken pipe\n",
      "gzcat: projects/tutorial-kypher/temp.tutorial-kypher/imgflip_templates.kgtk.gz: uncompress failed\n"
     ]
    }
   ],
   "source": [
    "!gzcat $TEMP/imgflip_templates.kgtk.gz | head"
   ]
  },
  {
   "cell_type": "code",
   "execution_count": 57,
   "id": "freelance-rainbow",
   "metadata": {},
   "outputs": [],
   "source": [
    "!kgtk cat -i $TEMP/sameas.kgtk.gz -i $TEMP/imgflip_templates.kgtk.gz -o $TEMP/iflip_kym.kgtk.gz"
   ]
  },
  {
   "cell_type": "code",
   "execution_count": 58,
   "id": "elder-campus",
   "metadata": {},
   "outputs": [
    {
     "name": "stdout",
     "output_type": "stream",
     "text": [
      "    5242\n"
     ]
    }
   ],
   "source": [
    "!gzcat $TEMP/iflip_kym.kgtk.gz | wc -l"
   ]
  },
  {
   "cell_type": "code",
   "execution_count": 59,
   "id": "auburn-electricity",
   "metadata": {},
   "outputs": [
    {
     "name": "stdout",
     "output_type": "stream",
     "text": [
      "    5001\n"
     ]
    }
   ],
   "source": [
    "!gzcat $TEMP/imgflip_templates.kgtk.gz | wc -l"
   ]
  },
  {
   "cell_type": "code",
   "execution_count": 60,
   "id": "fixed-geography",
   "metadata": {},
   "outputs": [],
   "source": [
    "kgtk(\"\"\"visualize-graph \n",
    "        -i $TEMP/imgflip_templates.kgtk.gz\n",
    "        --edge-color-column label\n",
    "        --edge-color-style d3.schemeDark2\n",
    "        -o viz/iflip_kym.graph.html\"\"\")"
   ]
  },
  {
   "cell_type": "code",
   "execution_count": 5,
   "id": "moved-graphic",
   "metadata": {},
   "outputs": [],
   "source": [
    "import pandas"
   ]
  },
  {
   "cell_type": "code",
   "execution_count": 51,
   "id": "combined-ticket",
   "metadata": {},
   "outputs": [],
   "source": [
    "gfile='projects/tutorial-kypher/temp.tutorial-kypher/iflip_kym.kgtk'\n",
    "df=pandas.read_csv(gfile, sep='\\t')"
   ]
  },
  {
   "cell_type": "code",
   "execution_count": 19,
   "id": "ignored-cabin",
   "metadata": {},
   "outputs": [
    {
     "data": {
      "text/html": [
       "<div>\n",
       "<style scoped>\n",
       "    .dataframe tbody tr th:only-of-type {\n",
       "        vertical-align: middle;\n",
       "    }\n",
       "\n",
       "    .dataframe tbody tr th {\n",
       "        vertical-align: top;\n",
       "    }\n",
       "\n",
       "    .dataframe thead th {\n",
       "        text-align: right;\n",
       "    }\n",
       "</style>\n",
       "<table border=\"1\" class=\"dataframe\">\n",
       "  <thead>\n",
       "    <tr style=\"text-align: right;\">\n",
       "      <th></th>\n",
       "      <th>node1</th>\n",
       "      <th>label</th>\n",
       "      <th>node2</th>\n",
       "    </tr>\n",
       "  </thead>\n",
       "  <tbody>\n",
       "    <tr>\n",
       "      <th>0</th>\n",
       "      <td>kym:%CD%A1-%CD%9C%CA%96-%CD%A1-lenny-face</td>\n",
       "      <td>m4s:sameAs</td>\n",
       "      <td>imgflipmeme:223064762/Udo----</td>\n",
       "    </tr>\n",
       "    <tr>\n",
       "      <th>1</th>\n",
       "      <td>kym:%CD%A1-%CD%9C%CA%96-%CD%A1-lenny-face</td>\n",
       "      <td>m4s:sameAs</td>\n",
       "      <td>imgflipmeme:223065841/Udo----</td>\n",
       "    </tr>\n",
       "    <tr>\n",
       "      <th>2</th>\n",
       "      <td>kym:%CD%A1-%CD%9C%CA%96-%CD%A1-lenny-face</td>\n",
       "      <td>m4s:sameAs</td>\n",
       "      <td>imgflipmeme:322445094/sans-lenny-face</td>\n",
       "    </tr>\n",
       "    <tr>\n",
       "      <th>3</th>\n",
       "      <td>kym:%E0%B2%A0_%E0%B2%A0-look-of-disapproval</td>\n",
       "      <td>m4s:sameAs</td>\n",
       "      <td>imgflipmeme:340214490/Doris-look-of-disapproval</td>\n",
       "    </tr>\n",
       "    <tr>\n",
       "      <th>4</th>\n",
       "      <td>kym:a-winner-is-you</td>\n",
       "      <td>m4s:sameAs</td>\n",
       "      <td>imgflipmeme:284627388/A-winner-is-you</td>\n",
       "    </tr>\n",
       "  </tbody>\n",
       "</table>\n",
       "</div>"
      ],
      "text/plain": [
       "                                         node1       label  \\\n",
       "0    kym:%CD%A1-%CD%9C%CA%96-%CD%A1-lenny-face  m4s:sameAs   \n",
       "1    kym:%CD%A1-%CD%9C%CA%96-%CD%A1-lenny-face  m4s:sameAs   \n",
       "2    kym:%CD%A1-%CD%9C%CA%96-%CD%A1-lenny-face  m4s:sameAs   \n",
       "3  kym:%E0%B2%A0_%E0%B2%A0-look-of-disapproval  m4s:sameAs   \n",
       "4                          kym:a-winner-is-you  m4s:sameAs   \n",
       "\n",
       "                                             node2  \n",
       "0                    imgflipmeme:223064762/Udo----  \n",
       "1                    imgflipmeme:223065841/Udo----  \n",
       "2            imgflipmeme:322445094/sans-lenny-face  \n",
       "3  imgflipmeme:340214490/Doris-look-of-disapproval  \n",
       "4            imgflipmeme:284627388/A-winner-is-you  "
      ]
     },
     "execution_count": 19,
     "metadata": {},
     "output_type": "execute_result"
    }
   ],
   "source": [
    "df.head()"
   ]
  },
  {
   "cell_type": "code",
   "execution_count": 21,
   "id": "korean-catalyst",
   "metadata": {},
   "outputs": [
    {
     "name": "stdout",
     "output_type": "stream",
     "text": [
      "Collecting networkx\n",
      "  Downloading networkx-2.8.8-py3-none-any.whl (2.0 MB)\n",
      "\u001b[2K     \u001b[90m━━━━━━━━━━━━━━━━━━━━━━━━━━━━━━━━━━━━━━━━\u001b[0m \u001b[32m2.0/2.0 MB\u001b[0m \u001b[31m12.2 MB/s\u001b[0m eta \u001b[36m0:00:00\u001b[0m00:01\u001b[0m00:01\u001b[0m\n",
      "\u001b[?25hInstalling collected packages: networkx\n",
      "Successfully installed networkx-2.8.8\n"
     ]
    }
   ],
   "source": [
    "!pip install networkx"
   ]
  },
  {
   "cell_type": "code",
   "execution_count": 52,
   "id": "imported-gasoline",
   "metadata": {},
   "outputs": [],
   "source": [
    "import networkx as nx\n",
    "\n",
    "G = nx.from_pandas_edgelist(df, source='node1', target='node2',\n",
    "                            edge_attr='label')"
   ]
  },
  {
   "cell_type": "code",
   "execution_count": 53,
   "id": "familiar-connection",
   "metadata": {},
   "outputs": [],
   "source": [
    "nx.write_edgelist(G,'gephi_file.csv', data=False)"
   ]
  },
  {
   "cell_type": "code",
   "execution_count": 34,
   "id": "brilliant-tomato",
   "metadata": {},
   "outputs": [
    {
     "ename": "AttributeError",
     "evalue": "module 'scipy.sparse' has no attribute 'coo_array'",
     "output_type": "error",
     "traceback": [
      "\u001b[0;31m---------------------------------------------------------------------------\u001b[0m",
      "\u001b[0;31mAttributeError\u001b[0m                            Traceback (most recent call last)",
      "\u001b[0;32m<ipython-input-34-f8e280f610cc>\u001b[0m in \u001b[0;36m<module>\u001b[0;34m\u001b[0m\n\u001b[0;32m----> 1\u001b[0;31m \u001b[0mnx\u001b[0m\u001b[0;34m.\u001b[0m\u001b[0mdraw\u001b[0m\u001b[0;34m(\u001b[0m\u001b[0mG\u001b[0m\u001b[0;34m,\u001b[0m \u001b[0mwith_labels\u001b[0m\u001b[0;34m=\u001b[0m\u001b[0;32mFalse\u001b[0m\u001b[0;34m)\u001b[0m\u001b[0;34m\u001b[0m\u001b[0;34m\u001b[0m\u001b[0m\n\u001b[0m\u001b[1;32m      2\u001b[0m \u001b[0mplt\u001b[0m\u001b[0;34m.\u001b[0m\u001b[0mshow\u001b[0m\u001b[0;34m(\u001b[0m\u001b[0;34m)\u001b[0m\u001b[0;34m\u001b[0m\u001b[0;34m\u001b[0m\u001b[0m\n",
      "\u001b[0;32m~/opt/anaconda3/envs/wikiEnv/lib/python3.8/site-packages/networkx/drawing/nx_pylab.py\u001b[0m in \u001b[0;36mdraw\u001b[0;34m(G, pos, ax, **kwds)\u001b[0m\n\u001b[1;32m    119\u001b[0m         \u001b[0mkwds\u001b[0m\u001b[0;34m[\u001b[0m\u001b[0;34m\"with_labels\"\u001b[0m\u001b[0;34m]\u001b[0m \u001b[0;34m=\u001b[0m \u001b[0;34m\"labels\"\u001b[0m \u001b[0;32min\u001b[0m \u001b[0mkwds\u001b[0m\u001b[0;34m\u001b[0m\u001b[0;34m\u001b[0m\u001b[0m\n\u001b[1;32m    120\u001b[0m \u001b[0;34m\u001b[0m\u001b[0m\n\u001b[0;32m--> 121\u001b[0;31m     \u001b[0mdraw_networkx\u001b[0m\u001b[0;34m(\u001b[0m\u001b[0mG\u001b[0m\u001b[0;34m,\u001b[0m \u001b[0mpos\u001b[0m\u001b[0;34m=\u001b[0m\u001b[0mpos\u001b[0m\u001b[0;34m,\u001b[0m \u001b[0max\u001b[0m\u001b[0;34m=\u001b[0m\u001b[0max\u001b[0m\u001b[0;34m,\u001b[0m \u001b[0;34m**\u001b[0m\u001b[0mkwds\u001b[0m\u001b[0;34m)\u001b[0m\u001b[0;34m\u001b[0m\u001b[0;34m\u001b[0m\u001b[0m\n\u001b[0m\u001b[1;32m    122\u001b[0m     \u001b[0max\u001b[0m\u001b[0;34m.\u001b[0m\u001b[0mset_axis_off\u001b[0m\u001b[0;34m(\u001b[0m\u001b[0;34m)\u001b[0m\u001b[0;34m\u001b[0m\u001b[0;34m\u001b[0m\u001b[0m\n\u001b[1;32m    123\u001b[0m     \u001b[0mplt\u001b[0m\u001b[0;34m.\u001b[0m\u001b[0mdraw_if_interactive\u001b[0m\u001b[0;34m(\u001b[0m\u001b[0;34m)\u001b[0m\u001b[0;34m\u001b[0m\u001b[0;34m\u001b[0m\u001b[0m\n",
      "\u001b[0;32m~/opt/anaconda3/envs/wikiEnv/lib/python3.8/site-packages/networkx/drawing/nx_pylab.py\u001b[0m in \u001b[0;36mdraw_networkx\u001b[0;34m(G, pos, arrows, with_labels, **kwds)\u001b[0m\n\u001b[1;32m    299\u001b[0m \u001b[0;34m\u001b[0m\u001b[0m\n\u001b[1;32m    300\u001b[0m     \u001b[0;32mif\u001b[0m \u001b[0mpos\u001b[0m \u001b[0;32mis\u001b[0m \u001b[0;32mNone\u001b[0m\u001b[0;34m:\u001b[0m\u001b[0;34m\u001b[0m\u001b[0;34m\u001b[0m\u001b[0m\n\u001b[0;32m--> 301\u001b[0;31m         \u001b[0mpos\u001b[0m \u001b[0;34m=\u001b[0m \u001b[0mnx\u001b[0m\u001b[0;34m.\u001b[0m\u001b[0mdrawing\u001b[0m\u001b[0;34m.\u001b[0m\u001b[0mspring_layout\u001b[0m\u001b[0;34m(\u001b[0m\u001b[0mG\u001b[0m\u001b[0;34m)\u001b[0m  \u001b[0;31m# default to spring layout\u001b[0m\u001b[0;34m\u001b[0m\u001b[0;34m\u001b[0m\u001b[0m\n\u001b[0m\u001b[1;32m    302\u001b[0m \u001b[0;34m\u001b[0m\u001b[0m\n\u001b[1;32m    303\u001b[0m     \u001b[0mdraw_networkx_nodes\u001b[0m\u001b[0;34m(\u001b[0m\u001b[0mG\u001b[0m\u001b[0;34m,\u001b[0m \u001b[0mpos\u001b[0m\u001b[0;34m,\u001b[0m \u001b[0;34m**\u001b[0m\u001b[0mnode_kwds\u001b[0m\u001b[0;34m)\u001b[0m\u001b[0;34m\u001b[0m\u001b[0;34m\u001b[0m\u001b[0m\n",
      "\u001b[0;32m~/opt/anaconda3/envs/wikiEnv/lib/python3.8/site-packages/networkx/utils/decorators.py\u001b[0m in \u001b[0;36margmap_spring_layout_5\u001b[0;34m(G, k, pos, fixed, iterations, threshold, weight, scale, center, dim, seed)\u001b[0m\n\u001b[1;32m      2\u001b[0m \u001b[0;32mimport\u001b[0m \u001b[0mcollections\u001b[0m\u001b[0;34m\u001b[0m\u001b[0;34m\u001b[0m\u001b[0m\n\u001b[1;32m      3\u001b[0m \u001b[0;32mimport\u001b[0m \u001b[0mgzip\u001b[0m\u001b[0;34m\u001b[0m\u001b[0;34m\u001b[0m\u001b[0m\n\u001b[0;32m----> 4\u001b[0;31m \u001b[0;32mimport\u001b[0m \u001b[0minspect\u001b[0m\u001b[0;34m\u001b[0m\u001b[0;34m\u001b[0m\u001b[0m\n\u001b[0m\u001b[1;32m      5\u001b[0m \u001b[0;32mimport\u001b[0m \u001b[0mitertools\u001b[0m\u001b[0;34m\u001b[0m\u001b[0;34m\u001b[0m\u001b[0m\n\u001b[1;32m      6\u001b[0m \u001b[0;32mimport\u001b[0m \u001b[0mre\u001b[0m\u001b[0;34m\u001b[0m\u001b[0;34m\u001b[0m\u001b[0m\n",
      "\u001b[0;32m~/opt/anaconda3/envs/wikiEnv/lib/python3.8/site-packages/networkx/drawing/layout.py\u001b[0m in \u001b[0;36mspring_layout\u001b[0;34m(G, k, pos, fixed, iterations, threshold, weight, scale, center, dim, seed)\u001b[0m\n\u001b[1;32m    474\u001b[0m         \u001b[0;32mif\u001b[0m \u001b[0mlen\u001b[0m\u001b[0;34m(\u001b[0m\u001b[0mG\u001b[0m\u001b[0;34m)\u001b[0m \u001b[0;34m<\u001b[0m \u001b[0;36m500\u001b[0m\u001b[0;34m:\u001b[0m  \u001b[0;31m# sparse solver for large graphs\u001b[0m\u001b[0;34m\u001b[0m\u001b[0;34m\u001b[0m\u001b[0m\n\u001b[1;32m    475\u001b[0m             \u001b[0;32mraise\u001b[0m \u001b[0mValueError\u001b[0m\u001b[0;34m\u001b[0m\u001b[0;34m\u001b[0m\u001b[0m\n\u001b[0;32m--> 476\u001b[0;31m         \u001b[0mA\u001b[0m \u001b[0;34m=\u001b[0m \u001b[0mnx\u001b[0m\u001b[0;34m.\u001b[0m\u001b[0mto_scipy_sparse_array\u001b[0m\u001b[0;34m(\u001b[0m\u001b[0mG\u001b[0m\u001b[0;34m,\u001b[0m \u001b[0mweight\u001b[0m\u001b[0;34m=\u001b[0m\u001b[0mweight\u001b[0m\u001b[0;34m,\u001b[0m \u001b[0mdtype\u001b[0m\u001b[0;34m=\u001b[0m\u001b[0;34m\"f\"\u001b[0m\u001b[0;34m)\u001b[0m\u001b[0;34m\u001b[0m\u001b[0;34m\u001b[0m\u001b[0m\n\u001b[0m\u001b[1;32m    477\u001b[0m         \u001b[0;32mif\u001b[0m \u001b[0mk\u001b[0m \u001b[0;32mis\u001b[0m \u001b[0;32mNone\u001b[0m \u001b[0;32mand\u001b[0m \u001b[0mfixed\u001b[0m \u001b[0;32mis\u001b[0m \u001b[0;32mnot\u001b[0m \u001b[0;32mNone\u001b[0m\u001b[0;34m:\u001b[0m\u001b[0;34m\u001b[0m\u001b[0;34m\u001b[0m\u001b[0m\n\u001b[1;32m    478\u001b[0m             \u001b[0;31m# We must adjust k by domain size for layouts not near 1x1\u001b[0m\u001b[0;34m\u001b[0m\u001b[0;34m\u001b[0m\u001b[0;34m\u001b[0m\u001b[0m\n",
      "\u001b[0;32m~/opt/anaconda3/envs/wikiEnv/lib/python3.8/site-packages/networkx/convert_matrix.py\u001b[0m in \u001b[0;36mto_scipy_sparse_array\u001b[0;34m(G, nodelist, dtype, weight, format)\u001b[0m\n\u001b[1;32m    921\u001b[0m             \u001b[0mr\u001b[0m \u001b[0;34m+=\u001b[0m \u001b[0mdiag_index\u001b[0m\u001b[0;34m\u001b[0m\u001b[0;34m\u001b[0m\u001b[0m\n\u001b[1;32m    922\u001b[0m             \u001b[0mc\u001b[0m \u001b[0;34m+=\u001b[0m \u001b[0mdiag_index\u001b[0m\u001b[0;34m\u001b[0m\u001b[0;34m\u001b[0m\u001b[0m\n\u001b[0;32m--> 923\u001b[0;31m         \u001b[0mA\u001b[0m \u001b[0;34m=\u001b[0m \u001b[0msp\u001b[0m\u001b[0;34m.\u001b[0m\u001b[0msparse\u001b[0m\u001b[0;34m.\u001b[0m\u001b[0mcoo_array\u001b[0m\u001b[0;34m(\u001b[0m\u001b[0;34m(\u001b[0m\u001b[0md\u001b[0m\u001b[0;34m,\u001b[0m \u001b[0;34m(\u001b[0m\u001b[0mr\u001b[0m\u001b[0;34m,\u001b[0m \u001b[0mc\u001b[0m\u001b[0;34m)\u001b[0m\u001b[0;34m)\u001b[0m\u001b[0;34m,\u001b[0m \u001b[0mshape\u001b[0m\u001b[0;34m=\u001b[0m\u001b[0;34m(\u001b[0m\u001b[0mnlen\u001b[0m\u001b[0;34m,\u001b[0m \u001b[0mnlen\u001b[0m\u001b[0;34m)\u001b[0m\u001b[0;34m,\u001b[0m \u001b[0mdtype\u001b[0m\u001b[0;34m=\u001b[0m\u001b[0mdtype\u001b[0m\u001b[0;34m)\u001b[0m\u001b[0;34m\u001b[0m\u001b[0;34m\u001b[0m\u001b[0m\n\u001b[0m\u001b[1;32m    924\u001b[0m     \u001b[0;32mtry\u001b[0m\u001b[0;34m:\u001b[0m\u001b[0;34m\u001b[0m\u001b[0;34m\u001b[0m\u001b[0m\n\u001b[1;32m    925\u001b[0m         \u001b[0;32mreturn\u001b[0m \u001b[0mA\u001b[0m\u001b[0;34m.\u001b[0m\u001b[0masformat\u001b[0m\u001b[0;34m(\u001b[0m\u001b[0mformat\u001b[0m\u001b[0;34m)\u001b[0m\u001b[0;34m\u001b[0m\u001b[0;34m\u001b[0m\u001b[0m\n",
      "\u001b[0;31mAttributeError\u001b[0m: module 'scipy.sparse' has no attribute 'coo_array'"
     ]
    },
    {
     "data": {
      "image/png": "[encoded data removed]",
      "text/plain": [
       "<Figure size 432x288 with 1 Axes>"
      ]
     },
     "metadata": {},
     "output_type": "display_data"
    }
   ],
   "source": [
    "nx.draw(G, with_labels=False)\n",
    "plt.show()"
   ]
  },
  {
   "cell_type": "code",
   "execution_count": 35,
   "id": "invalid-liver",
   "metadata": {},
   "outputs": [
    {
     "name": "stdout",
     "output_type": "stream",
     "text": [
      "Requirement already satisfied: networkx in /Users/filipilievski/opt/anaconda3/envs/wikiEnv/lib/python3.8/site-packages (2.8.8)\n"
     ]
    }
   ],
   "source": [
    "!pip install -U networkx"
   ]
  },
  {
   "cell_type": "code",
   "execution_count": null,
   "id": "forward-airfare",
   "metadata": {},
   "outputs": [],
   "source": []
  }
 ],
 "metadata": {
  "kernelspec": {
   "display_name": "Python 3",
   "language": "python",
   "name": "python3"
  },
  "language_info": {
   "codemirror_mode": {
    "name": "ipython",
    "version": 3
   },
   "file_extension": ".py",
   "mimetype": "text/x-python",
   "name": "python",
   "nbconvert_exporter": "python",
   "pygments_lexer": "ipython3",
   "version": "3.8.5"
  }
 },
 "nbformat": 4,
 "nbformat_minor": 5
}
