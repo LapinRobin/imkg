{
 "cells": [
  {
   "cell_type": "markdown",
   "id": "coral-curve",
   "metadata": {},
   "source": [
    "# Analysis and Visualization"
   ]
  },
  {
   "cell_type": "markdown",
   "id": "caring-adaptation",
   "metadata": {},
   "source": [
    "Let's create a visualization of a single meme:"
   ]
  },
  {
   "cell_type": "markdown",
   "id": "ranging-participation",
   "metadata": {},
   "source": [
    "## 0. Setup"
   ]
  },
  {
   "cell_type": "code",
   "execution_count": 1,
   "id": "biblical-scope",
   "metadata": {},
   "outputs": [],
   "source": [
    "import os\n",
    "import os.path\n",
    "\n",
    "from kgtk.configure_kgtk_notebooks import ConfigureKGTK\n",
    "from kgtk.functions import kgtk, kypher"
   ]
  },
  {
   "cell_type": "code",
   "execution_count": 2,
   "id": "stainless-script",
   "metadata": {},
   "outputs": [],
   "source": [
    "# Parameters\n",
    "\n",
    "# Folders on local machine where to create the output and temporary files:\n",
    "input_path = \"wikidata\"\n",
    "output_path = \"projects\"\n",
    "project_name = \"tutorial-kypher\""
   ]
  },
  {
   "cell_type": "code",
   "execution_count": 3,
   "id": "julian-voluntary",
   "metadata": {},
   "outputs": [
    {
     "name": "stdout",
     "output_type": "stream",
     "text": [
      "User home: /Users/filipilievski\n",
      "Current dir: /Users/filipilievski/mcs/imkg\n",
      "KGTK dir: /Users/filipilievski/mcs\n",
      "Use-cases dir: /Users/filipilievski/mcs/use-cases\n"
     ]
    }
   ],
   "source": [
    "big_files=[\"label\"]\n",
    "\n",
    "additional_files = {\n",
    "    \"P31\": \"derived.P31.tsv.gz\",\n",
    "    \"items\": \"claims.wikibase-item.tsv.gz\",\n",
    "    \"P1963\": \"derived.P1963computed.count.star.tsv.gz\",\n",
    "    \"external\": \"claims.external-id.tsv.gz\",\n",
    "    \"indegree\": \"metadata.in_degree.tsv.gz\",\n",
    "    \"outdegree\": \"metadata.out_degree.tsv.gz\",\n",
    "    \"pagerank\": \"metadata.pagerank.directed.tsv.gz\"\n",
    "}\n",
    "\n",
    "ck = ConfigureKGTK(big_files)\n",
    "ck.configure_kgtk(input_graph_path=input_path, \n",
    "                  output_path=output_path, \n",
    "                  project_name=project_name,\n",
    "                  additional_files=additional_files)"
   ]
  },
  {
   "cell_type": "code",
   "execution_count": 4,
   "id": "limited-salvation",
   "metadata": {},
   "outputs": [
    {
     "name": "stdout",
     "output_type": "stream",
     "text": [
      "USE_CASES_DIR: /Users/filipilievski/mcs/use-cases\n",
      "GRAPH: wikidata\n",
      "KGTK_GRAPH_CACHE: projects/tutorial-kypher/temp.tutorial-kypher/wikidata.sqlite3.db\n",
      "STORE: projects/tutorial-kypher/temp.tutorial-kypher/wikidata.sqlite3.db\n",
      "KGTK_OPTION_DEBUG: false\n",
      "TEMP: projects/tutorial-kypher/temp.tutorial-kypher\n",
      "kgtk: kgtk\n",
      "KGTK_LABEL_FILE: wikidata/labels.en.tsv.gz\n",
      "OUT: projects/tutorial-kypher\n",
      "EXAMPLES_DIR: /Users/filipilievski/mcs/examples\n",
      "kypher: kgtk query --graph-cache projects/tutorial-kypher/temp.tutorial-kypher/wikidata.sqlite3.db\n",
      "label: wikidata/labels.en.tsv.gz\n",
      "P31: wikidata/derived.P31.tsv.gz\n",
      "items: wikidata/claims.wikibase-item.tsv.gz\n",
      "P1963: wikidata/derived.P1963computed.count.star.tsv.gz\n",
      "external: wikidata/claims.external-id.tsv.gz\n",
      "indegree: wikidata/metadata.in_degree.tsv.gz\n",
      "outdegree: wikidata/metadata.out_degree.tsv.gz\n",
      "pagerank: wikidata/metadata.pagerank.directed.tsv.gz\n"
     ]
    }
   ],
   "source": [
    "ck.print_env_variables()"
   ]
  },
  {
   "cell_type": "code",
   "execution_count": 38,
   "id": "involved-shame",
   "metadata": {},
   "outputs": [
    {
     "name": "stdout",
     "output_type": "stream",
     "text": [
      "imgflipi:2494xe\timgflipr:alt_text\thope the water in mordor don\\'t brian him. \\|  WINS A TICKET TO A FOREIGN COUNTRY; MORDOR \\| image tagged in memes,bad luck brian \\| made w/ Imgflip meme maker\n",
      "imgflipi:2494xe\timgflipr:title\thope the water in mordor don\\'t brian him.\n",
      "imgflipi:627jk1\timgflipr:alt_text\tMan going to mordor \\|  THAT OTHER GUY; BOROMIR; MORDOR \\| image tagged in memes,distracted boyfriend \\| made w/ Imgflip meme maker\n",
      "imgflipi:627jk1\timgflipr:title\tMan going to mordor\n"
     ]
    }
   ],
   "source": [
    "!gzcat \"$TEMP/imkg.kgtk.gz\" | grep \"mordor\""
   ]
  },
  {
   "cell_type": "code",
   "execution_count": null,
   "id": "advised-carter",
   "metadata": {},
   "outputs": [],
   "source": []
  },
  {
   "cell_type": "markdown",
   "id": "personalized-telescope",
   "metadata": {},
   "source": [
    "# 1. Find memes that show the connection between KYM, ImgFlip and Wikidata"
   ]
  },
  {
   "cell_type": "code",
   "execution_count": 36,
   "id": "continuing-closing",
   "metadata": {},
   "outputs": [
    {
     "name": "stdout",
     "output_type": "stream",
     "text": [
      "node1\tlabel\tnode2\tnode1\tlabel\tnode2\n"
     ]
    }
   ],
   "source": [
    "!kgtk query -i $TEMP/imkg.kgtk.gz \\\n",
    "            --match '()-[:`m4s:sameAs`]->(k), \\\n",
    "                    (k)-[]->(kinfo)'"
   ]
  },
  {
   "cell_type": "code",
   "execution_count": 14,
   "id": "worldwide-ranch",
   "metadata": {},
   "outputs": [
    {
     "name": "stdout",
     "output_type": "stream",
     "text": [
      "node2\tlabel\tnode2\n"
     ]
    }
   ],
   "source": [
    "!kgtk query -i $TEMP/imkg.kgtk.gz \\\n",
    "            --match '(:`imgflipmeme:135990973/distracted-boyfriend-anime-re-zero`)-[:`kym:fromAbout`]->(info1), \\\n",
    "                    (:`kym:distracted-boyfriend`)-[`kym:fromImage`]->(info2), \\\n",
    "                    (info1)-[r]->(info2)' \\\n",
    "            --where 'info2!=\"0.5\"' \\\n",
    "            --return 'distinct info1, r.label, info2' \\\n",
    "            --limit 500"
   ]
  },
  {
   "cell_type": "code",
   "execution_count": 7,
   "id": "protected-refrigerator",
   "metadata": {},
   "outputs": [
    {
     "name": "stdout",
     "output_type": "stream",
     "text": [
      "node2\tlabel\tnode2\tlabel\n"
     ]
    }
   ],
   "source": [
    "!kgtk query -i $TEMP/imkg.kgtk.gz \\\n",
    "            --match '(:`kym:one-does-not-simply-walk-into-mordor`)-[`m4s:fromAbout`]->(info1), \\\n",
    "                    (:`kym:one-does-not-simply-walk-into-mordor`)-[r2]->(info2), \\\n",
    "                    (info1)-[r]->(info2)' \\\n",
    "            --where 'info2!=\"0.5\"' \\\n",
    "            --return 'distinct info1, r.label, info2, r2.label' \\\n",
    "            --limit 5"
   ]
  },
  {
   "cell_type": "markdown",
   "id": "alone-emperor",
   "metadata": {},
   "source": [
    "## 1. Visualize most relations for the Distracted-Boyfriend meme"
   ]
  },
  {
   "cell_type": "code",
   "execution_count": 5,
   "id": "following-angola",
   "metadata": {},
   "outputs": [],
   "source": [
    "!kgtk query -i $TEMP/templates.kgtk.gz \\\n",
    "            --match '(:`kym:distracted-boyfriend`)-[r]->()' \\\n",
    "             --where 'r.label in [\"kym:parent\", \"kym:child\", \"kym:year\", \"rdf:type\", \"m4s:fromAbout\", \"m4s:fromTags\", \"m4s:fromImage\"]' \\\n",
    "            -o $TEMP/db_subject.kgtk.gz"
   ]
  },
  {
   "cell_type": "markdown",
   "id": "collect-plumbing",
   "metadata": {},
   "source": [
    "Create node file:"
   ]
  },
  {
   "cell_type": "code",
   "execution_count": 6,
   "id": "stupid-publisher",
   "metadata": {},
   "outputs": [],
   "source": [
    "!kgtk query -i $TEMP/labelfile.kgtk.gz -i $TEMP/db_subject.kgtk.gz \\\n",
    "            --match 'db: ()-[]->(n), \\\n",
    "                label: (n)-[r]->(l)' \\\n",
    "            --return 'n as id, l as label' / deduplicate \\\n",
    "            -o $TEMP/nodefile.kgtk.gz "
   ]
  },
  {
   "cell_type": "code",
   "execution_count": 9,
   "id": "expressed-donor",
   "metadata": {},
   "outputs": [],
   "source": [
    "kgtk(\"\"\"visualize-graph \n",
    "        -i $TEMP/db_subject.kgtk.gz\n",
    "        --node-file $TEMP/nodefile.kgtk.gz\n",
    "        --show-text above\n",
    "        --tooltip-column label\n",
    "        --direction arrow\n",
    "        --edge-color-column label\n",
    "        --edge-color-style d3.schemeDark2\n",
    "        -o distracted.graph.html\"\"\")"
   ]
  },
  {
   "cell_type": "markdown",
   "id": "intellectual-planning",
   "metadata": {},
   "source": [
    "## 2. Visualize children and parents for the TLDR meme"
   ]
  },
  {
   "cell_type": "code",
   "execution_count": 16,
   "id": "recorded-coalition",
   "metadata": {},
   "outputs": [],
   "source": [
    "!kgtk query -i $TEMP/templates.kgtk.gz \\\n",
    "            --match '(n)-[r]->(n2)' \\\n",
    "            --where 'r.label in [\"kym:parent\", \"kym:child\"] and (n=\"kym:tldr\" or n2=\"kym:tldr\")' \\\n",
    "            -o $TEMP/db_subject.kgtk.gz"
   ]
  },
  {
   "cell_type": "code",
   "execution_count": 19,
   "id": "acting-gates",
   "metadata": {},
   "outputs": [],
   "source": [
    "kgtk(\"\"\"visualize-graph \n",
    "        -i $TEMP/db_subject.kgtk.gz\n",
    "        --show-text above\n",
    "        --tooltip-column label\n",
    "        --direction arrow\n",
    "        --edge-color-column label\n",
    "        --edge-color-style d3.schemeDark2\n",
    "        -o tldr.graph.html\"\"\")"
   ]
  },
  {
   "cell_type": "markdown",
   "id": "governmental-seattle",
   "metadata": {},
   "source": [
    "## 3. Visualize all sibling relations"
   ]
  },
  {
   "cell_type": "code",
   "execution_count": 7,
   "id": "reverse-leadership",
   "metadata": {},
   "outputs": [],
   "source": [
    "!kgtk query -i $TEMP/imkg.kgtk.gz \\\n",
    "            --match '()-[r:`kym:sibling`]->()' \\\n",
    "            -o $TEMP/siblings.kgtk.gz"
   ]
  },
  {
   "cell_type": "code",
   "execution_count": 8,
   "id": "appointed-maker",
   "metadata": {},
   "outputs": [],
   "source": [
    "kgtk(\"\"\"visualize-graph \n",
    "        -i $TEMP/siblings.kgtk.gz\n",
    "        --direction arrow\n",
    "        -o sibling.graph.html\"\"\")"
   ]
  },
  {
   "cell_type": "markdown",
   "id": "republican-found",
   "metadata": {},
   "source": [
    "## 4. Analyze graph"
   ]
  },
  {
   "cell_type": "markdown",
   "id": "listed-vulnerability",
   "metadata": {},
   "source": [
    "### IMKG"
   ]
  },
  {
   "cell_type": "code",
   "execution_count": 27,
   "id": "backed-bicycle",
   "metadata": {},
   "outputs": [],
   "source": [
    "!kgtk cat -i $TEMP/templates.kgtk.gz -i $TEMP/wikidata_memes.kgtk.gz -i $TEMP/wikidata_ent.kgtk.gz -o $TEMP/templates_with_wd.kgtk.gz"
   ]
  },
  {
   "cell_type": "code",
   "execution_count": 5,
   "id": "enormous-serial",
   "metadata": {},
   "outputs": [
    {
     "name": "stdout",
     "output_type": "stream",
     "text": [
      "\n",
      "(kgtk:5678): Gtk-\u001b[1;33mWARNING\u001b[0m **: \u001b[34m11:32:34.211\u001b[0m: Locale not supported by C library.\n",
      "\tUsing the fallback 'C' locale.\n",
      "objc[5678]: Class GNotificationCenterDelegate is implemented in both /Users/filipilievski/opt/anaconda3/envs/wikiEnv/lib/libgio-2.0.0.dylib (0x19f89a960) and /usr/local/Cellar/glib/2.72.2/lib/libgio-2.0.0.dylib (0x1b3d426b0). One of the two will be used. Which one is undefined.\n"
     ]
    }
   ],
   "source": [
    "!kgtk graph-statistics \\\n",
    "     -i $TEMP/imkg.kgtk.gz \\\n",
    "     --log-file $TEMP/meme_summary.txt \\\n",
    "     --output-statistics-only \\\n",
    "     -o $TEMP/meme_stats.tsv"
   ]
  },
  {
   "cell_type": "code",
   "execution_count": 6,
   "id": "reserved-removal",
   "metadata": {},
   "outputs": [
    {
     "name": "stdout",
     "output_type": "stream",
     "text": [
      "graph loaded! It has 646690 nodes and 2230499 edges\n",
      "\n",
      "*** Top relations:\n",
      "m4s:fromCaption\t460177\n",
      "imgflipr:alt_text\t160461\n",
      "imgflipr:image_url\t160461\n",
      "imgflipr:template\t160461\n",
      "imgflipr:templateId\t160461\n",
      "imgflipr:template_title\t160461\n",
      "imgflipr:title\t160461\n",
      "imgflipr:upvote_count\t160461\n",
      "imgflipr:view_count\t160461\n",
      "imgflipr:author\t137923\n",
      "\n",
      "*** Degrees:\n",
      "in degree stats: mean=3.449101, std=0.301658, max=1\n",
      "out degree stats: mean=3.449101, std=0.011192, max=1\n",
      "total degree stats: mean=6.898202, std=0.301999, max=1\n",
      "\n",
      "*** PageRank\n",
      "Max pageranks\n",
      "15\tQ2927074\t0.009397\n",
      "101\tQ30\t0.006346\n",
      "621526\tQ336\t0.005086\n",
      "630289\tQ9081\t0.004848\n",
      "1560\tBad Luck Brian\t0.004195\n",
      "\n",
      "*** HITS\n",
      "HITS hubs\n",
      "15\tQ2927074\t0.546047\n",
      "1560\tBad Luck Brian\t0.524021\n",
      "503\tQ18738659\t0.290511\n",
      "1558\timgflipmeme:Bad-Luck-Brian\t0.290051\n",
      "1559\t61585\t0.290043\n",
      "HITS auth\n",
      "545738\timgflipi:izyph\t0.005110\n",
      "46211\timgflipi:183a7b\t0.005105\n",
      "555539\timgflipi:l4j55\t0.005103\n",
      "303752\timgflipi:33jv3i\t0.005095\n",
      "600279\timgflipi:vumoh\t0.005093\n"
     ]
    }
   ],
   "source": [
    "!cat $TEMP/meme_summary.txt"
   ]
  },
  {
   "cell_type": "code",
   "execution_count": 9,
   "id": "multiple-stephen",
   "metadata": {},
   "outputs": [
    {
     "name": "stdout",
     "output_type": "stream",
     "text": [
      "count(DISTINCT graph_27_c1.\"label\")\n",
      "650\n"
     ]
    }
   ],
   "source": [
    "!kgtk query -i $TEMP/imkg.kgtk.gz \\\n",
    "    --match '(n)-[r]->()' \\\n",
    "    --return 'count (distinct r.label)'"
   ]
  },
  {
   "cell_type": "markdown",
   "id": "pressed-morocco",
   "metadata": {},
   "source": [
    "### For KYM"
   ]
  },
  {
   "cell_type": "code",
   "execution_count": 10,
   "id": "assured-settle",
   "metadata": {},
   "outputs": [
    {
     "name": "stdout",
     "output_type": "stream",
     "text": [
      "\n",
      "(kgtk:5758): Gtk-\u001b[1;33mWARNING\u001b[0m **: \u001b[34m11:36:58.594\u001b[0m: Locale not supported by C library.\n",
      "\tUsing the fallback 'C' locale.\n",
      "objc[5758]: Class GNotificationCenterDelegate is implemented in both /Users/filipilievski/opt/anaconda3/envs/wikiEnv/lib/libgio-2.0.0.dylib (0x19858b960) and /usr/local/Cellar/glib/2.72.2/lib/libgio-2.0.0.dylib (0x1aca4c6b0). One of the two will be used. Which one is undefined.\n"
     ]
    }
   ],
   "source": [
    "!kgtk graph-statistics \\\n",
    "     -i $TEMP/templates.kgtk.gz \\\n",
    "     --log-file $TEMP/kym_summary.txt \\\n",
    "     --output-statistics-only \\\n",
    "     -o $TEMP/kym_stats.tsv"
   ]
  },
  {
   "cell_type": "code",
   "execution_count": 11,
   "id": "labeled-keeping",
   "metadata": {},
   "outputs": [
    {
     "name": "stdout",
     "output_type": "stream",
     "text": [
      "graph loaded! It has 31645 nodes and 211889 edges\n",
      "\n",
      "*** Top relations:\n",
      "kym:sibling\t111053\n",
      "m4s:fromImage\t53794\n",
      "kym:tag\t11050\n",
      "m4s:fromAbout\t5403\n",
      "m4s:fromTags\t3733\n",
      "kym:spread\t3070\n",
      "m4s:structured_uri\t2812\n",
      "m4s:structured_value\t2812\n",
      "kym:origin\t2479\n",
      "rdf:type\t2234\n",
      "\n",
      "*** Degrees:\n",
      "in degree stats: mean=6.695813, std=0.191553, max=1\n",
      "out degree stats: mean=6.695813, std=0.185121, max=1\n",
      "total degree stats: mean=13.391626, std=0.318774, max=1\n",
      "\n",
      "*** PageRank\n",
      "Max pageranks\n",
      "28886\thttp://www.w3.org/2001/XMLSchema#timestamp\t0.033271\n",
      "570\tkym:Meme\t0.000454\n",
      "487\t0.5\t0.000430\n",
      "556\tQ2927074\t0.000419\n",
      "561\tQ4868296\t0.000389\n",
      "\n",
      "*** HITS\n",
      "HITS hubs\n",
      "570\tkym:Meme\t0.087234\n",
      "487\t0.5\t0.083446\n",
      "556\tQ2927074\t0.073038\n",
      "561\tQ4868296\t0.070239\n",
      "1159\tkym:lolspeak-chanspeak\t0.064137\n",
      "HITS auth\n",
      "1112\tkym:fap\t0.076776\n",
      "1094\tkym:derp\t0.076504\n",
      "1083\tkym:cool-story-bro\t0.075998\n",
      "1252\tkym:verbose-classy-memes\t0.075936\n",
      "1178\tkym:noice\t0.075900\n"
     ]
    }
   ],
   "source": [
    "!cat $TEMP/kym_summary.txt"
   ]
  },
  {
   "cell_type": "code",
   "execution_count": 12,
   "id": "perfect-anaheim",
   "metadata": {},
   "outputs": [
    {
     "name": "stdout",
     "output_type": "stream",
     "text": [
      "count(DISTINCT graph_20_c1.\"label\")\n",
      "22\n"
     ]
    }
   ],
   "source": [
    "!kgtk query -i $TEMP/templates.kgtk.gz \\\n",
    "    --match '(n)-[r]->()' \\\n",
    "    --return 'count (distinct r.label)'"
   ]
  },
  {
   "cell_type": "markdown",
   "id": "mighty-nutrition",
   "metadata": {},
   "source": [
    "### For ImgFlip"
   ]
  },
  {
   "cell_type": "code",
   "execution_count": 13,
   "id": "increased-edition",
   "metadata": {},
   "outputs": [
    {
     "name": "stdout",
     "output_type": "stream",
     "text": [
      "\n",
      "(kgtk:5787): Gtk-\u001b[1;33mWARNING\u001b[0m **: \u001b[34m11:38:16.549\u001b[0m: Locale not supported by C library.\n",
      "\tUsing the fallback 'C' locale.\n",
      "objc[5787]: Class GNotificationCenterDelegate is implemented in both /Users/filipilievski/opt/anaconda3/envs/wikiEnv/lib/libgio-2.0.0.dylib (0x11130c960) and /usr/local/Cellar/glib/2.72.2/lib/libgio-2.0.0.dylib (0x1ad9ee6b0). One of the two will be used. Which one is undefined.\n"
     ]
    }
   ],
   "source": [
    "!kgtk graph-statistics \\\n",
    "     -i $TEMP/instances.kgtk.gz \\\n",
    "     --log-file $TEMP/imgflip_summary.txt \\\n",
    "     --output-statistics-only \\\n",
    "     -o $TEMP/imgflip_stats.tsv"
   ]
  },
  {
   "cell_type": "code",
   "execution_count": 14,
   "id": "qualified-outdoors",
   "metadata": {},
   "outputs": [
    {
     "name": "stdout",
     "output_type": "stream",
     "text": [
      "graph loaded! It has 616850 nodes and 1881794 edges\n",
      "\n",
      "*** Top relations:\n",
      "m4s:fromCaption\t460177\n",
      "imgflipr:alt_text\t160461\n",
      "imgflipr:image_url\t160461\n",
      "imgflipr:template\t160461\n",
      "imgflipr:templateId\t160461\n",
      "imgflipr:template_title\t160461\n",
      "imgflipr:title\t160461\n",
      "imgflipr:upvote_count\t160461\n",
      "imgflipr:view_count\t160461\n",
      "imgflipr:author\t137923\n",
      "\n",
      "*** Degrees:\n",
      "in degree stats: mean=3.050651, std=0.313352, max=1\n",
      "out degree stats: mean=3.050651, std=0.006613, max=1\n",
      "total degree stats: mean=6.101302, std=0.313373, max=1\n",
      "\n",
      "*** PageRank\n",
      "Max pageranks\n",
      "14\tQ2927074\t0.011729\n",
      "160\tBad Luck Brian\t0.005716\n",
      "141262\tDistracted Boyfriend\t0.004670\n",
      "35\tDisaster Girl\t0.003432\n",
      "55\tFirst World Problems\t0.003304\n",
      "\n",
      "*** HITS\n",
      "HITS hubs\n",
      "14\tQ2927074\t0.541981\n",
      "160\tBad Luck Brian\t0.526372\n",
      "162\tQ18738659\t0.291693\n",
      "158\timgflipmeme:Bad-Luck-Brian\t0.291330\n",
      "159\t61585\t0.291330\n",
      "HITS auth\n",
      "544546\timgflipi:izyph\t0.005127\n",
      "44879\timgflipi:183a7b\t0.005120\n",
      "554347\timgflipi:l4j55\t0.005119\n",
      "302519\timgflipi:33jv3i\t0.005111\n",
      "599089\timgflipi:vumoh\t0.005110\n"
     ]
    }
   ],
   "source": [
    "!cat $TEMP/imgflip_summary.txt"
   ]
  },
  {
   "cell_type": "code",
   "execution_count": 15,
   "id": "pharmaceutical-nigeria",
   "metadata": {},
   "outputs": [
    {
     "name": "stdout",
     "output_type": "stream",
     "text": [
      "count(DISTINCT graph_31_c1.\"label\")\n",
      "11\n"
     ]
    }
   ],
   "source": [
    "!kgtk query -i $TEMP/instances.kgtk.gz \\\n",
    "    --match '(n)-[r]->()' \\\n",
    "    --return 'count (distinct r.label)'"
   ]
  },
  {
   "cell_type": "markdown",
   "id": "enormous-baghdad",
   "metadata": {},
   "source": [
    "### Wikidata"
   ]
  },
  {
   "cell_type": "code",
   "execution_count": 16,
   "id": "victorian-african",
   "metadata": {},
   "outputs": [],
   "source": [
    "!kgtk cat -i $TEMP/wikidata_memes.kgtk.gz -i $TEMP/wikidata_ent.kgtk.gz -o $TEMP/wd.kgtk.gz"
   ]
  },
  {
   "cell_type": "code",
   "execution_count": 17,
   "id": "contemporary-sword",
   "metadata": {},
   "outputs": [
    {
     "name": "stdout",
     "output_type": "stream",
     "text": [
      "\n",
      "(kgtk:5862): Gtk-\u001b[1;33mWARNING\u001b[0m **: \u001b[34m11:41:02.783\u001b[0m: Locale not supported by C library.\n",
      "\tUsing the fallback 'C' locale.\n",
      "objc[5862]: Class GNotificationCenterDelegate is implemented in both /Users/filipilievski/opt/anaconda3/envs/wikiEnv/lib/libgio-2.0.0.dylib (0x199d76960) and /usr/local/Cellar/glib/2.72.2/lib/libgio-2.0.0.dylib (0x1ae2a56b0). One of the two will be used. Which one is undefined.\n"
     ]
    }
   ],
   "source": [
    "!kgtk graph-statistics \\\n",
    "     -i $TEMP/wd.kgtk.gz \\\n",
    "     --log-file $TEMP/wd_summary.txt \\\n",
    "     --output-statistics-only \\\n",
    "     -o $TEMP/wd_stats.tsv"
   ]
  },
  {
   "cell_type": "code",
   "execution_count": 18,
   "id": "considered-poker",
   "metadata": {},
   "outputs": [
    {
     "name": "stdout",
     "output_type": "stream",
     "text": [
      "graph loaded! It has 27024 nodes and 136577 edges\n",
      "\n",
      "*** Top relations:\n",
      "P31\t18090\n",
      "P136\t8558\n",
      "P495\t6942\n",
      "P106\t6030\n",
      "P17\t5572\n",
      "P407\t4363\n",
      "P279\t4312\n",
      "P530\t3713\n",
      "P21\t3657\n",
      "P27\t2975\n",
      "\n",
      "*** Degrees:\n",
      "in degree stats: mean=5.053915, std=0.505252, max=1\n",
      "out degree stats: mean=5.053915, std=0.040729, max=1\n",
      "total degree stats: mean=10.107830, std=0.516658, max=1\n",
      "\n",
      "*** PageRank\n",
      "Max pageranks\n",
      "88\tQ30\t0.025952\n",
      "3049\tQ336\t0.014935\n",
      "291\tQ1860\t0.013473\n",
      "1767\tQ151885\t0.012089\n",
      "1289\tQ11862829\t0.009268\n",
      "\n",
      "*** HITS\n",
      "HITS hubs\n",
      "291\tQ1860\t0.708428\n",
      "88\tQ30\t0.561884\n",
      "98\tQ5\t0.222163\n",
      "13\tQ6581097\t0.190558\n",
      "554\tQ723685\t0.106949\n",
      "HITS auth\n",
      "3109\tQ273055\t0.028708\n",
      "2437\tQ202148\t0.028366\n",
      "20221\tQ498019\t0.028144\n",
      "16214\tQ40531\t0.027984\n",
      "10367\tQ213512\t0.027935\n"
     ]
    }
   ],
   "source": [
    "!cat $TEMP/wd_summary.txt"
   ]
  },
  {
   "cell_type": "code",
   "execution_count": 19,
   "id": "ready-server",
   "metadata": {},
   "outputs": [
    {
     "name": "stdout",
     "output_type": "stream",
     "text": [
      "count(DISTINCT graph_37_c1.\"label\")\n",
      "617\n"
     ]
    }
   ],
   "source": [
    "!kgtk query -i $TEMP/wd.kgtk.gz \\\n",
    "    --match '(n)-[r]->()' \\\n",
    "    --return 'count (distinct r.label)'"
   ]
  },
  {
   "cell_type": "markdown",
   "id": "completed-childhood",
   "metadata": {},
   "source": [
    "What are the most common relations?"
   ]
  },
  {
   "cell_type": "code",
   "execution_count": 7,
   "id": "actual-respect",
   "metadata": {},
   "outputs": [],
   "source": [
    "!kgtk query -i $TEMP/templates_with_wd.kgtk.gz \\\n",
    "    --match '(n)-[r]->()' \\\n",
    "    --return 'r.label, count(n) as c' \\\n",
    "    --order-by 'c desc' \\\n",
    "    -o $TEMP/rel_stats.tsv"
   ]
  },
  {
   "cell_type": "markdown",
   "id": "fewer-round",
   "metadata": {},
   "source": [
    "Let's get nodes with highest indegree:"
   ]
  },
  {
   "cell_type": "code",
   "execution_count": 38,
   "id": "educational-cleanup",
   "metadata": {},
   "outputs": [
    {
     "name": "stdout",
     "output_type": "stream",
     "text": [
      "node1\tnode2\n",
      "Q277421\t(99),\n",
      "Q9633\t(99),\n",
      "Q42602\t(99),\n",
      "Q712378\t(98),\n",
      "youtube\t(97),\n",
      "Q4868296\t(963),\n",
      "Q42586\t(96),\n",
      "Q56\t(95),\n",
      "catchphrase\t(95),\n",
      "kymt:slang\t(94),\n"
     ]
    }
   ],
   "source": [
    "!kgtk query -i $TEMP/meme_stats.tsv \\\n",
    "    --match '(n1)-[:vertex_in_degree]->(n2)' \\\n",
    "    --return 'n1 as node1, printf(\"(%d),\", n2) as node2' \\\n",
    "    --limit 10 \\\n",
    "    --order-by 'n2 desc'"
   ]
  },
  {
   "cell_type": "markdown",
   "id": "ancient-hollywood",
   "metadata": {},
   "source": [
    "## 5. Visualize instances"
   ]
  },
  {
   "cell_type": "code",
   "execution_count": 34,
   "id": "frozen-aquatic",
   "metadata": {},
   "outputs": [],
   "source": [
    "!kgtk query -i $TEMP/instances.kgtk.gz \\\n",
    "    --match '(:`imgflipi:1001ub`)-[r]->()' \\\n",
    "    --where 'r.label!=\"imgflipr:alt_text\"' \\\n",
    "-o $TEMP/1001_ub.kgtk.gz"
   ]
  },
  {
   "cell_type": "markdown",
   "id": "latin-morrison",
   "metadata": {},
   "source": [
    "Create node file:"
   ]
  },
  {
   "cell_type": "code",
   "execution_count": 35,
   "id": "hollywood-gallery",
   "metadata": {},
   "outputs": [],
   "source": [
    "!kgtk query -i $TEMP/labelfile.kgtk.gz -i $TEMP/1001_ub.kgtk.gz \\\n",
    "            --match 'ub: ()-[]->(n), \\\n",
    "                label: (n)-[r]->(l)' \\\n",
    "            --return 'n as id, l as label' / deduplicate \\\n",
    "            -o $TEMP/nodefile.kgtk.gz "
   ]
  },
  {
   "cell_type": "code",
   "execution_count": 36,
   "id": "prescribed-meter",
   "metadata": {},
   "outputs": [],
   "source": [
    "kgtk(\"\"\"visualize-graph \n",
    "        -i $TEMP/1001_ub.kgtk.gz\n",
    "        --node-file $TEMP/nodefile.kgtk.gz\n",
    "        --show-text above\n",
    "        --show-edge-label\n",
    "        --tooltip-column label\n",
    "        --direction arrow\n",
    "        --edge-color-column label\n",
    "        --edge-color-style d3.schemeDark2\n",
    "        --show-text-limit 50\n",
    "        -o viz/imgflip.graph.html\"\"\")"
   ]
  },
  {
   "cell_type": "markdown",
   "id": "legal-anger",
   "metadata": {},
   "source": [
    "## 5. Visualize the full KG"
   ]
  },
  {
   "cell_type": "code",
   "execution_count": 9,
   "id": "sought-button",
   "metadata": {},
   "outputs": [],
   "source": [
    "kgtk(\"\"\"visualize-graph \n",
    "        -i $TEMP/imkg.kgtk.gz\n",
    "        -o full.graph.html\"\"\")"
   ]
  },
  {
   "cell_type": "markdown",
   "id": "documented-trading",
   "metadata": {},
   "source": [
    "## 6. Graph statistics for IMKG"
   ]
  },
  {
   "cell_type": "code",
   "execution_count": 10,
   "id": "valuable-business",
   "metadata": {},
   "outputs": [
    {
     "name": "stdout",
     "output_type": "stream",
     "text": [
      "\n",
      "(kgtk:13430): Gtk-\u001b[1;33mWARNING\u001b[0m **: \u001b[34m21:15:40.937\u001b[0m: Locale not supported by C library.\n",
      "\tUsing the fallback 'C' locale.\n",
      "objc[13430]: Class GNotificationCenterDelegate is implemented in both /Users/filipilievski/opt/anaconda3/envs/wikiEnv/lib/libgio-2.0.0.dylib (0x19f2f1960) and /usr/local/Cellar/glib/2.72.2/lib/libgio-2.0.0.dylib (0x1b36496b0). One of the two will be used. Which one is undefined.\n"
     ]
    }
   ],
   "source": [
    "!kgtk graph-statistics \\\n",
    "     -i $TEMP/imkg.kgtk.gz \\\n",
    "     --log-file $TEMP/imkg_summary.txt \\\n",
    "     --output-statistics-only \\\n",
    "     -o $TEMP/imkg_stats.tsv"
   ]
  },
  {
   "cell_type": "code",
   "execution_count": 11,
   "id": "interracial-christianity",
   "metadata": {},
   "outputs": [
    {
     "name": "stdout",
     "output_type": "stream",
     "text": [
      "graph loaded! It has 646690 nodes and 2230499 edges\n",
      "\n",
      "*** Top relations:\n",
      "m4s:fromCaption\t460177\n",
      "imgflipr:alt_text\t160461\n",
      "imgflipr:image_url\t160461\n",
      "imgflipr:template\t160461\n",
      "imgflipr:templateId\t160461\n",
      "imgflipr:template_title\t160461\n",
      "imgflipr:title\t160461\n",
      "imgflipr:upvote_count\t160461\n",
      "imgflipr:view_count\t160461\n",
      "imgflipr:author\t137923\n",
      "\n",
      "*** Degrees:\n",
      "in degree stats: mean=3.449101, std=0.301658, max=1\n",
      "out degree stats: mean=3.449101, std=0.011192, max=1\n",
      "total degree stats: mean=6.898202, std=0.301999, max=1\n",
      "\n",
      "*** PageRank\n",
      "Max pageranks\n",
      "15\tQ2927074\t0.009397\n",
      "101\tQ30\t0.006346\n",
      "621526\tQ336\t0.005086\n",
      "630289\tQ9081\t0.004848\n",
      "1560\tBad Luck Brian\t0.004195\n",
      "\n",
      "*** HITS\n",
      "HITS hubs\n",
      "15\tQ2927074\t0.546047\n",
      "1560\tBad Luck Brian\t0.524021\n",
      "503\tQ18738659\t0.290511\n",
      "1558\timgflipmeme:Bad-Luck-Brian\t0.290051\n",
      "1559\t61585\t0.290043\n",
      "HITS auth\n",
      "545738\timgflipi:izyph\t0.005110\n",
      "46211\timgflipi:183a7b\t0.005105\n",
      "555539\timgflipi:l4j55\t0.005103\n",
      "303752\timgflipi:33jv3i\t0.005095\n",
      "600279\timgflipi:vumoh\t0.005093\n"
     ]
    }
   ],
   "source": [
    "!cat $TEMP/imkg_summary.txt"
   ]
  },
  {
   "cell_type": "code",
   "execution_count": 18,
   "id": "pacific-welding",
   "metadata": {},
   "outputs": [
    {
     "name": "stdout",
     "output_type": "stream",
     "text": [
      "label\tc\n",
      "m4s:fromCaption\t460177\n",
      "imgflipr:alt_text\t160461\n",
      "imgflipr:image_url\t160461\n",
      "imgflipr:template\t160461\n",
      "imgflipr:templateId\t160461\n",
      "imgflipr:template_title\t160461\n",
      "imgflipr:title\t160461\n",
      "imgflipr:upvote_count\t160461\n",
      "imgflipr:view_count\t160461\n",
      "imgflipr:author\t137923\n",
      "kym:sibling\t111053\n",
      "m4s:fromImage\t53794\n",
      "P31\t18090\n",
      "kym:tag\t11050\n",
      "P136\t8558\n",
      "P495\t6942\n",
      "P106\t6030\n",
      "P17\t5572\n",
      "m4s:fromAbout\t5403\n",
      "P407\t4363\n"
     ]
    }
   ],
   "source": [
    "!kgtk query -i $TEMP/imkg.kgtk.gz \\\n",
    "    --match '()-[r]->()' \\\n",
    "    --return 'r.label, count(r.label) as c' \\\n",
    "    --order-by 'c desc' \\\n",
    "    --limit 20"
   ]
  },
  {
   "cell_type": "code",
   "execution_count": 29,
   "id": "binding-august",
   "metadata": {},
   "outputs": [
    {
     "name": "stdout",
     "output_type": "stream",
     "text": [
      "node2\tkgtk_lqstring_text_string(graph_17_c2.\"node2\")\tc\n",
      "Q2927074\t\"Internet meme\"\t122634\n",
      "Q18738659\t\"Kyle Craven\"\t36061\n",
      "Q978\t\"meme\"\t23228\n",
      "Q4946461\t\"spa town\"\t19938\n",
      "Q622404\t\"boyfriend\"\t19874\n",
      "Q25095883\t\"First World Problems\"\t15671\n",
      "Q7714263\t\"Grumpy Cat\"\t12683\n",
      "Q11661\t\"information technology\"\t10922\n",
      "Q62141\t\"facepalm\"\t9677\n",
      "Q16276\t\"Jean-Luc Picard\"\t8930\n"
     ]
    }
   ],
   "source": [
    "!kgtk query -i $TEMP/imkg.kgtk.gz -i $label \\\n",
    "    --match 'imkg: ()-[:`m4s:fromCaption`]->(n), \\\n",
    "            label: (n)-[]->(lbl)' \\\n",
    "    --return 'n, kgtk_lqstring_text_string(lbl), count(n) as c' \\\n",
    "    --order-by 'c desc' \\\n",
    "    --limit 10"
   ]
  },
  {
   "cell_type": "code",
   "execution_count": 30,
   "id": "unusual-catering",
   "metadata": {},
   "outputs": [
    {
     "name": "stdout",
     "output_type": "stream",
     "text": [
      "node2\tkgtk_lqstring_text_string(graph_17_c2.\"node2\")\tc\n",
      "Q2927074\t\"Internet meme\"\t1041\n",
      "Q478798\t\"image\"\t1012\n",
      "Q4868296\t\"font\"\t960\n",
      "Q978\t\"meme\"\t840\n",
      "Q2071334\t\"Know Your Meme\"\t824\n",
      "Q735\t\"art\"\t714\n",
      "Q178659\t\"illustration\"\t609\n",
      "Q8\t\"happiness\"\t598\n",
      "Q1027879\t\"graphics\"\t596\n",
      "Q371174\t\"gesture\"\t546\n"
     ]
    }
   ],
   "source": [
    "!kgtk query -i $TEMP/imkg.kgtk.gz -i $label \\\n",
    "    --match 'imkg: ()-[:`m4s:fromImage`]->(n), \\\n",
    "            label: (n)-[]->(lbl)' \\\n",
    "    --return 'n, kgtk_lqstring_text_string(lbl), count(n) as c' \\\n",
    "    --order-by 'c desc' \\\n",
    "    --limit 10"
   ]
  },
  {
   "cell_type": "code",
   "execution_count": 31,
   "id": "organized-upgrade",
   "metadata": {},
   "outputs": [
    {
     "name": "stdout",
     "output_type": "stream",
     "text": [
      "node2\tkgtk_lqstring_text_string(graph_17_c2.\"node2\")\tc\n",
      "Q6002242\t\"image macro\"\t216\n",
      "Q866\t\"YouTube\"\t100\n",
      "Q2927074\t\"Internet meme\"\t78\n",
      "Q238330\t\"4chan\"\t74\n",
      "Q2708515\t\"catchphrase\"\t70\n",
      "Q83279\t\"SpongeBob SquarePants\"\t66\n",
      "Q75\t\"Internet\"\t53\n",
      "Q43747\t\"Internet slang\"\t52\n",
      "Q918\t\"Twitter\"\t52\n",
      "Q8102\t\"slang\"\t46\n"
     ]
    }
   ],
   "source": [
    "!kgtk query -i $TEMP/imkg.kgtk.gz -i $label \\\n",
    "    --match 'imkg: ()-[:`m4s:fromAbout`]->(n), \\\n",
    "            label: (n)-[]->(lbl)' \\\n",
    "    --return 'n, kgtk_lqstring_text_string(lbl), count(n) as c' \\\n",
    "    --order-by 'c desc' \\\n",
    "    --limit 10"
   ]
  },
  {
   "cell_type": "code",
   "execution_count": 32,
   "id": "stupid-omaha",
   "metadata": {},
   "outputs": [
    {
     "name": "stdout",
     "output_type": "stream",
     "text": [
      "node2\tkgtk_lqstring_text_string(graph_17_c2.\"node2\")\tc\n",
      "Q6002242\t\"image macro\"\t167\n",
      "Q238330\t\"4chan\"\t128\n",
      "Q2708515\t\"catchphrase\"\t95\n",
      "Q8102\t\"slang\"\t79\n",
      "Q144\t\"dog\"\t65\n",
      "Q1136\t\"Reddit\"\t44\n",
      "Q3002431\t\"creepypasta\"\t42\n",
      "Q2927074\t\"Internet meme\"\t41\n",
      "Q384060\t\"Tumblr\"\t39\n",
      "Q1030329\t\"viral video\"\t36\n"
     ]
    }
   ],
   "source": [
    "!kgtk query -i $TEMP/imkg.kgtk.gz -i $label \\\n",
    "    --match 'imkg: ()-[:`m4s:fromTags`]->(n), \\\n",
    "            label: (n)-[]->(lbl)' \\\n",
    "    --return 'n, kgtk_lqstring_text_string(lbl), count(n) as c' \\\n",
    "    --order-by 'c desc' \\\n",
    "    --limit 10"
   ]
  },
  {
   "cell_type": "code",
   "execution_count": 26,
   "id": "norwegian-seventh",
   "metadata": {},
   "outputs": [
    {
     "name": "stdout",
     "output_type": "stream",
     "text": [
      "\n",
      "(kgtk:13891): Gtk-\u001b[1;33mWARNING\u001b[0m **: \u001b[34m21:39:56.356\u001b[0m: Locale not supported by C library.\n",
      "\tUsing the fallback 'C' locale.\n",
      "objc[13891]: Class GNotificationCenterDelegate is implemented in both /Users/filipilievski/opt/anaconda3/envs/wikiEnv/lib/libgio-2.0.0.dylib (0x19cb35960) and /usr/local/Cellar/glib/2.72.2/lib/libgio-2.0.0.dylib (0x1a80c16b0). One of the two will be used. Which one is undefined.\n"
     ]
    }
   ],
   "source": [
    "!kgtk graph-statistics \\\n",
    "     -i $TEMP/combined.kgtk.gz \\\n",
    "     --log-file $TEMP/combined_summary.txt \\\n",
    "     --output-statistics-only \\\n",
    "     -o $TEMP/combined_stats.tsv"
   ]
  },
  {
   "cell_type": "code",
   "execution_count": 27,
   "id": "recreational-piano",
   "metadata": {},
   "outputs": [
    {
     "name": "stdout",
     "output_type": "stream",
     "text": [
      "graph loaded! It has 646109 nodes and 2093922 edges\n",
      "\n",
      "*** Top relations:\n",
      "m4s:fromCaption\t460177\n",
      "imgflipr:alt_text\t160461\n",
      "imgflipr:image_url\t160461\n",
      "imgflipr:template\t160461\n",
      "imgflipr:templateId\t160461\n",
      "imgflipr:template_title\t160461\n",
      "imgflipr:title\t160461\n",
      "imgflipr:upvote_count\t160461\n",
      "imgflipr:view_count\t160461\n",
      "imgflipr:author\t137923\n",
      "\n",
      "*** Degrees:\n",
      "in degree stats: mean=3.240818, std=0.300632, max=1\n",
      "out degree stats: mean=3.240818, std=0.011095, max=1\n",
      "total degree stats: mean=6.481637, std=0.300917, max=1\n",
      "\n",
      "*** PageRank\n",
      "Max pageranks\n",
      "499\tQ2927074\t0.011136\n",
      "641\tBad Luck Brian\t0.005408\n",
      "141724\tDistracted Boyfriend\t0.004409\n",
      "518\tDisaster Girl\t0.003240\n",
      "156\tQ18738659\t0.003121\n",
      "\n",
      "*** HITS\n",
      "HITS hubs\n",
      "499\tQ2927074\t0.544366\n",
      "641\tBad Luck Brian\t0.524943\n",
      "156\tQ18738659\t0.291014\n",
      "639\timgflipmeme:Bad-Luck-Brian\t0.290554\n",
      "640\t61585\t0.290546\n",
      "HITS auth\n",
      "544994\timgflipi:izyph\t0.005117\n",
      "45347\timgflipi:183a7b\t0.005111\n",
      "554795\timgflipi:l4j55\t0.005109\n",
      "302974\timgflipi:33jv3i\t0.005101\n",
      "599536\timgflipi:vumoh\t0.005100\n"
     ]
    }
   ],
   "source": [
    "!cat $TEMP/combined_summary.txt"
   ]
  },
  {
   "cell_type": "code",
   "execution_count": null,
   "id": "earlier-bundle",
   "metadata": {},
   "outputs": [],
   "source": []
  }
 ],
 "metadata": {
  "kernelspec": {
   "display_name": "Python 3",
   "language": "python",
   "name": "python3"
  },
  "language_info": {
   "codemirror_mode": {
    "name": "ipython",
    "version": 3
   },
   "file_extension": ".py",
   "mimetype": "text/x-python",
   "name": "python",
   "nbconvert_exporter": "python",
   "pygments_lexer": "ipython3",
   "version": "3.8.5"
  }
 },
 "nbformat": 4,
 "nbformat_minor": 5
}
