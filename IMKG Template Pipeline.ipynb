{
 "cells": [
  {
   "cell_type": "code",
   "execution_count": 1,
   "id": "5ea35de1-e21b-48ea-9006-4cfb35b34d5e",
   "metadata": {},
   "outputs": [],
   "source": [
    "import json, csv\n",
    "from csv import writer, reader"
   ]
  },
  {
   "cell_type": "markdown",
   "id": "6eb5c39c-8cfe-4675-81c6-98fde791030b",
   "metadata": {
    "tags": []
   },
   "source": [
    "## Functions for the Pipeline"
   ]
  },
  {
   "cell_type": "markdown",
   "id": "78b841da-ffb2-4b86-b83e-eeb133a3d212",
   "metadata": {
    "tags": []
   },
   "source": [
    "### Helper Functions"
   ]
  },
  {
   "cell_type": "code",
   "execution_count": 2,
   "id": "701b417d-1179-4624-939c-c3da4325e6f2",
   "metadata": {},
   "outputs": [],
   "source": [
    "def save2json(filename, dump):\n",
    "    out_file = open(filename, \"w\")\n",
    "    json.dump(dump, out_file, indent = 6)\n",
    "    out_file.close()"
   ]
  },
  {
   "cell_type": "code",
   "execution_count": 3,
   "id": "7c7d5b8a-fb1c-4bf3-bff8-5fd878385b96",
   "metadata": {},
   "outputs": [],
   "source": [
    "def save2csv(filename, header, data):\n",
    "    with open(filename, 'w', newline='') as csvfile:\n",
    "        csvw = csv.writer(csvfile, delimiter=',',quotechar='|', quoting=csv.QUOTE_MINIMAL)\n",
    "        csvw.writerow(header)\n",
    "        for d in data:\n",
    "            csvw.writerow(d)"
   ]
  },
  {
   "cell_type": "markdown",
   "id": "82dcabd4-741b-4678-96f7-5e235c4a0935",
   "metadata": {
    "tags": []
   },
   "source": [
    "## Extract Metadata from KYM (main source)"
   ]
  },
  {
   "cell_type": "markdown",
   "id": "95c3fd2e-159b-4161-a233-f51982594a79",
   "metadata": {
    "tags": []
   },
   "source": [
    "### Helper Functions"
   ]
  },
  {
   "cell_type": "code",
   "execution_count": 4,
   "id": "6f946727-f1f1-4fea-a74d-acc0414d95a1",
   "metadata": {},
   "outputs": [],
   "source": [
    "def get_kym_metadata(infile,memefile,outfile):\n",
    "    dump = [ ]\n",
    "    with open(infile) as csvfile:\n",
    "        urls = reader(csvfile)\n",
    "        with open(memefile) as memes:\n",
    "            data = json.load(memes)\n",
    "            for row in urls:\n",
    "                for i in data:\n",
    "                    if (i['url'] == row[1]):\n",
    "                        dump.append(i)\n",
    "    save2json(outfile,dump)"
   ]
  },
  {
   "cell_type": "code",
   "execution_count": 5,
   "id": "4af79d9b-d96c-49ee-98d3-6bc534074999",
   "metadata": {},
   "outputs": [],
   "source": [
    "def get_textual_entities(infile,entity_file,outfile):\n",
    "    memes_entities = []\n",
    "    cache = []\n",
    "    errors = []\n",
    "    with open(infile) as csvfile:\n",
    "        urls = reader(csvfile)\n",
    "        #Loading file with dbpedia entities\n",
    "        with open(entity_file) as efile:\n",
    "            data = json.load(efile)\n",
    "            #Mapping DBPedia entities to Wikidata\n",
    "            with open('dbpedia-wikidata.json') as jsonfile:\n",
    "                db2wdmapping = json.load(jsonfile)\n",
    "                for row in urls:\n",
    "                    if(row[1] in data.keys() and not row[1] in cache):\n",
    "                        cache.append([row[1]])\n",
    "                        newdata = data[row[1]]\n",
    "                        newdata['url']=row[1]\n",
    "                        if(\"Resources\" in newdata.keys()):\n",
    "                            for r in newdata[\"Resources\"]:\n",
    "                                res = r['@URI'].replace('http://dbpedia.org/resource/','')\n",
    "                                if(res in db2wdmapping.keys()):\n",
    "                                    r['QID'] = 'https://www.wikidata.org/wiki/'+db2wdmapping[res]                       \n",
    "                                if(type(r[\"@types\"])==str):\n",
    "                                    ls = r[\"@types\"].replace(\"DUL:\", \"http://www.loa-cnr.it/ontologies/DOLCE-Lite#\").replace(\"Wikidata:\", \"https://www.wikidata.org/wiki/\").replace(\"Schema:\", \"https://schema.org/\").split(\",\")\n",
    "                                    ls = list(filter(None, ls))\n",
    "                                    ls = [l for l in ls if 'DBpedia' not in l]\n",
    "                                # elif(type(r[\"@types\"])==list):\n",
    "                                    # ls = list(map(lambda s: s.replace(\"DUL:\", \"http://www.loa-cnr.it/ontologies/DOLCE-Lite#\").replace(\"Wikidata:\", \"https://www.wikidata.org/wiki/\").replace(\"Schema:\", \"https://schema.org/\").replace(\"DBpedia:\", \"\"),r[\"@types\"]))\n",
    "                                    # errors.append([row[1],res,r[\"@types\"]])\n",
    "                                #Removing dbpedia types that do not have a correspondence in wikidata\n",
    "                                for l in ls:\n",
    "                                    if(l in db2wdmapping.keys()):\n",
    "                                        l = 'https://www.wikidata.org/wiki/'+db2wdmapping[l]     \n",
    "                                r[\"@typeList\"]=ls\n",
    "                        memes_entities.append(data[row[1]])\n",
    "    save2json(outfile, memes_entities)\n",
    "    save2csv('errors.csv',['kym','entity','@types'],errors)"
   ]
  },
  {
   "cell_type": "code",
   "execution_count": 6,
   "id": "ce596629-a44d-4bd3-a8e3-28d9a1f3e4d8",
   "metadata": {},
   "outputs": [],
   "source": [
    "def get_vision_entities(infile,entity_file,outfile):\n",
    "    vision = []\n",
    "    cache = []\n",
    "    with open(infile) as csvfile:\n",
    "        urls = reader(csvfile)\n",
    "        with open(entity_file) as memes:\n",
    "            data = json.load(memes)\n",
    "            for row in urls:\n",
    "                if(row[1] in data.keys() and not row[1] in cache):\n",
    "                    cache.append([row[1]])\n",
    "                    newdata = data[row[1]]\n",
    "                    newdata['url']=row[1]\n",
    "                    vision.append(data[row[1]])\n",
    "    save2json(outfile, vision)"
   ]
  },
  {
   "cell_type": "code",
   "execution_count": null,
   "id": "46b49deb-e990-4caf-8cba-841e86a52e78",
   "metadata": {},
   "outputs": [],
   "source": []
  },
  {
   "cell_type": "markdown",
   "id": "f8b05228-2d38-49b4-a946-ef1f13ce33da",
   "metadata": {
    "tags": []
   },
   "source": [
    "### Input Files"
   ]
  },
  {
   "cell_type": "code",
   "execution_count": 7,
   "id": "98feae4c-1a0c-4ffd-9a52-b77f02caaa42",
   "metadata": {},
   "outputs": [],
   "source": [
    "kym_memes = 'kym.memes.json'"
   ]
  },
  {
   "cell_type": "code",
   "execution_count": 8,
   "id": "67332742-f9b6-4f9e-8c11-1b2b537834c1",
   "metadata": {},
   "outputs": [],
   "source": [
    "kym_spotlight_entities = 'kym.spotlight.json'"
   ]
  },
  {
   "cell_type": "code",
   "execution_count": 9,
   "id": "e59b39d5-51db-405a-844d-15f44173411b",
   "metadata": {},
   "outputs": [],
   "source": [
    "kym_vision = 'kym.vision.json'"
   ]
  },
  {
   "cell_type": "markdown",
   "id": "7fe06349-2b72-4278-b9bb-5c8043b699c0",
   "metadata": {},
   "source": [
    "\n",
    "### Getting the subset that is present in Wikidata"
   ]
  },
  {
   "cell_type": "code",
   "execution_count": 10,
   "id": "06e9e3fe-e416-41b1-aa00-3ffec5532302",
   "metadata": {},
   "outputs": [],
   "source": [
    "wikidata_kym_aliases = 'aliases.csv'"
   ]
  },
  {
   "cell_type": "code",
   "execution_count": 11,
   "id": "523e0efc-8cb0-4fda-a9b2-2cb90da9cd79",
   "metadata": {},
   "outputs": [],
   "source": [
    "get_kym_metadata(wikidata_kym_aliases,kym_memes,'wiki.'+kym_memes)"
   ]
  },
  {
   "cell_type": "markdown",
   "id": "0672a5b4-a4d6-4fdf-b751-038a9d5efb38",
   "metadata": {},
   "source": [
    "### Gets Spotlights entities associated to KYM subset from Wikidata"
   ]
  },
  {
   "cell_type": "code",
   "execution_count": 12,
   "id": "dbef74c0-fbdc-471f-9c96-90a5e515d134",
   "metadata": {},
   "outputs": [],
   "source": [
    "get_textual_entities(wikidata_kym_aliases,kym_spotlight_entities,'wiki.'+kym_spotlight_entities)"
   ]
  },
  {
   "cell_type": "markdown",
   "id": "df500a8d-0a6d-477a-a8d5-2ee30c4cd9fa",
   "metadata": {},
   "source": [
    "### Gets Google Vision entities associated to KYM subset from Wikidata"
   ]
  },
  {
   "cell_type": "code",
   "execution_count": 13,
   "id": "a0389408-af82-4d9d-b5b6-f4237d389059",
   "metadata": {},
   "outputs": [],
   "source": [
    "get_vision_entities(wikidata_kym_aliases,kym_vision,'wiki.'+kym_vision)"
   ]
  },
  {
   "cell_type": "markdown",
   "id": "1ed1c8d9-9cb9-4a00-aef4-ac992e15e551",
   "metadata": {},
   "source": [
    "# Collect siblings"
   ]
  },
  {
   "cell_type": "code",
   "execution_count": 14,
   "id": "2907bd10-aaba-4f7e-b593-b38dd2e7fc95",
   "metadata": {},
   "outputs": [],
   "source": [
    "siblings_file = 'siblings.csv'"
   ]
  },
  {
   "cell_type": "code",
   "execution_count": 15,
   "id": "c0e817b9-bec9-4a14-9e9d-64c15a19f473",
   "metadata": {},
   "outputs": [],
   "source": [
    "def extract_siblings(infile, outfile):\n",
    "    siblings = []\n",
    "    with open(infile) as inF:\n",
    "        data2filter = json.load(inF)\n",
    "        for m in data2filter:\n",
    "               if('siblings' in m.keys()):\n",
    "                    for s in m['siblings']:\n",
    "                        siblings = siblings + [[m['url'],s]]\n",
    "                    \n",
    "    save2csv(outfile,['meme',\"sibling\"],siblings)"
   ]
  },
  {
   "cell_type": "code",
   "execution_count": 16,
   "id": "b642516a-fab2-498d-8a90-00aa6533acb3",
   "metadata": {},
   "outputs": [],
   "source": [
    "extract_siblings('wiki.kym.memes.json', siblings_file)"
   ]
  },
  {
   "cell_type": "markdown",
   "id": "e86f22d7-641c-48e4-bf25-bb528ddce493",
   "metadata": {},
   "source": [
    "## Add Meme Information from KYM"
   ]
  },
  {
   "cell_type": "code",
   "execution_count": 17,
   "id": "43593f4a-1039-49e0-ac83-6e31f4c9fc95",
   "metadata": {},
   "outputs": [],
   "source": [
    "get_kym_metadata(siblings_file,kym_memes,'siblings.'+kym_memes)"
   ]
  },
  {
   "cell_type": "markdown",
   "id": "d636c92d-d06a-41e1-ab8c-f81526d1c673",
   "metadata": {},
   "source": [
    "## Add Spotlight Entities"
   ]
  },
  {
   "cell_type": "code",
   "execution_count": 18,
   "id": "0c8b9334-42fe-43e6-a40a-39971ad4af30",
   "metadata": {},
   "outputs": [],
   "source": [
    "get_textual_entities(siblings_file,kym_spotlight_entities,'siblings.'+kym_spotlight_entities)"
   ]
  },
  {
   "cell_type": "markdown",
   "id": "fc7756e6-cb23-466e-8e95-4b91c673d627",
   "metadata": {},
   "source": [
    "## Add Vision Entities"
   ]
  },
  {
   "cell_type": "code",
   "execution_count": 19,
   "id": "6fe51191-6599-467b-9ae2-c35d1d099e31",
   "metadata": {},
   "outputs": [],
   "source": [
    "get_vision_entities(siblings_file,kym_vision,'siblings.'+kym_vision)"
   ]
  },
  {
   "cell_type": "markdown",
   "id": "b95eca99-aed0-413e-8cbe-d78c1e59649c",
   "metadata": {},
   "source": [
    "# Conversion to RDF"
   ]
  },
  {
   "cell_type": "code",
   "execution_count": 21,
   "id": "94e1e002-cc0b-4d42-a8da-2fb790834477",
   "metadata": {},
   "outputs": [
    {
     "name": "stdout",
     "output_type": "stream",
     "text": [
      "^C\n"
     ]
    }
   ],
   "source": [
    "!java -jar mapper.jar -m mappings.ttl -o $(pwd)/imkg.nt"
   ]
  },
  {
   "cell_type": "code",
   "execution_count": 27,
   "id": "f0fb8b3b-5822-4a84-b5b7-4a8128402df0",
   "metadata": {},
   "outputs": [
    {
     "name": "stdout",
     "output_type": "stream",
     "text": [
      "<http://www.wikidata.org/entity/Q112977858> <https://www.wikidata.org/wiki/Property:P6760> <https://knowyourmeme.com/memes/yao-ming-face-bitch-please>.\n",
      "<http://www.wikidata.org/entity/Q113126434> <https://www.wikidata.org/wiki/Property:P6760> <https://knowyourmeme.com/memes/soy-boy-face-soyjak>.\n",
      "<http://www.wikidata.org/entity/Q54> <https://www.wikidata.org/wiki/Property:P6760> <https://knowyourmeme.com/memes/all-your-base-are-belong-to-us>.\n",
      "<http://www.wikidata.org/entity/Q56> <https://www.wikidata.org/wiki/Property:P6760> <https://knowyourmeme.com/memes/lolcats>.\n",
      "<http://www.wikidata.org/entity/Q149> <https://www.wikidata.org/wiki/Property:P6760> <https://knowyourmeme.com/memes/nyan-cat>.\n",
      "<http://www.wikidata.org/entity/Q62141> <https://www.wikidata.org/wiki/Property:P6760> <https://knowyourmeme.com/memes/facepalm>.\n",
      "<http://www.wikidata.org/entity/Q88870> <https://www.wikidata.org/wiki/Property:P6760> <https://knowyourmeme.com/memes/polandball>.\n",
      "<http://www.wikidata.org/entity/Q139274> <https://www.wikidata.org/wiki/Property:P6760> <https://knowyourmeme.com/memes/december-21st-2012>.\n",
      "<http://www.wikidata.org/entity/Q154619> <https://www.wikidata.org/wiki/Property:P6760> <https://knowyourmeme.com/memes/godwins-law>.\n",
      "<http://www.wikidata.org/entity/Q211531> <https://www.wikidata.org/wiki/Property:P6760> <https://knowyourmeme.com/memes/the-invisible-pink-unicorn>.\n"
     ]
    }
   ],
   "source": [
    "!head test.nt"
   ]
  },
  {
   "cell_type": "code",
   "execution_count": 28,
   "id": "9cd8907f-06f2-4bdb-91ed-db2ed5a37faa",
   "metadata": {},
   "outputs": [
    {
     "name": "stdout",
     "output_type": "stream",
     "text": [
      "Requirement already satisfied: rdflib in /opt/conda/lib/python3.10/site-packages (6.2.0)\n",
      "Requirement already satisfied: pyparsing in /opt/conda/lib/python3.10/site-packages (from rdflib) (3.0.9)\n",
      "Requirement already satisfied: setuptools in /opt/conda/lib/python3.10/site-packages (from rdflib) (63.2.0)\n",
      "Requirement already satisfied: isodate in /opt/conda/lib/python3.10/site-packages (from rdflib) (0.6.1)\n",
      "Requirement already satisfied: six in /opt/conda/lib/python3.10/site-packages (from isodate->rdflib) (1.16.0)\n"
     ]
    }
   ],
   "source": [
    "! pip install rdflib"
   ]
  },
  {
   "cell_type": "code",
   "execution_count": 42,
   "id": "24ac35a0-369c-4cf9-9025-6b453ce97c32",
   "metadata": {},
   "outputs": [],
   "source": [
    "import rdflib"
   ]
  },
  {
   "cell_type": "code",
   "execution_count": 43,
   "id": "d777504c-5fa3-4dfd-9065-68bfbb3e7d5f",
   "metadata": {},
   "outputs": [],
   "source": [
    "from rdflib import Graph as RDFGraph"
   ]
  },
  {
   "cell_type": "code",
   "execution_count": 44,
   "id": "9af8b7d2-3e82-41f9-8f57-c0ea27877b18",
   "metadata": {},
   "outputs": [
    {
     "data": {
      "text/plain": [
       "<Graph identifier=N7cc607ed587d43508fe6e48889aadf1c (<class 'rdflib.graph.Graph'>)>"
      ]
     },
     "execution_count": 44,
     "metadata": {},
     "output_type": "execute_result"
    }
   ],
   "source": [
    "rg = RDFGraph()\n",
    "rg.parse('./imkg.nt', format='nt')"
   ]
  },
  {
   "cell_type": "code",
   "execution_count": 45,
   "id": "83552cb0-6384-4768-8689-df8686d2132a",
   "metadata": {},
   "outputs": [
    {
     "data": {
      "text/plain": [
       "148731"
      ]
     },
     "execution_count": 45,
     "metadata": {},
     "output_type": "execute_result"
    }
   ],
   "source": [
    "len(rg)"
   ]
  },
  {
   "cell_type": "code",
   "execution_count": null,
   "id": "1d34f574-656b-4bf2-aa8f-859bce91757f",
   "metadata": {},
   "outputs": [],
   "source": []
  }
 ],
 "metadata": {
  "kernelspec": {
   "display_name": "Python 3 (ipykernel)",
   "language": "python",
   "name": "python3"
  },
  "language_info": {
   "codemirror_mode": {
    "name": "ipython",
    "version": 3
   },
   "file_extension": ".py",
   "mimetype": "text/x-python",
   "name": "python",
   "nbconvert_exporter": "python",
   "pygments_lexer": "ipython3",
   "version": "3.10.5"
  }
 },
 "nbformat": 4,
 "nbformat_minor": 5
}
