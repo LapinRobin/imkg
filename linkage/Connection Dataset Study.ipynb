{
 "cells": [
  {
   "cell_type": "code",
   "execution_count": 18,
   "id": "7c55dac6-3056-4b2b-818b-8227fea4497e",
   "metadata": {},
   "outputs": [],
   "source": [
    "import json, csv, os, shutil\n",
    "from csv import writer, reader\n",
    "from os import path"
   ]
  },
  {
   "cell_type": "code",
   "execution_count": null,
   "id": "0b4b34c8-289c-4a00-a435-82a6fa33fb58",
   "metadata": {},
   "outputs": [],
   "source": [
    "dump = {}\n",
    "with open('kym2imgflip.csv') as mappingfile:\n",
    "    k2i = reader(mappingfile)\n",
    "    for ki in k2i:\n",
    "        temp_id = ki[1].replace('https://imgflip.com/meme/','').split('/')[0]\n",
    "        if(path.exists('./databytemplate/'+temp_id)):           \n",
    "            shutil.move('./databytemplate/'+temp_id, './databytemplate/mapped/'+temp_id, copy_function = shutil.copy2)"
   ]
  },
  {
   "cell_type": "code",
   "execution_count": 20,
   "id": "72cab1ce-e336-4396-83db-8f3f90856127",
   "metadata": {},
   "outputs": [],
   "source": [
    "l = [[f] for f in os.listdir('../imgflip/databytemplate/') if '.' not in f]"
   ]
  },
  {
   "cell_type": "code",
   "execution_count": 21,
   "id": "87cac42d-e9ec-4797-b34e-197ee6646977",
   "metadata": {},
   "outputs": [
    {
     "data": {
      "text/plain": [
       "[['10013392'],\n",
       " ['10015989'],\n",
       " ['100214972'],\n",
       " ['10023810'],\n",
       " ['1002494'],\n",
       " ['100255588'],\n",
       " ['100295162'],\n",
       " ['10053191'],\n",
       " ['100538243'],\n",
       " ['1006090']]"
      ]
     },
     "execution_count": 21,
     "metadata": {},
     "output_type": "execute_result"
    }
   ],
   "source": [
    "l[0:10]"
   ]
  },
  {
   "cell_type": "code",
   "execution_count": null,
   "id": "744fb376-44cc-46ed-8a6f-0636e3d29492",
   "metadata": {},
   "outputs": [],
   "source": [
    "def save2csv(filename, header, data):\n",
    "    with open(filename, 'w', newline='') as csvfile:\n",
    "        csvw = csv.writer(csvfile, delimiter=',',quotechar='|', quoting=csv.QUOTE_MINIMAL)\n",
    "        csvw.writerow(header)\n",
    "        for d in data:\n",
    "            csvw.writerow(d)"
   ]
  },
  {
   "cell_type": "code",
   "execution_count": null,
   "id": "4fe4d787-6315-4630-9cc3-e1c0e39862bc",
   "metadata": {},
   "outputs": [],
   "source": [
    "save2csv('imgfliptemplates2.csv',['imgflip'],l)"
   ]
  },
  {
   "cell_type": "code",
   "execution_count": 22,
   "id": "33407993-b40b-4d86-8fcd-2d4473e065f5",
   "metadata": {},
   "outputs": [
    {
     "name": "stdout",
     "output_type": "stream",
     "text": [
      "^C\n"
     ]
    }
   ],
   "source": [
    "! ./resolve.sh > resolved.csv"
   ]
  },
  {
   "cell_type": "code",
   "execution_count": 35,
   "id": "c5263c72-c7dc-4866-80aa-cb15c2f13267",
   "metadata": {},
   "outputs": [],
   "source": [
    "import requests\n",
    "from bs4 import BeautifulSoup\n",
    "from difflib import SequenceMatcher\n",
    "\n",
    "\n",
    "SEARCH_SIMILARITY_THRESHOLD = .2\n",
    "\n",
    "HEADERS = {'User-Agent': ('Mozilla/5.0 (Macintosh; Intel Mac OS X 10_11_5) AppleWebKit/537.36 '\n",
    "        '(KHTML, like Gecko) Chrome/50.0.2661.102 Safari/537.36')}\n",
    "\n",
    "\n",
    "def search_meme(text):\n",
    "    \"\"\"Return a meme name and url from a meme keywords.\n",
    "    \"\"\"\n",
    "    r = requests.get('http://knowyourmeme.com/search?q=%s' % text, headers=HEADERS)\n",
    "    soup = BeautifulSoup(r.text, 'html.parser')\n",
    "    memes_list = soup.find(class_='entry_list')\n",
    "    if memes_list:\n",
    "        meme_path = memes_list.find('a', href=True)['href']\n",
    "        return meme_path.replace('-', ' '), 'https://knowyourmeme.com%s' % meme_path\n",
    "    return None, None\n",
    "\n",
    "\n",
    "def search(text):\n",
    "    \"\"\"Return a meme definition from a meme keywords.\n",
    "    \"\"\"\n",
    "    meme_name, url = search_meme(text)\n",
    "    if meme_name and SequenceMatcher(None, text, meme_name).ratio() >= SEARCH_SIMILARITY_THRESHOLD:\n",
    "        r = requests.get(url, headers=HEADERS)\n",
    "        soup = BeautifulSoup(r.text, 'html.parser')\n",
    "        entry = soup.find('h2', {'id': 'about'})\n",
    "        return '%s - %s' % (meme_name.split('/')[-1].title(), entry.next.next.next.text)\n",
    "\n",
    "    \n",
    "def url(text):\n",
    "    \"\"\"Return a meme definition from a meme keywords.\n",
    "    \"\"\"\n",
    "    meme_name, url = search_meme(text)\n",
    "    if meme_name and SequenceMatcher(None, text, meme_name).ratio() >= SEARCH_SIMILARITY_THRESHOLD:\n",
    "        r = requests.get(url, headers=HEADERS)\n",
    "        soup = BeautifulSoup(r.text, 'html.parser')\n",
    "        entry = soup.find('h2', {'id': 'about'})\n",
    "        return url\n",
    "\n",
    "def name(text):\n",
    "    \"\"\"Return a meme definition from a meme keywords.\n",
    "    \"\"\"\n",
    "    meme_name, url = search_meme(text)\n",
    "    if meme_name and SequenceMatcher(None, text, meme_name).ratio() >= SEARCH_SIMILARITY_THRESHOLD:\n",
    "        r = requests.get(url, headers=HEADERS)\n",
    "        soup = BeautifulSoup(r.text, 'html.parser')\n",
    "        entry = soup.find('h2', {'id': 'about'})\n",
    "        return meme_name.split('/')[-1].title()"
   ]
  },
  {
   "cell_type": "code",
   "execution_count": null,
   "id": "81b2d8a0-ce2c-4e4c-9496-50f8433f3997",
   "metadata": {},
   "outputs": [],
   "source": []
  },
  {
   "cell_type": "code",
   "execution_count": 38,
   "id": "33d63691-eb07-483b-84e5-1cdaad4844b6",
   "metadata": {},
   "outputs": [],
   "source": [
    "search('is this a pidgeon')"
   ]
  },
  {
   "cell_type": "code",
   "execution_count": null,
   "id": "a3d19046-add7-4b22-8871-644dcbd007ab",
   "metadata": {},
   "outputs": [],
   "source": [
    "def save2csv(filename, header, data):\n",
    "    with open(filename, 'w', newline='') as csvfile:\n",
    "        csvw = csv.writer(csvfile, delimiter=',',quotechar='|', quoting=csv.QUOTE_MINIMAL)\n",
    "        csvw.writerow(header)\n",
    "        for d in data:\n",
    "            csvw.writerow(d)"
   ]
  },
  {
   "cell_type": "code",
   "execution_count": null,
   "id": "77d10893-0484-4927-a26e-f7a8efa4e6c3",
   "metadata": {},
   "outputs": [],
   "source": [
    "from csv import writer, reader, QUOTE_MINIMAL"
   ]
  },
  {
   "cell_type": "code",
   "execution_count": null,
   "id": "b42034ab-f53a-4a68-8b07-e0c2e9eab502",
   "metadata": {},
   "outputs": [],
   "source": [
    "with open('imgflip2kym.csv', 'w', newline='') as csvfile1:\n",
    "    csvw = writer(csvfile1, delimiter=',',quotechar='|', quoting=QUOTE_MINIMAL)\n",
    "    csvw.writerow(['imgflip', 'name', 'kym', 'name'])\n",
    "    csvfile1.flush()\n",
    "    with open('./imgflip_templates.csv') as csvfile:\n",
    "        urls = reader(csvfile)\n",
    "        for imgflip_meme in urls:\n",
    "            l = url(imgflip_meme[1].replace('-',' '))\n",
    "            if l:\n",
    "                csvw.writerow(imgflip_meme+l)\n",
    "                csvfile1.flush()"
   ]
  },
  {
   "cell_type": "code",
   "execution_count": null,
   "id": "88970a8d-2fc4-428e-affa-b5eaec4ed59e",
   "metadata": {},
   "outputs": [],
   "source": []
  },
  {
   "cell_type": "code",
   "execution_count": 12,
   "id": "b42597cb-ee47-4bd6-8d8b-04e6b43a1cf7",
   "metadata": {},
   "outputs": [],
   "source": [
    "import pandas as pd"
   ]
  },
  {
   "cell_type": "code",
   "execution_count": 15,
   "id": "4ebd0ce1-afb2-468a-ae92-e6bf85c4bf46",
   "metadata": {},
   "outputs": [],
   "source": [
    "links = pd.read_csv('imgflip2kym.csv')"
   ]
  },
  {
   "cell_type": "code",
   "execution_count": 17,
   "id": "f5381f5e-6b29-4664-8859-153885ef5cef",
   "metadata": {},
   "outputs": [
    {
     "data": {
      "text/html": [
       "<div>\n",
       "<style scoped>\n",
       "    .dataframe tbody tr th:only-of-type {\n",
       "        vertical-align: middle;\n",
       "    }\n",
       "\n",
       "    .dataframe tbody tr th {\n",
       "        vertical-align: top;\n",
       "    }\n",
       "\n",
       "    .dataframe thead th {\n",
       "        text-align: right;\n",
       "    }\n",
       "</style>\n",
       "<table border=\"1\" class=\"dataframe\">\n",
       "  <thead>\n",
       "    <tr style=\"text-align: right;\">\n",
       "      <th></th>\n",
       "      <th>imgflip_url</th>\n",
       "      <th>imgflip_name</th>\n",
       "      <th>kym_url</th>\n",
       "    </tr>\n",
       "  </thead>\n",
       "  <tbody>\n",
       "    <tr>\n",
       "      <th>0</th>\n",
       "      <td>https://imgflip.com/meme/10-Guy</td>\n",
       "      <td>10-Guy</td>\n",
       "      <td>https://knowyourmeme.com/memes/10-guy</td>\n",
       "    </tr>\n",
       "    <tr>\n",
       "      <th>1</th>\n",
       "      <td>https://imgflip.com/meme/10013392/Happy-Squirrel</td>\n",
       "      <td>Happy-Squirrel</td>\n",
       "      <td>NaN</td>\n",
       "    </tr>\n",
       "    <tr>\n",
       "      <th>2</th>\n",
       "      <td>https://imgflip.com/meme/100214972/idiot-skull</td>\n",
       "      <td>idiot-skull</td>\n",
       "      <td>NaN</td>\n",
       "    </tr>\n",
       "    <tr>\n",
       "      <th>3</th>\n",
       "      <td>https://imgflip.com/meme/100255588/Are-we-the-...</td>\n",
       "      <td>Are-we-the-baddies</td>\n",
       "      <td>https://knowyourmeme.com/memes/are-we-the-baddies</td>\n",
       "    </tr>\n",
       "    <tr>\n",
       "      <th>4</th>\n",
       "      <td>https://imgflip.com/meme/100295162/Turn-up-the...</td>\n",
       "      <td>Turn-up-the-volume</td>\n",
       "      <td>https://knowyourmeme.com/memes/turn-up-the-volume</td>\n",
       "    </tr>\n",
       "    <tr>\n",
       "      <th>...</th>\n",
       "      <td>...</td>\n",
       "      <td>...</td>\n",
       "      <td>...</td>\n",
       "    </tr>\n",
       "    <tr>\n",
       "      <th>1797</th>\n",
       "      <td>https://imgflip.com/meme/Zombie-Bad-Luck-Brian</td>\n",
       "      <td>Zombie-Bad-Luck-Brian</td>\n",
       "      <td>NaN</td>\n",
       "    </tr>\n",
       "    <tr>\n",
       "      <th>1798</th>\n",
       "      <td>https://imgflip.com/meme/Zombie-Overly-Attache...</td>\n",
       "      <td>Zombie-Overly-Attached-Girlfriend</td>\n",
       "      <td>NaN</td>\n",
       "    </tr>\n",
       "    <tr>\n",
       "      <th>1799</th>\n",
       "      <td>https://imgflip.com/meme/Zorg</td>\n",
       "      <td>Zorg</td>\n",
       "      <td>NaN</td>\n",
       "    </tr>\n",
       "    <tr>\n",
       "      <th>1800</th>\n",
       "      <td>https://imgflip.com/meme/Zuckerberg</td>\n",
       "      <td>Zuckerberg</td>\n",
       "      <td>https://knowyourmeme.com/memes/people/mark-zuc...</td>\n",
       "    </tr>\n",
       "    <tr>\n",
       "      <th>1801</th>\n",
       "      <td>imgflip</td>\n",
       "      <td>name</td>\n",
       "      <td>kym</td>\n",
       "    </tr>\n",
       "  </tbody>\n",
       "</table>\n",
       "<p>1802 rows × 3 columns</p>\n",
       "</div>"
      ],
      "text/plain": [
       "                                            imgflip_url  \\\n",
       "0                       https://imgflip.com/meme/10-Guy   \n",
       "1      https://imgflip.com/meme/10013392/Happy-Squirrel   \n",
       "2        https://imgflip.com/meme/100214972/idiot-skull   \n",
       "3     https://imgflip.com/meme/100255588/Are-we-the-...   \n",
       "4     https://imgflip.com/meme/100295162/Turn-up-the...   \n",
       "...                                                 ...   \n",
       "1797     https://imgflip.com/meme/Zombie-Bad-Luck-Brian   \n",
       "1798  https://imgflip.com/meme/Zombie-Overly-Attache...   \n",
       "1799                      https://imgflip.com/meme/Zorg   \n",
       "1800                https://imgflip.com/meme/Zuckerberg   \n",
       "1801                                            imgflip   \n",
       "\n",
       "                           imgflip_name  \\\n",
       "0                                10-Guy   \n",
       "1                        Happy-Squirrel   \n",
       "2                           idiot-skull   \n",
       "3                    Are-we-the-baddies   \n",
       "4                    Turn-up-the-volume   \n",
       "...                                 ...   \n",
       "1797              Zombie-Bad-Luck-Brian   \n",
       "1798  Zombie-Overly-Attached-Girlfriend   \n",
       "1799                               Zorg   \n",
       "1800                         Zuckerberg   \n",
       "1801                               name   \n",
       "\n",
       "                                                kym_url  \n",
       "0                 https://knowyourmeme.com/memes/10-guy  \n",
       "1                                                   NaN  \n",
       "2                                                   NaN  \n",
       "3     https://knowyourmeme.com/memes/are-we-the-baddies  \n",
       "4     https://knowyourmeme.com/memes/turn-up-the-volume  \n",
       "...                                                 ...  \n",
       "1797                                                NaN  \n",
       "1798                                                NaN  \n",
       "1799                                                NaN  \n",
       "1800  https://knowyourmeme.com/memes/people/mark-zuc...  \n",
       "1801                                                kym  \n",
       "\n",
       "[1802 rows x 3 columns]"
      ]
     },
     "execution_count": 17,
     "metadata": {},
     "output_type": "execute_result"
    }
   ],
   "source": [
    "links"
   ]
  },
  {
   "cell_type": "code",
   "execution_count": 16,
   "id": "78fd23dc-8bf3-49cc-9b40-9df313e09b70",
   "metadata": {},
   "outputs": [],
   "source": [
    "non_nulls = links.dropna()"
   ]
  },
  {
   "cell_type": "code",
   "execution_count": null,
   "id": "2e061799-0b99-495d-a88e-1cf2e8320893",
   "metadata": {},
   "outputs": [],
   "source": [
    "ds1 = set(map(tuple, links.values))\n",
    "ds2 = set(map(tuple, non_nulls.values))"
   ]
  },
  {
   "cell_type": "code",
   "execution_count": null,
   "id": "4b4fcd34-d2d3-4ac2-8a18-31bde82a993d",
   "metadata": {},
   "outputs": [],
   "source": []
  },
  {
   "cell_type": "code",
   "execution_count": null,
   "id": "0ae5b73d-b0fe-4e46-b16d-73d94022bf51",
   "metadata": {},
   "outputs": [],
   "source": []
  },
  {
   "cell_type": "code",
   "execution_count": null,
   "id": "14895472-af99-497f-93a9-83cc584857d0",
   "metadata": {},
   "outputs": [],
   "source": [
    "nulls = pd.DataFrame(list(ds1.difference(ds2)))"
   ]
  },
  {
   "cell_type": "code",
   "execution_count": null,
   "id": "568552b3-2e77-4e44-af12-c63041684b06",
   "metadata": {},
   "outputs": [],
   "source": []
  },
  {
   "cell_type": "code",
   "execution_count": null,
   "id": "66543dbf-5c6e-4db2-bb00-0ae075f80892",
   "metadata": {},
   "outputs": [],
   "source": [
    "nulls.apply(lambda x: print(x[1]), axis=1)"
   ]
  },
  {
   "cell_type": "code",
   "execution_count": null,
   "id": "588fbed6-e4f4-4adc-b2df-467cfbd29d3d",
   "metadata": {},
   "outputs": [],
   "source": [
    "with open('imgflip2kym.csv', 'rw', newline='') as csvfile1:\n",
    "    csvw = writer(csvfile1, delimiter=',',quotechar='|', quoting=QUOTE_MINIMAL)\n",
    "    csvw.writerow(['imgflip', 'name', 'kym', 'name'])\n",
    "    csvfile1.flush()\n",
    "    with open('./imgflip_templates.csv') as csvfile:\n",
    "        urls = reader(csvfile)\n",
    "        for imgflip_meme in urls:\n",
    "            l = url(imgflip_meme[1].replace('-',' '))\n",
    "            if l:\n",
    "                csvw.writerow(imgflip_meme+l)\n",
    "                csvfile1.flush()"
   ]
  },
  {
   "cell_type": "code",
   "execution_count": 21,
   "id": "bbc23d33-7d2a-43d0-8149-b28e4da0e054",
   "metadata": {
    "tags": []
   },
   "outputs": [],
   "source": [
    "kym = pd.read_csv('queryResults.csv', delimiter=';', names=[\"kym_url\",\"kym_name\"])"
   ]
  },
  {
   "cell_type": "code",
   "execution_count": 22,
   "id": "b283c008-18a4-445e-856d-54e18eba53da",
   "metadata": {},
   "outputs": [
    {
     "data": {
      "text/html": [
       "<div>\n",
       "<style scoped>\n",
       "    .dataframe tbody tr th:only-of-type {\n",
       "        vertical-align: middle;\n",
       "    }\n",
       "\n",
       "    .dataframe tbody tr th {\n",
       "        vertical-align: top;\n",
       "    }\n",
       "\n",
       "    .dataframe thead th {\n",
       "        text-align: right;\n",
       "    }\n",
       "</style>\n",
       "<table border=\"1\" class=\"dataframe\">\n",
       "  <thead>\n",
       "    <tr style=\"text-align: right;\">\n",
       "      <th></th>\n",
       "      <th>kym_url</th>\n",
       "      <th>kym_name</th>\n",
       "    </tr>\n",
       "  </thead>\n",
       "  <tbody>\n",
       "    <tr>\n",
       "      <th>0</th>\n",
       "      <td>s</td>\n",
       "      <td>title</td>\n",
       "    </tr>\n",
       "    <tr>\n",
       "      <th>1</th>\n",
       "      <td>https://knowyourmeme.com/memes/normie</td>\n",
       "      <td>Normie</td>\n",
       "    </tr>\n",
       "    <tr>\n",
       "      <th>2</th>\n",
       "      <td>https://knowyourmeme.com/memes/budd-dwyer-suic...</td>\n",
       "      <td>Budd Dwyer Suicide Video</td>\n",
       "    </tr>\n",
       "    <tr>\n",
       "      <th>3</th>\n",
       "      <td>https://knowyourmeme.com/memes/boop</td>\n",
       "      <td>Boop</td>\n",
       "    </tr>\n",
       "    <tr>\n",
       "      <th>4</th>\n",
       "      <td>https://knowyourmeme.com/memes/impossible-is-n...</td>\n",
       "      <td>Impossible is Nothing</td>\n",
       "    </tr>\n",
       "    <tr>\n",
       "      <th>...</th>\n",
       "      <td>...</td>\n",
       "      <td>...</td>\n",
       "    </tr>\n",
       "    <tr>\n",
       "      <th>1400</th>\n",
       "      <td>https://knowyourmeme.com/memes/barack-obama-is...</td>\n",
       "      <td>Barack Obama Is Your New Bicycle</td>\n",
       "    </tr>\n",
       "    <tr>\n",
       "      <th>1401</th>\n",
       "      <td>https://knowyourmeme.com/memes/oh-long-johnson</td>\n",
       "      <td>Oh Long Johnson</td>\n",
       "    </tr>\n",
       "    <tr>\n",
       "      <th>1402</th>\n",
       "      <td>https://knowyourmeme.com/memes/whoosh-%D0%B2%D...</td>\n",
       "      <td>Whoosh / вжух</td>\n",
       "    </tr>\n",
       "    <tr>\n",
       "      <th>1403</th>\n",
       "      <td>https://knowyourmeme.com/memes/necroposting</td>\n",
       "      <td>Necroposting</td>\n",
       "    </tr>\n",
       "    <tr>\n",
       "      <th>1404</th>\n",
       "      <td>https://knowyourmeme.com/memes/lick-icons</td>\n",
       "      <td>Lick Icons ,</td>\n",
       "    </tr>\n",
       "  </tbody>\n",
       "</table>\n",
       "<p>1405 rows × 2 columns</p>\n",
       "</div>"
      ],
      "text/plain": [
       "                                                kym_url  \\\n",
       "0                                                     s   \n",
       "1                 https://knowyourmeme.com/memes/normie   \n",
       "2     https://knowyourmeme.com/memes/budd-dwyer-suic...   \n",
       "3                   https://knowyourmeme.com/memes/boop   \n",
       "4     https://knowyourmeme.com/memes/impossible-is-n...   \n",
       "...                                                 ...   \n",
       "1400  https://knowyourmeme.com/memes/barack-obama-is...   \n",
       "1401     https://knowyourmeme.com/memes/oh-long-johnson   \n",
       "1402  https://knowyourmeme.com/memes/whoosh-%D0%B2%D...   \n",
       "1403        https://knowyourmeme.com/memes/necroposting   \n",
       "1404          https://knowyourmeme.com/memes/lick-icons   \n",
       "\n",
       "                              kym_name  \n",
       "0                                title  \n",
       "1                               Normie  \n",
       "2             Budd Dwyer Suicide Video  \n",
       "3                                 Boop  \n",
       "4                Impossible is Nothing  \n",
       "...                                ...  \n",
       "1400  Barack Obama Is Your New Bicycle  \n",
       "1401                   Oh Long Johnson  \n",
       "1402                     Whoosh / вжух  \n",
       "1403                      Necroposting  \n",
       "1404                      Lick Icons ,  \n",
       "\n",
       "[1405 rows x 2 columns]"
      ]
     },
     "execution_count": 22,
     "metadata": {},
     "output_type": "execute_result"
    }
   ],
   "source": [
    "kym"
   ]
  },
  {
   "cell_type": "code",
   "execution_count": 54,
   "id": "c37ae7d3-aa42-4020-bde4-e3a29a976d57",
   "metadata": {},
   "outputs": [],
   "source": [
    "imgflip_url = pd.read_csv('imgflip_templates.csv', names=[\"imgflip_url\",\"imgflip_name\"])"
   ]
  },
  {
   "cell_type": "code",
   "execution_count": 55,
   "id": "491c7e71-1ab6-4408-83dc-28a2c8cf12e3",
   "metadata": {},
   "outputs": [],
   "source": [
    "imgflip_codes = pd.read_csv('resolved2.csv', names=[\"imgflip_url\",\"imgflip_code\"])"
   ]
  },
  {
   "cell_type": "code",
   "execution_count": 59,
   "id": "4db83895-73cb-4df8-9b8a-17b1632d2e7c",
   "metadata": {},
   "outputs": [],
   "source": [
    "imgflip = imgflip_url.set_index('imgflip_url').join(imgflip_codes.set_index('imgflip_url'), on='imgflip_url').reset_index()"
   ]
  },
  {
   "cell_type": "code",
   "execution_count": 99,
   "id": "59f21f86-b67e-4ccc-85d9-85f839d23398",
   "metadata": {},
   "outputs": [],
   "source": [
    "tofind = [\"1990s-First-World-Problems\",\"A-winner-is-you\",\"Alice-in-Wonderland-Face-Palm-Facepalm\",\"All-your-base\",\"all-your-base-are-belong-to-us\",\"ALL-YOUR-BASE-ARE-BELONG-TO-US\",\"All-your-base-are-belong-to-us\",\"All-Your-Bases-Are-Belong-To-Us\",\"Angry-German-Kid\",\"Angry-German-kid\",\"Angry-German-Kid-Scream\",\"ANIME-BUTTERFLY-MEME\",\"Arson-Girl\",\"Ash-Ketchum-Facepalm\",\"Aurora-Borealis-Steamed-Hams\",\"Bad-Luck-Brian\",\"Bad-Luck-Brian-Cry\",\"Bad-Luck-Brian-Headless\",\"Bad-Luck-Brian-Nerdy\",\"Bad-Luck-Brian-Radioactive\",\"Badger-badger-badger\",\"Be-Like-Bill\",\"Beat-up-Bad-Luck-Brian\",\"Bernie-Or-Hillary\",\"Bernie-or-Hillary\",\"Bernie-or-Hillary-on-the-Issues\",\"Bitch-Please\",\"black-bad-Luck-Brian\",\"Blank-Starter-Pack\",\"burger-king\",\"Bush-did-911\",\"Calculating-meme\",\"Captain-Obvious\",\"captain-obvious\",\"Captain-obvious\",\"Captain-Obvious-2\",\"Captain-Obvious-Bathing-Suit\",\"Captain-Obvious-large\",\"Captain-Picard-Facepalm\",\"CATURDAY\",\"Caturday-Cats-helping-with-coffee\",\"Caturday-Dreamin\",\"Caveman-spongebob\",\"Christmas-FHRITP\",\"Chuck-norris-fact\",\"Citation-Needed\",\"Computer-Guy-And-Table-Flip-Guy\",\"Computer-Guy-Facepalm\",\"Computertable-flip-guy\",\"Confession-Kid\",\"CONFUSED-MATH-LADY\",\"Confused-Math-Lady\",\"crying-black-guy\",\"Crying-Jordan\",\"Crying-Lady\",\"crying-michael-jordan\",\"Crying-Michael-Jordan\",\"Crying-Michael-Jordan--Computer\",\"Crying-MJ\",\"Dat-boi\",\"dat-boi\",\"Dat-Boi\",\"David-After-Dentist---Is-This-Real-Life\",\"Disaster-Girl\",\"disaster-girl-anime-megumin-konosuba-explotion\",\"disaster-girl-car\",\"Disaster-Girl-Explosion\",\"Disaster-Girl-GIF\",\"Distracted-boyfriend\",\"Distracted-Boyfriend\",\"distracted-boyfriend-anime-re-zero\",\"Distracted-Boyfriend-Matrix-Edition\",\"Do-a-Barrel-Roll\",\"Do-a-barrel-roll\",\"Do-A-Barrel-Roll\",\"Doge\",\"Doge-2\",\"Dont-talk-to-me-or-my-son-ever-again\",\"dont-talk-to-me-or-my-son-ever-again\",\"Dont-Talk-To-Me-Or-My-Son-Ever-Again\",\"Dont-talk-to-me-or-my-son-ever-again-birds\",\"Doris-look-of-disapproval\",\"Double-Facepalm\",\"Dramatic-Chipmunk\",\"dramatic-chipmunk\",\"Duck-Face\",\"Duck-Face-Chicks\",\"EBOLA-CHAN\",\"Evil-Girl-Fire\",\"Facepalm\",\"Facepalm-Bear\",\"fhritp\",\"First-World-Problems\",\"First-World-Problems-Cat\",\"First-World-Problems-Izzy\",\"Flip-Table\",\"florida-man\",\"Forever-Alone\",\"forever-alone\",\"Forever-Alone-Christmas\",\"gave-me-cancer\",\"girl-fire-house\",\"Girl-house-on-fire\",\"Glorious-PC-Gaming-Master-Race\",\"Goatse\",\"God-Hands-Goatse\",\"Godwins-Law-Chart\",\"Good-Guy-Greg\",\"Good-Guy-Greg-No-Joint\",\"Grammar-Nazi\",\"Grammar-Nazi-Cat\",\"Grammar-Nazi-Teacher\",\"grimdark-chrisy\",\"Grumpy-cat\",\"Grumpy-Cat\",\"grumpy-cat-again\",\"Grumpy-Cat-Bed\",\"Grumpy-Cat-Birthday\",\"Grumpy-Cat-Reverse\",\"Grumpy-Cat-Star-Wars\",\"Grumpy-Cat-Table\",\"hello-darkness\",\"hello-darkness-my-old-friend\",\"Hitler-Downfall\",\"hitler-taking-off-glasses\",\"Hmm-Captain-Obvious\",\"Horse-head-mask\",\"Horse-head-mask-and-now-we-wait\",\"I-am-Error\",\"I-Am-Error\",\"I-am-error\",\"Ice-Bucket-Challenge\",\"Is-this-a-bird\",\"Is-This-A-blank\",\"Is-This-a-Pigeon\",\"Is-This-A-Pigeon\",\"Its-Caturday\",\"its-dangerous-to-go-alone-take-this\",\"Its-dangerous-to-go-alone-Take-this-\",\"Its-OVER-9000\",\"Its-over-9000-Dragon-Ball-Z-Newer-Animation\",\"jesus-facepalm\",\"Karen\",\"Kekistan\",\"kewlew-as-captain-obvious\",\"Keyboard-cat\",\"King-Harkinian\",\"Kitler\",\"Kyon-Facepalm-Ver-2\",\"le-happy-merchant\",\"lolcat\",\"Longcat\",\"Math-ladyConfused-lady\",\"meme-man\",\"Michael-Jordan\",\"Michael-Jordan-Crying\",\"Morshu-fast\",\"My-eyes-are-up-here\",\"New-Michael-Jordan-crying-meme\",\"NPC\",\"Nuclear-Gandhi\",\"Numa-Numa-Guy\",\"Nyan-Cat\",\"O-RLY\",\"Obama-Facepalm-250px\",\"oh-long-Johnson\",\"ola-k-ase\",\"omae-wa-mou-shindeiru\",\"OMG-Karen\",\"Overly-Attached-Girlfriend\",\"pedobear\",\"Pepe-the-Frog\",\"Picard-Riker-Worf-Triple-Facepalm\",\"Polandball\",\"Pope-Francis-Facepalm\",\"Putin-Facepalm\",\"Really-Distracted-Boyfriend\",\"Resting-Bitch-Face\",\"Roblox-Death-Sound\",\"Sad-cat\",\"Sad-micheal-jordan\",\"Sad-Spiderman\",\"sans-lenny-face\",\"Scumbag-Steve\",\"serbia-strong\",\"Shrek-is-love-shrek-is-life\",\"Sniffles-Facepalm-HTF\",\"Spiderman-Hospital\",\"Spongegar\",\"Star-on-December-21st\",\"Stoned-Fox\",\"Success-Kid-Original\",\"Table-Flip-Guy\",\"Ted-Cruz-Zodiac-Killer\",\"Thanks-captain-obvious\",\"Thanks-Obama\",\"That-Post-gave-me-Cancer\",\"The-Ban-Hammer\",\"The-cake-is-a-lie\",\"the-comments-gave-me-cancer\",\"The-most-interesting-man-in-the-world-facepalm\",\"The-ugly-barnacle\",\"Trollface\",\"Udo----\",\"unlucky-ginger-kid\",\"Virgin-vs-chad\",\"Virgin-vs-Chad\",\"Waluigi\",\"We-are-number-one\",\"Why-is-this-happening-to-me-david-after-dentist\",\"Will-it-blend\",\"wololo\",\"wow-doge\",\"You-Are-An-Idiot\",\"Zombie-Bad-Luck-Brian\",\"Zombie-Overly-Attached-Girlfriend\"]"
   ]
  },
  {
   "cell_type": "code",
   "execution_count": 123,
   "id": "f67abacb-70ab-45c5-9dae-897a98d37a05",
   "metadata": {},
   "outputs": [],
   "source": [
    "name = 'Be-Like-Bill'"
   ]
  },
  {
   "cell_type": "code",
   "execution_count": 124,
   "id": "2088ae35-069a-4bc4-9d22-ba07e99683e6",
   "metadata": {},
   "outputs": [
    {
     "data": {
      "text/plain": [
       "array([ True])"
      ]
     },
     "execution_count": 124,
     "metadata": {},
     "output_type": "execute_result"
    }
   ],
   "source": [
    "imgflip[imgflip['imgflip_name']==name].index.notnull()"
   ]
  },
  {
   "cell_type": "code",
   "execution_count": 135,
   "id": "5bfe09cb-fbbd-4622-a7d5-74c443351e81",
   "metadata": {},
   "outputs": [],
   "source": [
    "tofind = ['Facepalm']"
   ]
  },
  {
   "cell_type": "code",
   "execution_count": 137,
   "id": "7295b9c7-51a0-4c19-bfb9-0e4c09049d50",
   "metadata": {},
   "outputs": [],
   "source": [
    "# imgflip[imgflip['imgflip_name'].isin(tofind)]['imgflip_code'].apply(lambda x : x.replace('https://imgflip.com/meme/','')).to_csv('codes.pandas.csv')"
   ]
  },
  {
   "cell_type": "code",
   "execution_count": 147,
   "id": "8697b85f-b240-4804-ab7e-ac5245458ec4",
   "metadata": {},
   "outputs": [
    {
     "data": {
      "text/html": [
       "<div>\n",
       "<style scoped>\n",
       "    .dataframe tbody tr th:only-of-type {\n",
       "        vertical-align: middle;\n",
       "    }\n",
       "\n",
       "    .dataframe tbody tr th {\n",
       "        vertical-align: top;\n",
       "    }\n",
       "\n",
       "    .dataframe thead th {\n",
       "        text-align: right;\n",
       "    }\n",
       "</style>\n",
       "<table border=\"1\" class=\"dataframe\">\n",
       "  <thead>\n",
       "    <tr style=\"text-align: right;\">\n",
       "      <th></th>\n",
       "      <th>imgflip_url</th>\n",
       "      <th>imgflip_name</th>\n",
       "      <th>imgflip_code</th>\n",
       "    </tr>\n",
       "  </thead>\n",
       "  <tbody>\n",
       "    <tr>\n",
       "      <th>411</th>\n",
       "      <td>https://imgflip.com/meme/Captain-Picard-Facepalm</td>\n",
       "      <td>Captain-Picard-Facepalm</td>\n",
       "      <td>https://imgflip.com/meme/1509839</td>\n",
       "    </tr>\n",
       "    <tr>\n",
       "      <th>413</th>\n",
       "      <td>https://imgflip.com/meme/Facepalm-Bear</td>\n",
       "      <td>Facepalm-Bear</td>\n",
       "      <td>https://imgflip.com/meme/1511235</td>\n",
       "    </tr>\n",
       "    <tr>\n",
       "      <th>1480</th>\n",
       "      <td>https://imgflip.com/meme/Computer-Guy-Facepalm</td>\n",
       "      <td>Computer-Guy-Facepalm</td>\n",
       "      <td>https://imgflip.com/meme/577482</td>\n",
       "    </tr>\n",
       "  </tbody>\n",
       "</table>\n",
       "</div>"
      ],
      "text/plain": [
       "                                           imgflip_url  \\\n",
       "411   https://imgflip.com/meme/Captain-Picard-Facepalm   \n",
       "413             https://imgflip.com/meme/Facepalm-Bear   \n",
       "1480    https://imgflip.com/meme/Computer-Guy-Facepalm   \n",
       "\n",
       "                 imgflip_name                      imgflip_code  \n",
       "411   Captain-Picard-Facepalm  https://imgflip.com/meme/1509839  \n",
       "413             Facepalm-Bear  https://imgflip.com/meme/1511235  \n",
       "1480    Computer-Guy-Facepalm   https://imgflip.com/meme/577482  "
      ]
     },
     "execution_count": 147,
     "metadata": {},
     "output_type": "execute_result"
    }
   ],
   "source": [
    "imgflip[imgflip['imgflip_name'].apply(lambda x: compareOrContains(x, 'Facepalm') > 0.7)]"
   ]
  },
  {
   "cell_type": "code",
   "execution_count": 136,
   "id": "c6fd6cc1-9a10-4348-ac88-f0116ef48cb7",
   "metadata": {},
   "outputs": [
    {
     "ename": "ValueError",
     "evalue": "The truth value of a Int64Index is ambiguous. Use a.empty, a.bool(), a.item(), a.any() or a.all().",
     "output_type": "error",
     "traceback": [
      "\u001b[0;31m---------------------------------------------------------------------------\u001b[0m",
      "\u001b[0;31mValueError\u001b[0m                                Traceback (most recent call last)",
      "Cell \u001b[0;32mIn [136], line 2\u001b[0m\n\u001b[1;32m      1\u001b[0m \u001b[38;5;28;01mfor\u001b[39;00m name \u001b[38;5;129;01min\u001b[39;00m tofind:\n\u001b[0;32m----> 2\u001b[0m     \u001b[38;5;28;01mif\u001b[39;00m  aindex:\n\u001b[1;32m      3\u001b[0m         index \u001b[38;5;241m=\u001b[39m imgflip[imgflip[\u001b[38;5;124m'\u001b[39m\u001b[38;5;124mimgflip_name\u001b[39m\u001b[38;5;124m'\u001b[39m]\u001b[38;5;241m==\u001b[39mname][\u001b[38;5;124m'\u001b[39m\u001b[38;5;124mimgflip_code\u001b[39m\u001b[38;5;124m'\u001b[39m]\u001b[38;5;241m.\u001b[39mindex[\u001b[38;5;241m0\u001b[39m]\n\u001b[1;32m      4\u001b[0m         \u001b[38;5;28mprint\u001b[39m(imgflip[imgflip[\u001b[38;5;124m'\u001b[39m\u001b[38;5;124mimgflip_name\u001b[39m\u001b[38;5;124m'\u001b[39m]\u001b[38;5;241m==\u001b[39mname][\u001b[38;5;124m'\u001b[39m\u001b[38;5;124mimgflip_name\u001b[39m\u001b[38;5;124m'\u001b[39m][index] \u001b[38;5;241m+\u001b[39m \u001b[38;5;124m'\u001b[39m\u001b[38;5;124m/\u001b[39m\u001b[38;5;124m'\u001b[39m \u001b[38;5;241m+\u001b[39m imgflip[imgflip[\u001b[38;5;124m'\u001b[39m\u001b[38;5;124mimgflip_name\u001b[39m\u001b[38;5;124m'\u001b[39m]\u001b[38;5;241m==\u001b[39mname][\u001b[38;5;124m'\u001b[39m\u001b[38;5;124mimgflip_code\u001b[39m\u001b[38;5;124m'\u001b[39m][index]\u001b[38;5;241m.\u001b[39mreplace(\u001b[38;5;124m'\u001b[39m\u001b[38;5;124mhttps://imgflip.com/meme/\u001b[39m\u001b[38;5;124m'\u001b[39m,\u001b[38;5;124m'\u001b[39m\u001b[38;5;124m'\u001b[39m))\n",
      "File \u001b[0;32m/opt/conda/lib/python3.10/site-packages/pandas/core/indexes/base.py:3037\u001b[0m, in \u001b[0;36mIndex.__nonzero__\u001b[0;34m(self)\u001b[0m\n\u001b[1;32m   3035\u001b[0m \u001b[38;5;129m@final\u001b[39m\n\u001b[1;32m   3036\u001b[0m \u001b[38;5;28;01mdef\u001b[39;00m \u001b[38;5;21m__nonzero__\u001b[39m(\u001b[38;5;28mself\u001b[39m):\n\u001b[0;32m-> 3037\u001b[0m     \u001b[38;5;28;01mraise\u001b[39;00m \u001b[38;5;167;01mValueError\u001b[39;00m(\n\u001b[1;32m   3038\u001b[0m         \u001b[38;5;124mf\u001b[39m\u001b[38;5;124m\"\u001b[39m\u001b[38;5;124mThe truth value of a \u001b[39m\u001b[38;5;132;01m{\u001b[39;00m\u001b[38;5;28mtype\u001b[39m(\u001b[38;5;28mself\u001b[39m)\u001b[38;5;241m.\u001b[39m\u001b[38;5;18m__name__\u001b[39m\u001b[38;5;132;01m}\u001b[39;00m\u001b[38;5;124m is ambiguous. \u001b[39m\u001b[38;5;124m\"\u001b[39m\n\u001b[1;32m   3039\u001b[0m         \u001b[38;5;124m\"\u001b[39m\u001b[38;5;124mUse a.empty, a.bool(), a.item(), a.any() or a.all().\u001b[39m\u001b[38;5;124m\"\u001b[39m\n\u001b[1;32m   3040\u001b[0m     )\n",
      "\u001b[0;31mValueError\u001b[0m: The truth value of a Int64Index is ambiguous. Use a.empty, a.bool(), a.item(), a.any() or a.all()."
     ]
    }
   ],
   "source": [
    "for name in tofind:\n",
    "    if  aindex:\n",
    "        index = imgflip[imgflip['imgflip_name']==name]['imgflip_code'].index[0]\n",
    "        print(imgflip[imgflip['imgflip_name']==name]['imgflip_name'][index] + '/' + imgflip[imgflip['imgflip_name']==name]['imgflip_code'][index].replace('https://imgflip.com/meme/',''))"
   ]
  },
  {
   "cell_type": "code",
   "execution_count": null,
   "id": "806a24d5-83e6-4732-ba66-dc50a950b197",
   "metadata": {},
   "outputs": [],
   "source": [
    "imgflip['imgflip_name']=imgflip.apply(lambda x: x[1].replace('-',' '), axis=1)"
   ]
  },
  {
   "cell_type": "code",
   "execution_count": 57,
   "id": "4f1df9af-240d-477d-8801-6f83cc8999d4",
   "metadata": {},
   "outputs": [
    {
     "data": {
      "text/html": [
       "<div>\n",
       "<style scoped>\n",
       "    .dataframe tbody tr th:only-of-type {\n",
       "        vertical-align: middle;\n",
       "    }\n",
       "\n",
       "    .dataframe tbody tr th {\n",
       "        vertical-align: top;\n",
       "    }\n",
       "\n",
       "    .dataframe thead th {\n",
       "        text-align: right;\n",
       "    }\n",
       "</style>\n",
       "<table border=\"1\" class=\"dataframe\">\n",
       "  <thead>\n",
       "    <tr style=\"text-align: right;\">\n",
       "      <th></th>\n",
       "      <th>imgflip_url</th>\n",
       "      <th>imgflip_name</th>\n",
       "    </tr>\n",
       "  </thead>\n",
       "  <tbody>\n",
       "    <tr>\n",
       "      <th>0</th>\n",
       "      <td>https://imgflip.com/meme/10013392/Happy-Squirrel</td>\n",
       "      <td>Happy Squirrel</td>\n",
       "    </tr>\n",
       "    <tr>\n",
       "      <th>1</th>\n",
       "      <td>https://imgflip.com/meme/Chill-Out-Lemur</td>\n",
       "      <td>Chill Out Lemur</td>\n",
       "    </tr>\n",
       "    <tr>\n",
       "      <th>2</th>\n",
       "      <td>https://imgflip.com/meme/100214972/idiot-skull</td>\n",
       "      <td>idiot skull</td>\n",
       "    </tr>\n",
       "    <tr>\n",
       "      <th>3</th>\n",
       "      <td>https://imgflip.com/meme/Obama-No-Listen</td>\n",
       "      <td>Obama No Listen</td>\n",
       "    </tr>\n",
       "    <tr>\n",
       "      <th>4</th>\n",
       "      <td>https://imgflip.com/meme/Gaga-Baby</td>\n",
       "      <td>Gaga Baby</td>\n",
       "    </tr>\n",
       "    <tr>\n",
       "      <th>...</th>\n",
       "      <td>...</td>\n",
       "      <td>...</td>\n",
       "    </tr>\n",
       "    <tr>\n",
       "      <th>1796</th>\n",
       "      <td>https://imgflip.com/meme/Okay-Guy-Rage-Face2</td>\n",
       "      <td>Okay Guy Rage Face2</td>\n",
       "    </tr>\n",
       "    <tr>\n",
       "      <th>1797</th>\n",
       "      <td>https://imgflip.com/meme/99465667/Old-man-cup-...</td>\n",
       "      <td>Old man cup of coffee</td>\n",
       "    </tr>\n",
       "    <tr>\n",
       "      <th>1798</th>\n",
       "      <td>https://imgflip.com/meme/Cool-Cat-Stroll</td>\n",
       "      <td>Cool Cat Stroll</td>\n",
       "    </tr>\n",
       "    <tr>\n",
       "      <th>1799</th>\n",
       "      <td>https://imgflip.com/meme/9965006/Titanic-Sinking</td>\n",
       "      <td>Titanic Sinking</td>\n",
       "    </tr>\n",
       "    <tr>\n",
       "      <th>1800</th>\n",
       "      <td>https://imgflip.com/meme/Sleeping-Shaq</td>\n",
       "      <td>Sleeping Shaq</td>\n",
       "    </tr>\n",
       "  </tbody>\n",
       "</table>\n",
       "<p>1801 rows × 2 columns</p>\n",
       "</div>"
      ],
      "text/plain": [
       "                                            imgflip_url           imgflip_name\n",
       "0      https://imgflip.com/meme/10013392/Happy-Squirrel         Happy Squirrel\n",
       "1              https://imgflip.com/meme/Chill-Out-Lemur        Chill Out Lemur\n",
       "2        https://imgflip.com/meme/100214972/idiot-skull            idiot skull\n",
       "3              https://imgflip.com/meme/Obama-No-Listen        Obama No Listen\n",
       "4                    https://imgflip.com/meme/Gaga-Baby              Gaga Baby\n",
       "...                                                 ...                    ...\n",
       "1796       https://imgflip.com/meme/Okay-Guy-Rage-Face2    Okay Guy Rage Face2\n",
       "1797  https://imgflip.com/meme/99465667/Old-man-cup-...  Old man cup of coffee\n",
       "1798           https://imgflip.com/meme/Cool-Cat-Stroll        Cool Cat Stroll\n",
       "1799   https://imgflip.com/meme/9965006/Titanic-Sinking        Titanic Sinking\n",
       "1800             https://imgflip.com/meme/Sleeping-Shaq          Sleeping Shaq\n",
       "\n",
       "[1801 rows x 2 columns]"
      ]
     },
     "execution_count": 57,
     "metadata": {},
     "output_type": "execute_result"
    }
   ],
   "source": []
  },
  {
   "cell_type": "code",
   "execution_count": 58,
   "id": "802ee1d3-42e6-4d92-b952-ac8bbb551cf5",
   "metadata": {},
   "outputs": [],
   "source": [
    "prod = imgflip.merge(kym, how='cross')"
   ]
  },
  {
   "cell_type": "code",
   "execution_count": 64,
   "id": "1270c7d8-c335-454c-8818-d91154e92b9f",
   "metadata": {},
   "outputs": [],
   "source": [
    "prod2 = kym.merge(imgflip, how='cross')"
   ]
  },
  {
   "cell_type": "code",
   "execution_count": 144,
   "id": "5945a5d6-b48c-42b3-bdd7-614ea335cdf4",
   "metadata": {},
   "outputs": [],
   "source": [
    "def compare(x,y):\n",
    "    from difflib import SequenceMatcher\n",
    "    return SequenceMatcher(None, x.replace('-',''), y.replace('-','')).ratio() "
   ]
  },
  {
   "cell_type": "code",
   "execution_count": 142,
   "id": "0b09bfda-3107-42f8-8fb4-3165611cd323",
   "metadata": {},
   "outputs": [],
   "source": [
    "def compareOrContains(x,y):\n",
    "    if y in x or x in y:\n",
    "        return 1 + compare(x,y)\n",
    "    else :\n",
    "        return compare(x,y)"
   ]
  },
  {
   "cell_type": "code",
   "execution_count": 60,
   "id": "8bf2ab8c-c7ae-4793-a2f4-2d4474cbed69",
   "metadata": {},
   "outputs": [],
   "source": [
    "prod['threashold'] = prod.apply(lambda x: compare(str(x[1]),str(x[3])), axis=1)"
   ]
  },
  {
   "cell_type": "code",
   "execution_count": 88,
   "id": "fddc2793-092d-436b-959f-7204f5126c8c",
   "metadata": {},
   "outputs": [
    {
     "data": {
      "text/html": [
       "<div>\n",
       "<style scoped>\n",
       "    .dataframe tbody tr th:only-of-type {\n",
       "        vertical-align: middle;\n",
       "    }\n",
       "\n",
       "    .dataframe tbody tr th {\n",
       "        vertical-align: top;\n",
       "    }\n",
       "\n",
       "    .dataframe thead th {\n",
       "        text-align: right;\n",
       "    }\n",
       "</style>\n",
       "<table border=\"1\" class=\"dataframe\">\n",
       "  <thead>\n",
       "    <tr style=\"text-align: right;\">\n",
       "      <th></th>\n",
       "      <th>imgflip_url</th>\n",
       "      <th>imgflip_name</th>\n",
       "      <th>kym_url</th>\n",
       "      <th>kym_name</th>\n",
       "      <th>threashold</th>\n",
       "    </tr>\n",
       "  </thead>\n",
       "  <tbody>\n",
       "    <tr>\n",
       "      <th>229</th>\n",
       "      <td>https://imgflip.com/meme/10013392/Happy-Squirrel</td>\n",
       "      <td>Happy Squirrel</td>\n",
       "      <td>https://knowyourmeme.com/memes/crasher-squirrel</td>\n",
       "      <td>Crasher Squirrel</td>\n",
       "      <td>0.666667</td>\n",
       "    </tr>\n",
       "    <tr>\n",
       "      <th>427</th>\n",
       "      <td>https://imgflip.com/meme/10013392/Happy-Squirrel</td>\n",
       "      <td>Happy Squirrel</td>\n",
       "      <td>https://knowyourmeme.com/memes/happy-kitten</td>\n",
       "      <td>Happy Kitten</td>\n",
       "      <td>0.615385</td>\n",
       "    </tr>\n",
       "    <tr>\n",
       "      <th>5086</th>\n",
       "      <td>https://imgflip.com/meme/Obama-No-Listen</td>\n",
       "      <td>Obama No Listen</td>\n",
       "      <td>https://knowyourmeme.com/memes/obama-hope-posters</td>\n",
       "      <td>ObamaHope Posters</td>\n",
       "      <td>0.625000</td>\n",
       "    </tr>\n",
       "    <tr>\n",
       "      <th>5698</th>\n",
       "      <td>https://imgflip.com/meme/Gaga-Baby</td>\n",
       "      <td>Gaga Baby</td>\n",
       "      <td>https://knowyourmeme.com/memes/laughing-baby</td>\n",
       "      <td>Laughing Baby</td>\n",
       "      <td>0.636364</td>\n",
       "    </tr>\n",
       "    <tr>\n",
       "      <th>5707</th>\n",
       "      <td>https://imgflip.com/meme/Gaga-Baby</td>\n",
       "      <td>Gaga Baby</td>\n",
       "      <td>https://knowyourmeme.com/memes/dancing-baby</td>\n",
       "      <td>Dancing Baby</td>\n",
       "      <td>0.666667</td>\n",
       "    </tr>\n",
       "    <tr>\n",
       "      <th>...</th>\n",
       "      <td>...</td>\n",
       "      <td>...</td>\n",
       "      <td>...</td>\n",
       "      <td>...</td>\n",
       "      <td>...</td>\n",
       "    </tr>\n",
       "    <tr>\n",
       "      <th>2517139</th>\n",
       "      <td>https://imgflip.com/meme/Disaster-Girl</td>\n",
       "      <td>Disaster Girl</td>\n",
       "      <td>https://knowyourmeme.com/memes/dumpster-fire</td>\n",
       "      <td>Dumpster Fire</td>\n",
       "      <td>0.615385</td>\n",
       "    </tr>\n",
       "    <tr>\n",
       "      <th>2517633</th>\n",
       "      <td>https://imgflip.com/meme/Disaster-Girl</td>\n",
       "      <td>Disaster Girl</td>\n",
       "      <td>https://knowyourmeme.com/memes/disaster-girl</td>\n",
       "      <td>Disaster Girl</td>\n",
       "      <td>1.000000</td>\n",
       "    </tr>\n",
       "    <tr>\n",
       "      <th>2518526</th>\n",
       "      <td>https://imgflip.com/meme/House-Bunny</td>\n",
       "      <td>House Bunny</td>\n",
       "      <td>https://knowyourmeme.com/memes/honey-bun-baby</td>\n",
       "      <td>Honey Bun Baby</td>\n",
       "      <td>0.640000</td>\n",
       "    </tr>\n",
       "    <tr>\n",
       "      <th>2524482</th>\n",
       "      <td>https://imgflip.com/meme/Okay-Guy-Rage-Face2</td>\n",
       "      <td>Okay Guy Rage Face2</td>\n",
       "      <td>https://knowyourmeme.com/memes/no-rage-face</td>\n",
       "      <td>NO. Rage Face</td>\n",
       "      <td>0.687500</td>\n",
       "    </tr>\n",
       "    <tr>\n",
       "      <th>2524571</th>\n",
       "      <td>https://imgflip.com/meme/Okay-Guy-Rage-Face2</td>\n",
       "      <td>Okay Guy Rage Face2</td>\n",
       "      <td>https://knowyourmeme.com/memes/oh-crap-omg-rag...</td>\n",
       "      <td>Oh Crap / OMG Rage Face</td>\n",
       "      <td>0.666667</td>\n",
       "    </tr>\n",
       "  </tbody>\n",
       "</table>\n",
       "<p>710 rows × 5 columns</p>\n",
       "</div>"
      ],
      "text/plain": [
       "                                              imgflip_url  \\\n",
       "229      https://imgflip.com/meme/10013392/Happy-Squirrel   \n",
       "427      https://imgflip.com/meme/10013392/Happy-Squirrel   \n",
       "5086             https://imgflip.com/meme/Obama-No-Listen   \n",
       "5698                   https://imgflip.com/meme/Gaga-Baby   \n",
       "5707                   https://imgflip.com/meme/Gaga-Baby   \n",
       "...                                                   ...   \n",
       "2517139            https://imgflip.com/meme/Disaster-Girl   \n",
       "2517633            https://imgflip.com/meme/Disaster-Girl   \n",
       "2518526              https://imgflip.com/meme/House-Bunny   \n",
       "2524482      https://imgflip.com/meme/Okay-Guy-Rage-Face2   \n",
       "2524571      https://imgflip.com/meme/Okay-Guy-Rage-Face2   \n",
       "\n",
       "                imgflip_name  \\\n",
       "229           Happy Squirrel   \n",
       "427           Happy Squirrel   \n",
       "5086         Obama No Listen   \n",
       "5698               Gaga Baby   \n",
       "5707               Gaga Baby   \n",
       "...                      ...   \n",
       "2517139        Disaster Girl   \n",
       "2517633        Disaster Girl   \n",
       "2518526          House Bunny   \n",
       "2524482  Okay Guy Rage Face2   \n",
       "2524571  Okay Guy Rage Face2   \n",
       "\n",
       "                                                   kym_url  \\\n",
       "229        https://knowyourmeme.com/memes/crasher-squirrel   \n",
       "427            https://knowyourmeme.com/memes/happy-kitten   \n",
       "5086     https://knowyourmeme.com/memes/obama-hope-posters   \n",
       "5698          https://knowyourmeme.com/memes/laughing-baby   \n",
       "5707           https://knowyourmeme.com/memes/dancing-baby   \n",
       "...                                                    ...   \n",
       "2517139       https://knowyourmeme.com/memes/dumpster-fire   \n",
       "2517633       https://knowyourmeme.com/memes/disaster-girl   \n",
       "2518526      https://knowyourmeme.com/memes/honey-bun-baby   \n",
       "2524482        https://knowyourmeme.com/memes/no-rage-face   \n",
       "2524571  https://knowyourmeme.com/memes/oh-crap-omg-rag...   \n",
       "\n",
       "                        kym_name  threashold  \n",
       "229             Crasher Squirrel    0.666667  \n",
       "427                 Happy Kitten    0.615385  \n",
       "5086           ObamaHope Posters    0.625000  \n",
       "5698               Laughing Baby    0.636364  \n",
       "5707                Dancing Baby    0.666667  \n",
       "...                          ...         ...  \n",
       "2517139            Dumpster Fire    0.615385  \n",
       "2517633            Disaster Girl    1.000000  \n",
       "2518526           Honey Bun Baby    0.640000  \n",
       "2524482            NO. Rage Face    0.687500  \n",
       "2524571  Oh Crap / OMG Rage Face    0.666667  \n",
       "\n",
       "[710 rows x 5 columns]"
      ]
     },
     "execution_count": 88,
     "metadata": {},
     "output_type": "execute_result"
    }
   ],
   "source": [
    "prod.loc[prod['threashold']> 0.6]"
   ]
  },
  {
   "cell_type": "code",
   "execution_count": 66,
   "id": "1286f07a-c15c-42ca-be03-8ffc8562bd6c",
   "metadata": {},
   "outputs": [],
   "source": [
    "prod2['threashold'] = prod2.apply(lambda x: compare(str(x[1]),str(x[3])), axis=1)"
   ]
  },
  {
   "cell_type": "code",
   "execution_count": 71,
   "id": "ef25a87a-c461-48e8-9f20-927a7cf4e2cb",
   "metadata": {},
   "outputs": [],
   "source": [
    "prod = prod.drop([0, 1,3,4])"
   ]
  },
  {
   "cell_type": "code",
   "execution_count": 78,
   "id": "a914bf45-9050-43b5-a30d-fb7b5511012d",
   "metadata": {},
   "outputs": [],
   "source": [
    "prod = prod[prod.kym_url != 's']"
   ]
  },
  {
   "cell_type": "code",
   "execution_count": 149,
   "id": "e48c05ce-dc9c-4e68-b505-dbf637ac06af",
   "metadata": {},
   "outputs": [],
   "source": [
    "df = prod.loc[prod['threashold']>= 0.3].sort_values('threashold', ascending=False)"
   ]
  },
  {
   "cell_type": "code",
   "execution_count": 150,
   "id": "c737eafe-6bc7-464c-b08e-5b5ebf7c2e43",
   "metadata": {},
   "outputs": [
    {
     "data": {
      "text/html": [
       "<div>\n",
       "<style scoped>\n",
       "    .dataframe tbody tr th:only-of-type {\n",
       "        vertical-align: middle;\n",
       "    }\n",
       "\n",
       "    .dataframe tbody tr th {\n",
       "        vertical-align: top;\n",
       "    }\n",
       "\n",
       "    .dataframe thead th {\n",
       "        text-align: right;\n",
       "    }\n",
       "</style>\n",
       "<table border=\"1\" class=\"dataframe\">\n",
       "  <thead>\n",
       "    <tr style=\"text-align: right;\">\n",
       "      <th></th>\n",
       "      <th>imgflip_url</th>\n",
       "      <th>imgflip_name</th>\n",
       "      <th>kym_url</th>\n",
       "      <th>kym_name</th>\n",
       "      <th>threashold</th>\n",
       "    </tr>\n",
       "  </thead>\n",
       "  <tbody>\n",
       "  </tbody>\n",
       "</table>\n",
       "</div>"
      ],
      "text/plain": [
       "Empty DataFrame\n",
       "Columns: [imgflip_url, imgflip_name, kym_url, kym_name, threashold]\n",
       "Index: []"
      ]
     },
     "execution_count": 150,
     "metadata": {},
     "output_type": "execute_result"
    }
   ],
   "source": [
    "(\n",
    "    df\n",
    "    .groupby(level=0)\n",
    "    .apply(lambda group: group.loc[group['imgflip_url'] == group['threashold'].max()])\n",
    "    .reset_index(level=-1, drop=True)\n",
    ")"
   ]
  },
  {
   "cell_type": "code",
   "execution_count": 105,
   "id": "2902645f-e506-4bc1-ab31-641e5961f275",
   "metadata": {},
   "outputs": [],
   "source": [
    "df1 = prod.sort_values('threashold', ascending=False).drop_duplicates(['kym_url'])"
   ]
  },
  {
   "cell_type": "code",
   "execution_count": 106,
   "id": "dc3e3513-cb51-4185-acc0-897e1f705499",
   "metadata": {},
   "outputs": [
    {
     "data": {
      "text/plain": [
       "1404"
      ]
     },
     "execution_count": 106,
     "metadata": {},
     "output_type": "execute_result"
    }
   ],
   "source": [
    "len(df1)"
   ]
  },
  {
   "cell_type": "code",
   "execution_count": 110,
   "id": "e0271b27-fdb4-4a85-a48c-da4ea0174561",
   "metadata": {},
   "outputs": [],
   "source": [
    "dd = df1.loc[df1['threashold']> .6]"
   ]
  },
  {
   "cell_type": "code",
   "execution_count": 124,
   "id": "c5b3be03-a94b-43fd-b54e-fb02fa8b2d79",
   "metadata": {},
   "outputs": [
    {
     "data": {
      "text/plain": [
       "1774645    False\n",
       "2215947    False\n",
       "2163374    False\n",
       "194704     False\n",
       "575228     False\n",
       "           ...  \n",
       "2013031    False\n",
       "1960109    False\n",
       "1985822    False\n",
       "769251     False\n",
       "1673644    False\n",
       "Length: 351, dtype: bool"
      ]
     },
     "execution_count": 124,
     "metadata": {},
     "output_type": "execute_result"
    }
   ],
   "source": [
    "dd.duplicated(['imgflip_url'])"
   ]
  },
  {
   "cell_type": "code",
   "execution_count": 129,
   "id": "358fcc84-7e7c-4b7f-87ef-84b3b8e5a7bb",
   "metadata": {},
   "outputs": [
    {
     "data": {
      "text/html": [
       "<div>\n",
       "<style scoped>\n",
       "    .dataframe tbody tr th:only-of-type {\n",
       "        vertical-align: middle;\n",
       "    }\n",
       "\n",
       "    .dataframe tbody tr th {\n",
       "        vertical-align: top;\n",
       "    }\n",
       "\n",
       "    .dataframe thead th {\n",
       "        text-align: right;\n",
       "    }\n",
       "</style>\n",
       "<table border=\"1\" class=\"dataframe\">\n",
       "  <thead>\n",
       "    <tr style=\"text-align: right;\">\n",
       "      <th></th>\n",
       "      <th>imgflip_url</th>\n",
       "      <th>imgflip_name</th>\n",
       "      <th>kym_url</th>\n",
       "      <th>kym_name</th>\n",
       "      <th>threashold</th>\n",
       "    </tr>\n",
       "  </thead>\n",
       "  <tbody>\n",
       "    <tr>\n",
       "      <th>1774645</th>\n",
       "      <td>https://imgflip.com/meme/Duck-Face</td>\n",
       "      <td>Duck Face</td>\n",
       "      <td>https://knowyourmeme.com/memes/duck-face</td>\n",
       "      <td>Duck Face</td>\n",
       "      <td>1.000000</td>\n",
       "    </tr>\n",
       "    <tr>\n",
       "      <th>2381360</th>\n",
       "      <td>https://imgflip.com/meme/Derpina</td>\n",
       "      <td>Derpina</td>\n",
       "      <td>https://knowyourmeme.com/memes/derpina</td>\n",
       "      <td>Derpina</td>\n",
       "      <td>1.000000</td>\n",
       "    </tr>\n",
       "    <tr>\n",
       "      <th>2139570</th>\n",
       "      <td>https://imgflip.com/meme/Advice-Dog</td>\n",
       "      <td>Advice Dog</td>\n",
       "      <td>https://knowyourmeme.com/memes/advice-dog</td>\n",
       "      <td>Advice Dog</td>\n",
       "      <td>1.000000</td>\n",
       "    </tr>\n",
       "    <tr>\n",
       "      <th>2173542</th>\n",
       "      <td>https://imgflip.com/meme/Depression-Dog</td>\n",
       "      <td>Depression Dog</td>\n",
       "      <td>https://knowyourmeme.com/memes/depression-dog</td>\n",
       "      <td>Depression Dog</td>\n",
       "      <td>1.000000</td>\n",
       "    </tr>\n",
       "    <tr>\n",
       "      <th>2204475</th>\n",
       "      <td>https://imgflip.com/meme/College-Freshman</td>\n",
       "      <td>College Freshman</td>\n",
       "      <td>https://knowyourmeme.com/memes/college-freshman</td>\n",
       "      <td>College Freshman</td>\n",
       "      <td>1.000000</td>\n",
       "    </tr>\n",
       "    <tr>\n",
       "      <th>...</th>\n",
       "      <td>...</td>\n",
       "      <td>...</td>\n",
       "      <td>...</td>\n",
       "      <td>...</td>\n",
       "      <td>...</td>\n",
       "    </tr>\n",
       "    <tr>\n",
       "      <th>67192</th>\n",
       "      <td>https://imgflip.com/meme/Captain-Hindsight</td>\n",
       "      <td>Captain Hindsight</td>\n",
       "      <td>https://knowyourmeme.com/memes/cats-wearing-ti...</td>\n",
       "      <td>Cats Wearing Tights</td>\n",
       "      <td>0.611111</td>\n",
       "    </tr>\n",
       "    <tr>\n",
       "      <th>2356241</th>\n",
       "      <td>https://imgflip.com/meme/Mario-Hammer-Smash</td>\n",
       "      <td>Mario Hammer Smash</td>\n",
       "      <td>https://knowyourmeme.com/memes/mario-fundamentals</td>\n",
       "      <td>Mario FUNdamentals</td>\n",
       "      <td>0.611111</td>\n",
       "    </tr>\n",
       "    <tr>\n",
       "      <th>169799</th>\n",
       "      <td>https://imgflip.com/meme/Hoody-Cat</td>\n",
       "      <td>Hoody Cat</td>\n",
       "      <td>https://knowyourmeme.com/memes/snoopy-the-cat</td>\n",
       "      <td>Snoopy the Cat</td>\n",
       "      <td>0.608696</td>\n",
       "    </tr>\n",
       "    <tr>\n",
       "      <th>517616</th>\n",
       "      <td>https://imgflip.com/meme/144961820/Trojan-Horse</td>\n",
       "      <td>Trojan Horse</td>\n",
       "      <td>https://knowyourmeme.com/memes/noend-house</td>\n",
       "      <td>NoEnd House</td>\n",
       "      <td>0.608696</td>\n",
       "    </tr>\n",
       "    <tr>\n",
       "      <th>2455172</th>\n",
       "      <td>https://imgflip.com/meme/90258762/conspiracy-t...</td>\n",
       "      <td>conspiracy theory</td>\n",
       "      <td>https://knowyourmeme.com/memes/chemtrail-consp...</td>\n",
       "      <td>Chemtrail Conspiracy Theories</td>\n",
       "      <td>0.608696</td>\n",
       "    </tr>\n",
       "  </tbody>\n",
       "</table>\n",
       "<p>123 rows × 5 columns</p>\n",
       "</div>"
      ],
      "text/plain": [
       "                                               imgflip_url  \\\n",
       "1774645                 https://imgflip.com/meme/Duck-Face   \n",
       "2381360                   https://imgflip.com/meme/Derpina   \n",
       "2139570                https://imgflip.com/meme/Advice-Dog   \n",
       "2173542            https://imgflip.com/meme/Depression-Dog   \n",
       "2204475          https://imgflip.com/meme/College-Freshman   \n",
       "...                                                    ...   \n",
       "67192           https://imgflip.com/meme/Captain-Hindsight   \n",
       "2356241        https://imgflip.com/meme/Mario-Hammer-Smash   \n",
       "169799                  https://imgflip.com/meme/Hoody-Cat   \n",
       "517616     https://imgflip.com/meme/144961820/Trojan-Horse   \n",
       "2455172  https://imgflip.com/meme/90258762/conspiracy-t...   \n",
       "\n",
       "               imgflip_name  \\\n",
       "1774645           Duck Face   \n",
       "2381360             Derpina   \n",
       "2139570          Advice Dog   \n",
       "2173542      Depression Dog   \n",
       "2204475    College Freshman   \n",
       "...                     ...   \n",
       "67192     Captain Hindsight   \n",
       "2356241  Mario Hammer Smash   \n",
       "169799            Hoody Cat   \n",
       "517616         Trojan Horse   \n",
       "2455172   conspiracy theory   \n",
       "\n",
       "                                                   kym_url  \\\n",
       "1774645           https://knowyourmeme.com/memes/duck-face   \n",
       "2381360             https://knowyourmeme.com/memes/derpina   \n",
       "2139570          https://knowyourmeme.com/memes/advice-dog   \n",
       "2173542      https://knowyourmeme.com/memes/depression-dog   \n",
       "2204475    https://knowyourmeme.com/memes/college-freshman   \n",
       "...                                                    ...   \n",
       "67192    https://knowyourmeme.com/memes/cats-wearing-ti...   \n",
       "2356241  https://knowyourmeme.com/memes/mario-fundamentals   \n",
       "169799       https://knowyourmeme.com/memes/snoopy-the-cat   \n",
       "517616          https://knowyourmeme.com/memes/noend-house   \n",
       "2455172  https://knowyourmeme.com/memes/chemtrail-consp...   \n",
       "\n",
       "                              kym_name  threashold  \n",
       "1774645                      Duck Face    1.000000  \n",
       "2381360                        Derpina    1.000000  \n",
       "2139570                     Advice Dog    1.000000  \n",
       "2173542                 Depression Dog    1.000000  \n",
       "2204475               College Freshman    1.000000  \n",
       "...                                ...         ...  \n",
       "67192              Cats Wearing Tights    0.611111  \n",
       "2356241             Mario FUNdamentals    0.611111  \n",
       "169799                  Snoopy the Cat    0.608696  \n",
       "517616                     NoEnd House    0.608696  \n",
       "2455172  Chemtrail Conspiracy Theories    0.608696  \n",
       "\n",
       "[123 rows x 5 columns]"
      ]
     },
     "execution_count": 129,
     "metadata": {},
     "output_type": "execute_result"
    }
   ],
   "source": [
    "dd[dd['imgflip_url'].isin(dd['imgflip_url'][dd['imgflip_url'].duplicated()])].sort_values('threashold', ascending=False)"
   ]
  },
  {
   "cell_type": "code",
   "execution_count": 176,
   "id": "6ab57699-d64d-4711-b802-df6366296919",
   "metadata": {},
   "outputs": [],
   "source": [
    "imgflip['Grumpy Cat'] =imgflip.apply(lambda x: compareOrContains('Grumpy Cat', x[1]), axis=1)"
   ]
  },
  {
   "cell_type": "code",
   "execution_count": 177,
   "id": "18774b15-f1ec-43ba-96d4-9d6931b3e9f6",
   "metadata": {},
   "outputs": [
    {
     "data": {
      "text/html": [
       "<div>\n",
       "<style scoped>\n",
       "    .dataframe tbody tr th:only-of-type {\n",
       "        vertical-align: middle;\n",
       "    }\n",
       "\n",
       "    .dataframe tbody tr th {\n",
       "        vertical-align: top;\n",
       "    }\n",
       "\n",
       "    .dataframe thead th {\n",
       "        text-align: right;\n",
       "    }\n",
       "</style>\n",
       "<table border=\"1\" class=\"dataframe\">\n",
       "  <thead>\n",
       "    <tr style=\"text-align: right;\">\n",
       "      <th></th>\n",
       "      <th>imgflip_url</th>\n",
       "      <th>imgflip_name</th>\n",
       "      <th>Grumpy Cat</th>\n",
       "    </tr>\n",
       "  </thead>\n",
       "  <tbody>\n",
       "    <tr>\n",
       "      <th>1347</th>\n",
       "      <td>https://imgflip.com/meme/Grumpy-Cat</td>\n",
       "      <td>Grumpy Cat</td>\n",
       "      <td>2.000000</td>\n",
       "    </tr>\n",
       "    <tr>\n",
       "      <th>1326</th>\n",
       "      <td>https://imgflip.com/meme/Grumpy-Cat-Bed</td>\n",
       "      <td>Grumpy Cat Bed</td>\n",
       "      <td>1.833333</td>\n",
       "    </tr>\n",
       "    <tr>\n",
       "      <th>1339</th>\n",
       "      <td>https://imgflip.com/meme/Grumpy-Cat-Sky</td>\n",
       "      <td>Grumpy Cat Sky</td>\n",
       "      <td>1.833333</td>\n",
       "    </tr>\n",
       "    <tr>\n",
       "      <th>1433</th>\n",
       "      <td>https://imgflip.com/meme/Grumpy-Cat-Happy</td>\n",
       "      <td>Grumpy Cat Happy</td>\n",
       "      <td>1.769231</td>\n",
       "    </tr>\n",
       "    <tr>\n",
       "      <th>1430</th>\n",
       "      <td>https://imgflip.com/meme/Grumpy-Cat-Table</td>\n",
       "      <td>Grumpy Cat Table</td>\n",
       "      <td>1.769231</td>\n",
       "    </tr>\n",
       "    <tr>\n",
       "      <th>...</th>\n",
       "      <td>...</td>\n",
       "      <td>...</td>\n",
       "      <td>...</td>\n",
       "    </tr>\n",
       "    <tr>\n",
       "      <th>973</th>\n",
       "      <td>https://imgflip.com/meme/244819408/Adios</td>\n",
       "      <td>Adios</td>\n",
       "      <td>0.000000</td>\n",
       "    </tr>\n",
       "    <tr>\n",
       "      <th>114</th>\n",
       "      <td>https://imgflip.com/meme/10821519/Love</td>\n",
       "      <td>Love</td>\n",
       "      <td>0.000000</td>\n",
       "    </tr>\n",
       "    <tr>\n",
       "      <th>1697</th>\n",
       "      <td>https://imgflip.com/meme/Doge</td>\n",
       "      <td>Doge</td>\n",
       "      <td>0.000000</td>\n",
       "    </tr>\n",
       "    <tr>\n",
       "      <th>946</th>\n",
       "      <td>https://imgflip.com/meme/237388506/Bonk</td>\n",
       "      <td>Bonk</td>\n",
       "      <td>0.000000</td>\n",
       "    </tr>\n",
       "    <tr>\n",
       "      <th>1305</th>\n",
       "      <td>https://imgflip.com/meme/Hohoho</td>\n",
       "      <td>Hohoho</td>\n",
       "      <td>0.000000</td>\n",
       "    </tr>\n",
       "  </tbody>\n",
       "</table>\n",
       "<p>1801 rows × 3 columns</p>\n",
       "</div>"
      ],
      "text/plain": [
       "                                    imgflip_url      imgflip_name  Grumpy Cat\n",
       "1347        https://imgflip.com/meme/Grumpy-Cat        Grumpy Cat    2.000000\n",
       "1326    https://imgflip.com/meme/Grumpy-Cat-Bed    Grumpy Cat Bed    1.833333\n",
       "1339    https://imgflip.com/meme/Grumpy-Cat-Sky    Grumpy Cat Sky    1.833333\n",
       "1433  https://imgflip.com/meme/Grumpy-Cat-Happy  Grumpy Cat Happy    1.769231\n",
       "1430  https://imgflip.com/meme/Grumpy-Cat-Table  Grumpy Cat Table    1.769231\n",
       "...                                         ...               ...         ...\n",
       "973    https://imgflip.com/meme/244819408/Adios             Adios    0.000000\n",
       "114      https://imgflip.com/meme/10821519/Love              Love    0.000000\n",
       "1697              https://imgflip.com/meme/Doge              Doge    0.000000\n",
       "946     https://imgflip.com/meme/237388506/Bonk              Bonk    0.000000\n",
       "1305            https://imgflip.com/meme/Hohoho            Hohoho    0.000000\n",
       "\n",
       "[1801 rows x 3 columns]"
      ]
     },
     "execution_count": 177,
     "metadata": {},
     "output_type": "execute_result"
    }
   ],
   "source": [
    "imgflip.sort_values(['Grumpy Cat'], ascending=False)"
   ]
  },
  {
   "cell_type": "code",
   "execution_count": 216,
   "id": "e81cd304-9a3e-4e39-9d08-36f3d7a0579d",
   "metadata": {},
   "outputs": [
    {
     "data": {
      "text/html": [
       "<div>\n",
       "<style scoped>\n",
       "    .dataframe tbody tr th:only-of-type {\n",
       "        vertical-align: middle;\n",
       "    }\n",
       "\n",
       "    .dataframe tbody tr th {\n",
       "        vertical-align: top;\n",
       "    }\n",
       "\n",
       "    .dataframe thead th {\n",
       "        text-align: right;\n",
       "    }\n",
       "</style>\n",
       "<table border=\"1\" class=\"dataframe\">\n",
       "  <thead>\n",
       "    <tr style=\"text-align: right;\">\n",
       "      <th></th>\n",
       "      <th>imgflip_url</th>\n",
       "      <th>imgflip_name</th>\n",
       "    </tr>\n",
       "  </thead>\n",
       "  <tbody>\n",
       "    <tr>\n",
       "      <th>0</th>\n",
       "      <td>https://imgflip.com/meme/10013392/Happy-Squirrel</td>\n",
       "      <td>Happy Squirrel</td>\n",
       "    </tr>\n",
       "    <tr>\n",
       "      <th>1</th>\n",
       "      <td>https://imgflip.com/meme/Chill-Out-Lemur</td>\n",
       "      <td>Chill Out Lemur</td>\n",
       "    </tr>\n",
       "    <tr>\n",
       "      <th>2</th>\n",
       "      <td>https://imgflip.com/meme/100214972/idiot-skull</td>\n",
       "      <td>idiot skull</td>\n",
       "    </tr>\n",
       "    <tr>\n",
       "      <th>3</th>\n",
       "      <td>https://imgflip.com/meme/Obama-No-Listen</td>\n",
       "      <td>Obama No Listen</td>\n",
       "    </tr>\n",
       "    <tr>\n",
       "      <th>4</th>\n",
       "      <td>https://imgflip.com/meme/Gaga-Baby</td>\n",
       "      <td>Gaga Baby</td>\n",
       "    </tr>\n",
       "    <tr>\n",
       "      <th>...</th>\n",
       "      <td>...</td>\n",
       "      <td>...</td>\n",
       "    </tr>\n",
       "    <tr>\n",
       "      <th>1796</th>\n",
       "      <td>https://imgflip.com/meme/Okay-Guy-Rage-Face2</td>\n",
       "      <td>Okay Guy Rage Face2</td>\n",
       "    </tr>\n",
       "    <tr>\n",
       "      <th>1797</th>\n",
       "      <td>https://imgflip.com/meme/99465667/Old-man-cup-...</td>\n",
       "      <td>Old man cup of coffee</td>\n",
       "    </tr>\n",
       "    <tr>\n",
       "      <th>1798</th>\n",
       "      <td>https://imgflip.com/meme/Cool-Cat-Stroll</td>\n",
       "      <td>Cool Cat Stroll</td>\n",
       "    </tr>\n",
       "    <tr>\n",
       "      <th>1799</th>\n",
       "      <td>https://imgflip.com/meme/9965006/Titanic-Sinking</td>\n",
       "      <td>Titanic Sinking</td>\n",
       "    </tr>\n",
       "    <tr>\n",
       "      <th>1800</th>\n",
       "      <td>https://imgflip.com/meme/Sleeping-Shaq</td>\n",
       "      <td>Sleeping Shaq</td>\n",
       "    </tr>\n",
       "  </tbody>\n",
       "</table>\n",
       "<p>1801 rows × 2 columns</p>\n",
       "</div>"
      ],
      "text/plain": [
       "                                            imgflip_url           imgflip_name\n",
       "0      https://imgflip.com/meme/10013392/Happy-Squirrel         Happy Squirrel\n",
       "1              https://imgflip.com/meme/Chill-Out-Lemur        Chill Out Lemur\n",
       "2        https://imgflip.com/meme/100214972/idiot-skull            idiot skull\n",
       "3              https://imgflip.com/meme/Obama-No-Listen        Obama No Listen\n",
       "4                    https://imgflip.com/meme/Gaga-Baby              Gaga Baby\n",
       "...                                                 ...                    ...\n",
       "1796       https://imgflip.com/meme/Okay-Guy-Rage-Face2    Okay Guy Rage Face2\n",
       "1797  https://imgflip.com/meme/99465667/Old-man-cup-...  Old man cup of coffee\n",
       "1798           https://imgflip.com/meme/Cool-Cat-Stroll        Cool Cat Stroll\n",
       "1799   https://imgflip.com/meme/9965006/Titanic-Sinking        Titanic Sinking\n",
       "1800             https://imgflip.com/meme/Sleeping-Shaq          Sleeping Shaq\n",
       "\n",
       "[1801 rows x 2 columns]"
      ]
     },
     "execution_count": 216,
     "metadata": {},
     "output_type": "execute_result"
    }
   ],
   "source": [
    "imgflip"
   ]
  },
  {
   "cell_type": "code",
   "execution_count": 227,
   "id": "0c12280b-3785-48b8-a2c5-56837a4655c6",
   "metadata": {},
   "outputs": [],
   "source": [
    "imgflip = pd.read_csv('imgflip_templates.csv', names=[\"imgflip_url\",\"imgflip_name\"])"
   ]
  },
  {
   "cell_type": "code",
   "execution_count": 229,
   "id": "5e438094-d19a-4e8e-89a8-285ec92f078a",
   "metadata": {},
   "outputs": [],
   "source": [
    "with open('./queryResults.csv') as csvfile: #kym memes urls and titles\n",
    "        urls = reader(csvfile, delimiter=';')\n",
    "        for kym_memes in urls:\n",
    "            imgflip[kym_memes[1]] = imgflip.apply(lambda x: compareOrContains(kym_memes[1], x[1]), axis=1)"
   ]
  },
  {
   "cell_type": "code",
   "execution_count": 325,
   "id": "cecf066c-37d8-45e4-9875-5576618c17a5",
   "metadata": {},
   "outputs": [
    {
     "data": {
      "image/png": "[encoded data removed]",
      "text/plain": [
       "<Figure size 2000x800 with 1 Axes>"
      ]
     },
     "metadata": {},
     "output_type": "display_data"
    }
   ],
   "source": [
    "import seaborn as sns\n",
    "import matplotlib.pyplot as plt\n",
    "%matplotlib inline\n",
    "\n",
    "sns.set(rc={'figure.figsize':(20,8)}, font_scale=1.5, style='whitegrid')\n",
    "box = imgflip[list(imgflip.columns)[3:20]].boxplot()\n",
    "box.set_xticklabels(list(imgflip.columns)[3:20], rotation=80)\n",
    "plt.show()"
   ]
  },
  {
   "cell_type": "code",
   "execution_count": 4,
   "id": "f458c163-d117-4a9a-b6ea-916acabd901b",
   "metadata": {},
   "outputs": [],
   "source": [
    "! java -jar mapper.jar -m ./kym2imgflip.v1.rml.ttl -o ./linkage.nt"
   ]
  },
  {
   "cell_type": "code",
   "execution_count": 6,
   "id": "f35dccef-3c92-4d80-939c-3e7fd497104e",
   "metadata": {},
   "outputs": [
    {
     "name": "stdout",
     "output_type": "stream",
     "text": [
      "Collecting rdflib\n",
      "  Downloading rdflib-6.2.0-py3-none-any.whl (500 kB)\n",
      "\u001b[2K     \u001b[90m━━━━━━━━━━━━━━━━━━━━━━━━━━━━━━━━━━━━━\u001b[0m \u001b[32m500.3/500.3 kB\u001b[0m \u001b[31m175.5 kB/s\u001b[0m eta \u001b[36m0:00:00\u001b[0ma \u001b[36m0:00:01\u001b[0m\n",
      "\u001b[?25hCollecting isodate\n",
      "  Downloading isodate-0.6.1-py2.py3-none-any.whl (41 kB)\n",
      "\u001b[2K     \u001b[90m━━━━━━━━━━━━━━━━━━━━━━━━━━━━━━━━━━━━━━━\u001b[0m \u001b[32m41.7/41.7 kB\u001b[0m \u001b[31m465.1 kB/s\u001b[0m eta \u001b[36m0:00:00\u001b[0ma \u001b[36m0:00:01\u001b[0m\n",
      "\u001b[?25hRequirement already satisfied: pyparsing in /opt/conda/lib/python3.10/site-packages (from rdflib) (3.0.9)\n",
      "Requirement already satisfied: setuptools in /opt/conda/lib/python3.10/site-packages (from rdflib) (65.3.0)\n",
      "Requirement already satisfied: six in /opt/conda/lib/python3.10/site-packages (from isodate->rdflib) (1.16.0)\n",
      "Installing collected packages: isodate, rdflib\n",
      "Successfully installed isodate-0.6.1 rdflib-6.2.0\n"
     ]
    }
   ],
   "source": [
    "!pip install rdflib"
   ]
  },
  {
   "cell_type": "code",
   "execution_count": 8,
   "id": "bdf05026-4af6-4897-8657-39019731c1d0",
   "metadata": {},
   "outputs": [],
   "source": [
    "from rdflib import Graph as RDFGraph"
   ]
  },
  {
   "cell_type": "code",
   "execution_count": 10,
   "id": "07698d53-d198-452c-88fb-e83bf178a8a1",
   "metadata": {},
   "outputs": [
    {
     "data": {
      "text/plain": [
       "<Graph identifier=Nfeb8392704954281a5be9184199f29d3 (<class 'rdflib.graph.Graph'>)>"
      ]
     },
     "execution_count": 10,
     "metadata": {},
     "output_type": "execute_result"
    }
   ],
   "source": [
    "rg = RDFGraph()\n",
    "rg.parse('./linkage.nt', format='nt')"
   ]
  },
  {
   "cell_type": "code",
   "execution_count": null,
   "id": "cc108468-e0cb-4c57-86f8-54b1b30d6b58",
   "metadata": {},
   "outputs": [],
   "source": []
  }
 ],
 "metadata": {
  "kernelspec": {
   "display_name": "Python 3 (ipykernel)",
   "language": "python",
   "name": "python3"
  },
  "language_info": {
   "codemirror_mode": {
    "name": "ipython",
    "version": 3
   },
   "file_extension": ".py",
   "mimetype": "text/x-python",
   "name": "python",
   "nbconvert_exporter": "python",
   "pygments_lexer": "ipython3",
   "version": "3.10.6"
  }
 },
 "nbformat": 4,
 "nbformat_minor": 5
}
