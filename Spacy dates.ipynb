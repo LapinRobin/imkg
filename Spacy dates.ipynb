{
 "cells": [
  {
   "cell_type": "code",
   "execution_count": 1,
   "id": "oriental-runner",
   "metadata": {},
   "outputs": [],
   "source": [
    "# import spacy\n",
    "import dateparser\n",
    "from dateutil.parser import parse"
   ]
  },
  {
   "cell_type": "code",
   "execution_count": 2,
   "id": "persistent-bleeding",
   "metadata": {},
   "outputs": [],
   "source": [
    "# my notebook is crashing if I don't include this cell\n",
    "import os\n",
    "os.environ['KMP_DUPLICATE_LIB_OK']='True'"
   ]
  },
  {
   "cell_type": "code",
   "execution_count": 3,
   "id": "protecting-renewal",
   "metadata": {},
   "outputs": [],
   "source": [
    "# !conda install -c conda-forge spacy\n",
    "# !python -m spacy download en_core_web_sm"
   ]
  },
  {
   "cell_type": "code",
   "execution_count": 4,
   "id": "changing-shade",
   "metadata": {},
   "outputs": [
    {
     "name": "stderr",
     "output_type": "stream",
     "text": [
      "/Users/filipilievski/opt/anaconda3/envs/wikiEnv/lib/python3.8/site-packages/tqdm/auto.py:22: TqdmWarning: IProgress not found. Please update jupyter and ipywidgets. See https://ipywidgets.readthedocs.io/en/stable/user_install.html\n",
      "  from .autonotebook import tqdm as notebook_tqdm\n"
     ]
    }
   ],
   "source": [
    "import spacy"
   ]
  },
  {
   "cell_type": "code",
   "execution_count": 5,
   "id": "moved-messaging",
   "metadata": {},
   "outputs": [],
   "source": [
    "nlp = spacy.load(\"en_core_web_sm\")"
   ]
  },
  {
   "cell_type": "code",
   "execution_count": 6,
   "id": "sticky-apartment",
   "metadata": {},
   "outputs": [],
   "source": [
    "def extract_dates(blob):\n",
    "    doc=nlp(blob)\n",
    "    dates=[]\n",
    "    dates_norm=[]\n",
    "    for ent in doc.ents:\n",
    "        if ent.label_=='DATE':\n",
    "            dates.append(ent.text)\n",
    "            dates_norm.append(dateparser.parse(str(ent.text)))\n",
    "    return dates, dates_norm"
   ]
  },
  {
   "cell_type": "code",
   "execution_count": 7,
   "id": "boring-watson",
   "metadata": {},
   "outputs": [
    {
     "name": "stderr",
     "output_type": "stream",
     "text": [
      "/Users/filipilievski/opt/anaconda3/envs/wikiEnv/lib/python3.8/site-packages/dateparser/date_parser.py:35: PytzUsageWarning: The localize method is no longer necessary, as this time zone supports the fold attribute (PEP 495). For more details on migrating to a PEP 495-compliant implementation, see https://pytz-deprecation-shim.readthedocs.io/en/latest/migration.html\n",
      "  date_obj = stz.localize(date_obj)\n"
     ]
    }
   ],
   "source": [
    "blob=\"On August 31st, 2010, the face was included in an updated rage template image post in the f7u12 subreddit.[15] Redditor wallish[16] replied to the thread referring to the face as \\\"Asian Laughing Guy.\\\"\"\n",
    "d=extract_dates(blob)"
   ]
  },
  {
   "cell_type": "code",
   "execution_count": 8,
   "id": "greenhouse-robin",
   "metadata": {},
   "outputs": [
    {
     "name": "stdout",
     "output_type": "stream",
     "text": [
      "2010-08-31 00:00:00\n",
      "None\n"
     ]
    }
   ],
   "source": [
    "for date in d:\n",
    "    print(dateparser.parse(str(date)))"
   ]
  },
  {
   "cell_type": "markdown",
   "id": "accompanied-appendix",
   "metadata": {},
   "source": [
    "## Using spacy to extract dates from KYM"
   ]
  },
  {
   "cell_type": "code",
   "execution_count": 9,
   "id": "public-thought",
   "metadata": {},
   "outputs": [],
   "source": [
    "import json\n",
    "with open('kym.json', 'r') as f:\n",
    "    k=json.load(f)"
   ]
  },
  {
   "cell_type": "code",
   "execution_count": 10,
   "id": "ranging-cycle",
   "metadata": {},
   "outputs": [
    {
     "data": {
      "text/plain": [
       "28799"
      ]
     },
     "execution_count": 10,
     "metadata": {},
     "output_type": "execute_result"
    }
   ],
   "source": [
    "len(k)"
   ]
  },
  {
   "cell_type": "code",
   "execution_count": 11,
   "id": "peripheral-mambo",
   "metadata": {},
   "outputs": [],
   "source": [
    "example=k[1]['content']['origin']['text'][0]"
   ]
  },
  {
   "cell_type": "code",
   "execution_count": 12,
   "id": "cleared-cannon",
   "metadata": {},
   "outputs": [
    {
     "name": "stderr",
     "output_type": "stream",
     "text": [
      "100%|██████████| 28799/28799 [02:30<00:00, 190.74it/s]\n"
     ]
    }
   ],
   "source": [
    "dates={}\n",
    "from tqdm import tqdm\n",
    "for i in tqdm(range(len(k))):\n",
    "    if 'content' in k[i] and 'origin' in k[i]['content'] and 'text' in k[i]['content']['origin']:\n",
    "        example=k[i]['content']['origin']['text'][0]\n",
    "        d, dnorm=extract_dates(example)\n",
    "        dates[str(i)]=d\n",
    "#        print(d)"
   ]
  },
  {
   "cell_type": "code",
   "execution_count": 13,
   "id": "major-vancouver",
   "metadata": {},
   "outputs": [
    {
     "data": {
      "text/plain": [
       "9223"
      ]
     },
     "execution_count": 13,
     "metadata": {},
     "output_type": "execute_result"
    }
   ],
   "source": [
    "len(dates)"
   ]
  },
  {
   "cell_type": "code",
   "execution_count": 14,
   "id": "hollow-captain",
   "metadata": {},
   "outputs": [],
   "source": [
    "from collections import Counter\n",
    "sizes=[]\n",
    "for dt in dates:\n",
    "    sizes.append(len(dt))"
   ]
  },
  {
   "cell_type": "code",
   "execution_count": 15,
   "id": "earlier-maple",
   "metadata": {},
   "outputs": [
    {
     "data": {
      "text/plain": [
       "Counter({1: 10, 2: 39, 3: 257, 4: 3090, 5: 5827})"
      ]
     },
     "execution_count": 15,
     "metadata": {},
     "output_type": "execute_result"
    }
   ],
   "source": [
    "Counter(sizes)"
   ]
  },
  {
   "cell_type": "code",
   "execution_count": 19,
   "id": "french-parking",
   "metadata": {},
   "outputs": [],
   "source": [
    "with open('kym_dates.json', 'w') as w:\n",
    "    json.dump(dates, w)"
   ]
  },
  {
   "cell_type": "code",
   "execution_count": null,
   "id": "stylish-salon",
   "metadata": {},
   "outputs": [],
   "source": []
  }
 ],
 "metadata": {
  "kernelspec": {
   "display_name": "Python 3",
   "language": "python",
   "name": "python3"
  },
  "language_info": {
   "codemirror_mode": {
    "name": "ipython",
    "version": 3
   },
   "file_extension": ".py",
   "mimetype": "text/x-python",
   "name": "python",
   "nbconvert_exporter": "python",
   "pygments_lexer": "ipython3",
   "version": "3.8.5"
  }
 },
 "nbformat": 4,
 "nbformat_minor": 5
}
