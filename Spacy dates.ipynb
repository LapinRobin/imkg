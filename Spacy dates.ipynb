{
 "cells": [
  {
   "cell_type": "code",
   "execution_count": 11,
   "id": "fabulous-failure",
   "metadata": {},
   "outputs": [],
   "source": [
    "import dateparser\n",
    "from dateutil.parser import parse"
   ]
  },
  {
   "cell_type": "code",
   "execution_count": 12,
   "id": "mental-bargain",
   "metadata": {},
   "outputs": [],
   "source": [
    "# my notebook is crashing if I don't include this cell\n",
    "import os\n",
    "os.environ['KMP_DUPLICATE_LIB_OK']='True'"
   ]
  },
  {
   "cell_type": "code",
   "execution_count": 13,
   "id": "binary-appliance",
   "metadata": {},
   "outputs": [],
   "source": [
    "# !conda install -c conda-forge spacy\n",
    "# !python -m spacy download en_core_web_sm"
   ]
  },
  {
   "cell_type": "code",
   "execution_count": 14,
   "id": "expressed-accident",
   "metadata": {},
   "outputs": [
    {
     "name": "stderr",
     "output_type": "stream",
     "text": [
      "/Users/filipilievski/opt/anaconda3/envs/wikiEnv/lib/python3.8/site-packages/tqdm/auto.py:22: TqdmWarning: IProgress not found. Please update jupyter and ipywidgets. See https://ipywidgets.readthedocs.io/en/stable/user_install.html\n",
      "  from .autonotebook import tqdm as notebook_tqdm\n"
     ]
    }
   ],
   "source": [
    "import spacy"
   ]
  },
  {
   "cell_type": "code",
   "execution_count": 15,
   "id": "tracked-guatemala",
   "metadata": {},
   "outputs": [],
   "source": [
    "nlp = spacy.load(\"en_core_web_sm\")"
   ]
  },
  {
   "cell_type": "code",
   "execution_count": 30,
   "id": "fifty-penalty",
   "metadata": {},
   "outputs": [],
   "source": [
    "def extract_dates(blob):\n",
    "    doc=nlp(blob)\n",
    "    dates=[]\n",
    "    for ent in doc.ents:\n",
    "        if ent.label_=='DATE':\n",
    "            parsed=dateparser.parse(str(ent.text))\n",
    "            if parsed:\n",
    "                dates.append(str(ent.text))\n",
    "    return dates"
   ]
  },
  {
   "cell_type": "code",
   "execution_count": 31,
   "id": "geographic-commons",
   "metadata": {},
   "outputs": [],
   "source": [
    "blob=\"On August 31st, 2010, the face was included in an updated rage template image post in the f7u12 subreddit.[15] Redditor wallish[16] replied to the thread referring to the face as \\\"Asian Laughing Guy.\\\"\"\n",
    "d=extract_dates(blob)"
   ]
  },
  {
   "cell_type": "code",
   "execution_count": 33,
   "id": "generous-lexington",
   "metadata": {},
   "outputs": [
    {
     "name": "stdout",
     "output_type": "stream",
     "text": [
      "2010-08-31 00:00:00\n"
     ]
    }
   ],
   "source": [
    "for date in d:\n",
    "    print(dateparser.parse(str(date)))"
   ]
  },
  {
   "cell_type": "markdown",
   "id": "alternative-undergraduate",
   "metadata": {},
   "source": [
    "## Using spacy to extract dates from KYM"
   ]
  },
  {
   "cell_type": "code",
   "execution_count": 34,
   "id": "continent-tribune",
   "metadata": {},
   "outputs": [],
   "source": [
    "import json\n",
    "with open('kym_files/kym.json', 'r') as f:\n",
    "    k=json.load(f)"
   ]
  },
  {
   "cell_type": "code",
   "execution_count": 35,
   "id": "nutritional-cylinder",
   "metadata": {},
   "outputs": [
    {
     "data": {
      "text/plain": [
       "28799"
      ]
     },
     "execution_count": 35,
     "metadata": {},
     "output_type": "execute_result"
    }
   ],
   "source": [
    "len(k)"
   ]
  },
  {
   "cell_type": "code",
   "execution_count": 36,
   "id": "expired-gardening",
   "metadata": {},
   "outputs": [
    {
     "name": "stderr",
     "output_type": "stream",
     "text": [
      "100%|██████████| 28799/28799 [02:31<00:00, 189.74it/s]\n"
     ]
    }
   ],
   "source": [
    "dates={}\n",
    "from tqdm import tqdm\n",
    "for i in tqdm(range(len(k))):\n",
    "    if 'content' in k[i] and 'origin' in k[i]['content'] and 'text' in k[i]['content']['origin']:\n",
    "        example=k[i]['content']['origin']['text'][0]\n",
    "        d=extract_dates(example)\n",
    "        if len(d):\n",
    "            dates[str(i)]=d"
   ]
  },
  {
   "cell_type": "code",
   "execution_count": 37,
   "id": "external-better",
   "metadata": {},
   "outputs": [
    {
     "data": {
      "text/plain": [
       "7891"
      ]
     },
     "execution_count": 37,
     "metadata": {},
     "output_type": "execute_result"
    }
   ],
   "source": [
    "len(dates)"
   ]
  },
  {
   "cell_type": "code",
   "execution_count": 38,
   "id": "robust-philippines",
   "metadata": {},
   "outputs": [],
   "source": [
    "from collections import Counter\n",
    "sizes=[]\n",
    "for dt in dates:\n",
    "    sizes.append(len(dt))"
   ]
  },
  {
   "cell_type": "code",
   "execution_count": 39,
   "id": "alike-database",
   "metadata": {},
   "outputs": [
    {
     "data": {
      "text/plain": [
       "Counter({1: 9, 2: 34, 3: 203, 4: 2730, 5: 4915})"
      ]
     },
     "execution_count": 39,
     "metadata": {},
     "output_type": "execute_result"
    }
   ],
   "source": [
    "Counter(sizes)"
   ]
  },
  {
   "cell_type": "code",
   "execution_count": 40,
   "id": "rubber-compression",
   "metadata": {},
   "outputs": [],
   "source": [
    "with open('kym_files/kym_dates.json', 'w') as w:\n",
    "    json.dump(dates, w)"
   ]
  },
  {
   "cell_type": "code",
   "execution_count": 41,
   "id": "distributed-apache",
   "metadata": {},
   "outputs": [
    {
     "name": "stdout",
     "output_type": "stream",
     "text": [
      "October 21st, 2005 2005-10-21 00:00:00\n"
     ]
    }
   ],
   "source": [
    "with open('kym_files/kym_dates.json', 'r') as r:\n",
    "    x=json.load(r)\n",
    "    for k,v in x.items():\n",
    "        for d in v:\n",
    "            print(d, dateparser.parse(d))\n",
    "        break"
   ]
  },
  {
   "cell_type": "code",
   "execution_count": null,
   "id": "saving-beads",
   "metadata": {},
   "outputs": [],
   "source": []
  }
 ],
 "metadata": {
  "kernelspec": {
   "display_name": "Python 3",
   "language": "python",
   "name": "python3"
  },
  "language_info": {
   "codemirror_mode": {
    "name": "ipython",
    "version": 3
   },
   "file_extension": ".py",
   "mimetype": "text/x-python",
   "name": "python",
   "nbconvert_exporter": "python",
   "pygments_lexer": "ipython3",
   "version": "3.8.5"
  }
 },
 "nbformat": 4,
 "nbformat_minor": 5
}
