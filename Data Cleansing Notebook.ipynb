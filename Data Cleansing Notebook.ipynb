{
 "cells": [
  {
   "cell_type": "code",
   "execution_count": 1,
   "id": "dbe52e58-1356-4c3d-89aa-c787baee3923",
   "metadata": {},
   "outputs": [],
   "source": [
    "import json, csv\n",
    "from csv import writer, reader"
   ]
  },
  {
   "cell_type": "markdown",
   "id": "2ca16b05-972c-42bf-8e6a-e7f618f3ac3b",
   "metadata": {},
   "source": [
    "## Extracting Data Points classified as Memes"
   ]
  },
  {
   "cell_type": "code",
   "execution_count": null,
   "id": "8d4442d0-80bb-4cfa-8998-a4c881b5c100",
   "metadata": {},
   "outputs": [],
   "source": []
  },
  {
   "cell_type": "code",
   "execution_count": 2,
   "id": "fe750a33-60ea-42bf-a3c9-8f04bc73f819",
   "metadata": {},
   "outputs": [],
   "source": [
    "def save2json(filename, dump):\n",
    "    out_file = open(filename, \"w\")\n",
    "    json.dump(dump, out_file, indent = 6)\n",
    "    out_file.close()"
   ]
  },
  {
   "cell_type": "code",
   "execution_count": 3,
   "id": "37d8eb04-544b-4429-ab0c-214ec94843db",
   "metadata": {},
   "outputs": [],
   "source": [
    "dump = []\n",
    "\n",
    "with open('kym.json') as data:\n",
    "    memes = json.load(data)\n",
    "    with open('kym.csv', 'w', newline='') as csvfile:\n",
    "        csvw = csv.writer(csvfile, delimiter=',',quotechar='|', quoting=csv.QUOTE_MINIMAL)\n",
    "        csvw.writerow([\"url\",\"title\"])\n",
    "        for m in memes:\n",
    "            if (\"sites\" in m['url'] or \"culture\" in m['url'] or \"subculture\" in m['url'] or \"event\" in m['url'] or \"people\" in m['url'] or \"type\" in m['url']  ):\n",
    "                continue\n",
    "            else:\n",
    "                dump.append(m)\n",
    "                csvw.writerow([m[\"url\"],m[\"title\"]])    "
   ]
  },
  {
   "cell_type": "code",
   "execution_count": null,
   "id": "4ca5643d-c38a-4146-b1b7-463bd9bc3e6e",
   "metadata": {},
   "outputs": [],
   "source": []
  },
  {
   "cell_type": "code",
   "execution_count": 4,
   "id": "425568ae-e4af-4d62-9494-b6254bd24cc2",
   "metadata": {},
   "outputs": [],
   "source": [
    "save2json(\"kym.memes.json\",dump)"
   ]
  },
  {
   "cell_type": "code",
   "execution_count": null,
   "id": "f1e38f64-32f7-414b-add7-1d12290370de",
   "metadata": {},
   "outputs": [],
   "source": []
  },
  {
   "cell_type": "code",
   "execution_count": null,
   "id": "17da7800-571d-407b-8e43-c82f5c48dd72",
   "metadata": {},
   "outputs": [],
   "source": [
    "# After we decided to simply link the meme directly to the string like in Wikidata."
   ]
  },
  {
   "cell_type": "code",
   "execution_count": null,
   "id": "ad66fd26-2489-481f-b5ba-19e3774e69b3",
   "metadata": {},
   "outputs": [],
   "source": [
    "entities = []\n",
    "with open('wiki.kym.vision.json') as visions:\n",
    "    data = json.load(visions)\n",
    "    for m in data:\n",
    "        entities = entities + [a[\"mid\"] for a in m[\"labelAnnotations\"]]\n",
    "        entities = entities + [a[\"entityId\"] for a in m[\"webDetection\"][\"webEntities\"]]\n",
    "        # print([a for a in m[\"labelAnnotations\"]])"
   ]
  },
  {
   "cell_type": "code",
   "execution_count": null,
   "id": "3c67237e-8301-4ee3-8c19-36ea1edfbf6b",
   "metadata": {},
   "outputs": [],
   "source": [
    "entities = set(entities)\n",
    "with open('wiki.kym.vision.entities.csv', 'w', newline='') as csvfile:\n",
    "    csvw = csv.writer(csvfile, delimiter=',',quotechar='|', quoting=csv.QUOTE_MINIMAL)\n",
    "    for e in entities:\n",
    "        csvw.writerow([e])"
   ]
  }
 ],
 "metadata": {
  "kernelspec": {
   "display_name": "Python 3 (ipykernel)",
   "language": "python",
   "name": "python3"
  },
  "language_info": {
   "codemirror_mode": {
    "name": "ipython",
    "version": 3
   },
   "file_extension": ".py",
   "mimetype": "text/x-python",
   "name": "python",
   "nbconvert_exporter": "python",
   "pygments_lexer": "ipython3",
   "version": "3.10.5"
  }
 },
 "nbformat": 4,
 "nbformat_minor": 5
}
