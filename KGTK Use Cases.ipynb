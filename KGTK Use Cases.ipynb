{
 "cells": [
  {
   "cell_type": "markdown",
   "id": "worse-payroll",
   "metadata": {},
   "source": [
    "# Use cases"
   ]
  },
  {
   "cell_type": "markdown",
   "id": "polish-paradise",
   "metadata": {},
   "source": [
    "We query IMKG to demonstrate several use cases about what IMKG enables. Some ideas:\n",
    "* memes that include sponge bob\n",
    "* what is the most memable actor in wikidata\n",
    "* memes that come from movies that have adult content\n",
    "* memes that come from books\n",
    "* gender of characters in memes"
   ]
  },
  {
   "cell_type": "markdown",
   "id": "august-planet",
   "metadata": {},
   "source": [
    "## 0. Setup"
   ]
  },
  {
   "cell_type": "code",
   "execution_count": 14,
   "id": "instant-point",
   "metadata": {},
   "outputs": [],
   "source": [
    "import os\n",
    "import os.path\n",
    "\n",
    "from kgtk.configure_kgtk_notebooks import ConfigureKGTK\n",
    "from kgtk.functions import kgtk, kypher"
   ]
  },
  {
   "cell_type": "code",
   "execution_count": 15,
   "id": "accredited-seventh",
   "metadata": {},
   "outputs": [],
   "source": [
    "# Parameters\n",
    "\n",
    "# Folders on local machine where to create the output and temporary files:\n",
    "input_path = \"wikidata\"\n",
    "output_path = \"projects\"\n",
    "project_name = \"tutorial-kypher\""
   ]
  },
  {
   "cell_type": "code",
   "execution_count": 16,
   "id": "adapted-version",
   "metadata": {},
   "outputs": [
    {
     "name": "stdout",
     "output_type": "stream",
     "text": [
      "User home: /Users/filipilievski\n",
      "Current dir: /Users/filipilievski/mcs/imkg\n",
      "KGTK dir: /Users/filipilievski/mcs\n",
      "Use-cases dir: /Users/filipilievski/mcs/use-cases\n"
     ]
    }
   ],
   "source": [
    "big_files=[\"label\"]\n",
    "\n",
    "additional_files = {\n",
    "    \"P31\": \"derived.P31.tsv.gz\",\n",
    "    \"items\": \"claims.wikibase-item.tsv.gz\",\n",
    "    \"P1963\": \"derived.P1963computed.count.star.tsv.gz\",\n",
    "    \"external\": \"claims.external-id.tsv.gz\",\n",
    "    \"indegree\": \"metadata.in_degree.tsv.gz\",\n",
    "    \"outdegree\": \"metadata.out_degree.tsv.gz\",\n",
    "    \"pagerank\": \"metadata.pagerank.directed.tsv.gz\"\n",
    "}\n",
    "\n",
    "ck = ConfigureKGTK(big_files)\n",
    "ck.configure_kgtk(input_graph_path=input_path, \n",
    "                  output_path=output_path, \n",
    "                  project_name=project_name,\n",
    "                  additional_files=additional_files)"
   ]
  },
  {
   "cell_type": "code",
   "execution_count": 17,
   "id": "hired-hamilton",
   "metadata": {},
   "outputs": [
    {
     "name": "stdout",
     "output_type": "stream",
     "text": [
      "KGTK_GRAPH_CACHE: projects/tutorial-kypher/temp.tutorial-kypher/wikidata.sqlite3.db\n",
      "STORE: projects/tutorial-kypher/temp.tutorial-kypher/wikidata.sqlite3.db\n",
      "GRAPH: wikidata\n",
      "KGTK_LABEL_FILE: wikidata/labels.en.tsv.gz\n",
      "EXAMPLES_DIR: /Users/filipilievski/mcs/examples\n",
      "kgtk: kgtk\n",
      "kypher: kgtk query --graph-cache projects/tutorial-kypher/temp.tutorial-kypher/wikidata.sqlite3.db\n",
      "KGTK_OPTION_DEBUG: false\n",
      "TEMP: projects/tutorial-kypher/temp.tutorial-kypher\n",
      "USE_CASES_DIR: /Users/filipilievski/mcs/use-cases\n",
      "OUT: projects/tutorial-kypher\n",
      "label: wikidata/labels.en.tsv.gz\n",
      "P31: wikidata/derived.P31.tsv.gz\n",
      "items: wikidata/claims.wikibase-item.tsv.gz\n",
      "P1963: wikidata/derived.P1963computed.count.star.tsv.gz\n",
      "external: wikidata/claims.external-id.tsv.gz\n",
      "indegree: wikidata/metadata.in_degree.tsv.gz\n",
      "outdegree: wikidata/metadata.out_degree.tsv.gz\n",
      "pagerank: wikidata/metadata.pagerank.directed.tsv.gz\n"
     ]
    }
   ],
   "source": [
    "ck.print_env_variables()"
   ]
  },
  {
   "cell_type": "markdown",
   "id": "innovative-expression",
   "metadata": {},
   "source": [
    "## Example 1: All memes that depict the entity Q83279 (\"SpongeBob SquarePants\")"
   ]
  },
  {
   "cell_type": "code",
   "execution_count": 24,
   "id": "offensive-french",
   "metadata": {},
   "outputs": [
    {
     "name": "stdout",
     "output_type": "stream",
     "text": [
      "node1\n",
      "kym:a-day-with-spongebob-squarepants-the-movie\n",
      "kym:advanced-darkness\n",
      "kym:are-you-feeling-it-now-mr-krabs\n",
      "kym:big-meaty-claws\n",
      "kym:bold-and-brash\n",
      "kym:breath-in-boi\n",
      "kym:chinese-cartoons\n",
      "kym:chocolate\n",
      "kym:confused-mr-krabs\n",
      "kym:deuueaugh\n"
     ]
    }
   ],
   "source": [
    "!kgtk query -i $TEMP/imkg.kgtk.gz \\\n",
    "    --match '(h)-[:`m4s:fromImage`]->(:Q83279),\\\n",
    "            (h)-[:`rdf:type`]->(:`kym:Meme`)' \\\n",
    "    --return 'distinct h' / head"
   ]
  },
  {
   "cell_type": "markdown",
   "id": "progressive-grass",
   "metadata": {},
   "source": [
    "## Example 2: What is the most memable people in Wikidata"
   ]
  },
  {
   "cell_type": "code",
   "execution_count": 40,
   "id": "offensive-hamilton",
   "metadata": {},
   "outputs": [
    {
     "name": "stdout",
     "output_type": "stream",
     "text": [
      "node2\tc\n",
      "Q18738659\t56\n",
      "Q76\t18\n",
      "Q352\t17\n"
     ]
    }
   ],
   "source": [
    "!kgtk query -i $TEMP/imkg.kgtk.gz \\\n",
    "    --match '(h)-[]->(person),\\\n",
    "            (h)-[:`rdf:type`]->(:`kym:Meme`),\\\n",
    "            (person)-[:P31]->(:Q5)' \\\n",
    "    --return 'person, count(h) as c' \\\n",
    "    --order-by 'c desc' \\\n",
    "    --limit 3"
   ]
  },
  {
   "cell_type": "markdown",
   "id": "clinical-publication",
   "metadata": {},
   "source": [
    "## Example 3: Memes that are based on films"
   ]
  },
  {
   "cell_type": "code",
   "execution_count": 52,
   "id": "spread-directory",
   "metadata": {},
   "outputs": [
    {
     "name": "stdout",
     "output_type": "stream",
     "text": [
      "node1\tnode2\n",
      "kym:otters-holding-hands\tQ12127227\n",
      "kym:y-u-no-guy\tQ1230318\n",
      "kym:itteh-bitteh-kitteh-committeh\tQ1509644\n",
      "kym:denied-encino-man\tQ151921\n",
      "kym:hitlers-downfall-parodies\tQ152857\n",
      "kym:cat-transcendence\tQ1534001\n",
      "kym:smiling-man-wrongly-named-memes\tQ1537484\n",
      "kym:jk-wedding-entrance-dance\tQ1676634\n",
      "kym:dumpster-fire\tQ17062774\n",
      "kym:christian-the-lion\tQ1809958\n"
     ]
    }
   ],
   "source": [
    "!kgtk query -i $TEMP/imkg.kgtk.gz \\\n",
    "    --match '(h)-[:`m4s:fromAbout`]->(t),\\\n",
    "             (t)-[:P31]->(:Q11424)' \\\n",
    "    --return 'h,t' \\\n",
    "    --limit 10"
   ]
  },
  {
   "cell_type": "markdown",
   "id": "welcome-button",
   "metadata": {},
   "source": [
    "## Example 4: Gender of people in IMKG"
   ]
  },
  {
   "cell_type": "code",
   "execution_count": 50,
   "id": "introductory-experiment",
   "metadata": {},
   "outputs": [
    {
     "name": "stdout",
     "output_type": "stream",
     "text": [
      "node2\tcount(DISTINCT graph_27_c1.\"node2\")\n",
      "Q1052281\t6\n",
      "Q43445\t23\n",
      "Q44148\t46\n",
      "Q48270\t2\n",
      "Q6581072\t797\n",
      "Q6581097\t2731\n"
     ]
    }
   ],
   "source": [
    "!kgtk query -i $TEMP/imkg.kgtk.gz \\\n",
    "    --match '()-[]->(person),\\\n",
    "            (person)-[:P21]->(gender)' \\\n",
    "    --return 'gender, count(distinct person)' \\\n",
    "    --limit 10"
   ]
  }
 ],
 "metadata": {
  "kernelspec": {
   "display_name": "Python 3",
   "language": "python",
   "name": "python3"
  },
  "language_info": {
   "codemirror_mode": {
    "name": "ipython",
    "version": 3
   },
   "file_extension": ".py",
   "mimetype": "text/x-python",
   "name": "python",
   "nbconvert_exporter": "python",
   "pygments_lexer": "ipython3",
   "version": "3.8.5"
  }
 },
 "nbformat": 4,
 "nbformat_minor": 5
}
