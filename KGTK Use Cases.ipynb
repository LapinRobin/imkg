{
 "cells": [
  {
   "cell_type": "markdown",
   "id": "manual-playing",
   "metadata": {},
   "source": [
    "# Use cases"
   ]
  },
  {
   "cell_type": "markdown",
   "id": "quantitative-excerpt",
   "metadata": {},
   "source": [
    "We query IMKG to demonstrate several use cases about what IMKG enables. Some ideas:\n",
    "* memes that include sponge bob\n",
    "* what is the most memable actor in wikidata\n",
    "* memes that come from movies that have adult content\n",
    "* memes that come from books\n",
    "* gender of characters in memes"
   ]
  },
  {
   "cell_type": "markdown",
   "id": "freelance-overall",
   "metadata": {},
   "source": [
    "## 0. Setup"
   ]
  },
  {
   "cell_type": "code",
   "execution_count": 1,
   "id": "fatty-metropolitan",
   "metadata": {},
   "outputs": [],
   "source": [
    "import os\n",
    "import os.path\n",
    "\n",
    "from kgtk.configure_kgtk_notebooks import ConfigureKGTK\n",
    "from kgtk.functions import kgtk, kypher"
   ]
  },
  {
   "cell_type": "code",
   "execution_count": 2,
   "id": "electronic-apple",
   "metadata": {},
   "outputs": [],
   "source": [
    "# Parameters\n",
    "\n",
    "# Folders on local machine where to create the output and temporary files:\n",
    "input_path = \"wikidata\"\n",
    "output_path = \"projects\"\n",
    "project_name = \"tutorial-kypher\""
   ]
  },
  {
   "cell_type": "code",
   "execution_count": 3,
   "id": "unlike-lawrence",
   "metadata": {},
   "outputs": [
    {
     "name": "stdout",
     "output_type": "stream",
     "text": [
      "User home: /Users/filipilievski\n",
      "Current dir: /Users/filipilievski/mcs/imkg\n",
      "KGTK dir: /Users/filipilievski/mcs\n",
      "Use-cases dir: /Users/filipilievski/mcs/use-cases\n"
     ]
    }
   ],
   "source": [
    "big_files=[\"label\"]\n",
    "\n",
    "additional_files = {\n",
    "    \"P31\": \"derived.P31.tsv.gz\",\n",
    "    \"items\": \"claims.wikibase-item.tsv.gz\",\n",
    "    \"P1963\": \"derived.P1963computed.count.star.tsv.gz\",\n",
    "    \"external\": \"claims.external-id.tsv.gz\",\n",
    "    \"indegree\": \"metadata.in_degree.tsv.gz\",\n",
    "    \"outdegree\": \"metadata.out_degree.tsv.gz\",\n",
    "    \"pagerank\": \"metadata.pagerank.directed.tsv.gz\"\n",
    "}\n",
    "\n",
    "ck = ConfigureKGTK(big_files)\n",
    "ck.configure_kgtk(input_graph_path=input_path, \n",
    "                  output_path=output_path, \n",
    "                  project_name=project_name,\n",
    "                  additional_files=additional_files)"
   ]
  },
  {
   "cell_type": "code",
   "execution_count": 4,
   "id": "brutal-success",
   "metadata": {},
   "outputs": [
    {
     "name": "stdout",
     "output_type": "stream",
     "text": [
      "USE_CASES_DIR: /Users/filipilievski/mcs/use-cases\n",
      "STORE: projects/tutorial-kypher/temp.tutorial-kypher/wikidata.sqlite3.db\n",
      "GRAPH: wikidata\n",
      "kgtk: kgtk\n",
      "OUT: projects/tutorial-kypher\n",
      "EXAMPLES_DIR: /Users/filipilievski/mcs/examples\n",
      "KGTK_LABEL_FILE: wikidata/labels.en.tsv.gz\n",
      "kypher: kgtk query --graph-cache projects/tutorial-kypher/temp.tutorial-kypher/wikidata.sqlite3.db\n",
      "KGTK_GRAPH_CACHE: projects/tutorial-kypher/temp.tutorial-kypher/wikidata.sqlite3.db\n",
      "KGTK_OPTION_DEBUG: false\n",
      "TEMP: projects/tutorial-kypher/temp.tutorial-kypher\n",
      "label: wikidata/labels.en.tsv.gz\n",
      "P31: wikidata/derived.P31.tsv.gz\n",
      "items: wikidata/claims.wikibase-item.tsv.gz\n",
      "P1963: wikidata/derived.P1963computed.count.star.tsv.gz\n",
      "external: wikidata/claims.external-id.tsv.gz\n",
      "indegree: wikidata/metadata.in_degree.tsv.gz\n",
      "outdegree: wikidata/metadata.out_degree.tsv.gz\n",
      "pagerank: wikidata/metadata.pagerank.directed.tsv.gz\n"
     ]
    }
   ],
   "source": [
    "ck.print_env_variables()"
   ]
  },
  {
   "cell_type": "markdown",
   "id": "registered-washington",
   "metadata": {},
   "source": [
    "## Example 1: All memes that depict the entity Q83279 (\"SpongeBob SquarePants\")"
   ]
  },
  {
   "cell_type": "code",
   "execution_count": 7,
   "id": "expensive-latex",
   "metadata": {},
   "outputs": [
    {
     "name": "stdout",
     "output_type": "stream",
     "text": [
      "count(DISTINCT graph_33_c1.\"node1\")\n",
      "130\n"
     ]
    }
   ],
   "source": [
    "!kgtk query -i $TEMP/imkg.kgtk.gz \\\n",
    "    --match '(h)-[:`m4s:fromImage`]->(:Q83279),\\\n",
    "            (h)-[:`rdf:type`]->(:`kym:Meme`)' \\\n",
    "    --return 'count(distinct h)'"
   ]
  },
  {
   "cell_type": "code",
   "execution_count": 8,
   "id": "legislative-logan",
   "metadata": {},
   "outputs": [],
   "source": [
    "!kgtk query -i $TEMP/imkg.kgtk.gz \\\n",
    "    --match '(h)-[:`m4s:fromImage`]->(:Q83279),\\\n",
    "            (h)-[:`rdf:type`]->(:`kym:Meme`),\\\n",
    "            (h)-[r]->(t)' \\\n",
    "    --return 'distinct h,r.label,t' \\\n",
    "    -o $TEMP/sponge.kgtk.gz"
   ]
  },
  {
   "cell_type": "code",
   "execution_count": 9,
   "id": "orange-chase",
   "metadata": {},
   "outputs": [],
   "source": [
    "kgtk(\"\"\"visualize-graph \n",
    "        -i $TEMP/sponge.kgtk.gz\n",
    "        -o viz/iflip_kym.graph.html\"\"\")"
   ]
  },
  {
   "cell_type": "markdown",
   "id": "positive-zoning",
   "metadata": {},
   "source": [
    "## Example 2: What is the most memable people in Wikidata"
   ]
  },
  {
   "cell_type": "code",
   "execution_count": 10,
   "id": "generous-retailer",
   "metadata": {},
   "outputs": [
    {
     "name": "stdout",
     "output_type": "stream",
     "text": [
      "node2\tc\n",
      "Q22686\t145\n",
      "Q18738659\t72\n",
      "Q15935\t56\n"
     ]
    }
   ],
   "source": [
    "!kgtk query -i $TEMP/imkg.kgtk.gz \\\n",
    "    --match '(h)-[]->(person),\\\n",
    "            (h)-[:`rdf:type`]->(:`kym:Meme`),\\\n",
    "            (person)-[:P31]->(:Q5)' \\\n",
    "    --return 'person, count(h) as c' \\\n",
    "    --order-by 'c desc' \\\n",
    "    --limit 3"
   ]
  },
  {
   "cell_type": "markdown",
   "id": "manufactured-clause",
   "metadata": {},
   "source": [
    "## Example 3: Memes that are based on films"
   ]
  },
  {
   "cell_type": "code",
   "execution_count": 12,
   "id": "magnetic-contrast",
   "metadata": {},
   "outputs": [
    {
     "name": "stdout",
     "output_type": "stream",
     "text": [
      "count(DISTINCT graph_33_c1.\"node1\")\n",
      "413\n"
     ]
    }
   ],
   "source": [
    "!kgtk query -i $TEMP/imkg.kgtk.gz \\\n",
    "    --match '(h)-[:`m4s:fromAbout`]->(t),\\\n",
    "             (t)-[:P31]->(:Q11424)' \\\n",
    "    --return 'count (distinct h)' \\\n",
    "    --limit 10"
   ]
  },
  {
   "cell_type": "markdown",
   "id": "valuable-perth",
   "metadata": {},
   "source": [
    "Let's visualize this"
   ]
  },
  {
   "cell_type": "code",
   "execution_count": null,
   "id": "terminal-fifty",
   "metadata": {},
   "outputs": [],
   "source": [
    "!kgtk query -i $TEMP/imkg.kgtk.gz \\\n",
    "    --match '(h1)-[:`m4s:fromAbout`]->(t1),\\\n",
    "            (h2)-[:`m4s:fromAbout`]->(t2),\\\n",
    "             (t1)-[:P31]->(:Q11424),\\\n",
    "             (t2)-[:P31]->(:Q11424),\\\n",
    "             (h1)-[r]->(h2)' \\\n",
    "    --return 'h1 as node1, r.label, h2 as node2' \\\n",
    "    --limit 10 \\\n",
    "    -o $TEMP/film_memes.kgtk.gz"
   ]
  },
  {
   "cell_type": "code",
   "execution_count": null,
   "id": "fossil-sheriff",
   "metadata": {},
   "outputs": [],
   "source": [
    "kgtk(\"\"\"visualize-graph \n",
    "        -i $TEMP/film_memes.kgtk.gz\n",
    "        -o viz/iflip_kym.graph.html\"\"\")"
   ]
  },
  {
   "cell_type": "markdown",
   "id": "binary-hartford",
   "metadata": {},
   "source": [
    "## Example 4: Gender of people in IMKG"
   ]
  },
  {
   "cell_type": "code",
   "execution_count": 14,
   "id": "operational-scene",
   "metadata": {},
   "outputs": [
    {
     "name": "stdout",
     "output_type": "stream",
     "text": [
      "node2\tcount(DISTINCT graph_33_c1.\"node2\")\n",
      "Q1052281\t20\n",
      "Q1097630\t4\n",
      "Q12964198\t1\n",
      "Q2449503\t2\n",
      "Q43445\t67\n",
      "Q44148\t170\n",
      "Q48270\t14\n",
      "Q6581072\t2798\n",
      "Q6581097\t10333\n"
     ]
    }
   ],
   "source": [
    "!kgtk query -i $TEMP/imkg.kgtk.gz \\\n",
    "    --match '()-[]->(person),\\\n",
    "            (person)-[:P21]->(gender)' \\\n",
    "    --return 'gender, count(distinct person)' \\\n",
    "    --limit 15"
   ]
  },
  {
   "cell_type": "code",
   "execution_count": null,
   "id": "stopped-greene",
   "metadata": {},
   "outputs": [],
   "source": []
  }
 ],
 "metadata": {
  "kernelspec": {
   "display_name": "Python 3",
   "language": "python",
   "name": "python3"
  },
  "language_info": {
   "codemirror_mode": {
    "name": "ipython",
    "version": 3
   },
   "file_extension": ".py",
   "mimetype": "text/x-python",
   "name": "python",
   "nbconvert_exporter": "python",
   "pygments_lexer": "ipython3",
   "version": "3.8.5"
  }
 },
 "nbformat": 4,
 "nbformat_minor": 5
}
