{
 "cells": [
  {
   "cell_type": "code",
   "execution_count": 38,
   "id": "56adbd00-f1bf-4292-b286-cd20fdad2aab",
   "metadata": {},
   "outputs": [],
   "source": [
    "import json, csv\n",
    "from csv import writer, reader"
   ]
  },
  {
   "cell_type": "code",
   "execution_count": 39,
   "id": "dd2080b7-e592-4248-bfd0-1b0b82d688ea",
   "metadata": {},
   "outputs": [],
   "source": [
    "def save2json(filename, dump):\n",
    "    out_file = open(filename, \"w\")\n",
    "    json.dump(dump, out_file, indent = 6)\n",
    "    out_file.close()"
   ]
  },
  {
   "cell_type": "code",
   "execution_count": 40,
   "id": "e099aaf2-c9a5-4aac-9007-0da61e3ee600",
   "metadata": {},
   "outputs": [],
   "source": [
    "def save2csv(filename, header, data):\n",
    "    with open(filename, 'w', newline='') as csvfile:\n",
    "        csvw = csv.writer(csvfile, delimiter=',',quotechar='|', quoting=csv.QUOTE_MINIMAL)\n",
    "        csvw.writerow(header)\n",
    "        for d in data:\n",
    "            csvw.writerow(d)"
   ]
  },
  {
   "cell_type": "code",
   "execution_count": null,
   "id": "b14edd03-ebfb-4fb3-9a9e-6aba8c38dd7c",
   "metadata": {},
   "outputs": [],
   "source": []
  },
  {
   "cell_type": "code",
   "execution_count": 41,
   "id": "08d4d261-b637-471d-b5f9-51c68f942f94",
   "metadata": {},
   "outputs": [],
   "source": [
    "def get_textual_entities(infile,entity_file,outfile):\n",
    "    memes_entities = []\n",
    "    cache = []\n",
    "    errors = []\n",
    "    with open(infile) as csvfile:\n",
    "        urls = reader(csvfile)\n",
    "        #Loading file with dbpedia entities\n",
    "        with open(entity_file) as efile:\n",
    "            data = json.load(efile)\n",
    "            #Mapping DBPedia entities to Wikidata\n",
    "            with open('data/dbpedia-wikidata.json') as jsonfile:\n",
    "                db2wdmapping = json.load(jsonfile)\n",
    "                for row in urls:\n",
    "                    if(row[1] in data.keys() and not row[1] in cache):\n",
    "                        cache.append([row[1]])\n",
    "                        newdata = data[row[1]]\n",
    "                        newdata['url']=row[1]\n",
    "                        if(\"Resources\" in newdata.keys()):\n",
    "                            for r in newdata[\"Resources\"]:\n",
    "                                res = r['@URI'].replace('http://dbpedia.org/resource/','')\n",
    "                                if(res in db2wdmapping.keys()):\n",
    "                                    r['QID'] = 'https://www.wikidata.org/wiki/'+db2wdmapping[res]                       \n",
    "                                if(type(r[\"@types\"])==str):\n",
    "                                    ls = r[\"@types\"].replace(\"DUL:\", \"http://www.loa-cnr.it/ontologies/DOLCE-Lite#\").replace(\"Wikidata:\", \"https://www.wikidata.org/wiki/\").replace(\"Schema:\", \"https://schema.org/\").split(\",\")\n",
    "                                    ls = list(filter(None, ls))\n",
    "                                    ls = [l for l in ls if 'DBpedia' not in l]\n",
    "                                # elif(type(r[\"@types\"])==list):\n",
    "                                    # ls = list(map(lambda s: s.replace(\"DUL:\", \"http://www.loa-cnr.it/ontologies/DOLCE-Lite#\").replace(\"Wikidata:\", \"https://www.wikidata.org/wiki/\").replace(\"Schema:\", \"https://schema.org/\").replace(\"DBpedia:\", \"\"),r[\"@types\"]))\n",
    "                                    # errors.append([row[1],res,r[\"@types\"]])\n",
    "                                #Removing dbpedia types that do not have a correspondence in wikidata\n",
    "                                for l in ls:\n",
    "                                    if(l in db2wdmapping.keys()):\n",
    "                                        l = 'https://www.wikidata.org/wiki/'+db2wdmapping[l]     \n",
    "                                r[\"@typeList\"]=ls\n",
    "                        memes_entities.append(data[row[1]])\n",
    "    save2json(outfile, memes_entities)\n",
    "    save2csv('errors.csv',['kym','entity','@types'],errors)"
   ]
  },
  {
   "cell_type": "code",
   "execution_count": null,
   "id": "6c83000c-02a5-4452-b95a-4abb3467839e",
   "metadata": {},
   "outputs": [],
   "source": []
  },
  {
   "cell_type": "code",
   "execution_count": 42,
   "id": "d518f5a5-9be1-493d-9760-aac744314d48",
   "metadata": {},
   "outputs": [],
   "source": [
    "def get_vision_entities(infile,entities,entity_file,outfile):\n",
    "    vision = []\n",
    "    cache = []\n",
    "    keys = entities.keys()\n",
    "    with open(infile) as csvfile:\n",
    "        urls = reader(csvfile)\n",
    "        with open(entity_file) as memes:\n",
    "            data = json.load(memes)\n",
    "            for row in urls:\n",
    "                if(row[1] in data.keys() and not row[1] in cache):\n",
    "                    cache.append([row[1]])\n",
    "                    newdata = data[row[1]]\n",
    "                    newdata['url']=row[1]\n",
    "                    if('labelAnnotations' in newdata.keys()):\n",
    "                        for la in newdata['labelAnnotations']:\n",
    "                            if(la['mid'] in keys):\n",
    "                                la['qid']=entities[la['mid']]\n",
    "                    if('webDetection' in newdata.keys() and 'webEntities' in newdata['webDetection'].keys()):\n",
    "                        for la in newdata['webDetection']['webEntities']:\n",
    "                             if(la['entityId'] in keys):\n",
    "                                la['qid']=entities[la['entityId']]\n",
    "                    vision.append(data[row[1]])\n",
    "    save2json(outfile, vision)"
   ]
  },
  {
   "cell_type": "code",
   "execution_count": null,
   "id": "40d6aaca-2651-4ad7-897c-14be47f8a453",
   "metadata": {},
   "outputs": [],
   "source": []
  },
  {
   "cell_type": "markdown",
   "id": "492ce41f-f0c3-47d9-b444-2cff63bccc86",
   "metadata": {},
   "source": [
    "### Gets Spotlights entities (mapped to wikidata) associated to the KYM media frame seed subset"
   ]
  },
  {
   "cell_type": "code",
   "execution_count": 47,
   "id": "7de7090a-096a-40a8-a666-5c09bf330180",
   "metadata": {},
   "outputs": [],
   "source": [
    "spotlight_enrichment_raw = 'data/raw/kym.spotlight.raw.json'"
   ]
  },
  {
   "cell_type": "code",
   "execution_count": null,
   "id": "3c638768-049a-4d68-81c1-df7953d23613",
   "metadata": {},
   "outputs": [],
   "source": [
    "raw_data  = json.load(open('data/raw/kym.spotlight.raw.json'))"
   ]
  },
  {
   "cell_type": "code",
   "execution_count": 49,
   "id": "a1323353-af40-47a6-b62d-5ccd1ca9c30a",
   "metadata": {},
   "outputs": [],
   "source": [
    "get_textual_entities('data/seeds.to.kym.media.frames.csv',\n",
    "                     spotlight_enrichment_raw,\n",
    "                     'data/kym.seed.media.frames.textual.enrichment.json')"
   ]
  },
  {
   "cell_type": "markdown",
   "id": "0986d553-4d2c-47b7-92ad-0b664af8f39e",
   "metadata": {},
   "source": [
    "#### Tags"
   ]
  },
  {
   "cell_type": "code",
   "execution_count": 43,
   "id": "770b5f89-b138-4398-b912-58805efc128c",
   "metadata": {},
   "outputs": [],
   "source": [
    "get_textual_entities('data/seeds.to.kym.media.frames.csv',\n",
    "                     'data/raw/kym.spotlight.raw.tags.json',\n",
    "                     'data/kym.seed.media.frames.tags.enrichment.json')"
   ]
  },
  {
   "cell_type": "markdown",
   "id": "0b2730a7-eed7-4f94-8fc7-4b45acabcda3",
   "metadata": {},
   "source": [
    "### Gets Spotlights entities (mapped to wikidata) associated to the KYM media frame "
   ]
  },
  {
   "cell_type": "code",
   "execution_count": 48,
   "id": "36f4df32-b94a-435c-a639-29110bb31049",
   "metadata": {},
   "outputs": [],
   "source": [
    "get_textual_entities('data/kym.media.frames.csv',\n",
    "                     spotlight_enrichment_raw,\n",
    "                     'data/kym.media.frames.textual.enrichment.json')"
   ]
  },
  {
   "cell_type": "code",
   "execution_count": 44,
   "id": "135039fe-aa5a-4485-bcd8-78e8ae66a905",
   "metadata": {},
   "outputs": [],
   "source": [
    "get_textual_entities('data/kym.media.frames.csv',\n",
    "                     'data/raw/kym.spotlight.raw.tags.json',\n",
    "                     'data/kym.media.frames.tags.enrichment.json')"
   ]
  },
  {
   "cell_type": "code",
   "execution_count": null,
   "id": "58d9f6ff-362e-4eb9-9b66-6cb6528297ea",
   "metadata": {},
   "outputs": [],
   "source": []
  },
  {
   "cell_type": "markdown",
   "id": "d2f505b9-2a3c-4a53-8c7f-a0a2e3e71f71",
   "metadata": {},
   "source": [
    "### Gets Google Vision entities associated to KYM subset from Wikidata"
   ]
  },
  {
   "cell_type": "code",
   "execution_count": 32,
   "id": "29881573-9c85-4a3d-9304-cd315767ce98",
   "metadata": {},
   "outputs": [],
   "source": [
    "entities = json.load(open('data/P646.json'))"
   ]
  },
  {
   "cell_type": "code",
   "execution_count": 33,
   "id": "b8719343-7809-4812-86c6-4fc45a10fb2c",
   "metadata": {},
   "outputs": [],
   "source": [
    "get_vision_entities('data/seeds.to.kym.media.frames.csv', entities,\n",
    "                    'data/raw/kym.vision.raw.json', \n",
    "                    'data/kym.seed.media.frames.visual.enrichment.json')"
   ]
  },
  {
   "cell_type": "markdown",
   "id": "e41a9dbb-31bd-4fa7-873b-313197a01c3f",
   "metadata": {},
   "source": [
    "### Gets Google Vision entities associated to KYM subset from Wikidata"
   ]
  },
  {
   "cell_type": "code",
   "execution_count": null,
   "id": "96d6dfa9-59b5-48db-bd61-4ee3d3cd97eb",
   "metadata": {},
   "outputs": [],
   "source": []
  },
  {
   "cell_type": "code",
   "execution_count": 36,
   "id": "4fe5ae55-cada-4e65-9acd-7564ec58607a",
   "metadata": {},
   "outputs": [],
   "source": [
    "get_vision_entities('data/kym.media.frames.csv', entities,\n",
    "                    'data/raw/kym.vision.raw.json', \n",
    "                    'data/kym.media.frames.visual.enrichment.json')"
   ]
  },
  {
   "cell_type": "code",
   "execution_count": 29,
   "id": "75941751-83f0-4c50-999c-149c4f8bb74e",
   "metadata": {},
   "outputs": [],
   "source": [
    "P646 = {}\n",
    "with open('data/P646.nt') as csvfile:\n",
    "    triples = reader(csvfile, delimiter =' ')\n",
    "    for t in triples:\n",
    "        if(t[2] not in P646.keys()):\n",
    "            P646[t[2]]=t[0].replace('<','').replace('>','')"
   ]
  },
  {
   "cell_type": "code",
   "execution_count": 31,
   "id": "fa03df44-7cd5-4dda-876b-af13cb835a3b",
   "metadata": {},
   "outputs": [],
   "source": [
    "save2json('data/p646.json', P646)"
   ]
  },
  {
   "cell_type": "code",
   "execution_count": null,
   "id": "7b6f1520-ced2-4179-a6eb-5bceac819493",
   "metadata": {},
   "outputs": [],
   "source": []
  },
  {
   "cell_type": "code",
   "execution_count": null,
   "id": "eac69a30-8a25-49d7-b1e0-3102ce43933a",
   "metadata": {},
   "outputs": [],
   "source": []
  },
  {
   "cell_type": "code",
   "execution_count": null,
   "id": "fe8e47dc-b711-4f7e-bc16-ff8c9a57d047",
   "metadata": {},
   "outputs": [],
   "source": []
  }
 ],
 "metadata": {
  "kernelspec": {
   "display_name": "Python 3 (ipykernel)",
   "language": "python",
   "name": "python3"
  },
  "language_info": {
   "codemirror_mode": {
    "name": "ipython",
    "version": 3
   },
   "file_extension": ".py",
   "mimetype": "text/x-python",
   "name": "python",
   "nbconvert_exporter": "python",
   "pygments_lexer": "ipython3",
   "version": "3.10.6"
  }
 },
 "nbformat": 4,
 "nbformat_minor": 5
}
