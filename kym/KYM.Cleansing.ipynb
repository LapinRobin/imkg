{
 "cells": [
  {
   "cell_type": "markdown",
   "id": "3e19aadf-5324-41cf-8031-0c6d7daae4d2",
   "metadata": {},
   "source": [
    "## This notebook includes the code to extract from KYM raw data"
   ]
  },
  {
   "cell_type": "code",
   "execution_count": 9,
   "id": "78a466b3-cbc8-44be-a643-06861e0edd66",
   "metadata": {},
   "outputs": [],
   "source": [
    "import json, csv\n",
    "from csv import writer, reader"
   ]
  },
  {
   "cell_type": "code",
   "execution_count": 10,
   "id": "93f77160-1b8b-4b68-842e-c1a08196e921",
   "metadata": {},
   "outputs": [],
   "source": [
    "def save2json(filename, dump):\n",
    "    out_file = open(filename, \"w\")\n",
    "    json.dump(dump, out_file, indent = 6)\n",
    "    out_file.close()"
   ]
  },
  {
   "cell_type": "code",
   "execution_count": 11,
   "id": "49cb7b36-e6a6-4d8d-97d2-3bca9cd6dac9",
   "metadata": {},
   "outputs": [],
   "source": [
    "def save2csv(filename, header, data):\n",
    "    with open(filename, 'w', newline='') as csvfile:\n",
    "        csvw = csv.writer(csvfile, delimiter=',',quotechar='|', quoting=csv.QUOTE_MINIMAL)\n",
    "        csvw.writerow(header)\n",
    "        for d in data:\n",
    "            csvw.writerow(d)"
   ]
  },
  {
   "cell_type": "code",
   "execution_count": 39,
   "id": "d20c1a84-f214-4401-bd39-31f1b7a7750a",
   "metadata": {},
   "outputs": [],
   "source": [
    "raw_data  = json.load(open('data/raw/kym.raw.json'))"
   ]
  },
  {
   "cell_type": "markdown",
   "id": "fcc6330e-cf6b-4b7a-916f-d86cb59c4ab2",
   "metadata": {},
   "source": [
    "## Clean KYM Extracted Data"
   ]
  },
  {
   "cell_type": "markdown",
   "id": "80eb3b1a-1af8-49cf-82f9-e541a15d9eb8",
   "metadata": {},
   "source": [
    "The code below cleans the KYM raw data extracting only those entries that are categorised as Memes (see Infobox below). It also removes ans separate data related to structured info present in the page.\n",
    "\n",
    "![infobox](images/kym-infobox.png)"
   ]
  },
  {
   "cell_type": "code",
   "execution_count": 13,
   "id": "f9810bbe-5af6-4e8a-b083-095dbc83a9dd",
   "metadata": {},
   "outputs": [],
   "source": [
    "raw_media_frames = []\n",
    "metas = []\n",
    "lds = []\n",
    "\n",
    "for m in raw_data:\n",
    "    if (\"sites\" in m['url'] or \"culture\" in m['url'] or \"subculture\" in m['url'] or \"event\" in m['url'] or \"people\" in m['url'] or \"type\" in m['url']  ):\n",
    "        continue\n",
    "    else:\n",
    "        if('content' in m.keys() and 'about' in m['content'].keys() and 'text' in m['content']['about'].keys() ):\n",
    "            m['content']['about']['fulltext'] = \"\".join(m['content']['about']['text'])\n",
    "        if('content' in m.keys() and 'origin' in m['content'].keys() and 'text' in m['content']['origin'].keys() ):\n",
    "            m['content']['origin']['fulltext'] = \"\".join(m['content']['origin']['text'])\n",
    "        if('content' in m.keys() and 'spread' in m['content'].keys() and 'text' in m['content']['spread'].keys() ):\n",
    "            m['content']['spread']['fulltext'] = \"\".join(m['content']['spread']['text'])\n",
    "        if('content' in m.keys() and 'subsection' in m['content'].keys() and 'text' in m['content']['usage'].keys() ):\n",
    "            m['content']['subsection']['fulltext'] = \"\".join(m['content']['subsection']['text'])\n",
    "        if('meta' in m.keys()):\n",
    "            metas.append(m.pop('meta', None))\n",
    "        if('ld' in m.keys()):\n",
    "            lds.append(m.pop('ld', None))\n",
    "        raw_media_frames.append(m)"
   ]
  },
  {
   "cell_type": "code",
   "execution_count": 14,
   "id": "515381c1-baad-4fcc-8859-9cfa5ef9ec69",
   "metadata": {},
   "outputs": [],
   "source": [
    "save2json('data/kym.media.frames.meta.json', metas)"
   ]
  },
  {
   "cell_type": "code",
   "execution_count": 15,
   "id": "e4658f40-4c73-42dd-9c3a-c17c38a8f590",
   "metadata": {},
   "outputs": [],
   "source": [
    "save2json('data/kym.media.frames.ls.json', lds)"
   ]
  },
  {
   "cell_type": "code",
   "execution_count": 16,
   "id": "b00dba98-15da-4171-b973-d3f979b62ee3",
   "metadata": {},
   "outputs": [],
   "source": [
    "save2json('data/kym.media.frames.json', raw_media_frames)"
   ]
  },
  {
   "cell_type": "code",
   "execution_count": 41,
   "id": "fb58d37f-b501-4e3b-8e84-e735114661e5",
   "metadata": {},
   "outputs": [],
   "source": [
    "save2csv('data/kym.media.frames.csv', ['title','meme'], [[m['title'],m['url']] for m in raw_media_frames])"
   ]
  },
  {
   "cell_type": "markdown",
   "id": "fc4b352d-64c9-4af9-8478-2eeca37659b8",
   "metadata": {},
   "source": [
    "## Extract those Media Frame that have a corresponding seed in KYM"
   ]
  },
  {
   "cell_type": "code",
   "execution_count": 17,
   "id": "fd14e95a-343e-4ff7-9ec3-0895fac4705a",
   "metadata": {},
   "outputs": [],
   "source": [
    "def get_media_frame_from_seeds(seed,memefile,outfile):\n",
    "    dump = [ ]\n",
    "    with open(seed) as csvfile:\n",
    "        urls = reader(csvfile)\n",
    "        with open(memefile) as memes:\n",
    "            data = json.load(memes)\n",
    "            for row in urls:\n",
    "                for i in data:\n",
    "                    if (i['url'] == row[1]):\n",
    "                        dump.append(i)\n",
    "    save2json(outfile,dump)"
   ]
  },
  {
   "cell_type": "code",
   "execution_count": 18,
   "id": "7c3124e3-1f1d-4a3e-a0dd-4c1a41b4ac37",
   "metadata": {},
   "outputs": [],
   "source": [
    "get_media_frame_from_seeds('data/seeds.to.kym.media.frames.csv','data/kym.media.frames.json','data/kym.seed.media.frames.json')"
   ]
  },
  {
   "cell_type": "markdown",
   "id": "f535badd-e4e8-43c4-86ef-cd09a2bd3c32",
   "metadata": {},
   "source": [
    "## Extract the related media frames\n",
    "- siblings (rdfs:seeAlso)\n",
    "- parent (skos:broader)\n",
    "- children (skos:narrower)\n",
    "\n"
   ]
  },
  {
   "cell_type": "code",
   "execution_count": 29,
   "id": "6c7717a8-cf52-4ea6-8bee-c576302227a2",
   "metadata": {},
   "outputs": [],
   "source": [
    "def extract_X(infile, outfile,x):\n",
    "    xs = []\n",
    "    for m in infile:\n",
    "        if(x in m.keys()):\n",
    "            if(type(m[x])==list):\n",
    "                for s in m[x]:\n",
    "                    xs = xs + [[m['url'],s]]\n",
    "            else:\n",
    "                xs = xs + [[m['url'],m[x]]]\n",
    "    save2csv(outfile,['meme',x],xs)"
   ]
  },
  {
   "cell_type": "markdown",
   "id": "ed24fe01-e6e9-4d31-a104-9372d40e28ec",
   "metadata": {},
   "source": [
    "### For all Media Frames"
   ]
  },
  {
   "cell_type": "code",
   "execution_count": 28,
   "id": "3b30af12-608e-45ba-9c0d-d7237ef9d582",
   "metadata": {},
   "outputs": [],
   "source": [
    "extract_X(raw_media_frames, 'data/kym.siblings.media.frames.csv', 'siblings')"
   ]
  },
  {
   "cell_type": "code",
   "execution_count": 26,
   "id": "2a56339e-8830-4b15-8008-bdb844204694",
   "metadata": {},
   "outputs": [],
   "source": [
    "extract_X(raw_media_frames, 'data/kym.parent.media.frames.csv', 'parent')"
   ]
  },
  {
   "cell_type": "code",
   "execution_count": 27,
   "id": "fa5f6ef3-f89d-4349-88a5-1aefaf5f0362",
   "metadata": {},
   "outputs": [],
   "source": [
    "extract_X(raw_media_frames, 'data/kym.children.media.frames.csv', 'children')"
   ]
  },
  {
   "cell_type": "markdown",
   "id": "143c2980-4d16-4640-8b25-056fdf6ae3d1",
   "metadata": {},
   "source": [
    "### For Seeds only"
   ]
  },
  {
   "cell_type": "code",
   "execution_count": 25,
   "id": "aadb1c39-5cfd-4a92-8005-699a8f410d8e",
   "metadata": {},
   "outputs": [],
   "source": [
    "with open('data/kym.seed.media.frames.json') as inF:\n",
    "        data2filter = json.load(inF)\n",
    "        extract_X(data2filter, 'data/kym.seed.siblings.media.frames.csv', 'siblings')\n",
    "        extract_X(data2filter, 'data/kym.seed.parent.media.frames.csv', 'parent')\n",
    "        extract_X(data2filter, 'data/kym.seed.children.media.frames.csv', 'children')"
   ]
  },
  {
   "cell_type": "markdown",
   "id": "4664a4d1-18b2-42ac-9f5d-a683a54c8b5f",
   "metadata": {},
   "source": [
    "## Extract the taxonomy of media frames"
   ]
  },
  {
   "cell_type": "code",
   "execution_count": 30,
   "id": "63307ba5-9e02-4362-9cbb-dfe0213e4204",
   "metadata": {},
   "outputs": [],
   "source": [
    "def extract_types(infile, outfile):\n",
    "    xs = []\n",
    "    for m in infile:\n",
    "        if('details' in m.keys() and 'type' in m['details'].keys()):\n",
    "            for x in m['details']['type']:\n",
    "                xs = xs + [[m['url'],x]]\n",
    "    save2csv(outfile,['meme','type'],xs)"
   ]
  },
  {
   "cell_type": "markdown",
   "id": "e21be099-975b-4813-85ea-86e004e67031",
   "metadata": {},
   "source": [
    "### For all Media Frames"
   ]
  },
  {
   "cell_type": "code",
   "execution_count": 32,
   "id": "8c5a7e41-a260-41ab-8d02-9d199207c9a8",
   "metadata": {},
   "outputs": [],
   "source": [
    "extract_types(raw_media_frames, 'data/kym.types.media.frames.csv')"
   ]
  },
  {
   "cell_type": "markdown",
   "id": "4cfe7851-ecfa-4c4e-be88-2ad86177b79e",
   "metadata": {},
   "source": [
    "### For Seeds only"
   ]
  },
  {
   "cell_type": "code",
   "execution_count": 31,
   "id": "b3a51528-0995-4548-b200-ed8f0cd16fc8",
   "metadata": {},
   "outputs": [],
   "source": [
    "with open('data/kym.seed.media.frames.json') as inF:\n",
    "        data2filter = json.load(inF)\n",
    "        extract_types(data2filter, 'data/kym.seed.types.media.frames.csv')"
   ]
  },
  {
   "cell_type": "code",
   "execution_count": null,
   "id": "62cf680a-c86b-40f4-87c0-b4b8bf4e3498",
   "metadata": {},
   "outputs": [],
   "source": []
  },
  {
   "cell_type": "code",
   "execution_count": null,
   "id": "8d36e97d-ce34-455f-865c-fbedeeab47d2",
   "metadata": {},
   "outputs": [],
   "source": []
  },
  {
   "cell_type": "code",
   "execution_count": null,
   "id": "3fb1da80-d3f8-40b8-b3e4-7ecada0c8233",
   "metadata": {},
   "outputs": [],
   "source": []
  }
 ],
 "metadata": {
  "kernelspec": {
   "display_name": "Python 3 (ipykernel)",
   "language": "python",
   "name": "python3"
  },
  "language_info": {
   "codemirror_mode": {
    "name": "ipython",
    "version": 3
   },
   "file_extension": ".py",
   "mimetype": "text/x-python",
   "name": "python",
   "nbconvert_exporter": "python",
   "pygments_lexer": "ipython3",
   "version": "3.10.6"
  }
 },
 "nbformat": 4,
 "nbformat_minor": 5
}
