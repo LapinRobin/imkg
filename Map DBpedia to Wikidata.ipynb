{
 "cells": [
  {
   "cell_type": "markdown",
   "id": "considered-creek",
   "metadata": {},
   "source": [
    "# Extract all mappings between Wikipedia/DBpedia and Wikidata\n",
    "\n",
    "We finally store these into the file `dbpedia-wikidata.json`."
   ]
  },
  {
   "cell_type": "code",
   "execution_count": null,
   "id": "balanced-concentration",
   "metadata": {},
   "outputs": [],
   "source": [
    "import gzip"
   ]
  },
  {
   "cell_type": "code",
   "execution_count": null,
   "id": "promotional-portal",
   "metadata": {},
   "outputs": [],
   "source": [
    "d2w={}\n",
    "with gzip.open('sitelinks.tsv.gz', 'rb') as f:\n",
    "    header=next(f)\n",
    "    for line in f:\n",
    "        l=line.decode()\n",
    "        row=l.split('\\t')\n",
    "        node1=row[1]\n",
    "        node2=row[3]\n",
    "        lang=row[4]\n",
    "        if 'https://en.wikipedia.org/wiki' not in node2 or lang!='en': continue\n",
    "        dbp=node2.replace('https://en.wikipedia.org/wiki/', '')\n",
    "        d2w[dbp]=node1"
   ]
  },
  {
   "cell_type": "code",
   "execution_count": null,
   "id": "plastic-technology",
   "metadata": {},
   "outputs": [],
   "source": [
    "len(d2w)"
   ]
  },
  {
   "cell_type": "code",
   "execution_count": null,
   "id": "ordinary-participant",
   "metadata": {},
   "outputs": [],
   "source": [
    "import json"
   ]
  },
  {
   "cell_type": "code",
   "execution_count": null,
   "id": "other-circular",
   "metadata": {},
   "outputs": [],
   "source": [
    "with open('dbpedia-wikidata.json', 'w') as w:\n",
    "    json.dump(d2w, w)"
   ]
  },
  {
   "cell_type": "markdown",
   "id": "aboriginal-jackson",
   "metadata": {},
   "source": [
    "# Extract all DBpedia entities from IMKG in order to replace them"
   ]
  },
  {
   "cell_type": "code",
   "execution_count": null,
   "id": "collective-warehouse",
   "metadata": {},
   "outputs": [],
   "source": [
    "file_to_map='projects/tutorial-kypher/temp.tutorial-kypher/memes_wikidata_all.tsv.gz'\n",
    "to_link=set()\n",
    "with gzip.open(file_to_map, 'rb') as f:\n",
    "    header=next(f)\n",
    "    print(header.decode())\n",
    "    for line in f:\n",
    "        l=line.decode().strip()\n",
    "        row=l.split('\\t')\n",
    "        if len(row)<3:\n",
    "            print(row)\n",
    "            continue\n",
    "        if row[2].startswith('dbo:') or row[2].startswith('dbr:'):\n",
    "            to_link.add(row[2])\n",
    "        if row[0].startswith('dbo:') or row[0].startswith('dbr:'):\n",
    "            to_link.add(row[0])"
   ]
  },
  {
   "cell_type": "code",
   "execution_count": null,
   "id": "genuine-monster",
   "metadata": {},
   "outputs": [],
   "source": [
    "len(to_link)"
   ]
  },
  {
   "cell_type": "code",
   "execution_count": null,
   "id": "golden-campbell",
   "metadata": {},
   "outputs": [],
   "source": [
    "can_link=set()\n",
    "mappings={}\n",
    "for db in to_link:\n",
    "    dbp=db.replace('dbo:', '').replace('dbr:', '')\n",
    "    if dbp in d2w.keys():\n",
    "        can_link.add(db)\n",
    "        mappings[db]=d2w[dbp]"
   ]
  },
  {
   "cell_type": "code",
   "execution_count": null,
   "id": "coordinated-channels",
   "metadata": {},
   "outputs": [],
   "source": [
    "len(can_link)"
   ]
  },
  {
   "cell_type": "markdown",
   "id": "going-geometry",
   "metadata": {},
   "source": [
    "# Create a new IMKG version by replacing the mapped entities, and discard the relations for the others"
   ]
  },
  {
   "cell_type": "code",
   "execution_count": null,
   "id": "recognized-feeding",
   "metadata": {},
   "outputs": [],
   "source": [
    "file_to_map='projects/tutorial-kypher/temp.tutorial-kypher/memes_wikidata_all.tsv.gz'\n",
    "to_link=set()\n",
    "all_rows=[]\n",
    "with gzip.open(file_to_map, 'rb') as f:\n",
    "    header=next(f).decode().strip().split('\\t')\n",
    "    all_rows.append(header)\n",
    "    for line in f:\n",
    "        l=line.decode().strip()\n",
    "        row=l.split('\\t')\n",
    "        \n",
    "        if len(row)<3:\n",
    "            print(row)\n",
    "            continue\n",
    "        new_row=[]\n",
    "        if row[0] in mappings.keys():\n",
    "            new_row.append(mappings[row[0]])\n",
    "        else:\n",
    "            new_row.append(row[0])\n",
    "        new_row.append(row[1])\n",
    "        if row[2] in mappings.keys():\n",
    "            new_row.append(mappings[row[2]])\n",
    "        else:\n",
    "            new_row.append(row[2])\n",
    "        all_rows.append(new_row)"
   ]
  },
  {
   "cell_type": "code",
   "execution_count": null,
   "id": "straight-meaning",
   "metadata": {},
   "outputs": [],
   "source": [
    "len(all_rows)"
   ]
  },
  {
   "cell_type": "code",
   "execution_count": null,
   "id": "worth-baker",
   "metadata": {},
   "outputs": [],
   "source": [
    "with gzip.open('projects/tutorial-kypher/temp.tutorial-kypher/memes_wikidata_all_wd.tsv.gz', 'wb') as w:\n",
    "    for r in all_rows:\n",
    "        s='\\t'.join(r) + '\\n'\n",
    "        w.write(s.encode())"
   ]
  },
  {
   "cell_type": "markdown",
   "id": "vertical-carpet",
   "metadata": {},
   "source": [
    "# Use KGTK to compute statistics of the resulting graph"
   ]
  },
  {
   "cell_type": "code",
   "execution_count": null,
   "id": "liberal-blink",
   "metadata": {},
   "outputs": [],
   "source": [
    "!TEMP=\n",
    "!kgtk graph-statistics -i projects/tutorial-kypher/temp.tutorial-kypher/memes_wikidata_all_wd.tsv.gz \\\n",
    "     --log-file projects/tutorial-kypher/temp.tutorial-kypher/memes_wd_summary.txt \\\n",
    "     --output-statistics-only \\\n",
    "     -o projects/tutorial-kypher/temp.tutorial-kypher/meme_wd_stats.tsv"
   ]
  },
  {
   "cell_type": "code",
   "execution_count": null,
   "id": "modular-format",
   "metadata": {},
   "outputs": [],
   "source": [
    "!cat projects/tutorial-kypher/temp.tutorial-kypher/memes_wd_summary.txt"
   ]
  },
  {
   "cell_type": "markdown",
   "id": "ancient-crash",
   "metadata": {},
   "source": [
    "# Summary\n",
    "\n",
    "1. There are 2,625 DBpedia entities in the graph. We can link 2,482 of them.\n",
    "2. This has a very minor impact on the graph statistics, which is expected because the entities are disconnected both before and after.\n",
    "\n",
    "\n",
    "# Discussion\n",
    "\n",
    "1. What to do with the entities we can map? Can we just replace them? Replace.\n",
    "2. What to do with the entities we cannot map? Just discard their relations in the graph? Discard.\n",
    "\n",
    "# Todos\n",
    "\n",
    "1. Incorporate the mapping step in Riccardo's notebook."
   ]
  },
  {
   "cell_type": "code",
   "execution_count": null,
   "id": "spiritual-updating",
   "metadata": {},
   "outputs": [],
   "source": []
  }
 ],
 "metadata": {
  "kernelspec": {
   "display_name": "Python 3",
   "language": "python",
   "name": "python3"
  },
  "language_info": {
   "codemirror_mode": {
    "name": "ipython",
    "version": 3
   },
   "file_extension": ".py",
   "mimetype": "text/x-python",
   "name": "python",
   "nbconvert_exporter": "python",
   "pygments_lexer": "ipython3",
   "version": "3.8.5"
  }
 },
 "nbformat": 4,
 "nbformat_minor": 5
}
