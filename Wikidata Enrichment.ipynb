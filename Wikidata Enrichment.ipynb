{
 "cells": [
  {
   "cell_type": "markdown",
   "id": "golden-pioneer",
   "metadata": {},
   "source": [
    "# Wikidata enrichment\n",
    "\n",
    "This notebook converts the IMKG graph to KGTK format and queries relevant entities in Wikidata to enrich IMKG with Wikidata knowledge."
   ]
  },
  {
   "cell_type": "markdown",
   "id": "fitted-testimony",
   "metadata": {},
   "source": [
    "## 0. Setup"
   ]
  },
  {
   "cell_type": "code",
   "execution_count": 1,
   "id": "inappropriate-wrestling",
   "metadata": {},
   "outputs": [],
   "source": [
    "import os\n",
    "import os.path\n",
    "\n",
    "from kgtk.configure_kgtk_notebooks import ConfigureKGTK\n",
    "from kgtk.functions import kgtk, kypher"
   ]
  },
  {
   "cell_type": "code",
   "execution_count": 2,
   "id": "posted-easter",
   "metadata": {},
   "outputs": [],
   "source": [
    "# Parameters\n",
    "\n",
    "# Folders on local machine where to create the output and temporary files:\n",
    "input_path = \"wikidata\"\n",
    "output_path = \"projects\"\n",
    "project_name = \"tutorial-kypher\""
   ]
  },
  {
   "cell_type": "code",
   "execution_count": 5,
   "id": "pending-synthetic",
   "metadata": {},
   "outputs": [],
   "source": [
    "# IMKG files\n",
    "imkg_dir='imkg02'\n",
    "instances_file='%s/instances.imgflip.nt' % imkg_dir\n",
    "templates_file='%s/templates.kym.nt' % imkg_dir\n",
    "instance_entities_file='%s/instances.entities.csv' % imkg_dir\n",
    "templates_entities_file='%s/templates.entities.csv' % imkg_dir"
   ]
  },
  {
   "cell_type": "code",
   "execution_count": 3,
   "id": "banner-observer",
   "metadata": {},
   "outputs": [
    {
     "name": "stdout",
     "output_type": "stream",
     "text": [
      "User home: /Users/filipilievski\n",
      "Current dir: /Users/filipilievski/mcs/imkg\n",
      "KGTK dir: /Users/filipilievski/mcs\n",
      "Use-cases dir: /Users/filipilievski/mcs/use-cases\n"
     ]
    }
   ],
   "source": [
    "big_files=[\"label\"]\n",
    "\n",
    "additional_files = {\n",
    "    \"P31\": \"derived.P31.tsv.gz\",\n",
    "    \"items\": \"claims.wikibase-item.tsv.gz\",\n",
    "    \"P1963\": \"derived.P1963computed.count.star.tsv.gz\",\n",
    "    \"external\": \"claims.external-id.tsv.gz\",\n",
    "    \"indegree\": \"metadata.in_degree.tsv.gz\",\n",
    "    \"outdegree\": \"metadata.out_degree.tsv.gz\",\n",
    "    \"pagerank\": \"metadata.pagerank.directed.tsv.gz\"\n",
    "}\n",
    "\n",
    "ck = ConfigureKGTK(big_files)\n",
    "ck.configure_kgtk(input_graph_path=input_path, \n",
    "                  output_path=output_path, \n",
    "                  project_name=project_name,\n",
    "                  additional_files=additional_files)"
   ]
  },
  {
   "cell_type": "code",
   "execution_count": 4,
   "id": "quantitative-battle",
   "metadata": {},
   "outputs": [
    {
     "name": "stdout",
     "output_type": "stream",
     "text": [
      "USE_CASES_DIR: /Users/filipilievski/mcs/use-cases\n",
      "STORE: projects/tutorial-kypher/temp.tutorial-kypher/wikidata.sqlite3.db\n",
      "kgtk: kgtk\n",
      "KGTK_GRAPH_CACHE: projects/tutorial-kypher/temp.tutorial-kypher/wikidata.sqlite3.db\n",
      "KGTK_OPTION_DEBUG: false\n",
      "OUT: projects/tutorial-kypher\n",
      "kypher: kgtk query --graph-cache projects/tutorial-kypher/temp.tutorial-kypher/wikidata.sqlite3.db\n",
      "EXAMPLES_DIR: /Users/filipilievski/mcs/examples\n",
      "TEMP: projects/tutorial-kypher/temp.tutorial-kypher\n",
      "GRAPH: wikidata\n",
      "KGTK_LABEL_FILE: wikidata/labels.en.tsv.gz\n",
      "label: wikidata/labels.en.tsv.gz\n",
      "P31: wikidata/derived.P31.tsv.gz\n",
      "items: wikidata/claims.wikibase-item.tsv.gz\n",
      "P1963: wikidata/derived.P1963computed.count.star.tsv.gz\n",
      "external: wikidata/claims.external-id.tsv.gz\n",
      "indegree: wikidata/metadata.in_degree.tsv.gz\n",
      "outdegree: wikidata/metadata.out_degree.tsv.gz\n",
      "pagerank: wikidata/metadata.pagerank.directed.tsv.gz\n"
     ]
    }
   ],
   "source": [
    "ck.print_env_variables()"
   ]
  },
  {
   "cell_type": "code",
   "execution_count": 6,
   "id": "silent-absorption",
   "metadata": {},
   "outputs": [
    {
     "name": "stdout",
     "output_type": "stream",
     "text": [
      "<http://www.wikidata.org/entity/Q4810998> <https://www.wikidata.org/wiki/Property:P646> \"/m/0b96rw\" .\n"
     ]
    }
   ],
   "source": [
    "!tail -1 \"imkg02/templates.kym.nt\"  "
   ]
  },
  {
   "cell_type": "code",
   "execution_count": 7,
   "id": "fitting-offer",
   "metadata": {},
   "outputs": [
    {
     "name": "stdout",
     "output_type": "stream",
     "text": [
      " 4709548 imkg02/templates.kym.nt\n"
     ]
    }
   ],
   "source": [
    "!wc -l \"imkg02/templates.kym.nt\"  "
   ]
  },
  {
   "cell_type": "code",
   "execution_count": 9,
   "id": "dental-indonesian",
   "metadata": {},
   "outputs": [
    {
     "name": "stdout",
     "output_type": "stream",
     "text": [
      " 17011388 imkg02/instances.imgflip.nt\n"
     ]
    }
   ],
   "source": [
    "!wc -l \"imkg02/instances.imgflip.nt\"  "
   ]
  },
  {
   "cell_type": "markdown",
   "id": "finished-express",
   "metadata": {},
   "source": [
    "## 1. Import into KGTK"
   ]
  },
  {
   "cell_type": "markdown",
   "id": "intense-payment",
   "metadata": {},
   "source": [
    "Define namespaces to make the import-ntriples command work:"
   ]
  },
  {
   "cell_type": "code",
   "execution_count": 80,
   "id": "greenhouse-iceland",
   "metadata": {},
   "outputs": [],
   "source": [
    "namespaces={'\"http://www.wikidata.org/entity/\"': 'wde',\n",
    "           '\"https://www.wikidata.org/wiki/\"': 'wdp',\n",
    "           '\"https://knowyourmeme.com/memes/\"': 'kym',\n",
    "           '\"http://www.w3.org/2000/01/rdf-schema#\"': 'rdfs',\n",
    "           '\"http://www.w3.org/1999/02/22-rdf-syntax-ns#\"': 'rdf',\n",
    "           '\"http://dbpedia.org/resource/\"': 'dbr',\n",
    "           '\"https://meme4.science/\"': 'm4s',\n",
    "           '\"Http://xmlns.com/foaf/0.1/\"': 'foaf',\n",
    "           '\"https://knowyourmeme.com/types/\"': 'kymt',\n",
    "           '\"https://dbpedia.org/property/\"': 'dbp',\n",
    "           '\"https://dbpedia.org/ontology/\"': 'dbo',\n",
    "           '\"https://schema.org/\"': 'schema',\n",
    "           '\"https://imgflip.com/\"': 'imgflip'}\n",
    "\n",
    "prop='prefix_expansion'\n",
    "with open('namespaces.tsv', 'w') as w:\n",
    "    w.write('node1\\tlabel\\tnode2\\n')\n",
    "    for k,v in namespaces.items():\n",
    "        triple=[v, prop, k]\n",
    "        w.write('\\t'.join(triple) + '\\n')"
   ]
  },
  {
   "cell_type": "code",
   "execution_count": 81,
   "id": "current-match",
   "metadata": {},
   "outputs": [
    {
     "name": "stdout",
     "output_type": "stream",
     "text": [
      "node1\tlabel\tnode2\n",
      "wde\tprefix_expansion\t\"http://www.wikidata.org/entity/\"\n",
      "wdp\tprefix_expansion\t\"https://www.wikidata.org/wiki/\"\n",
      "kym\tprefix_expansion\t\"https://knowyourmeme.com/memes/\"\n",
      "rdfs\tprefix_expansion\t\"http://www.w3.org/2000/01/rdf-schema#\"\n",
      "rdf\tprefix_expansion\t\"http://www.w3.org/1999/02/22-rdf-syntax-ns#\"\n",
      "dbr\tprefix_expansion\t\"http://dbpedia.org/resource/\"\n",
      "m4s\tprefix_expansion\t\"https://meme4.science/\"\n",
      "foaf\tprefix_expansion\t\"Http://xmlns.com/foaf/0.1/\"\n",
      "kymt\tprefix_expansion\t\"https://knowyourmeme.com/types/\"\n",
      "dbp\tprefix_expansion\t\"https://dbpedia.org/property/\"\n",
      "dbo\tprefix_expansion\t\"https://dbpedia.org/ontology/\"\n",
      "schema\tprefix_expansion\t\"https://schema.org/\"\n",
      "imgflip\tprefix_expansion\t\"https://imgflip.com/\"\n"
     ]
    }
   ],
   "source": [
    "!cat namespaces.tsv"
   ]
  },
  {
   "cell_type": "code",
   "execution_count": 25,
   "id": "friendly-captain",
   "metadata": {},
   "outputs": [
    {
     "name": "stdout",
     "output_type": "stream",
     "text": [
      "CPU times: user 46.3 ms, sys: 49.8 ms, total: 96.1 ms\n",
      "Wall time: 2min 1s\n"
     ]
    }
   ],
   "source": [
    "%%time\n",
    "kgtk(\"\"\"\n",
    "    import-ntriples -i \"imkg02/templates.kym.nt\"  \n",
    "        --namespace-file \"namespaces.tsv\"\n",
    "        -o $TEMP/raw_templates.kgtk.gz\n",
    "        --namespace-id-use-uuid True \n",
    "        --build-new-namespaces False\n",
    "        --output-only-used-namespaces True \n",
    "        --structured-value-label m4s:structured_value \n",
    "        --structured-uri-label m4s:structured_uri \n",
    "        --newnode-prefix node \n",
    "        --newnode-use-uuid True\n",
    "    \"\"\")"
   ]
  },
  {
   "cell_type": "code",
   "execution_count": 83,
   "id": "amber-african",
   "metadata": {},
   "outputs": [],
   "source": [
    "import pandas\n",
    "\n",
    "templates_fn='projects/tutorial-kypher/temp.tutorial-kypher/raw_templates.kgtk.gz'\n",
    "templates_df = pandas.read_csv(templates_fn, sep='\\t')\n",
    "templates_out='projects/tutorial-kypher/temp.tutorial-kypher/clean_templates.tsv'\n",
    "\n",
    "instances_fn='projects/tutorial-kypher/temp.tutorial-kypher/raw_instances.kgtk.gz'\n",
    "instances_df = pandas.read_csv(instances_fn, sep='\\t')\n",
    "instances_out='projects/tutorial-kypher/temp.tutorial-kypher/clean_instances.tsv'"
   ]
  },
  {
   "cell_type": "code",
   "execution_count": 28,
   "id": "challenging-designer",
   "metadata": {},
   "outputs": [],
   "source": [
    "def replace_me(n):\n",
    "    try:\n",
    "        return n.replace('wdp:Property:', '').replace('wdp:', '').replace('wdt:', '').replace('wde:', '')\n",
    "    except:\n",
    "        return n"
   ]
  },
  {
   "cell_type": "code",
   "execution_count": 29,
   "id": "auburn-biology",
   "metadata": {},
   "outputs": [],
   "source": [
    "def clean_df(df, filename):\n",
    "    all_rows=[]\n",
    "    for i, row in df.iterrows():\n",
    "        n1, label, n2 = row\n",
    "        n1=replace_me(n1)\n",
    "        n2=replace_me(n2)\n",
    "        label=replace_me(label)\n",
    "        new_row=[str(n1),str(label),str(n2)]\n",
    "        all_rows.append(new_row)\n",
    "\n",
    "    with open(filename, 'w') as w:\n",
    "        w.write('node1\\tlabel\\tnode2\\n')\n",
    "        for row in all_rows:\n",
    "            w.write('\\t'.join(row) + '\\n')"
   ]
  },
  {
   "cell_type": "markdown",
   "id": "single-collapse",
   "metadata": {},
   "source": [
    "We do some cleaning of the graph (<font color='red'>Could this be done with KGTK clean or something?</font>)"
   ]
  },
  {
   "cell_type": "code",
   "execution_count": 30,
   "id": "prostate-center",
   "metadata": {},
   "outputs": [],
   "source": [
    "clean_df(templates_df, templates_out)"
   ]
  },
  {
   "cell_type": "code",
   "execution_count": 32,
   "id": "latter-money",
   "metadata": {},
   "outputs": [],
   "source": [
    "!kgtk deduplicate -i $TEMP/clean_templates.tsv -o $TEMP/templates.kgtk.gz"
   ]
  },
  {
   "cell_type": "markdown",
   "id": "governing-cheese",
   "metadata": {},
   "source": [
    "Now that we imported and deduplicated the instances, let's do some sanity check to make sure our graph is reasonable."
   ]
  },
  {
   "cell_type": "code",
   "execution_count": 33,
   "id": "breathing-scroll",
   "metadata": {},
   "outputs": [
    {
     "data": {
      "text/html": [
       "<div>\n",
       "<style scoped>\n",
       "    .dataframe tbody tr th:only-of-type {\n",
       "        vertical-align: middle;\n",
       "    }\n",
       "\n",
       "    .dataframe tbody tr th {\n",
       "        vertical-align: top;\n",
       "    }\n",
       "\n",
       "    .dataframe thead th {\n",
       "        text-align: right;\n",
       "    }\n",
       "</style>\n",
       "<table border=\"1\" class=\"dataframe\">\n",
       "  <thead>\n",
       "    <tr style=\"text-align: right;\">\n",
       "      <th></th>\n",
       "      <th>node1</th>\n",
       "      <th>label</th>\n",
       "      <th>node2</th>\n",
       "    </tr>\n",
       "  </thead>\n",
       "  <tbody>\n",
       "    <tr>\n",
       "      <th>0</th>\n",
       "      <td>L492950-S6</td>\n",
       "      <td>P646</td>\n",
       "      <td>/m/01j3sz</td>\n",
       "    </tr>\n",
       "    <tr>\n",
       "      <th>1</th>\n",
       "      <td>Q1</td>\n",
       "      <td>P646</td>\n",
       "      <td>/m/07v7c</td>\n",
       "    </tr>\n",
       "    <tr>\n",
       "      <th>2</th>\n",
       "      <td>Q100</td>\n",
       "      <td>P646</td>\n",
       "      <td>/m/01cx_</td>\n",
       "    </tr>\n",
       "    <tr>\n",
       "      <th>3</th>\n",
       "      <td>Q1000</td>\n",
       "      <td>P646</td>\n",
       "      <td>/m/03548</td>\n",
       "    </tr>\n",
       "    <tr>\n",
       "      <th>4</th>\n",
       "      <td>Q10000</td>\n",
       "      <td>P646</td>\n",
       "      <td>/m/04s5c9</td>\n",
       "    </tr>\n",
       "    <tr>\n",
       "      <th>...</th>\n",
       "      <td>...</td>\n",
       "      <td>...</td>\n",
       "      <td>...</td>\n",
       "    </tr>\n",
       "    <tr>\n",
       "      <th>4715174</th>\n",
       "      <td>nodeejVELtbjj8NrLjNkkVJgqh-999</td>\n",
       "      <td>m4s:structured_uri</td>\n",
       "      <td>http://www.w3.org/2001/XMLSchema#timestamp</td>\n",
       "    </tr>\n",
       "    <tr>\n",
       "      <th>4715175</th>\n",
       "      <td>nodeejVELtbjj8NrLjNkkVJgqh-999</td>\n",
       "      <td>m4s:structured_value</td>\n",
       "      <td>1311452326</td>\n",
       "    </tr>\n",
       "    <tr>\n",
       "      <th>4715176</th>\n",
       "      <td>rdf</td>\n",
       "      <td>prefix_expansion</td>\n",
       "      <td>http://www.w3.org/1999/02/22-rdf-syntax-ns#</td>\n",
       "    </tr>\n",
       "    <tr>\n",
       "      <th>4715177</th>\n",
       "      <td>wde</td>\n",
       "      <td>prefix_expansion</td>\n",
       "      <td>http://www.wikidata.org/entity/</td>\n",
       "    </tr>\n",
       "    <tr>\n",
       "      <th>4715178</th>\n",
       "      <td>wdp</td>\n",
       "      <td>prefix_expansion</td>\n",
       "      <td>https://www.wikidata.org/wiki/</td>\n",
       "    </tr>\n",
       "  </tbody>\n",
       "</table>\n",
       "<p>4715179 rows × 3 columns</p>\n",
       "</div>"
      ],
      "text/plain": [
       "                                  node1                 label  \\\n",
       "0                            L492950-S6                  P646   \n",
       "1                                    Q1                  P646   \n",
       "2                                  Q100                  P646   \n",
       "3                                 Q1000                  P646   \n",
       "4                                Q10000                  P646   \n",
       "...                                 ...                   ...   \n",
       "4715174  nodeejVELtbjj8NrLjNkkVJgqh-999    m4s:structured_uri   \n",
       "4715175  nodeejVELtbjj8NrLjNkkVJgqh-999  m4s:structured_value   \n",
       "4715176                             rdf      prefix_expansion   \n",
       "4715177                             wde      prefix_expansion   \n",
       "4715178                             wdp      prefix_expansion   \n",
       "\n",
       "                                               node2  \n",
       "0                                          /m/01j3sz  \n",
       "1                                           /m/07v7c  \n",
       "2                                           /m/01cx_  \n",
       "3                                           /m/03548  \n",
       "4                                          /m/04s5c9  \n",
       "...                                              ...  \n",
       "4715174   http://www.w3.org/2001/XMLSchema#timestamp  \n",
       "4715175                                   1311452326  \n",
       "4715176  http://www.w3.org/1999/02/22-rdf-syntax-ns#  \n",
       "4715177              http://www.wikidata.org/entity/  \n",
       "4715178               https://www.wikidata.org/wiki/  \n",
       "\n",
       "[4715179 rows x 3 columns]"
      ]
     },
     "execution_count": 33,
     "metadata": {},
     "output_type": "execute_result"
    }
   ],
   "source": [
    "kgtk(\"\"\"cat -i $TEMP/templates.kgtk.gz\"\"\")"
   ]
  },
  {
   "cell_type": "markdown",
   "id": "everyday-identification",
   "metadata": {},
   "source": [
    "How many memes we have in the graph?"
   ]
  },
  {
   "cell_type": "code",
   "execution_count": 34,
   "id": "desperate-arnold",
   "metadata": {},
   "outputs": [
    {
     "name": "stdout",
     "output_type": "stream",
     "text": [
      "count(DISTINCT graph_1_c1.\"node1\")\n",
      "2343\n"
     ]
    }
   ],
   "source": [
    "!kgtk query -i $TEMP/templates.kgtk.gz \\\n",
    "    --match '(n1)-[r:`rdf:type`]->(:`kym:Meme`)' \\\n",
    "    --return 'count(distinct n1)'"
   ]
  },
  {
   "cell_type": "markdown",
   "id": "parental-glass",
   "metadata": {},
   "source": [
    "What are the relations?"
   ]
  },
  {
   "cell_type": "code",
   "execution_count": 35,
   "id": "aerial-delicious",
   "metadata": {},
   "outputs": [
    {
     "name": "stdout",
     "output_type": "stream",
     "text": [
      "Relation\n",
      "P646\n",
      "P6760\n",
      "dbp:confidence\n",
      "kym:about\n",
      "kym:added\n",
      "kym:children\n",
      "kym:from\n",
      "kym:last_update_source\n",
      "kym:origin\n",
      "kym:parent\n",
      "kym:sibling\n",
      "kym:spread\n",
      "kym:status\n",
      "kym:tag\n",
      "kym:title\n",
      "kym:year\n",
      "m4s:fromAbout\n",
      "m4s:fromImage\n",
      "m4s:fromImageEntities\n",
      "m4s:fromImageLabels\n",
      "m4s:fromTags\n",
      "m4s:structured_uri\n",
      "m4s:structured_value\n",
      "prefix_expansion\n",
      "rdf:type\n"
     ]
    }
   ],
   "source": [
    "!kgtk query -i $TEMP/templates.kgtk.gz \\\n",
    "    --match '()-[r]->()' \\\n",
    "    --return 'distinct r.label as Relation'"
   ]
  },
  {
   "cell_type": "markdown",
   "id": "chronic-finance",
   "metadata": {},
   "source": [
    "Now let's import the instances file into KGTK. This command takes around 6mins on my laptop, I was not sure if it is running or got stuck somewhere.\n",
    "<font color='red'>Progress bar would really help us work with commands better</font>"
   ]
  },
  {
   "cell_type": "code",
   "execution_count": null,
   "id": "extensive-richmond",
   "metadata": {},
   "outputs": [],
   "source": [
    "%%time\n",
    "kgtk(\"\"\"\n",
    "    import-ntriples -i \"imkg02/instances.imgflip.nt\"  \n",
    "        --namespace-file \"namespaces.tsv\"\n",
    "        -o $TEMP/raw_instances.kgtk.gz\n",
    "        --namespace-id-use-uuid True \n",
    "        --build-new-namespaces False\n",
    "        --output-only-used-namespaces True \n",
    "        --structured-value-label m4s:structured_value \n",
    "        --structured-uri-label m4s:structured_uri \n",
    "        --newnode-prefix node \n",
    "        --newnode-use-uuid True\n",
    "    \"\"\")"
   ]
  },
  {
   "cell_type": "code",
   "execution_count": null,
   "id": "cognitive-processor",
   "metadata": {},
   "outputs": [],
   "source": [
    "clean_df(instances_df, instances_out)"
   ]
  },
  {
   "cell_type": "code",
   "execution_count": null,
   "id": "ignored-dietary",
   "metadata": {},
   "outputs": [],
   "source": [
    "!kgtk deduplicate -i $TEMP/clean_instances.tsv -o $TEMP/instances.kgtk.gz"
   ]
  },
  {
   "cell_type": "code",
   "execution_count": null,
   "id": "scenic-pearl",
   "metadata": {},
   "outputs": [],
   "source": [
    "kgtk(\"\"\"head --debug -i $TEMP/raw_instances.kgtk.gz\"\"\")"
   ]
  },
  {
   "cell_type": "markdown",
   "id": "tutorial-education",
   "metadata": {},
   "source": [
    "<font color='red'>Error</font>\n",
    "What I did:\n",
    "1. Ran import-ntriples on the instances .nt file (17M lines)\n",
    "2. It worked well and I could `cat` the top 10 lines, but I saw that there was a prefix that I had not specified\n",
    "3. Then i added the prefix to the namespaces file\n",
    "4. Import-ntriples ran successfully again\n",
    "5. Cat now failed and the error message is not helpful. I tried adding the --debug flag but this did not help me understand better"
   ]
  },
  {
   "cell_type": "markdown",
   "id": "entitled-arbor",
   "metadata": {},
   "source": [
    "Let's validate that the import worked well:"
   ]
  },
  {
   "cell_type": "code",
   "execution_count": null,
   "id": "close-regard",
   "metadata": {},
   "outputs": [],
   "source": [
    "!kgtk query -i $TEMP/instances.kgtk.gz \\\n",
    "    --match '(n1)-[r:`rdf:type`]->(:`kym:Meme`)' \\\n",
    "    --return 'count(distinct n1)'"
   ]
  },
  {
   "cell_type": "code",
   "execution_count": null,
   "id": "referenced-horizontal",
   "metadata": {},
   "outputs": [],
   "source": [
    "!kgtk query -i $TEMP/instances.kgtk.gz \\\n",
    "    --match '()-[r]->()' \\\n",
    "    --return 'distinct r.label as Relation'"
   ]
  },
  {
   "cell_type": "markdown",
   "id": "linear-solomon",
   "metadata": {},
   "source": [
    "## 2. Enrich with Wikidata now"
   ]
  },
  {
   "cell_type": "markdown",
   "id": "incoming-going",
   "metadata": {},
   "source": [
    "### 2a. Data where memes are subjects or objects"
   ]
  },
  {
   "cell_type": "markdown",
   "id": "normal-pricing",
   "metadata": {},
   "source": [
    "We start with relations where the meme Qnode is a subject in Wikidata:"
   ]
  },
  {
   "cell_type": "code",
   "execution_count": 43,
   "id": "organizational-situation",
   "metadata": {},
   "outputs": [],
   "source": [
    "!kgtk query -i $items -i $TEMP/templates.kgtk.gz \\\n",
    "    --match 'templates: (meme_qid)-[:P6760]->(), \\\n",
    "            item: (meme_qid)-[mrel]->(mval)' \\\n",
    "    --return 'meme_qid as node1, mrel.label as label, mval as node2' \\\n",
    "    -o $TEMP/wikidata_sub.kgtk.gz"
   ]
  },
  {
   "cell_type": "code",
   "execution_count": 44,
   "id": "encouraging-monte",
   "metadata": {},
   "outputs": [
    {
     "name": "stdout",
     "output_type": "stream",
     "text": [
      "count(graph_4_c1.\"node1\")\n",
      "1397\n"
     ]
    }
   ],
   "source": [
    "!kgtk query -i $TEMP/wikidata_sub.kgtk.gz \\\n",
    "    --match '(n1)-[r]->()' \\\n",
    "    --return 'count (n1)'"
   ]
  },
  {
   "cell_type": "markdown",
   "id": "fifteen-sculpture",
   "metadata": {},
   "source": [
    "We get information for 1,397 memes as subjects. What about memes as objects?"
   ]
  },
  {
   "cell_type": "code",
   "execution_count": 48,
   "id": "chubby-fleet",
   "metadata": {},
   "outputs": [],
   "source": [
    "!kgtk query -i $items -i $TEMP/templates.kgtk.gz \\\n",
    "    --match 'templates: (meme_qid)-[:P6760]->(), \\\n",
    "            item: (mval)-[mrel]->(meme_qid)' \\\n",
    "    --return 'mval as node1, mrel.label as label, meme_qid as node2' \\\n",
    "    -o $TEMP/wikidata_obj.kgtk.gz"
   ]
  },
  {
   "cell_type": "markdown",
   "id": "established-rings",
   "metadata": {},
   "source": [
    "Combine and deduplicate:"
   ]
  },
  {
   "cell_type": "code",
   "execution_count": 49,
   "id": "complex-hands",
   "metadata": {},
   "outputs": [],
   "source": [
    "!kgtk cat -i $TEMP/wikidata_sub.kgtk.gz -i $TEMP/wikidata_obj.kgtk.gz / deduplicate -o $TEMP/wikidata_memes.kgtk.gz"
   ]
  },
  {
   "cell_type": "code",
   "execution_count": 50,
   "id": "entitled-newman",
   "metadata": {},
   "outputs": [
    {
     "name": "stdout",
     "output_type": "stream",
     "text": [
      "count(graph_5_c1.\"node1\")\n",
      "1587\n"
     ]
    }
   ],
   "source": [
    "!kgtk query -i $TEMP/wikidata_memes.kgtk.gz \\\n",
    "    --match '(n1)-[]->()' \\\n",
    "    --return 'count(n1)'"
   ]
  },
  {
   "cell_type": "code",
   "execution_count": 52,
   "id": "natural-mineral",
   "metadata": {},
   "outputs": [
    {
     "name": "stdout",
     "output_type": "stream",
     "text": [
      "node1\tlabel\tnode2\n",
      "P1651\tP1855\tQ5230628\n",
      "P21\tP1855\tQ7714263\n",
      "P7946\tP1855\tQ7714263\n",
      "Q101833802\tP822\tQ98951569\n",
      "Q102240167\tP793\tQ17521923\n",
      "Q104005472\tP1080\tQ87609688\n",
      "Q104005472\tP1340\tQ17122834\n",
      "Q104005472\tP1441\tQ83279\n",
      "Q104005472\tP21\tQ6581097\n",
      "Q104005472\tP31\tQ15711870\n"
     ]
    }
   ],
   "source": [
    "!kgtk query -i $TEMP/wikidata_memes.kgtk.gz \\\n",
    "    --match '(n1)-[]->()' \\\n",
    "    --limit 10"
   ]
  },
  {
   "cell_type": "markdown",
   "id": "israeli-plane",
   "metadata": {},
   "source": [
    "We now combine Wikidata information with the original graph:"
   ]
  },
  {
   "cell_type": "code",
   "execution_count": 53,
   "id": "widespread-nevada",
   "metadata": {},
   "outputs": [],
   "source": [
    "!kgtk cat -i $TEMP/wikidata_memes.kgtk.gz -i $TEMP/templates.kgtk.gz / deduplicate -o $TEMP/templates_with_wd.kgtk.gz"
   ]
  },
  {
   "cell_type": "markdown",
   "id": "sealed-unknown",
   "metadata": {},
   "source": [
    "### 2b. Data about Wikidata entities from the combined graph"
   ]
  },
  {
   "cell_type": "markdown",
   "id": "explicit-letters",
   "metadata": {},
   "source": [
    "Next, let's obtain data about the other Qnodes that are not memes. Here, we want to get relations for Qnode pairs in our graph in Wikidata. So, we query Wikidata for statements where both node1 and node2 are in our graph:"
   ]
  },
  {
   "cell_type": "code",
   "execution_count": 66,
   "id": "emotional-tennessee",
   "metadata": {},
   "outputs": [],
   "source": [
    "!kgtk query -i $items -i $TEMP/templates_with_wd.kgtk.gz \\\n",
    "    --match 'item: (qnode1)-[mrel]->(qnode2), \\\n",
    "            template: (qnode1)-[]->(), (qnode2)-[]->()' \\\n",
    "    --return 'qnode1 as node1, mrel.label as label, qnode2 as node2' \\\n",
    "    / deduplicate -o $TEMP/ss.tsv.gz"
   ]
  },
  {
   "cell_type": "code",
   "execution_count": 67,
   "id": "chinese-hello",
   "metadata": {},
   "outputs": [],
   "source": [
    "!kgtk query -i $items -i $TEMP/templates_with_wd.kgtk.gz \\\n",
    "    --match 'item: (qnode1)-[mrel]->(qnode2), \\\n",
    "            template: (qnode1)-[]->(), ()-[]->(qnode2)' \\\n",
    "    --return 'qnode1 as node1, mrel.label as label, qnode2 as node2' \\\n",
    "    / deduplicate -o $TEMP/so.tsv.gz"
   ]
  },
  {
   "cell_type": "code",
   "execution_count": 68,
   "id": "guided-humanitarian",
   "metadata": {},
   "outputs": [],
   "source": [
    "!kgtk query -i $items -i $TEMP/templates_with_wd.kgtk.gz \\\n",
    "    --match 'item: (qnode1)-[mrel]->(qnode2), \\\n",
    "            template: ()-[]->(qnode1), ()-[]->(qnode2)' \\\n",
    "    --return 'qnode1 as node1, mrel.label as label, qnode2 as node2' \\\n",
    "    / deduplicate -o $TEMP/oo.tsv.gz"
   ]
  },
  {
   "cell_type": "code",
   "execution_count": 69,
   "id": "returning-swaziland",
   "metadata": {},
   "outputs": [],
   "source": [
    "!kgtk query -i $items -i $TEMP/templates_with_wd.kgtk.gz \\\n",
    "    --match 'item: (qnode1)-[mrel]->(qnode2), \\\n",
    "            template: ()-[]->(qnode1), (qnode2)-[]->()' \\\n",
    "    --return 'qnode1 as node1, mrel.label as label, qnode2 as node2' \\\n",
    "    / deduplicate -o $TEMP/os.tsv.gz"
   ]
  },
  {
   "cell_type": "code",
   "execution_count": 70,
   "id": "bound-tract",
   "metadata": {},
   "outputs": [
    {
     "name": "stdout",
     "output_type": "stream",
     "text": [
      "count(graph_11_c1.\"node1\")\n",
      "26319266\n"
     ]
    }
   ],
   "source": [
    "!kgtk query -i $TEMP/ss.tsv.gz \\\n",
    "    --match '(n1)-[r]->()' \\\n",
    "    --return 'count (n1)'"
   ]
  },
  {
   "cell_type": "code",
   "execution_count": 71,
   "id": "proved-homework",
   "metadata": {},
   "outputs": [
    {
     "name": "stdout",
     "output_type": "stream",
     "text": [
      "count(graph_12_c1.\"node1\")\n",
      "11731891\n"
     ]
    }
   ],
   "source": [
    "!kgtk query -i $TEMP/so.tsv.gz \\\n",
    "    --match '(n1)-[r]->()' \\\n",
    "    --return 'count (n1)'"
   ]
  },
  {
   "cell_type": "code",
   "execution_count": 72,
   "id": "guided-warehouse",
   "metadata": {},
   "outputs": [
    {
     "name": "stdout",
     "output_type": "stream",
     "text": [
      "count(graph_9_c1.\"node1\")\n",
      "168219\n"
     ]
    }
   ],
   "source": [
    "!kgtk query -i $TEMP/os.tsv.gz \\\n",
    "    --match '(n1)-[r]->()' \\\n",
    "    --return 'count (n1)'"
   ]
  },
  {
   "cell_type": "code",
   "execution_count": 73,
   "id": "architectural-characteristic",
   "metadata": {},
   "outputs": [
    {
     "name": "stdout",
     "output_type": "stream",
     "text": [
      "count(graph_10_c1.\"node1\")\n",
      "60206\n"
     ]
    }
   ],
   "source": [
    "!kgtk query -i $TEMP/oo.tsv.gz \\\n",
    "    --match '(n1)-[r]->()' \\\n",
    "    --return 'count (n1)'"
   ]
  },
  {
   "cell_type": "code",
   "execution_count": 74,
   "id": "uniform-rider",
   "metadata": {},
   "outputs": [
    {
     "name": "stdout",
     "output_type": "stream",
     "text": [
      "node1\tlabel\tnode2\n",
      "P2013\tP17\tQ30\n",
      "P2013\tP1855\tQ383541\n",
      "P2013\tP9073\tQ355\n",
      "Q1\tP1552\tQ11412\n",
      "Q1\tP2670\tQ6999\n",
      "Q1\tP2670\tQ79925\n",
      "Q1\tP3113\tQ2051667\n",
      "Q1\tP527\tQ133327\n",
      "Q1\tP793\tQ323\n",
      "Q1\tP828\tQ323\n"
     ]
    }
   ],
   "source": [
    "!kgtk query -i $TEMP/oo.tsv.gz \\\n",
    "    --match '(n1)-[r]->()' \\\n",
    "    --limit 10"
   ]
  },
  {
   "cell_type": "code",
   "execution_count": 75,
   "id": "blocked-relations",
   "metadata": {},
   "outputs": [],
   "source": [
    "!kgtk cat -i $TEMP/ss.tsv.gz $TEMP/so.tsv.gz $TEMP/os.tsv.gz $TEMP/oo.tsv.gz / deduplicate -o $TEMP/wikidata_ent.kgtk.gz"
   ]
  },
  {
   "cell_type": "code",
   "execution_count": 78,
   "id": "honey-politics",
   "metadata": {},
   "outputs": [
    {
     "name": "stdout",
     "output_type": "stream",
     "text": [
      "count(graph_14_c1.\"node1\")\n",
      "27892223\n"
     ]
    }
   ],
   "source": [
    "!kgtk query -i $TEMP/wikidata_ent.kgtk.gz \\\n",
    "    --match '(n1)-[]->(n2)' \\\n",
    "    --return 'count(n1)'"
   ]
  },
  {
   "cell_type": "code",
   "execution_count": null,
   "id": "opposed-white",
   "metadata": {},
   "outputs": [],
   "source": []
  }
 ],
 "metadata": {
  "kernelspec": {
   "display_name": "Python 3",
   "language": "python",
   "name": "python3"
  },
  "language_info": {
   "codemirror_mode": {
    "name": "ipython",
    "version": 3
   },
   "file_extension": ".py",
   "mimetype": "text/x-python",
   "name": "python",
   "nbconvert_exporter": "python",
   "pygments_lexer": "ipython3",
   "version": "3.8.5"
  }
 },
 "nbformat": 4,
 "nbformat_minor": 5
}
