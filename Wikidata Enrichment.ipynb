{
 "cells": [
  {
   "cell_type": "markdown",
   "id": "outside-recipient",
   "metadata": {},
   "source": [
    "# Wikidata enrichment\n",
    "\n",
    "This notebook converts the IMKG graph to KGTK format and queries relevant entities in Wikidata to enrich IMKG with Wikidata knowledge."
   ]
  },
  {
   "cell_type": "markdown",
   "id": "final-boundary",
   "metadata": {},
   "source": [
    "## 0. Setup"
   ]
  },
  {
   "cell_type": "code",
   "execution_count": 1,
   "id": "white-discrimination",
   "metadata": {},
   "outputs": [],
   "source": [
    "import os\n",
    "import os.path\n",
    "\n",
    "from kgtk.configure_kgtk_notebooks import ConfigureKGTK\n",
    "from kgtk.functions import kgtk, kypher"
   ]
  },
  {
   "cell_type": "code",
   "execution_count": 2,
   "id": "smart-library",
   "metadata": {},
   "outputs": [],
   "source": [
    "# Parameters\n",
    "\n",
    "# Folders on local machine where to create the output and temporary files:\n",
    "input_path = \"wikidata\"\n",
    "output_path = \"projects\"\n",
    "project_name = \"tutorial-kypher\""
   ]
  },
  {
   "cell_type": "code",
   "execution_count": 3,
   "id": "regulation-scroll",
   "metadata": {},
   "outputs": [],
   "source": [
    "# IMKG files\n",
    "imkg_dir='imkg02'\n",
    "instances_file='%s/instances.imgflip.nt' % imkg_dir\n",
    "templates_file='%s/templates.kym.nt' % imkg_dir\n",
    "instance_entities_file='%s/instances.entities.csv' % imkg_dir\n",
    "templates_entities_file='%s/templates.entities.csv' % imkg_dir"
   ]
  },
  {
   "cell_type": "code",
   "execution_count": 4,
   "id": "royal-association",
   "metadata": {},
   "outputs": [
    {
     "name": "stdout",
     "output_type": "stream",
     "text": [
      "User home: /Users/filipilievski\n",
      "Current dir: /Users/filipilievski/mcs/imkg\n",
      "KGTK dir: /Users/filipilievski/mcs\n",
      "Use-cases dir: /Users/filipilievski/mcs/use-cases\n"
     ]
    }
   ],
   "source": [
    "big_files=[\"label\"]\n",
    "\n",
    "additional_files = {\n",
    "    \"P31\": \"derived.P31.tsv.gz\",\n",
    "    \"items\": \"claims.wikibase-item.tsv.gz\",\n",
    "    \"P1963\": \"derived.P1963computed.count.star.tsv.gz\",\n",
    "    \"external\": \"claims.external-id.tsv.gz\",\n",
    "    \"indegree\": \"metadata.in_degree.tsv.gz\",\n",
    "    \"outdegree\": \"metadata.out_degree.tsv.gz\",\n",
    "    \"pagerank\": \"metadata.pagerank.directed.tsv.gz\"\n",
    "}\n",
    "\n",
    "ck = ConfigureKGTK(big_files)\n",
    "ck.configure_kgtk(input_graph_path=input_path, \n",
    "                  output_path=output_path, \n",
    "                  project_name=project_name,\n",
    "                  additional_files=additional_files)"
   ]
  },
  {
   "cell_type": "code",
   "execution_count": 5,
   "id": "moderate-gather",
   "metadata": {},
   "outputs": [
    {
     "name": "stdout",
     "output_type": "stream",
     "text": [
      "GRAPH: wikidata\n",
      "kypher: kgtk query --graph-cache projects/tutorial-kypher/temp.tutorial-kypher/wikidata.sqlite3.db\n",
      "TEMP: projects/tutorial-kypher/temp.tutorial-kypher\n",
      "OUT: projects/tutorial-kypher\n",
      "EXAMPLES_DIR: /Users/filipilievski/mcs/examples\n",
      "kgtk: kgtk\n",
      "KGTK_OPTION_DEBUG: false\n",
      "KGTK_GRAPH_CACHE: projects/tutorial-kypher/temp.tutorial-kypher/wikidata.sqlite3.db\n",
      "KGTK_LABEL_FILE: wikidata/labels.en.tsv.gz\n",
      "USE_CASES_DIR: /Users/filipilievski/mcs/use-cases\n",
      "STORE: projects/tutorial-kypher/temp.tutorial-kypher/wikidata.sqlite3.db\n",
      "label: wikidata/labels.en.tsv.gz\n",
      "P31: wikidata/derived.P31.tsv.gz\n",
      "items: wikidata/claims.wikibase-item.tsv.gz\n",
      "P1963: wikidata/derived.P1963computed.count.star.tsv.gz\n",
      "external: wikidata/claims.external-id.tsv.gz\n",
      "indegree: wikidata/metadata.in_degree.tsv.gz\n",
      "outdegree: wikidata/metadata.out_degree.tsv.gz\n",
      "pagerank: wikidata/metadata.pagerank.directed.tsv.gz\n"
     ]
    }
   ],
   "source": [
    "ck.print_env_variables()"
   ]
  },
  {
   "cell_type": "code",
   "execution_count": 6,
   "id": "boring-appointment",
   "metadata": {},
   "outputs": [
    {
     "name": "stdout",
     "output_type": "stream",
     "text": [
      "<http://www.wikidata.org/entity/Q4810998> <https://www.wikidata.org/wiki/Property:P646> \"/m/0b96rw\" .\n"
     ]
    }
   ],
   "source": [
    "!tail -1 \"imkg02/templates.kym.nt\"  "
   ]
  },
  {
   "cell_type": "code",
   "execution_count": 10,
   "id": "revised-gallery",
   "metadata": {},
   "outputs": [
    {
     "name": "stdout",
     "output_type": "stream",
     "text": [
      " 4709548 imkg02/templates.kym.nt\n"
     ]
    }
   ],
   "source": [
    "!wc -l \"imkg02/templates.kym.nt\"  "
   ]
  },
  {
   "cell_type": "code",
   "execution_count": 8,
   "id": "typical-johnston",
   "metadata": {},
   "outputs": [
    {
     "name": "stdout",
     "output_type": "stream",
     "text": [
      " 17011388 imkg02/instances.imgflip.nt\n"
     ]
    }
   ],
   "source": [
    "!wc -l \"imkg02/instances.imgflip.nt\"  "
   ]
  },
  {
   "cell_type": "markdown",
   "id": "athletic-carbon",
   "metadata": {},
   "source": [
    "## 1. Import into KGTK"
   ]
  },
  {
   "cell_type": "markdown",
   "id": "later-buyer",
   "metadata": {},
   "source": [
    "Define namespaces to make the import-ntriples command work:"
   ]
  },
  {
   "cell_type": "code",
   "execution_count": 11,
   "id": "supported-insulation",
   "metadata": {},
   "outputs": [],
   "source": [
    "namespaces={'\"http://www.wikidata.org/entity/\"': 'wde',\n",
    "           '\"https://www.wikidata.org/wiki/\"': 'wdp',\n",
    "           '\"https://knowyourmeme.com/memes/\"': 'kym',\n",
    "           '\"http://www.w3.org/2000/01/rdf-schema#\"': 'rdfs',\n",
    "           '\"http://www.w3.org/1999/02/22-rdf-syntax-ns#\"': 'rdf',\n",
    "           '\"http://dbpedia.org/resource/\"': 'dbr',\n",
    "           '\"https://meme4.science/\"': 'm4s',\n",
    "           '\"Http://xmlns.com/foaf/0.1/\"': 'foaf',\n",
    "           '\"https://knowyourmeme.com/types/\"': 'kymt',\n",
    "           '\"https://dbpedia.org/property/\"': 'dbp',\n",
    "           '\"https://dbpedia.org/ontology/\"': 'dbo',\n",
    "           '\"https://schema.org/\"': 'schema',\n",
    "           '\"https://imgflip.com/\"': 'imgflip'}\n",
    "\n",
    "prop='prefix_expansion'\n",
    "with open('namespaces.tsv', 'w') as w:\n",
    "    w.write('node1\\tlabel\\tnode2\\n')\n",
    "    for k,v in namespaces.items():\n",
    "        triple=[v, prop, k]\n",
    "        w.write('\\t'.join(triple) + '\\n')"
   ]
  },
  {
   "cell_type": "code",
   "execution_count": 12,
   "id": "floppy-integrity",
   "metadata": {},
   "outputs": [
    {
     "name": "stdout",
     "output_type": "stream",
     "text": [
      "node1\tlabel\tnode2\n",
      "wde\tprefix_expansion\t\"http://www.wikidata.org/entity/\"\n",
      "wdp\tprefix_expansion\t\"https://www.wikidata.org/wiki/\"\n",
      "kym\tprefix_expansion\t\"https://knowyourmeme.com/memes/\"\n",
      "rdfs\tprefix_expansion\t\"http://www.w3.org/2000/01/rdf-schema#\"\n",
      "rdf\tprefix_expansion\t\"http://www.w3.org/1999/02/22-rdf-syntax-ns#\"\n",
      "dbr\tprefix_expansion\t\"http://dbpedia.org/resource/\"\n",
      "m4s\tprefix_expansion\t\"https://meme4.science/\"\n",
      "foaf\tprefix_expansion\t\"Http://xmlns.com/foaf/0.1/\"\n",
      "kymt\tprefix_expansion\t\"https://knowyourmeme.com/types/\"\n",
      "dbp\tprefix_expansion\t\"https://dbpedia.org/property/\"\n",
      "dbo\tprefix_expansion\t\"https://dbpedia.org/ontology/\"\n",
      "schema\tprefix_expansion\t\"https://schema.org/\"\n",
      "imgflip\tprefix_expansion\t\"https://imgflip.com/\"\n"
     ]
    }
   ],
   "source": [
    "!cat namespaces.tsv"
   ]
  },
  {
   "cell_type": "code",
   "execution_count": 13,
   "id": "distinct-aberdeen",
   "metadata": {},
   "outputs": [
    {
     "name": "stdout",
     "output_type": "stream",
     "text": [
      "CPU times: user 4.3 ms, sys: 8.76 ms, total: 13.1 ms\n",
      "Wall time: 4.7 s\n"
     ]
    }
   ],
   "source": [
    "%%time\n",
    "kgtk(\"\"\"\n",
    "    import-ntriples -i \"imkg02/template.kym.nt\"  \n",
    "        --namespace-file \"namespaces.tsv\"\n",
    "        -o $TEMP/raw_templates.kgtk.gz\n",
    "        --namespace-id-use-uuid True \n",
    "        --build-new-namespaces False\n",
    "        --output-only-used-namespaces True \n",
    "        --structured-value-label m4s:structured_value \n",
    "        --structured-uri-label m4s:structured_uri \n",
    "        --newnode-prefix node \n",
    "        --newnode-use-uuid True\n",
    "    \"\"\")"
   ]
  },
  {
   "cell_type": "code",
   "execution_count": 21,
   "id": "affiliated-stability",
   "metadata": {},
   "outputs": [],
   "source": [
    "import pandas\n",
    "\n",
    "templates_fn='projects/tutorial-kypher/temp.tutorial-kypher/raw_templates.kgtk.gz'\n",
    "templates_df = pandas.read_csv(templates_fn, sep='\\t')\n",
    "templates_out='projects/tutorial-kypher/temp.tutorial-kypher/clean_templates.kgtk'"
   ]
  },
  {
   "cell_type": "code",
   "execution_count": 16,
   "id": "faced-lithuania",
   "metadata": {},
   "outputs": [],
   "source": [
    "def replace_me(n):\n",
    "    try:\n",
    "        return n.replace('wdp:Property:', '').replace('wdp:', '').replace('wdt:', '').replace('wde:', '')\n",
    "    except:\n",
    "        return n"
   ]
  },
  {
   "cell_type": "code",
   "execution_count": 17,
   "id": "retained-validity",
   "metadata": {},
   "outputs": [],
   "source": [
    "def clean_df(df, filename):\n",
    "    all_rows=[]\n",
    "    for i, row in df.iterrows():\n",
    "        n1, label, n2 = row\n",
    "        n1=replace_me(n1)\n",
    "        n2=replace_me(n2)\n",
    "        label=replace_me(label)\n",
    "        new_row=[str(n1),str(label),str(n2)]\n",
    "        all_rows.append(new_row)\n",
    "\n",
    "    with open(filename, 'w') as w:\n",
    "        w.write('node1\\tlabel\\tnode2\\n')\n",
    "        for row in all_rows:\n",
    "            w.write('\\t'.join(row) + '\\n')"
   ]
  },
  {
   "cell_type": "markdown",
   "id": "technological-recycling",
   "metadata": {},
   "source": [
    "We do some cleaning of the graph (<font color='red'>Could this be done with KGTK clean or something?</font>)"
   ]
  },
  {
   "cell_type": "code",
   "execution_count": 22,
   "id": "present-train",
   "metadata": {},
   "outputs": [],
   "source": [
    "clean_df(templates_df, templates_out)"
   ]
  },
  {
   "cell_type": "code",
   "execution_count": 23,
   "id": "other-content",
   "metadata": {},
   "outputs": [],
   "source": [
    "!kgtk deduplicate -i $TEMP/clean_templates.kgtk -o $TEMP/templates.kgtk.gz"
   ]
  },
  {
   "cell_type": "markdown",
   "id": "municipal-elevation",
   "metadata": {},
   "source": [
    "Now that we imported and deduplicated the instances, let's do some sanity check to make sure our graph is reasonable."
   ]
  },
  {
   "cell_type": "code",
   "execution_count": 24,
   "id": "adjusted-rotation",
   "metadata": {},
   "outputs": [
    {
     "data": {
      "text/html": [
       "<div>\n",
       "<style scoped>\n",
       "    .dataframe tbody tr th:only-of-type {\n",
       "        vertical-align: middle;\n",
       "    }\n",
       "\n",
       "    .dataframe tbody tr th {\n",
       "        vertical-align: top;\n",
       "    }\n",
       "\n",
       "    .dataframe thead th {\n",
       "        text-align: right;\n",
       "    }\n",
       "</style>\n",
       "<table border=\"1\" class=\"dataframe\">\n",
       "  <thead>\n",
       "    <tr style=\"text-align: right;\">\n",
       "      <th></th>\n",
       "      <th>node1</th>\n",
       "      <th>label</th>\n",
       "      <th>node2</th>\n",
       "    </tr>\n",
       "  </thead>\n",
       "  <tbody>\n",
       "    <tr>\n",
       "      <th>0</th>\n",
       "      <td>Q104005472</td>\n",
       "      <td>P6760</td>\n",
       "      <td>kym:spongegar-primitive-sponge-caveman-spongebob</td>\n",
       "    </tr>\n",
       "    <tr>\n",
       "      <th>1</th>\n",
       "      <td>Q104841082</td>\n",
       "      <td>P6760</td>\n",
       "      <td>kym:the-cake-is-a-lie</td>\n",
       "    </tr>\n",
       "    <tr>\n",
       "      <th>2</th>\n",
       "      <td>Q104858864</td>\n",
       "      <td>P6760</td>\n",
       "      <td>kym:rule-63</td>\n",
       "    </tr>\n",
       "    <tr>\n",
       "      <th>3</th>\n",
       "      <td>Q104968209</td>\n",
       "      <td>P6760</td>\n",
       "      <td>kym:i-am-once-again-asking-for-your-financial-...</td>\n",
       "    </tr>\n",
       "    <tr>\n",
       "      <th>4</th>\n",
       "      <td>Q1050827</td>\n",
       "      <td>P6760</td>\n",
       "      <td>kym:waluigi</td>\n",
       "    </tr>\n",
       "    <tr>\n",
       "      <th>...</th>\n",
       "      <td>...</td>\n",
       "      <td>...</td>\n",
       "      <td>...</td>\n",
       "    </tr>\n",
       "    <tr>\n",
       "      <th>211884</th>\n",
       "      <td>nodeHtb5rZc6kCD2VNGVWKVeG4-999</td>\n",
       "      <td>m4s:structured_uri</td>\n",
       "      <td>http://www.w3.org/2001/XMLSchema#timestamp</td>\n",
       "    </tr>\n",
       "    <tr>\n",
       "      <th>211885</th>\n",
       "      <td>nodeHtb5rZc6kCD2VNGVWKVeG4-999</td>\n",
       "      <td>m4s:structured_value</td>\n",
       "      <td>1357981793</td>\n",
       "    </tr>\n",
       "    <tr>\n",
       "      <th>211886</th>\n",
       "      <td>rdf</td>\n",
       "      <td>prefix_expansion</td>\n",
       "      <td>http://www.w3.org/1999/02/22-rdf-syntax-ns#</td>\n",
       "    </tr>\n",
       "    <tr>\n",
       "      <th>211887</th>\n",
       "      <td>wde</td>\n",
       "      <td>prefix_expansion</td>\n",
       "      <td>http://www.wikidata.org/entity/</td>\n",
       "    </tr>\n",
       "    <tr>\n",
       "      <th>211888</th>\n",
       "      <td>wdp</td>\n",
       "      <td>prefix_expansion</td>\n",
       "      <td>https://www.wikidata.org/wiki/</td>\n",
       "    </tr>\n",
       "  </tbody>\n",
       "</table>\n",
       "<p>211889 rows × 3 columns</p>\n",
       "</div>"
      ],
      "text/plain": [
       "                                 node1                 label  \\\n",
       "0                           Q104005472                 P6760   \n",
       "1                           Q104841082                 P6760   \n",
       "2                           Q104858864                 P6760   \n",
       "3                           Q104968209                 P6760   \n",
       "4                             Q1050827                 P6760   \n",
       "...                                ...                   ...   \n",
       "211884  nodeHtb5rZc6kCD2VNGVWKVeG4-999    m4s:structured_uri   \n",
       "211885  nodeHtb5rZc6kCD2VNGVWKVeG4-999  m4s:structured_value   \n",
       "211886                             rdf      prefix_expansion   \n",
       "211887                             wde      prefix_expansion   \n",
       "211888                             wdp      prefix_expansion   \n",
       "\n",
       "                                                    node2  \n",
       "0        kym:spongegar-primitive-sponge-caveman-spongebob  \n",
       "1                                   kym:the-cake-is-a-lie  \n",
       "2                                             kym:rule-63  \n",
       "3       kym:i-am-once-again-asking-for-your-financial-...  \n",
       "4                                             kym:waluigi  \n",
       "...                                                   ...  \n",
       "211884         http://www.w3.org/2001/XMLSchema#timestamp  \n",
       "211885                                         1357981793  \n",
       "211886        http://www.w3.org/1999/02/22-rdf-syntax-ns#  \n",
       "211887                    http://www.wikidata.org/entity/  \n",
       "211888                     https://www.wikidata.org/wiki/  \n",
       "\n",
       "[211889 rows x 3 columns]"
      ]
     },
     "execution_count": 24,
     "metadata": {},
     "output_type": "execute_result"
    }
   ],
   "source": [
    "kgtk(\"\"\"cat -i $TEMP/templates.kgtk.gz\"\"\")"
   ]
  },
  {
   "cell_type": "markdown",
   "id": "collaborative-label",
   "metadata": {},
   "source": [
    "How many memes we have in the graph?"
   ]
  },
  {
   "cell_type": "code",
   "execution_count": 25,
   "id": "skilled-ambassador",
   "metadata": {},
   "outputs": [
    {
     "name": "stdout",
     "output_type": "stream",
     "text": [
      "count(DISTINCT graph_20_c1.\"node1\")\n",
      "1404\n"
     ]
    }
   ],
   "source": [
    "!kgtk query -i $TEMP/templates.kgtk.gz \\\n",
    "    --match '(n1)-[r:`rdf:type`]->(:`kym:Meme`)' \\\n",
    "    --return 'count(distinct n1)'"
   ]
  },
  {
   "cell_type": "markdown",
   "id": "intermediate-pizza",
   "metadata": {},
   "source": [
    "What are the relations?"
   ]
  },
  {
   "cell_type": "code",
   "execution_count": 26,
   "id": "focused-archive",
   "metadata": {},
   "outputs": [
    {
     "name": "stdout",
     "output_type": "stream",
     "text": [
      "Relation\n",
      "P6760\n",
      "dbp:confidence\n",
      "kym:about\n",
      "kym:added\n",
      "kym:child\n",
      "kym:from\n",
      "kym:last_update_source\n",
      "kym:origin\n",
      "kym:parent\n",
      "kym:sibling\n",
      "kym:spread\n",
      "kym:status\n",
      "kym:tag\n",
      "kym:title\n",
      "kym:year\n",
      "m4s:fromAbout\n",
      "m4s:fromImage\n",
      "m4s:fromTags\n",
      "m4s:structured_uri\n",
      "m4s:structured_value\n",
      "prefix_expansion\n",
      "rdf:type\n"
     ]
    }
   ],
   "source": [
    "!kgtk query -i $TEMP/templates.kgtk.gz \\\n",
    "    --match '()-[r]->()' \\\n",
    "    --return 'distinct r.label as Relation'"
   ]
  },
  {
   "cell_type": "markdown",
   "id": "moved-philosophy",
   "metadata": {},
   "source": [
    "Now let's import the instances file into KGTK. This command takes around 6mins on my laptop, I was not sure if it is running or got stuck somewhere.\n",
    "<font color='red'>Progress bar would really help us work with commands better</font>"
   ]
  },
  {
   "cell_type": "code",
   "execution_count": null,
   "id": "vocational-flesh",
   "metadata": {},
   "outputs": [],
   "source": [
    "%%time\n",
    "kgtk(\"\"\"\n",
    "    import-ntriples -i \"imkg02/instances.imgflip.nt\"  \n",
    "        --namespace-file \"namespaces.tsv\"\n",
    "        -o $TEMP/raw_instances.kgtk.gz\n",
    "        --namespace-id-use-uuid True \n",
    "        --build-new-namespaces False\n",
    "        --output-only-used-namespaces True \n",
    "        --structured-value-label m4s:structured_value \n",
    "        --structured-uri-label m4s:structured_uri \n",
    "        --newnode-prefix node \n",
    "        --newnode-use-uuid True\n",
    "    \"\"\")"
   ]
  },
  {
   "cell_type": "code",
   "execution_count": null,
   "id": "affiliated-scotland",
   "metadata": {},
   "outputs": [],
   "source": [
    "instances_fn='projects/tutorial-kypher/temp.tutorial-kypher/raw_instances.kgtk.gz'\n",
    "instances_df = pandas.read_csv(instances_fn, sep='\\t')\n",
    "instances_out='projects/tutorial-kypher/temp.tutorial-kypher/clean_instances.kgtk.gz'"
   ]
  },
  {
   "cell_type": "code",
   "execution_count": null,
   "id": "growing-publication",
   "metadata": {},
   "outputs": [],
   "source": [
    "clean_df(instances_df, instances_out)"
   ]
  },
  {
   "cell_type": "code",
   "execution_count": null,
   "id": "dominican-thirty",
   "metadata": {},
   "outputs": [],
   "source": [
    "!kgtk deduplicate -i $TEMP/clean_instances.tsv -o $TEMP/instances.kgtk.gz"
   ]
  },
  {
   "cell_type": "code",
   "execution_count": null,
   "id": "amended-animal",
   "metadata": {},
   "outputs": [],
   "source": [
    "kgtk(\"\"\"head -i $TEMP/instances.kgtk.gz\"\"\")"
   ]
  },
  {
   "cell_type": "markdown",
   "id": "attractive-davis",
   "metadata": {},
   "source": [
    "<font color='red'>Error</font>\n",
    "What I did:\n",
    "1. Ran import-ntriples on the instances .nt file (17M lines)\n",
    "2. It worked well and I could `cat` the top 10 lines, but I saw that there was a prefix that I had not specified\n",
    "3. Then i added the prefix to the namespaces file\n",
    "4. Import-ntriples ran successfully again\n",
    "5. Cat now failed and the error message is not helpful. I tried adding the --debug flag but this did not help me understand better"
   ]
  },
  {
   "cell_type": "markdown",
   "id": "searching-purchase",
   "metadata": {},
   "source": [
    "Let's validate that the import worked well:"
   ]
  },
  {
   "cell_type": "code",
   "execution_count": null,
   "id": "rental-optimization",
   "metadata": {},
   "outputs": [],
   "source": [
    "!kgtk query -i $TEMP/instances.kgtk.gz \\\n",
    "    --match '(n1)-[r:`rdf:type`]->(:`kym:Meme`)' \\\n",
    "    --return 'count(distinct n1)'"
   ]
  },
  {
   "cell_type": "code",
   "execution_count": null,
   "id": "final-paste",
   "metadata": {},
   "outputs": [],
   "source": [
    "!kgtk query -i $TEMP/instances.kgtk.gz \\\n",
    "    --match '()-[r]->()' \\\n",
    "    --return 'distinct r.label as Relation'"
   ]
  },
  {
   "cell_type": "markdown",
   "id": "varied-slope",
   "metadata": {},
   "source": [
    "## 2. Enrich with Wikidata now"
   ]
  },
  {
   "cell_type": "markdown",
   "id": "exterior-longer",
   "metadata": {},
   "source": [
    "### 2a. Data where memes are subjects or objects"
   ]
  },
  {
   "cell_type": "markdown",
   "id": "impaired-bones",
   "metadata": {},
   "source": [
    "We start with relations where the meme Qnode is a subject in Wikidata:"
   ]
  },
  {
   "cell_type": "code",
   "execution_count": 27,
   "id": "religious-holmes",
   "metadata": {},
   "outputs": [],
   "source": [
    "!kgtk query -i $items -i $TEMP/templates.kgtk.gz \\\n",
    "    --match 'templates: (meme_qid)-[:P6760]->(), \\\n",
    "            item: (meme_qid)-[mrel]->(mval)' \\\n",
    "    --return 'meme_qid as node1, mrel.label as label, mval as node2' \\\n",
    "    -o $TEMP/wikidata_sub.kgtk.gz"
   ]
  },
  {
   "cell_type": "code",
   "execution_count": 28,
   "id": "vietnamese-legend",
   "metadata": {},
   "outputs": [
    {
     "name": "stdout",
     "output_type": "stream",
     "text": [
      "count(graph_21_c1.\"node1\")\n",
      "1397\n"
     ]
    }
   ],
   "source": [
    "!kgtk query -i $TEMP/wikidata_sub.kgtk.gz \\\n",
    "    --match '(n1)-[r]->()' \\\n",
    "    --return 'count (n1)'"
   ]
  },
  {
   "cell_type": "markdown",
   "id": "virgin-three",
   "metadata": {},
   "source": [
    "We get information for 1,397 memes as subjects. What about memes as objects?"
   ]
  },
  {
   "cell_type": "code",
   "execution_count": 29,
   "id": "republican-favor",
   "metadata": {},
   "outputs": [],
   "source": [
    "!kgtk query -i $items -i $TEMP/templates.kgtk.gz \\\n",
    "    --match 'templates: (meme_qid)-[:P6760]->(), \\\n",
    "            item: (mval)-[mrel]->(meme_qid)' \\\n",
    "    --return 'mval as node1, mrel.label as label, meme_qid as node2' \\\n",
    "    -o $TEMP/wikidata_obj.kgtk.gz"
   ]
  },
  {
   "cell_type": "markdown",
   "id": "educated-edinburgh",
   "metadata": {},
   "source": [
    "Combine and deduplicate:"
   ]
  },
  {
   "cell_type": "code",
   "execution_count": 30,
   "id": "provincial-clark",
   "metadata": {},
   "outputs": [],
   "source": [
    "!kgtk cat -i $TEMP/wikidata_sub.kgtk.gz -i $TEMP/wikidata_obj.kgtk.gz / deduplicate -o $TEMP/wikidata_memes.kgtk.gz"
   ]
  },
  {
   "cell_type": "code",
   "execution_count": 31,
   "id": "packed-legislation",
   "metadata": {},
   "outputs": [
    {
     "name": "stdout",
     "output_type": "stream",
     "text": [
      "count(graph_22_c1.\"node1\")\n",
      "1587\n"
     ]
    }
   ],
   "source": [
    "!kgtk query -i $TEMP/wikidata_memes.kgtk.gz \\\n",
    "    --match '(n1)-[]->()' \\\n",
    "    --return 'count(n1)'"
   ]
  },
  {
   "cell_type": "code",
   "execution_count": 32,
   "id": "consolidated-mercy",
   "metadata": {},
   "outputs": [
    {
     "name": "stdout",
     "output_type": "stream",
     "text": [
      "node1\tlabel\tnode2\n",
      "P1651\tP1855\tQ5230628\n",
      "P21\tP1855\tQ7714263\n",
      "P7946\tP1855\tQ7714263\n",
      "Q101833802\tP822\tQ98951569\n",
      "Q102240167\tP793\tQ17521923\n",
      "Q104005472\tP1080\tQ87609688\n",
      "Q104005472\tP1340\tQ17122834\n",
      "Q104005472\tP1441\tQ83279\n",
      "Q104005472\tP21\tQ6581097\n",
      "Q104005472\tP31\tQ15711870\n"
     ]
    }
   ],
   "source": [
    "!kgtk query -i $TEMP/wikidata_memes.kgtk.gz \\\n",
    "    --match '(n1)-[]->()' \\\n",
    "    --limit 10"
   ]
  },
  {
   "cell_type": "markdown",
   "id": "grateful-algorithm",
   "metadata": {},
   "source": [
    "We now combine Wikidata information with the original graph:"
   ]
  },
  {
   "cell_type": "code",
   "execution_count": 33,
   "id": "periodic-hundred",
   "metadata": {},
   "outputs": [],
   "source": [
    "!kgtk cat -i $TEMP/wikidata_memes.kgtk.gz -i $TEMP/templates.kgtk.gz / deduplicate -o $TEMP/templates_with_wd.kgtk.gz"
   ]
  },
  {
   "cell_type": "markdown",
   "id": "molecular-institution",
   "metadata": {},
   "source": [
    "### 2b. Data about Wikidata entities from the combined graph"
   ]
  },
  {
   "cell_type": "markdown",
   "id": "dated-elimination",
   "metadata": {},
   "source": [
    "Next, let's obtain data about the other Qnodes that are not memes. Here, we want to get relations for Qnode pairs in our graph in Wikidata. So, we query Wikidata for statements where both node1 and node2 are in our graph:"
   ]
  },
  {
   "cell_type": "code",
   "execution_count": 34,
   "id": "sublime-nitrogen",
   "metadata": {},
   "outputs": [],
   "source": [
    "!kgtk query -i $items -i $TEMP/templates_with_wd.kgtk.gz \\\n",
    "    --match 'item: (qnode1)-[mrel]->(qnode2), \\\n",
    "            template: (qnode1)-[]->(), (qnode2)-[]->()' \\\n",
    "    --return 'qnode1 as node1, mrel.label as label, qnode2 as node2' \\\n",
    "    / deduplicate -o $TEMP/ss.tsv.gz"
   ]
  },
  {
   "cell_type": "code",
   "execution_count": 35,
   "id": "fallen-funeral",
   "metadata": {},
   "outputs": [],
   "source": [
    "!kgtk query -i $items -i $TEMP/templates_with_wd.kgtk.gz \\\n",
    "    --match 'item: (qnode1)-[mrel]->(qnode2), \\\n",
    "            template: (qnode1)-[]->(), ()-[]->(qnode2)' \\\n",
    "    --return 'qnode1 as node1, mrel.label as label, qnode2 as node2' \\\n",
    "    / deduplicate -o $TEMP/so.tsv.gz"
   ]
  },
  {
   "cell_type": "code",
   "execution_count": 36,
   "id": "recovered-cricket",
   "metadata": {},
   "outputs": [],
   "source": [
    "!kgtk query -i $items -i $TEMP/templates_with_wd.kgtk.gz \\\n",
    "    --match 'item: (qnode1)-[mrel]->(qnode2), \\\n",
    "            template: ()-[]->(qnode1), ()-[]->(qnode2)' \\\n",
    "    --return 'qnode1 as node1, mrel.label as label, qnode2 as node2' \\\n",
    "    / deduplicate -o $TEMP/oo.tsv.gz"
   ]
  },
  {
   "cell_type": "code",
   "execution_count": 37,
   "id": "proof-premises",
   "metadata": {},
   "outputs": [],
   "source": [
    "!kgtk query -i $items -i $TEMP/templates_with_wd.kgtk.gz \\\n",
    "    --match 'item: (qnode1)-[mrel]->(qnode2), \\\n",
    "            template: ()-[]->(qnode1), (qnode2)-[]->()' \\\n",
    "    --return 'qnode1 as node1, mrel.label as label, qnode2 as node2' \\\n",
    "    / deduplicate -o $TEMP/os.tsv.gz"
   ]
  },
  {
   "cell_type": "code",
   "execution_count": 38,
   "id": "confirmed-belize",
   "metadata": {},
   "outputs": [
    {
     "name": "stdout",
     "output_type": "stream",
     "text": [
      "count(graph_24_c1.\"node1\")\n",
      "425\n"
     ]
    }
   ],
   "source": [
    "!kgtk query -i $TEMP/ss.tsv.gz \\\n",
    "    --match '(n1)-[r]->()' \\\n",
    "    --return 'count (n1)'"
   ]
  },
  {
   "cell_type": "code",
   "execution_count": 39,
   "id": "collect-upgrade",
   "metadata": {},
   "outputs": [
    {
     "name": "stdout",
     "output_type": "stream",
     "text": [
      "count(graph_25_c1.\"node1\")\n",
      "2748\n"
     ]
    }
   ],
   "source": [
    "!kgtk query -i $TEMP/so.tsv.gz \\\n",
    "    --match '(n1)-[r]->()' \\\n",
    "    --return 'count (n1)'"
   ]
  },
  {
   "cell_type": "code",
   "execution_count": 40,
   "id": "streaming-michael",
   "metadata": {},
   "outputs": [
    {
     "name": "stdout",
     "output_type": "stream",
     "text": [
      "count(graph_26_c1.\"node1\")\n",
      "396\n"
     ]
    }
   ],
   "source": [
    "!kgtk query -i $TEMP/os.tsv.gz \\\n",
    "    --match '(n1)-[r]->()' \\\n",
    "    --return 'count (n1)'"
   ]
  },
  {
   "cell_type": "code",
   "execution_count": 41,
   "id": "breeding-surname",
   "metadata": {},
   "outputs": [
    {
     "name": "stdout",
     "output_type": "stream",
     "text": [
      "count(graph_27_c1.\"node1\")\n",
      "31155\n"
     ]
    }
   ],
   "source": [
    "!kgtk query -i $TEMP/oo.tsv.gz \\\n",
    "    --match '(n1)-[r]->()' \\\n",
    "    --return 'count (n1)'"
   ]
  },
  {
   "cell_type": "code",
   "execution_count": 42,
   "id": "martial-reply",
   "metadata": {},
   "outputs": [
    {
     "name": "stdout",
     "output_type": "stream",
     "text": [
      "node1\tlabel\tnode2\n",
      "Q1\tP1552\tQ11412\n",
      "Q1\tP2670\tQ6999\n",
      "Q1\tP3113\tQ2051667\n",
      "Q100\tP1376\tQ771\n",
      "Q100\tP17\tQ30\n",
      "Q100\tP190\tQ1524\n",
      "Q100\tP190\tQ4970\n",
      "Q100\tP30\tQ49\n",
      "Q1001\tP101\tQ5891\n",
      "Q1001\tP106\tQ1930187\n"
     ]
    }
   ],
   "source": [
    "!kgtk query -i $TEMP/oo.tsv.gz \\\n",
    "    --match '(n1)-[r]->()' \\\n",
    "    --limit 10"
   ]
  },
  {
   "cell_type": "code",
   "execution_count": 43,
   "id": "hollywood-welding",
   "metadata": {},
   "outputs": [],
   "source": [
    "!kgtk cat -i $TEMP/ss.tsv.gz $TEMP/so.tsv.gz $TEMP/os.tsv.gz $TEMP/oo.tsv.gz / deduplicate -o $TEMP/wikidata_ent.kgtk.gz"
   ]
  },
  {
   "cell_type": "code",
   "execution_count": 44,
   "id": "outer-fraud",
   "metadata": {},
   "outputs": [
    {
     "name": "stdout",
     "output_type": "stream",
     "text": [
      "count(graph_14_c1.\"node1\")\n",
      "32244\n"
     ]
    }
   ],
   "source": [
    "!kgtk query -i $TEMP/wikidata_ent.kgtk.gz \\\n",
    "    --match '(n1)-[]->(n2)' \\\n",
    "    --return 'count(n1)'"
   ]
  },
  {
   "cell_type": "code",
   "execution_count": null,
   "id": "amended-begin",
   "metadata": {},
   "outputs": [],
   "source": []
  }
 ],
 "metadata": {
  "kernelspec": {
   "display_name": "Python 3",
   "language": "python",
   "name": "python3"
  },
  "language_info": {
   "codemirror_mode": {
    "name": "ipython",
    "version": 3
   },
   "file_extension": ".py",
   "mimetype": "text/x-python",
   "name": "python",
   "nbconvert_exporter": "python",
   "pygments_lexer": "ipython3",
   "version": "3.8.5"
  }
 },
 "nbformat": 4,
 "nbformat_minor": 5
}
