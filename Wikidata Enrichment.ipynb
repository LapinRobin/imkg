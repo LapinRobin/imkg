{
 "cells": [
  {
   "cell_type": "markdown",
   "id": "every-conjunction",
   "metadata": {},
   "source": [
    "# Wikidata enrichment\n",
    "\n",
    "This notebook converts the IMKG graph to KGTK format and queries relevant entities in Wikidata to enrich IMKG with Wikidata knowledge."
   ]
  },
  {
   "cell_type": "markdown",
   "id": "average-newspaper",
   "metadata": {},
   "source": [
    "## 0. Setup"
   ]
  },
  {
   "cell_type": "code",
   "execution_count": 72,
   "id": "genetic-comedy",
   "metadata": {},
   "outputs": [],
   "source": [
    "import os\n",
    "import os.path\n",
    "\n",
    "from kgtk.configure_kgtk_notebooks import ConfigureKGTK\n",
    "from kgtk.functions import kgtk, kypher"
   ]
  },
  {
   "cell_type": "code",
   "execution_count": 73,
   "id": "figured-outline",
   "metadata": {},
   "outputs": [],
   "source": [
    "# Parameters\n",
    "\n",
    "# Folders on local machine where to create the output and temporary files:\n",
    "input_path = \"wikidata\"\n",
    "output_path = \"projects\"\n",
    "project_name = \"tutorial-kypher\""
   ]
  },
  {
   "cell_type": "code",
   "execution_count": 74,
   "id": "whole-chaos",
   "metadata": {},
   "outputs": [],
   "source": [
    "# IMKG files\n",
    "imkg_dir='imkg03'\n",
    "instances_file='%s/imgflip.seeds.nt' % imkg_dir\n",
    "templates_file='%s/template.kym.nt' % imkg_dir\n",
    "mapping_file='%s/kym2imgflip.sameAs(m4s).nt' % imkg_dir"
   ]
  },
  {
   "cell_type": "code",
   "execution_count": 75,
   "id": "bridal-custom",
   "metadata": {},
   "outputs": [
    {
     "name": "stdout",
     "output_type": "stream",
     "text": [
      "User home: /Users/filipilievski\n",
      "Current dir: /Users/filipilievski/mcs/imkg\n",
      "KGTK dir: /Users/filipilievski/mcs\n",
      "Use-cases dir: /Users/filipilievski/mcs/use-cases\n"
     ]
    }
   ],
   "source": [
    "big_files=[\"label\"]\n",
    "\n",
    "additional_files = {\n",
    "    \"P31\": \"derived.P31.tsv.gz\",\n",
    "    \"items\": \"claims.wikibase-item.tsv.gz\",\n",
    "    \"P1963\": \"derived.P1963computed.count.star.tsv.gz\",\n",
    "    \"external\": \"claims.external-id.tsv.gz\",\n",
    "    \"indegree\": \"metadata.in_degree.tsv.gz\",\n",
    "    \"outdegree\": \"metadata.out_degree.tsv.gz\",\n",
    "    \"pagerank\": \"metadata.pagerank.directed.tsv.gz\"\n",
    "}\n",
    "\n",
    "ck = ConfigureKGTK(big_files)\n",
    "ck.configure_kgtk(input_graph_path=input_path, \n",
    "                  output_path=output_path, \n",
    "                  project_name=project_name,\n",
    "                  additional_files=additional_files)"
   ]
  },
  {
   "cell_type": "code",
   "execution_count": 76,
   "id": "mechanical-debut",
   "metadata": {},
   "outputs": [
    {
     "name": "stdout",
     "output_type": "stream",
     "text": [
      "STORE: projects/tutorial-kypher/temp.tutorial-kypher/wikidata.sqlite3.db\n",
      "EXAMPLES_DIR: /Users/filipilievski/mcs/examples\n",
      "USE_CASES_DIR: /Users/filipilievski/mcs/use-cases\n",
      "kypher: kgtk query --graph-cache projects/tutorial-kypher/temp.tutorial-kypher/wikidata.sqlite3.db\n",
      "KGTK_OPTION_DEBUG: false\n",
      "KGTK_LABEL_FILE: wikidata/labels.en.tsv.gz\n",
      "TEMP: projects/tutorial-kypher/temp.tutorial-kypher\n",
      "kgtk: kgtk\n",
      "KGTK_GRAPH_CACHE: projects/tutorial-kypher/temp.tutorial-kypher/wikidata.sqlite3.db\n",
      "GRAPH: wikidata\n",
      "OUT: projects/tutorial-kypher\n",
      "label: wikidata/labels.en.tsv.gz\n",
      "P31: wikidata/derived.P31.tsv.gz\n",
      "items: wikidata/claims.wikibase-item.tsv.gz\n",
      "P1963: wikidata/derived.P1963computed.count.star.tsv.gz\n",
      "external: wikidata/claims.external-id.tsv.gz\n",
      "indegree: wikidata/metadata.in_degree.tsv.gz\n",
      "outdegree: wikidata/metadata.out_degree.tsv.gz\n",
      "pagerank: wikidata/metadata.pagerank.directed.tsv.gz\n"
     ]
    }
   ],
   "source": [
    "ck.print_env_variables()"
   ]
  },
  {
   "cell_type": "markdown",
   "id": "tough-cologne",
   "metadata": {},
   "source": [
    "## 1. Import into KGTK"
   ]
  },
  {
   "cell_type": "markdown",
   "id": "wrong-chuck",
   "metadata": {},
   "source": [
    "Define namespaces to make the import-ntriples command work:"
   ]
  },
  {
   "cell_type": "code",
   "execution_count": 62,
   "id": "rural-bathroom",
   "metadata": {},
   "outputs": [],
   "source": [
    "namespaces={'\"http://www.wikidata.org/entity/\"': 'wde',\n",
    "           '\"https://www.wikidata.org/wiki/\"': 'wdp',\n",
    "           '\"https://knowyourmeme.com/memes/\"': 'kym',\n",
    "           '\"http://www.w3.org/2000/01/rdf-schema#\"': 'rdfs',\n",
    "           '\"http://www.w3.org/1999/02/22-rdf-syntax-ns#\"': 'rdf',\n",
    "           '\"http://dbpedia.org/resource/\"': 'dbr',\n",
    "           '\"https://meme4.science/\"': 'm4s',\n",
    "           '\"Http://xmlns.com/foaf/0.1/\"': 'foaf',\n",
    "           '\"https://knowyourmeme.com/types/\"': 'kymt',\n",
    "           '\"https://dbpedia.org/property/\"': 'dbp',\n",
    "           '\"https://dbpedia.org/ontology/\"': 'dbo',\n",
    "           '\"https://schema.org/\"': 'schema',\n",
    "           '\"https://imgflip.com/i/\"': 'imgflipi',\n",
    "           '\"https://imgflip.com/meme/\"': 'imgflipmeme',\n",
    "           '\"https://imgflip.com/user/\"': 'imgflipuser',\n",
    "           '\"https://imgflip.com/\"': 'imgflipr'}\n",
    "\n",
    "prop='prefix_expansion'\n",
    "with open('namespaces.tsv', 'w') as w:\n",
    "    w.write('node1\\tlabel\\tnode2\\n')\n",
    "    for k,v in namespaces.items():\n",
    "        triple=[v, prop, k]\n",
    "        w.write('\\t'.join(triple) + '\\n')"
   ]
  },
  {
   "cell_type": "code",
   "execution_count": 63,
   "id": "silver-bennett",
   "metadata": {},
   "outputs": [
    {
     "name": "stdout",
     "output_type": "stream",
     "text": [
      "node1\tlabel\tnode2\n",
      "wde\tprefix_expansion\t\"http://www.wikidata.org/entity/\"\n",
      "wdp\tprefix_expansion\t\"https://www.wikidata.org/wiki/\"\n",
      "kym\tprefix_expansion\t\"https://knowyourmeme.com/memes/\"\n",
      "rdfs\tprefix_expansion\t\"http://www.w3.org/2000/01/rdf-schema#\"\n",
      "rdf\tprefix_expansion\t\"http://www.w3.org/1999/02/22-rdf-syntax-ns#\"\n",
      "dbr\tprefix_expansion\t\"http://dbpedia.org/resource/\"\n",
      "m4s\tprefix_expansion\t\"https://meme4.science/\"\n",
      "foaf\tprefix_expansion\t\"Http://xmlns.com/foaf/0.1/\"\n",
      "kymt\tprefix_expansion\t\"https://knowyourmeme.com/types/\"\n",
      "dbp\tprefix_expansion\t\"https://dbpedia.org/property/\"\n",
      "dbo\tprefix_expansion\t\"https://dbpedia.org/ontology/\"\n",
      "schema\tprefix_expansion\t\"https://schema.org/\"\n",
      "imgflipi\tprefix_expansion\t\"https://imgflip.com/i/\"\n",
      "imgflipmeme\tprefix_expansion\t\"https://imgflip.com/meme/\"\n",
      "imgflipuser\tprefix_expansion\t\"https://imgflip.com/user/\"\n",
      "imgflipr\tprefix_expansion\t\"https://imgflip.com/\"\n"
     ]
    }
   ],
   "source": [
    "!cat namespaces.tsv"
   ]
  },
  {
   "cell_type": "markdown",
   "id": "dried-insert",
   "metadata": {},
   "source": [
    "### 1a. Import templates"
   ]
  },
  {
   "cell_type": "code",
   "execution_count": 14,
   "id": "differential-timothy",
   "metadata": {},
   "outputs": [
    {
     "name": "stdout",
     "output_type": "stream",
     "text": [
      "CPU times: user 3.91 ms, sys: 8.1 ms, total: 12 ms\n",
      "Wall time: 4.71 s\n"
     ]
    }
   ],
   "source": [
    "%%time\n",
    "kgtk(\"\"\"\n",
    "    --progress\n",
    "    import-ntriples -i \"imkg02/template.kym.nt\"  \n",
    "        --namespace-file \"namespaces.tsv\"    \n",
    "        -o $TEMP/raw_templates.kgtk.gz\n",
    "        --namespace-id-use-uuid True \n",
    "        --build-new-namespaces False\n",
    "        --output-only-used-namespaces True \n",
    "        --structured-value-label m4s:structured_value \n",
    "        --structured-uri-label m4s:structured_uri \n",
    "        --newnode-prefix node \n",
    "        --newnode-use-uuid True\n",
    "    \"\"\")"
   ]
  },
  {
   "cell_type": "markdown",
   "id": "confidential-pocket",
   "metadata": {},
   "source": [
    "Let's clean up the data a bit:"
   ]
  },
  {
   "cell_type": "code",
   "execution_count": 15,
   "id": "present-negotiation",
   "metadata": {},
   "outputs": [],
   "source": [
    "import pandas\n",
    "\n",
    "templates_fn='projects/tutorial-kypher/temp.tutorial-kypher/raw_templates.kgtk.gz'\n",
    "templates_df = pandas.read_csv(templates_fn, sep='\\t')\n",
    "templates_out='projects/tutorial-kypher/temp.tutorial-kypher/clean_templates.kgtk'"
   ]
  },
  {
   "cell_type": "code",
   "execution_count": 64,
   "id": "uniform-shelf",
   "metadata": {},
   "outputs": [],
   "source": [
    "def replace_me(n):\n",
    "    try:\n",
    "        return n.replace('wdp:Property:', '').replace('wdp:', '').replace('wdt:', '').replace('wde:', '')\n",
    "    except:\n",
    "        return n"
   ]
  },
  {
   "cell_type": "code",
   "execution_count": 65,
   "id": "russian-company",
   "metadata": {},
   "outputs": [],
   "source": [
    "def clean_df(df, filename):\n",
    "    all_rows=[]\n",
    "    for i, row in df.iterrows():\n",
    "        n1, label, n2 = row\n",
    "        n1=replace_me(n1)\n",
    "        n2=replace_me(n2)\n",
    "        label=replace_me(label)\n",
    "        new_row=[str(n1),str(label),str(n2)]\n",
    "        all_rows.append(new_row)\n",
    "\n",
    "    with open(filename, 'w') as w:\n",
    "        w.write('node1\\tlabel\\tnode2\\n')\n",
    "        for row in all_rows:\n",
    "            w.write('\\t'.join(row) + '\\n')"
   ]
  },
  {
   "cell_type": "markdown",
   "id": "marine-dodge",
   "metadata": {},
   "source": [
    "We do some cleaning of the graph"
   ]
  },
  {
   "cell_type": "code",
   "execution_count": 18,
   "id": "fatal-tomorrow",
   "metadata": {},
   "outputs": [],
   "source": [
    "clean_df(templates_df, templates_out)"
   ]
  },
  {
   "cell_type": "code",
   "execution_count": 19,
   "id": "appreciated-talent",
   "metadata": {},
   "outputs": [],
   "source": [
    "!kgtk deduplicate -i $TEMP/clean_templates.kgtk -o $TEMP/templates.kgtk.gz"
   ]
  },
  {
   "cell_type": "markdown",
   "id": "personal-shipping",
   "metadata": {},
   "source": [
    "Now that we imported and deduplicated the instances, let's do some sanity check to make sure our graph is reasonable."
   ]
  },
  {
   "cell_type": "code",
   "execution_count": 20,
   "id": "african-economy",
   "metadata": {},
   "outputs": [
    {
     "data": {
      "text/html": [
       "<div>\n",
       "<style scoped>\n",
       "    .dataframe tbody tr th:only-of-type {\n",
       "        vertical-align: middle;\n",
       "    }\n",
       "\n",
       "    .dataframe tbody tr th {\n",
       "        vertical-align: top;\n",
       "    }\n",
       "\n",
       "    .dataframe thead th {\n",
       "        text-align: right;\n",
       "    }\n",
       "</style>\n",
       "<table border=\"1\" class=\"dataframe\">\n",
       "  <thead>\n",
       "    <tr style=\"text-align: right;\">\n",
       "      <th></th>\n",
       "      <th>node1</th>\n",
       "      <th>label</th>\n",
       "      <th>node2</th>\n",
       "    </tr>\n",
       "  </thead>\n",
       "  <tbody>\n",
       "    <tr>\n",
       "      <th>0</th>\n",
       "      <td>Q104005472</td>\n",
       "      <td>P6760</td>\n",
       "      <td>kym:spongegar-primitive-sponge-caveman-spongebob</td>\n",
       "    </tr>\n",
       "    <tr>\n",
       "      <th>1</th>\n",
       "      <td>Q104841082</td>\n",
       "      <td>P6760</td>\n",
       "      <td>kym:the-cake-is-a-lie</td>\n",
       "    </tr>\n",
       "    <tr>\n",
       "      <th>2</th>\n",
       "      <td>Q104858864</td>\n",
       "      <td>P6760</td>\n",
       "      <td>kym:rule-63</td>\n",
       "    </tr>\n",
       "    <tr>\n",
       "      <th>3</th>\n",
       "      <td>Q104968209</td>\n",
       "      <td>P6760</td>\n",
       "      <td>kym:i-am-once-again-asking-for-your-financial-...</td>\n",
       "    </tr>\n",
       "    <tr>\n",
       "      <th>4</th>\n",
       "      <td>Q1050827</td>\n",
       "      <td>P6760</td>\n",
       "      <td>kym:waluigi</td>\n",
       "    </tr>\n",
       "    <tr>\n",
       "      <th>...</th>\n",
       "      <td>...</td>\n",
       "      <td>...</td>\n",
       "      <td>...</td>\n",
       "    </tr>\n",
       "    <tr>\n",
       "      <th>211884</th>\n",
       "      <td>noded9yQUzrarUkHBfCtv8PqJj-999</td>\n",
       "      <td>m4s:structured_uri</td>\n",
       "      <td>http://www.w3.org/2001/XMLSchema#timestamp</td>\n",
       "    </tr>\n",
       "    <tr>\n",
       "      <th>211885</th>\n",
       "      <td>noded9yQUzrarUkHBfCtv8PqJj-999</td>\n",
       "      <td>m4s:structured_value</td>\n",
       "      <td>1357981793</td>\n",
       "    </tr>\n",
       "    <tr>\n",
       "      <th>211886</th>\n",
       "      <td>rdf</td>\n",
       "      <td>prefix_expansion</td>\n",
       "      <td>http://www.w3.org/1999/02/22-rdf-syntax-ns#</td>\n",
       "    </tr>\n",
       "    <tr>\n",
       "      <th>211887</th>\n",
       "      <td>wde</td>\n",
       "      <td>prefix_expansion</td>\n",
       "      <td>http://www.wikidata.org/entity/</td>\n",
       "    </tr>\n",
       "    <tr>\n",
       "      <th>211888</th>\n",
       "      <td>wdp</td>\n",
       "      <td>prefix_expansion</td>\n",
       "      <td>https://www.wikidata.org/wiki/</td>\n",
       "    </tr>\n",
       "  </tbody>\n",
       "</table>\n",
       "<p>211889 rows × 3 columns</p>\n",
       "</div>"
      ],
      "text/plain": [
       "                                 node1                 label  \\\n",
       "0                           Q104005472                 P6760   \n",
       "1                           Q104841082                 P6760   \n",
       "2                           Q104858864                 P6760   \n",
       "3                           Q104968209                 P6760   \n",
       "4                             Q1050827                 P6760   \n",
       "...                                ...                   ...   \n",
       "211884  noded9yQUzrarUkHBfCtv8PqJj-999    m4s:structured_uri   \n",
       "211885  noded9yQUzrarUkHBfCtv8PqJj-999  m4s:structured_value   \n",
       "211886                             rdf      prefix_expansion   \n",
       "211887                             wde      prefix_expansion   \n",
       "211888                             wdp      prefix_expansion   \n",
       "\n",
       "                                                    node2  \n",
       "0        kym:spongegar-primitive-sponge-caveman-spongebob  \n",
       "1                                   kym:the-cake-is-a-lie  \n",
       "2                                             kym:rule-63  \n",
       "3       kym:i-am-once-again-asking-for-your-financial-...  \n",
       "4                                             kym:waluigi  \n",
       "...                                                   ...  \n",
       "211884         http://www.w3.org/2001/XMLSchema#timestamp  \n",
       "211885                                         1357981793  \n",
       "211886        http://www.w3.org/1999/02/22-rdf-syntax-ns#  \n",
       "211887                    http://www.wikidata.org/entity/  \n",
       "211888                     https://www.wikidata.org/wiki/  \n",
       "\n",
       "[211889 rows x 3 columns]"
      ]
     },
     "execution_count": 20,
     "metadata": {},
     "output_type": "execute_result"
    }
   ],
   "source": [
    "kgtk(\"\"\"cat -i $TEMP/templates.kgtk.gz\"\"\")"
   ]
  },
  {
   "cell_type": "markdown",
   "id": "offshore-region",
   "metadata": {},
   "source": [
    "How many memes we have in the graph?"
   ]
  },
  {
   "cell_type": "code",
   "execution_count": 21,
   "id": "arbitrary-french",
   "metadata": {},
   "outputs": [
    {
     "name": "stdout",
     "output_type": "stream",
     "text": [
      "count(DISTINCT graph_20_c1.\"node1\")\n",
      "1404\n"
     ]
    }
   ],
   "source": [
    "!kgtk query -i $TEMP/templates.kgtk.gz \\\n",
    "    --match '(n1)-[r:`rdf:type`]->(:`kym:Meme`)' \\\n",
    "    --return 'count(distinct n1)'"
   ]
  },
  {
   "cell_type": "markdown",
   "id": "minus-delight",
   "metadata": {},
   "source": [
    "What are the relations?"
   ]
  },
  {
   "cell_type": "code",
   "execution_count": 22,
   "id": "liked-partner",
   "metadata": {},
   "outputs": [
    {
     "name": "stdout",
     "output_type": "stream",
     "text": [
      "Relation\n",
      "P6760\n",
      "dbp:confidence\n",
      "kym:about\n",
      "kym:added\n",
      "kym:child\n",
      "kym:from\n",
      "kym:last_update_source\n",
      "kym:origin\n",
      "kym:parent\n",
      "kym:sibling\n",
      "kym:spread\n",
      "kym:status\n",
      "kym:tag\n",
      "kym:title\n",
      "kym:year\n",
      "m4s:fromAbout\n",
      "m4s:fromImage\n",
      "m4s:fromTags\n",
      "m4s:structured_uri\n",
      "m4s:structured_value\n",
      "prefix_expansion\n",
      "rdf:type\n"
     ]
    }
   ],
   "source": [
    "!kgtk query -i $TEMP/templates.kgtk.gz \\\n",
    "    --match '()-[r]->()' \\\n",
    "    --return 'distinct r.label as Relation'"
   ]
  },
  {
   "cell_type": "markdown",
   "id": "welcome-precipitation",
   "metadata": {},
   "source": [
    "### 1b. Import instances"
   ]
  },
  {
   "cell_type": "markdown",
   "id": "statutory-picnic",
   "metadata": {},
   "source": [
    "Now let's import the instances file into KGTK. This command takes around 6mins on my laptop, I was not sure if it is running or got stuck somewhere.\n",
    "<font color='red'>Progress bar would really help us work with commands better</font>"
   ]
  },
  {
   "cell_type": "code",
   "execution_count": 77,
   "id": "composite-pressing",
   "metadata": {},
   "outputs": [
    {
     "name": "stdout",
     "output_type": "stream",
     "text": [
      "CPU times: user 16.4 ms, sys: 20.7 ms, total: 37.1 ms\n",
      "Wall time: 41 s\n"
     ]
    }
   ],
   "source": [
    "%%time\n",
    "kgtk(\"\"\"\n",
    "    import-ntriples -i \"imkg03/imgflip.seeds.nt\"  \n",
    "        --namespace-file \"namespaces.tsv\"\n",
    "        -o $TEMP/raw_instances.kgtk.gz\n",
    "        --namespace-id-use-uuid True \n",
    "        --build-new-namespaces False\n",
    "        --output-only-used-namespaces True \n",
    "        --structured-value-label m4s:structured_value \n",
    "        --structured-uri-label m4s:structured_uri \n",
    "        --newnode-prefix node \n",
    "        --newnode-use-uuid True\n",
    "    \"\"\")"
   ]
  },
  {
   "cell_type": "code",
   "execution_count": 78,
   "id": "prime-lincoln",
   "metadata": {},
   "outputs": [],
   "source": [
    "instances_fn='projects/tutorial-kypher/temp.tutorial-kypher/raw_instances.kgtk.gz'\n",
    "instances_df = pandas.read_csv(instances_fn, sep='\\t')\n",
    "instances_out='projects/tutorial-kypher/temp.tutorial-kypher/clean_instances.kgtk'"
   ]
  },
  {
   "cell_type": "code",
   "execution_count": 79,
   "id": "burning-fabric",
   "metadata": {},
   "outputs": [],
   "source": [
    "clean_df(instances_df, instances_out)"
   ]
  },
  {
   "cell_type": "code",
   "execution_count": 80,
   "id": "important-gardening",
   "metadata": {},
   "outputs": [],
   "source": [
    "!kgtk deduplicate -i $TEMP/clean_instances.kgtk -o $TEMP/instances.kgtk.gz"
   ]
  },
  {
   "cell_type": "code",
   "execution_count": 81,
   "id": "packed-relevance",
   "metadata": {},
   "outputs": [
    {
     "data": {
      "text/html": [
       "<div>\n",
       "<style scoped>\n",
       "    .dataframe tbody tr th:only-of-type {\n",
       "        vertical-align: middle;\n",
       "    }\n",
       "\n",
       "    .dataframe tbody tr th {\n",
       "        vertical-align: top;\n",
       "    }\n",
       "\n",
       "    .dataframe thead th {\n",
       "        text-align: right;\n",
       "    }\n",
       "</style>\n",
       "<table border=\"1\" class=\"dataframe\">\n",
       "  <thead>\n",
       "    <tr style=\"text-align: right;\">\n",
       "      <th></th>\n",
       "      <th>node1</th>\n",
       "      <th>label</th>\n",
       "      <th>node2</th>\n",
       "    </tr>\n",
       "  </thead>\n",
       "  <tbody>\n",
       "    <tr>\n",
       "      <th>0</th>\n",
       "      <td>imgflipi</td>\n",
       "      <td>prefix_expansion</td>\n",
       "      <td>https://imgflip.com/i/</td>\n",
       "    </tr>\n",
       "    <tr>\n",
       "      <th>1</th>\n",
       "      <td>imgflipi:1001ub</td>\n",
       "      <td>imgflipr:alt_text</td>\n",
       "      <td>Captain Picard Facepalm |  WIFE POSTS ON FB TH...</td>\n",
       "    </tr>\n",
       "    <tr>\n",
       "      <th>2</th>\n",
       "      <td>imgflipi:1001ub</td>\n",
       "      <td>imgflipr:image_url</td>\n",
       "      <td>https://i.imgflip.com/1001ub.jpg</td>\n",
       "    </tr>\n",
       "    <tr>\n",
       "      <th>3</th>\n",
       "      <td>imgflipi:1001ub</td>\n",
       "      <td>imgflipr:template</td>\n",
       "      <td>imgflipmeme:Captain-Picard-Facepalm</td>\n",
       "    </tr>\n",
       "    <tr>\n",
       "      <th>4</th>\n",
       "      <td>imgflipi:1001ub</td>\n",
       "      <td>imgflipr:templateId</td>\n",
       "      <td>1509839</td>\n",
       "    </tr>\n",
       "    <tr>\n",
       "      <th>5</th>\n",
       "      <td>imgflipi:1001ub</td>\n",
       "      <td>imgflipr:template_title</td>\n",
       "      <td>Captain Picard Facepalm</td>\n",
       "    </tr>\n",
       "    <tr>\n",
       "      <th>6</th>\n",
       "      <td>imgflipi:1001ub</td>\n",
       "      <td>imgflipr:title</td>\n",
       "      <td>Captain Picard Facepalm</td>\n",
       "    </tr>\n",
       "    <tr>\n",
       "      <th>7</th>\n",
       "      <td>imgflipi:1001ub</td>\n",
       "      <td>imgflipr:upvote_count</td>\n",
       "      <td>5</td>\n",
       "    </tr>\n",
       "    <tr>\n",
       "      <th>8</th>\n",
       "      <td>imgflipi:1001ub</td>\n",
       "      <td>imgflipr:view_count</td>\n",
       "      <td>3,780</td>\n",
       "    </tr>\n",
       "    <tr>\n",
       "      <th>9</th>\n",
       "      <td>imgflipi:1001ub</td>\n",
       "      <td>m4s:fromCaption</td>\n",
       "      <td>Q11661</td>\n",
       "    </tr>\n",
       "  </tbody>\n",
       "</table>\n",
       "</div>"
      ],
      "text/plain": [
       "             node1                    label  \\\n",
       "0         imgflipi         prefix_expansion   \n",
       "1  imgflipi:1001ub        imgflipr:alt_text   \n",
       "2  imgflipi:1001ub       imgflipr:image_url   \n",
       "3  imgflipi:1001ub        imgflipr:template   \n",
       "4  imgflipi:1001ub      imgflipr:templateId   \n",
       "5  imgflipi:1001ub  imgflipr:template_title   \n",
       "6  imgflipi:1001ub           imgflipr:title   \n",
       "7  imgflipi:1001ub    imgflipr:upvote_count   \n",
       "8  imgflipi:1001ub      imgflipr:view_count   \n",
       "9  imgflipi:1001ub          m4s:fromCaption   \n",
       "\n",
       "                                               node2  \n",
       "0                             https://imgflip.com/i/  \n",
       "1  Captain Picard Facepalm |  WIFE POSTS ON FB TH...  \n",
       "2                   https://i.imgflip.com/1001ub.jpg  \n",
       "3                imgflipmeme:Captain-Picard-Facepalm  \n",
       "4                                            1509839  \n",
       "5                            Captain Picard Facepalm  \n",
       "6                            Captain Picard Facepalm  \n",
       "7                                                  5  \n",
       "8                                              3,780  \n",
       "9                                             Q11661  "
      ]
     },
     "execution_count": 81,
     "metadata": {},
     "output_type": "execute_result"
    }
   ],
   "source": [
    "kgtk(\"\"\"head -i $TEMP/instances.kgtk.gz\"\"\")"
   ]
  },
  {
   "cell_type": "markdown",
   "id": "internal-collection",
   "metadata": {},
   "source": [
    "Let's validate that the import worked well:"
   ]
  },
  {
   "cell_type": "code",
   "execution_count": 82,
   "id": "social-concord",
   "metadata": {},
   "outputs": [
    {
     "name": "stdout",
     "output_type": "stream",
     "text": [
      "Relation\n",
      "prefix_expansion\n",
      "imgflipr:alt_text\n",
      "imgflipr:image_url\n",
      "imgflipr:template\n",
      "imgflipr:templateId\n",
      "imgflipr:template_title\n",
      "imgflipr:title\n",
      "imgflipr:upvote_count\n",
      "imgflipr:view_count\n",
      "m4s:fromCaption\n",
      "imgflipr:author\n"
     ]
    }
   ],
   "source": [
    "!kgtk query -i $TEMP/instances.kgtk.gz \\\n",
    "    --match '()-[r]->()' \\\n",
    "    --return 'distinct r.label as Relation'"
   ]
  },
  {
   "cell_type": "markdown",
   "id": "recent-central",
   "metadata": {},
   "source": [
    "### 1c. Import mappings between KYM and ImgFlip"
   ]
  },
  {
   "cell_type": "code",
   "execution_count": 61,
   "id": "innocent-local",
   "metadata": {},
   "outputs": [
    {
     "name": "stdout",
     "output_type": "stream",
     "text": [
      "CPU times: user 3.21 ms, sys: 11.5 ms, total: 14.7 ms\n",
      "Wall time: 722 ms\n"
     ]
    }
   ],
   "source": [
    "%%time\n",
    "kgtk(\"\"\"\n",
    "    import-ntriples --debug -i \"imkg03/kym2imgflip.nt\"  \n",
    "        --namespace-file \"namespaces.tsv\"\n",
    "        -o $TEMP/raw_mappings.kgtk.gz\n",
    "        --namespace-id-use-uuid True \n",
    "        --build-new-namespaces False\n",
    "        --output-only-used-namespaces True \n",
    "        --structured-value-label m4s:structured_value \n",
    "        --structured-uri-label m4s:structured_uri \n",
    "        --newnode-prefix node \n",
    "        --newnode-use-uuid True\n",
    "    \"\"\")"
   ]
  },
  {
   "cell_type": "code",
   "execution_count": 54,
   "id": "indoor-chambers",
   "metadata": {},
   "outputs": [],
   "source": [
    "mappings_fn='projects/tutorial-kypher/temp.tutorial-kypher/raw_mappings.kgtk.gz'\n",
    "mappings_df = pandas.read_csv(mappings_fn, sep='\\t')\n",
    "mappings_out='projects/tutorial-kypher/temp.tutorial-kypher/clean_mappings.kgtk.'"
   ]
  },
  {
   "cell_type": "code",
   "execution_count": 55,
   "id": "boolean-marking",
   "metadata": {},
   "outputs": [],
   "source": [
    "clean_df(mappings_df, mappings_out)"
   ]
  },
  {
   "cell_type": "code",
   "execution_count": 56,
   "id": "tropical-spectacular",
   "metadata": {},
   "outputs": [],
   "source": [
    "!kgtk deduplicate -i $TEMP/clean_mappings.kgtk -o $TEMP/mappings.kgtk.gz"
   ]
  },
  {
   "cell_type": "code",
   "execution_count": 58,
   "id": "graduate-fleet",
   "metadata": {},
   "outputs": [
    {
     "data": {
      "text/html": [
       "<div>\n",
       "<style scoped>\n",
       "    .dataframe tbody tr th:only-of-type {\n",
       "        vertical-align: middle;\n",
       "    }\n",
       "\n",
       "    .dataframe tbody tr th {\n",
       "        vertical-align: top;\n",
       "    }\n",
       "\n",
       "    .dataframe thead th {\n",
       "        text-align: right;\n",
       "    }\n",
       "</style>\n",
       "<table border=\"1\" class=\"dataframe\">\n",
       "  <thead>\n",
       "    <tr style=\"text-align: right;\">\n",
       "      <th></th>\n",
       "      <th>node1</th>\n",
       "      <th>label</th>\n",
       "      <th>node2</th>\n",
       "    </tr>\n",
       "  </thead>\n",
       "  <tbody>\n",
       "  </tbody>\n",
       "</table>\n",
       "</div>"
      ],
      "text/plain": [
       "Empty DataFrame\n",
       "Columns: [node1, label, node2]\n",
       "Index: []"
      ]
     },
     "execution_count": 58,
     "metadata": {},
     "output_type": "execute_result"
    }
   ],
   "source": [
    "kgtk(\"\"\"head -i $TEMP/mappings.kgtk.gz\"\"\")"
   ]
  },
  {
   "cell_type": "markdown",
   "id": "dimensional-patrick",
   "metadata": {},
   "source": [
    "## 2. Enrich with Wikidata now"
   ]
  },
  {
   "cell_type": "markdown",
   "id": "convertible-bradford",
   "metadata": {},
   "source": [
    "### 2a. Data where memes are subjects or objects"
   ]
  },
  {
   "cell_type": "markdown",
   "id": "outdoor-serum",
   "metadata": {},
   "source": [
    "We start with relations where the meme Qnode is a subject in Wikidata:"
   ]
  },
  {
   "cell_type": "code",
   "execution_count": null,
   "id": "respiratory-complex",
   "metadata": {},
   "outputs": [],
   "source": [
    "!kgtk query -i $items -i $TEMP/templates.kgtk.gz \\\n",
    "    --match 'templates: (meme_qid)-[:P6760]->(), \\\n",
    "            item: (meme_qid)-[mrel]->(mval)' \\\n",
    "    --return 'meme_qid as node1, mrel.label as label, mval as node2' \\\n",
    "    -o $TEMP/wikidata_sub.kgtk.gz"
   ]
  },
  {
   "cell_type": "code",
   "execution_count": null,
   "id": "based-greeting",
   "metadata": {},
   "outputs": [],
   "source": [
    "!kgtk query -i $TEMP/wikidata_sub.kgtk.gz \\\n",
    "    --match '(n1)-[r]->()' \\\n",
    "    --return 'count (n1)'"
   ]
  },
  {
   "cell_type": "markdown",
   "id": "dietary-raising",
   "metadata": {},
   "source": [
    "We get information for 1,397 memes as subjects. What about memes as objects?"
   ]
  },
  {
   "cell_type": "code",
   "execution_count": null,
   "id": "assured-unemployment",
   "metadata": {},
   "outputs": [],
   "source": [
    "!kgtk query -i $items -i $TEMP/templates.kgtk.gz \\\n",
    "    --match 'templates: (meme_qid)-[:P6760]->(), \\\n",
    "            item: (mval)-[mrel]->(meme_qid)' \\\n",
    "    --return 'mval as node1, mrel.label as label, meme_qid as node2' \\\n",
    "    -o $TEMP/wikidata_obj.kgtk.gz"
   ]
  },
  {
   "cell_type": "markdown",
   "id": "decreased-innocent",
   "metadata": {},
   "source": [
    "Combine and deduplicate:"
   ]
  },
  {
   "cell_type": "code",
   "execution_count": null,
   "id": "dimensional-cutting",
   "metadata": {},
   "outputs": [],
   "source": [
    "!kgtk cat -i $TEMP/wikidata_sub.kgtk.gz -i $TEMP/wikidata_obj.kgtk.gz / deduplicate -o $TEMP/wikidata_memes.kgtk.gz"
   ]
  },
  {
   "cell_type": "code",
   "execution_count": null,
   "id": "asian-genre",
   "metadata": {},
   "outputs": [],
   "source": [
    "!kgtk query -i $TEMP/wikidata_memes.kgtk.gz \\\n",
    "    --match '(n1)-[]->()' \\\n",
    "    --return 'count(n1)'"
   ]
  },
  {
   "cell_type": "code",
   "execution_count": null,
   "id": "color-costs",
   "metadata": {},
   "outputs": [],
   "source": [
    "!kgtk query -i $TEMP/wikidata_memes.kgtk.gz \\\n",
    "    --match '(n1)-[]->()' \\\n",
    "    --limit 10"
   ]
  },
  {
   "cell_type": "markdown",
   "id": "broken-honor",
   "metadata": {},
   "source": [
    "We now combine Wikidata information with the original graph:"
   ]
  },
  {
   "cell_type": "code",
   "execution_count": null,
   "id": "personal-escape",
   "metadata": {},
   "outputs": [],
   "source": [
    "!kgtk cat -i $TEMP/wikidata_memes.kgtk.gz -i $TEMP/templates.kgtk.gz / deduplicate -o $TEMP/templates_with_wd.kgtk.gz"
   ]
  },
  {
   "cell_type": "markdown",
   "id": "behavioral-attack",
   "metadata": {},
   "source": [
    "### 2b. Data about Wikidata entities from the combined graph"
   ]
  },
  {
   "cell_type": "markdown",
   "id": "applicable-rider",
   "metadata": {},
   "source": [
    "Next, let's obtain data about the other Qnodes that are not memes. Here, we want to get relations for Qnode pairs in our graph in Wikidata. So, we query Wikidata for statements where both node1 and node2 are in our graph:"
   ]
  },
  {
   "cell_type": "code",
   "execution_count": null,
   "id": "occupational-administration",
   "metadata": {},
   "outputs": [],
   "source": [
    "!kgtk query -i $items -i $TEMP/templates_with_wd.kgtk.gz \\\n",
    "    --match 'item: (qnode1)-[mrel]->(qnode2), \\\n",
    "            template: (qnode1)-[]->(), (qnode2)-[]->()' \\\n",
    "    --return 'qnode1 as node1, mrel.label as label, qnode2 as node2' \\\n",
    "    / deduplicate -o $TEMP/ss.tsv.gz"
   ]
  },
  {
   "cell_type": "code",
   "execution_count": null,
   "id": "popular-reporter",
   "metadata": {},
   "outputs": [],
   "source": [
    "!kgtk query -i $items -i $TEMP/templates_with_wd.kgtk.gz \\\n",
    "    --match 'item: (qnode1)-[mrel]->(qnode2), \\\n",
    "            template: (qnode1)-[]->(), ()-[]->(qnode2)' \\\n",
    "    --return 'qnode1 as node1, mrel.label as label, qnode2 as node2' \\\n",
    "    / deduplicate -o $TEMP/so.tsv.gz"
   ]
  },
  {
   "cell_type": "code",
   "execution_count": null,
   "id": "metropolitan-treaty",
   "metadata": {},
   "outputs": [],
   "source": [
    "!kgtk query -i $items -i $TEMP/templates_with_wd.kgtk.gz \\\n",
    "    --match 'item: (qnode1)-[mrel]->(qnode2), \\\n",
    "            template: ()-[]->(qnode1), ()-[]->(qnode2)' \\\n",
    "    --return 'qnode1 as node1, mrel.label as label, qnode2 as node2' \\\n",
    "    / deduplicate -o $TEMP/oo.tsv.gz"
   ]
  },
  {
   "cell_type": "code",
   "execution_count": null,
   "id": "generous-catering",
   "metadata": {},
   "outputs": [],
   "source": [
    "!kgtk query -i $items -i $TEMP/templates_with_wd.kgtk.gz \\\n",
    "    --match 'item: (qnode1)-[mrel]->(qnode2), \\\n",
    "            template: ()-[]->(qnode1), (qnode2)-[]->()' \\\n",
    "    --return 'qnode1 as node1, mrel.label as label, qnode2 as node2' \\\n",
    "    / deduplicate -o $TEMP/os.tsv.gz"
   ]
  },
  {
   "cell_type": "code",
   "execution_count": null,
   "id": "duplicate-composition",
   "metadata": {},
   "outputs": [],
   "source": [
    "!kgtk query -i $TEMP/ss.tsv.gz \\\n",
    "    --match '(n1)-[r]->()' \\\n",
    "    --return 'count (n1)'"
   ]
  },
  {
   "cell_type": "code",
   "execution_count": null,
   "id": "common-karma",
   "metadata": {},
   "outputs": [],
   "source": [
    "!kgtk query -i $TEMP/so.tsv.gz \\\n",
    "    --match '(n1)-[r]->()' \\\n",
    "    --return 'count (n1)'"
   ]
  },
  {
   "cell_type": "code",
   "execution_count": null,
   "id": "allied-illness",
   "metadata": {},
   "outputs": [],
   "source": [
    "!kgtk query -i $TEMP/os.tsv.gz \\\n",
    "    --match '(n1)-[r]->()' \\\n",
    "    --return 'count (n1)'"
   ]
  },
  {
   "cell_type": "code",
   "execution_count": null,
   "id": "superb-scotland",
   "metadata": {},
   "outputs": [],
   "source": [
    "!kgtk query -i $TEMP/oo.tsv.gz \\\n",
    "    --match '(n1)-[r]->()' \\\n",
    "    --return 'count (n1)'"
   ]
  },
  {
   "cell_type": "code",
   "execution_count": null,
   "id": "graphic-constitutional",
   "metadata": {},
   "outputs": [],
   "source": [
    "!kgtk query -i $TEMP/oo.tsv.gz \\\n",
    "    --match '(n1)-[r]->()' \\\n",
    "    --limit 10"
   ]
  },
  {
   "cell_type": "code",
   "execution_count": null,
   "id": "suburban-investing",
   "metadata": {},
   "outputs": [],
   "source": [
    "!kgtk cat -i $TEMP/ss.tsv.gz $TEMP/so.tsv.gz $TEMP/os.tsv.gz $TEMP/oo.tsv.gz / deduplicate -o $TEMP/wikidata_ent.kgtk.gz"
   ]
  },
  {
   "cell_type": "code",
   "execution_count": null,
   "id": "everyday-mount",
   "metadata": {},
   "outputs": [],
   "source": [
    "!kgtk query -i $TEMP/wikidata_ent.kgtk.gz \\\n",
    "    --match '(n1)-[]->(n2)' \\\n",
    "    --return 'count(n1)'"
   ]
  },
  {
   "cell_type": "markdown",
   "id": "subsequent-algeria",
   "metadata": {},
   "source": [
    "## 3. Create label file"
   ]
  },
  {
   "cell_type": "code",
   "execution_count": 83,
   "id": "instructional-celebrity",
   "metadata": {},
   "outputs": [],
   "source": [
    "!kgtk query -i $label -i $TEMP/templates.kgtk.gz --force \\\n",
    "            --match 'templates: (n1)-[]->(n2), \\\n",
    "                label: (n)-[r]->(l)' \\\n",
    "            --where 'n1=n OR n2=n' \\\n",
    "            --return 'n as node1, r.label as label, l as node2' / deduplicate \\\n",
    "            -o $TEMP/labelfile_templates.kgtk.gz "
   ]
  },
  {
   "cell_type": "code",
   "execution_count": 84,
   "id": "subtle-heavy",
   "metadata": {},
   "outputs": [
    {
     "name": "stdout",
     "output_type": "stream",
     "text": [
      "     342 projects/tutorial-kypher/temp.tutorial-kypher/labelfile_templates.kgtk.gz\n"
     ]
    }
   ],
   "source": [
    "!wc -l $TEMP/labelfile_templates.kgtk.gz"
   ]
  },
  {
   "cell_type": "code",
   "execution_count": null,
   "id": "binding-iceland",
   "metadata": {},
   "outputs": [],
   "source": [
    "kgtk(\"\"\"cat -i $TEMP/labelfile.kgtk.gz\"\"\")"
   ]
  },
  {
   "cell_type": "code",
   "execution_count": 85,
   "id": "surrounded-crowd",
   "metadata": {},
   "outputs": [],
   "source": [
    "!kgtk query -i $label -i $TEMP/instances.kgtk.gz --force \\\n",
    "            --match 'instances: (n1)-[]->(n2), \\\n",
    "                label: (n)-[r]->(l)' \\\n",
    "            --where 'n1=n OR n2=n' \\\n",
    "            --return 'n as node1, r.label as label, l as node2' / deduplicate \\\n",
    "            -o $TEMP/labelfile_instances.kgtk.gz "
   ]
  },
  {
   "cell_type": "code",
   "execution_count": 86,
   "id": "written-disposal",
   "metadata": {},
   "outputs": [
    {
     "name": "stdout",
     "output_type": "stream",
     "text": [
      "    1042 projects/tutorial-kypher/temp.tutorial-kypher/labelfile_instances.kgtk.gz\n"
     ]
    }
   ],
   "source": [
    "!wc -l $TEMP/labelfile_instances.kgtk.gz"
   ]
  },
  {
   "cell_type": "code",
   "execution_count": 87,
   "id": "heard-congo",
   "metadata": {},
   "outputs": [],
   "source": [
    "!kgtk cat -i $TEMP/labelfile_templates.kgtk.gz -i $TEMP/labelfile_instances.kgtk.gz -o $TEMP/labelfile.kgtk.gz"
   ]
  },
  {
   "cell_type": "code",
   "execution_count": null,
   "id": "statutory-gospel",
   "metadata": {},
   "outputs": [],
   "source": []
  }
 ],
 "metadata": {
  "kernelspec": {
   "display_name": "Python 3",
   "language": "python",
   "name": "python3"
  },
  "language_info": {
   "codemirror_mode": {
    "name": "ipython",
    "version": 3
   },
   "file_extension": ".py",
   "mimetype": "text/x-python",
   "name": "python",
   "nbconvert_exporter": "python",
   "pygments_lexer": "ipython3",
   "version": "3.8.5"
  }
 },
 "nbformat": 4,
 "nbformat_minor": 5
}
