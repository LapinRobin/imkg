{
 "cells": [
  {
   "cell_type": "code",
   "execution_count": 1,
   "id": "bdd932bb-858c-4db7-bf41-d4c221ea265e",
   "metadata": {
    "execution": {
     "iopub.execute_input": "2023-11-22T13:19:04.201210Z",
     "iopub.status.busy": "2023-11-22T13:19:04.200761Z",
     "iopub.status.idle": "2023-11-22T13:19:04.576187Z",
     "shell.execute_reply": "2023-11-22T13:19:04.575607Z"
    },
    "jupyter": {
     "source_hidden": true
    },
    "papermill": {
     "duration": 0.384688,
     "end_time": "2023-11-22T13:19:04.577926",
     "exception": false,
     "start_time": "2023-11-22T13:19:04.193238",
     "status": "completed"
    },
    "tags": []
   },
   "outputs": [],
   "source": [
    "import pandas as pd\n",
    "\n",
    "import json, csv\n",
    "from csv import writer, reader\n",
    "import os\n",
    "\n",
    "def save2json(filename, dump):\n",
    "    out_file = open(filename, \"w\")\n",
    "    json.dump(dump, out_file, indent=6)\n",
    "    out_file.close()\n",
    "\n",
    "\n",
    "def save2csv(filename, header, data):\n",
    "    with open(filename, \"w\", newline=\"\") as csvfile:\n",
    "        csvw = csv.writer(\n",
    "            csvfile, delimiter=\",\", quotechar=\"|\", quoting=csv.QUOTE_MINIMAL\n",
    "        )\n",
    "        csvw.writerow(header)\n",
    "        for d in data:\n",
    "            csvw.writerow(d)"
   ]
  },
  {
   "cell_type": "code",
   "execution_count": 2,
   "id": "cf114457-9468-4d57-9bd0-54ee39905c83",
   "metadata": {
    "execution": {
     "iopub.execute_input": "2023-11-22T13:19:04.582529Z",
     "iopub.status.busy": "2023-11-22T13:19:04.582048Z",
     "iopub.status.idle": "2023-11-22T13:19:04.587993Z",
     "shell.execute_reply": "2023-11-22T13:19:04.586845Z"
    },
    "jupyter": {
     "source_hidden": true
    },
    "papermill": {
     "duration": 0.010322,
     "end_time": "2023-11-22T13:19:04.590035",
     "exception": false,
     "start_time": "2023-11-22T13:19:04.579713",
     "status": "completed"
    },
    "tags": []
   },
   "outputs": [],
   "source": [
    "def extract_X(infile, outfile, x):\n",
    "    xs = []\n",
    "    for m in infile:\n",
    "        if x in m.keys():\n",
    "            if type(m[x]) == list:\n",
    "                for s in m[x]:\n",
    "                    xs = xs + [[m[\"url\"], s]]\n",
    "            else:\n",
    "                xs = xs + [[m[\"url\"], m[x]]]\n",
    "    save2csv(outfile, [\"meme\", x], xs)"
   ]
  },
  {
   "cell_type": "code",
   "execution_count": 3,
   "id": "04bb5be2-329b-4dfe-9a92-7bf3c474e402",
   "metadata": {
    "execution": {
     "iopub.execute_input": "2023-11-22T13:19:04.594637Z",
     "iopub.status.busy": "2023-11-22T13:19:04.593905Z",
     "iopub.status.idle": "2023-11-22T13:19:04.603422Z",
     "shell.execute_reply": "2023-11-22T13:19:04.602535Z"
    },
    "jupyter": {
     "source_hidden": true
    },
    "papermill": {
     "duration": 0.014274,
     "end_time": "2023-11-22T13:19:04.605671",
     "exception": false,
     "start_time": "2023-11-22T13:19:04.591397",
     "status": "completed"
    },
    "tags": []
   },
   "outputs": [],
   "source": [
    "# raw_media_frames  = json.load(open('/opt/airflow/data/kym.media.frames.json'))\n",
    "seed_raw_media_frames = json.load(\n",
    "    open(\"/opt/airflow/notebooks/data/kym.seed.media.frames.json\")\n",
    ")\n",
    "\n",
    "extract_X(\n",
    "    seed_raw_media_frames,\n",
    "    \"/opt/airflow/notebooks/data/kym.siblings.media.frames.csv\",\n",
    "    \"siblings\",\n",
    ")"
   ]
  }
 ],
 "metadata": {
  "kernelspec": {
   "display_name": "Python 3 (ipykernel)",
   "language": "python",
   "name": "python3"
  },
  "language_info": {
   "codemirror_mode": {
    "name": "ipython",
    "version": 3
   },
   "file_extension": ".py",
   "mimetype": "text/x-python",
   "name": "python",
   "nbconvert_exporter": "python",
   "pygments_lexer": "ipython3",
   "version": "3.8.18"
  },
  "papermill": {
   "default_parameters": {},
   "duration": 2.526164,
   "end_time": "2023-11-22T13:19:04.926361",
   "environment_variables": {},
   "exception": null,
   "input_path": "/opt/airflow/notebooks/Extract_Sibling.ipynb",
   "output_path": "/opt/airflow/notebooks/Extract_Sibling.ipynb",
   "parameters": {},
   "start_time": "2023-11-22T13:19:02.400197",
   "version": "2.5.0"
  }
 },
 "nbformat": 4,
 "nbformat_minor": 5
}