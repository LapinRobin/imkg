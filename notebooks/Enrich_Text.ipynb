{
 "cells": [
  {
   "cell_type": "code",
   "execution_count": 1,
   "id": "ea821c82-f3e5-4c9f-a8fa-1ecd219df555",
   "metadata": {
    "execution": {
     "iopub.execute_input": "2023-12-04T15:32:16.452733Z",
     "iopub.status.busy": "2023-12-04T15:32:16.452410Z",
     "iopub.status.idle": "2023-12-04T15:32:16.792665Z",
     "shell.execute_reply": "2023-12-04T15:32:16.791848Z"
    },
    "jupyter": {
     "source_hidden": true
    },
    "papermill": {
     "duration": 0.353775,
     "end_time": "2023-12-04T15:32:16.795802",
     "exception": false,
     "start_time": "2023-12-04T15:32:16.442027",
     "status": "completed"
    },
    "tags": []
   },
   "outputs": [],
   "source": [
    "import pandas as pd\n",
    "\n",
    "import json, csv\n",
    "from csv import writer, reader\n",
    "import os\n",
    "\n",
    "def save2json(filename, dump):\n",
    "    out_file = open(filename, \"w\")\n",
    "    json.dump(dump, out_file, indent=6)\n",
    "    out_file.close()\n",
    "\n",
    "\n",
    "def save2csv(filename, header, data):\n",
    "    with open(filename, \"w\", newline=\"\") as csvfile:\n",
    "        csvw = csv.writer(\n",
    "            csvfile, delimiter=\",\", quotechar=\"|\", quoting=csv.QUOTE_MINIMAL\n",
    "        )\n",
    "        csvw.writerow(header)\n",
    "        for d in data:\n",
    "            csvw.writerow(d)"
   ]
  },
  {
   "cell_type": "code",
   "execution_count": 2,
   "id": "4a4d5881-285b-4201-9e40-e4bdfb76b34c",
   "metadata": {
    "execution": {
     "iopub.execute_input": "2023-12-04T15:32:16.803880Z",
     "iopub.status.busy": "2023-12-04T15:32:16.803583Z",
     "iopub.status.idle": "2023-12-04T15:32:16.813761Z",
     "shell.execute_reply": "2023-12-04T15:32:16.813240Z"
    },
    "jupyter": {
     "source_hidden": true
    },
    "papermill": {
     "duration": 0.017662,
     "end_time": "2023-12-04T15:32:16.815156",
     "exception": false,
     "start_time": "2023-12-04T15:32:16.797494",
     "status": "completed"
    },
    "tags": []
   },
   "outputs": [],
   "source": [
    "def get_textual_entities(infile, entity_file, outfile):\n",
    "    memes_entities = []\n",
    "    cache = []\n",
    "    errors = []\n",
    "    with open(infile) as csvfile:\n",
    "        urls = reader(csvfile)\n",
    "        # Loading file with dbpedia entities\n",
    "        with open(entity_file) as efile:\n",
    "            data = json.load(efile)\n",
    "            # Mapping DBPedia entities to Wikidata\n",
    "            with open(\"data/dbpedia-wikidata.json\") as jsonfile:\n",
    "                db2wdmapping = json.load(jsonfile)\n",
    "                for row in urls:\n",
    "                    if row[1] in data.keys() and not row[1] in cache:\n",
    "                        cache.append([row[1]])\n",
    "                        newdata = data[row[1]]\n",
    "                        newdata[\"url\"] = row[1]\n",
    "                        if \"Resources\" in newdata.keys():\n",
    "                            for r in newdata[\"Resources\"]:\n",
    "                                res = r[\"@URI\"].replace(\n",
    "                                    \"http://dbpedia.org/resource/\", \"\"\n",
    "                                )\n",
    "                                if res in db2wdmapping.keys():\n",
    "                                    r[\"QID\"] = (\n",
    "                                        \"https://www.wikidata.org/wiki/\"\n",
    "                                        + db2wdmapping[res]\n",
    "                                    )\n",
    "                                if type(r[\"@types\"]) == str:\n",
    "                                    ls = (\n",
    "                                        r[\"@types\"]\n",
    "                                        .replace(\n",
    "                                            \"DUL:\",\n",
    "                                            \"http://www.loa-cnr.it/ontologies/DOLCE-Lite#\",\n",
    "                                        )\n",
    "                                        .replace(\n",
    "                                            \"Wikidata:\",\n",
    "                                            \"https://www.wikidata.org/wiki/\",\n",
    "                                        )\n",
    "                                        .replace(\"Schema:\", \"https://schema.org/\")\n",
    "                                        .split(\",\")\n",
    "                                    )\n",
    "                                    ls = list(filter(None, ls))\n",
    "                                    ls = [l for l in ls if \"DBpedia\" not in l]\n",
    "                                # elif(type(r[\"@types\"])==list):\n",
    "                                # ls = list(map(lambda s: s.replace(\"DUL:\", \"http://www.loa-cnr.it/ontologies/DOLCE-Lite#\").replace(\"Wikidata:\", \"https://www.wikidata.org/wiki/\").replace(\"Schema:\", \"https://schema.org/\").replace(\"DBpedia:\", \"\"),r[\"@types\"]))\n",
    "                                # errors.append([row[1],res,r[\"@types\"]])\n",
    "                                # Removing dbpedia types that do not have a correspondence in wikidata\n",
    "                                for l in ls:\n",
    "                                    if l in db2wdmapping.keys():\n",
    "                                        l = (\n",
    "                                            \"https://www.wikidata.org/wiki/\"\n",
    "                                            + db2wdmapping[l]\n",
    "                                        )\n",
    "                                r[\"@typeList\"] = ls\n",
    "                        memes_entities.append(data[row[1]])\n",
    "    save2json(outfile, memes_entities)\n",
    "    save2csv(\"errors.csv\", [\"kym\", \"entity\", \"@types\"], errors)"
   ]
  },
  {
   "cell_type": "code",
   "execution_count": 3,
   "id": "486f51f4-5a2d-40e2-ab21-3f7379dd6e23",
   "metadata": {
    "execution": {
     "iopub.execute_input": "2023-12-04T15:32:16.818534Z",
     "iopub.status.busy": "2023-12-04T15:32:16.818322Z",
     "iopub.status.idle": "2023-12-04T15:32:28.900645Z",
     "shell.execute_reply": "2023-12-04T15:32:28.899729Z"
    },
    "jupyter": {
     "source_hidden": true
    },
    "papermill": {
     "duration": 12.087263,
     "end_time": "2023-12-04T15:32:28.903656",
     "exception": false,
     "start_time": "2023-12-04T15:32:16.816393",
     "status": "completed"
    },
    "tags": []
   },
   "outputs": [],
   "source": [
    "spotlight_enrichment_raw = \"/opt/airflow/notebooks/data/kym.spotlight.raw.json\"\n",
    "\n",
    "get_textual_entities(\n",
    "    \"/opt/airflow/notebooks/data/kym.media.frames.csv\",\n",
    "    spotlight_enrichment_raw,\n",
    "    \"/opt/airflow/notebooks/data/kym.media.frames.textual.enrichment.json\",\n",
    ")"
   ]
  }
 ],
 "metadata": {
  "kernelspec": {
   "display_name": "Python 3 (ipykernel)",
   "language": "python",
   "name": "python3"
  },
  "language_info": {
   "codemirror_mode": {
    "name": "ipython",
    "version": 3
   },
   "file_extension": ".py",
   "mimetype": "text/x-python",
   "name": "python",
   "nbconvert_exporter": "python",
   "pygments_lexer": "ipython3",
   "version": "3.8.18"
  },
  "papermill": {
   "default_parameters": {},
   "duration": 14.48616,
   "end_time": "2023-12-04T15:32:29.226390",
   "environment_variables": {},
   "exception": null,
   "input_path": "/opt/airflow/notebooks/Enrich_Text.ipynb",
   "output_path": "/opt/airflow/notebooks/Enrich_Text.ipynb",
   "parameters": {},
   "start_time": "2023-12-04T15:32:14.740230",
   "version": "2.5.0"
  }
 },
 "nbformat": 4,
 "nbformat_minor": 5
}