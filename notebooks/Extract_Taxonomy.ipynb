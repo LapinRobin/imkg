{
 "cells": [
  {
   "cell_type": "code",
   "execution_count": 1,
   "id": "eeda1a41-90df-435b-8628-182d4da47270",
   "metadata": {
    "execution": {
     "iopub.execute_input": "2024-01-10T14:34:22.307291Z",
     "iopub.status.busy": "2024-01-10T14:34:22.306672Z",
     "iopub.status.idle": "2024-01-10T14:34:22.944553Z",
     "shell.execute_reply": "2024-01-10T14:34:22.943729Z"
    },
    "jupyter": {
     "source_hidden": true
    },
    "papermill": {
     "duration": 0.645804,
     "end_time": "2024-01-10T14:34:22.946649",
     "exception": false,
     "start_time": "2024-01-10T14:34:22.300845",
     "status": "completed"
    },
    "tags": []
   },
   "outputs": [],
   "source": [
    "import pandas as pd\n",
    "\n",
    "import json, csv\n",
    "from csv import writer, reader\n",
    "import os\n",
    "\n",
    "def save2json(filename, dump):\n",
    "    out_file = open(filename, \"w\")\n",
    "    json.dump(dump, out_file, indent=6)\n",
    "    out_file.close()\n",
    "\n",
    "\n",
    "def save2csv(filename, header, data):\n",
    "    with open(filename, \"w\", newline=\"\") as csvfile:\n",
    "        csvw = csv.writer(\n",
    "            csvfile, delimiter=\",\", quotechar=\"|\", quoting=csv.QUOTE_MINIMAL\n",
    "        )\n",
    "        csvw.writerow(header)\n",
    "        for d in data:\n",
    "            csvw.writerow(d)"
   ]
  },
  {
   "cell_type": "code",
   "execution_count": 2,
   "id": "266f9e43-2226-49e4-a822-5b30f5979b88",
   "metadata": {
    "execution": {
     "iopub.execute_input": "2024-01-10T14:34:22.951874Z",
     "iopub.status.busy": "2024-01-10T14:34:22.951466Z",
     "iopub.status.idle": "2024-01-10T14:34:23.039634Z",
     "shell.execute_reply": "2024-01-10T14:34:23.038670Z"
    },
    "jupyter": {
     "source_hidden": true
    },
    "papermill": {
     "duration": 0.093833,
     "end_time": "2024-01-10T14:34:23.042434",
     "exception": false,
     "start_time": "2024-01-10T14:34:22.948601",
     "status": "completed"
    },
    "tags": []
   },
   "outputs": [],
   "source": [
    "def extract_types(infile, outfile):\n",
    "    xs = []\n",
    "    for m in infile:\n",
    "        if \"details\" in m.keys() and \"type\" in m[\"details\"].keys():\n",
    "            for x in m[\"details\"][\"type\"]:\n",
    "                xs = xs + [[m[\"url\"], x]]\n",
    "    save2csv(outfile, [\"meme\", \"type\"], xs)\n",
    "\n",
    "# raw_media_frames  = json.load(open('/opt/airflow/data/kym.media.frames.json'))\n",
    "seed_raw_media_frames = json.load(\n",
    "    open(\"/opt/airflow/data/kym.seed.media.frames.json\")\n",
    ")\n",
    "\n",
    "extract_types(seed_raw_media_frames, \"/opt/airflow/notebooks/data/kym.types.media.frames.csv\")"
   ]
  }
 ],
 "metadata": {
  "kernelspec": {
   "display_name": "Python 3 (ipykernel)",
   "language": "python",
   "name": "python3"
  },
  "language_info": {
   "codemirror_mode": {
    "name": "ipython",
    "version": 3
   },
   "file_extension": ".py",
   "mimetype": "text/x-python",
   "name": "python",
   "nbconvert_exporter": "python",
   "pygments_lexer": "ipython3",
   "version": "3.8.18"
  },
  "papermill": {
   "default_parameters": {},
   "duration": 3.322574,
   "end_time": "2024-01-10T14:34:23.465981",
   "environment_variables": {},
   "exception": null,
   "input_path": "/opt/airflow/notebooks/Extract_Taxonomy.ipynb",
   "output_path": "/opt/airflow/notebooks/Extract_Taxonomy.ipynb",
   "parameters": {},
   "start_time": "2024-01-10T14:34:20.143407",
   "version": "2.5.0"
  }
 },
 "nbformat": 4,
 "nbformat_minor": 5
}