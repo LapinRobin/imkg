{
 "cells": [
  {
   "cell_type": "code",
   "execution_count": 1,
   "id": "eeda1a41-90df-435b-8628-182d4da47270",
   "metadata": {
    "execution": {
     "iopub.execute_input": "2023-12-20T09:31:45.054266Z",
     "iopub.status.busy": "2023-12-20T09:31:45.054054Z",
     "iopub.status.idle": "2023-12-20T09:31:45.653647Z",
     "shell.execute_reply": "2023-12-20T09:31:45.652782Z"
    },
    "jupyter": {
     "source_hidden": true
    },
    "papermill": {
     "duration": 0.605805,
     "end_time": "2023-12-20T09:31:45.655815",
     "exception": false,
     "start_time": "2023-12-20T09:31:45.050010",
     "status": "completed"
    },
    "tags": []
   },
   "outputs": [],
   "source": [
    "import pandas as pd\n",
    "\n",
    "import json, csv\n",
    "from csv import writer, reader\n",
    "import os\n",
    "\n",
    "def save2json(filename, dump):\n",
    "    out_file = open(filename, \"w\")\n",
    "    json.dump(dump, out_file, indent=6)\n",
    "    out_file.close()\n",
    "\n",
    "\n",
    "def save2csv(filename, header, data):\n",
    "    with open(filename, \"w\", newline=\"\") as csvfile:\n",
    "        csvw = csv.writer(\n",
    "            csvfile, delimiter=\",\", quotechar=\"|\", quoting=csv.QUOTE_MINIMAL\n",
    "        )\n",
    "        csvw.writerow(header)\n",
    "        for d in data:\n",
    "            csvw.writerow(d)"
   ]
  },
  {
   "cell_type": "code",
   "execution_count": 2,
   "id": "266f9e43-2226-49e4-a822-5b30f5979b88",
   "metadata": {
    "execution": {
     "iopub.execute_input": "2023-12-20T09:31:45.661574Z",
     "iopub.status.busy": "2023-12-20T09:31:45.660964Z",
     "iopub.status.idle": "2023-12-20T09:31:45.751885Z",
     "shell.execute_reply": "2023-12-20T09:31:45.750640Z"
    },
    "jupyter": {
     "source_hidden": true
    },
    "papermill": {
     "duration": 0.096462,
     "end_time": "2023-12-20T09:31:45.754141",
     "exception": false,
     "start_time": "2023-12-20T09:31:45.657679",
     "status": "completed"
    },
    "tags": []
   },
   "outputs": [],
   "source": [
    "def extract_types(infile, outfile):\n",
    "    xs = []\n",
    "    for m in infile:\n",
    "        if \"details\" in m.keys() and \"type\" in m[\"details\"].keys():\n",
    "            for x in m[\"details\"][\"type\"]:\n",
    "                xs = xs + [[m[\"url\"], x]]\n",
    "    save2csv(outfile, [\"meme\", \"type\"], xs)\n",
    "\n",
    "# raw_media_frames  = json.load(open('/opt/airflow/data/kym.media.frames.json'))\n",
    "seed_raw_media_frames = json.load(\n",
    "    open(\"/opt/airflow/data/kym.seed.media.frames.json\")\n",
    ")\n",
    "\n",
    "extract_types(seed_raw_media_frames, \"/opt/airflow/notebooks/data/kym.types.media.frames.csv\")"
   ]
  }
 ],
 "metadata": {
  "kernelspec": {
   "display_name": "Python 3 (ipykernel)",
   "language": "python",
   "name": "python3"
  },
  "language_info": {
   "codemirror_mode": {
    "name": "ipython",
    "version": 3
   },
   "file_extension": ".py",
   "mimetype": "text/x-python",
   "name": "python",
   "nbconvert_exporter": "python",
   "pygments_lexer": "ipython3",
   "version": "3.8.18"
  },
  "papermill": {
   "default_parameters": {},
   "duration": 3.187514,
   "end_time": "2023-12-20T09:31:46.280138",
   "environment_variables": {},
   "exception": null,
   "input_path": "/opt/airflow/notebooks/Extract_Taxonomy.ipynb",
   "output_path": "/opt/airflow/notebooks/Extract_Taxonomy.ipynb",
   "parameters": {},
   "start_time": "2023-12-20T09:31:43.092624",
   "version": "2.5.0"
  }
 },
 "nbformat": 4,
 "nbformat_minor": 5
}