{
 "cells": [
  {
   "cell_type": "code",
   "execution_count": 1,
   "id": "bdd932bb-858c-4db7-bf41-d4c221ea265e",
   "metadata": {
    "execution": {
     "iopub.execute_input": "2023-12-04T15:32:10.886795Z",
     "iopub.status.busy": "2023-12-04T15:32:10.886396Z",
     "iopub.status.idle": "2023-12-04T15:32:11.357623Z",
     "shell.execute_reply": "2023-12-04T15:32:11.356766Z"
    },
    "jupyter": {
     "source_hidden": true
    },
    "papermill": {
     "duration": 0.482169,
     "end_time": "2023-12-04T15:32:11.359925",
     "exception": false,
     "start_time": "2023-12-04T15:32:10.877756",
     "status": "completed"
    },
    "tags": []
   },
   "outputs": [],
   "source": [
    "import pandas as pd\n",
    "\n",
    "import json, csv\n",
    "from csv import writer, reader\n",
    "import os\n",
    "\n",
    "def save2json(filename, dump):\n",
    "    out_file = open(filename, \"w\")\n",
    "    json.dump(dump, out_file, indent=6)\n",
    "    out_file.close()\n",
    "\n",
    "\n",
    "def save2csv(filename, header, data):\n",
    "    with open(filename, \"w\", newline=\"\") as csvfile:\n",
    "        csvw = csv.writer(\n",
    "            csvfile, delimiter=\",\", quotechar=\"|\", quoting=csv.QUOTE_MINIMAL\n",
    "        )\n",
    "        csvw.writerow(header)\n",
    "        for d in data:\n",
    "            csvw.writerow(d)"
   ]
  },
  {
   "cell_type": "code",
   "execution_count": 2,
   "id": "cf114457-9468-4d57-9bd0-54ee39905c83",
   "metadata": {
    "execution": {
     "iopub.execute_input": "2023-12-04T15:32:11.366965Z",
     "iopub.status.busy": "2023-12-04T15:32:11.366237Z",
     "iopub.status.idle": "2023-12-04T15:32:11.373033Z",
     "shell.execute_reply": "2023-12-04T15:32:11.372114Z"
    },
    "jupyter": {
     "source_hidden": true
    },
    "papermill": {
     "duration": 0.012799,
     "end_time": "2023-12-04T15:32:11.375336",
     "exception": false,
     "start_time": "2023-12-04T15:32:11.362537",
     "status": "completed"
    },
    "tags": []
   },
   "outputs": [],
   "source": [
    "def extract_X(infile, outfile, x):\n",
    "    xs = []\n",
    "    for m in infile:\n",
    "        if x in m.keys():\n",
    "            if type(m[x]) == list:\n",
    "                for s in m[x]:\n",
    "                    xs = xs + [[m[\"url\"], s]]\n",
    "            else:\n",
    "                xs = xs + [[m[\"url\"], m[x]]]\n",
    "    save2csv(outfile, [\"meme\", x], xs)"
   ]
  },
  {
   "cell_type": "code",
   "execution_count": 3,
   "id": "04bb5be2-329b-4dfe-9a92-7bf3c474e402",
   "metadata": {
    "execution": {
     "iopub.execute_input": "2023-12-04T15:32:11.380258Z",
     "iopub.status.busy": "2023-12-04T15:32:11.379807Z",
     "iopub.status.idle": "2023-12-04T15:32:11.391325Z",
     "shell.execute_reply": "2023-12-04T15:32:11.390385Z"
    },
    "jupyter": {
     "source_hidden": true
    },
    "papermill": {
     "duration": 0.016668,
     "end_time": "2023-12-04T15:32:11.393594",
     "exception": false,
     "start_time": "2023-12-04T15:32:11.376926",
     "status": "completed"
    },
    "tags": []
   },
   "outputs": [],
   "source": [
    "# raw_media_frames  = json.load(open('/opt/airflow/data/kym.media.frames.json'))\n",
    "seed_raw_media_frames = json.load(\n",
    "    open(\"/opt/airflow/notebooks/data/kym.seed.media.frames.json\")\n",
    ")\n",
    "\n",
    "extract_X(\n",
    "    seed_raw_media_frames,\n",
    "    \"/opt/airflow/notebooks/data/kym.children.media.frames.csv\",\n",
    "    \"children\",\n",
    ")"
   ]
  }
 ],
 "metadata": {
  "kernelspec": {
   "display_name": "Python 3 (ipykernel)",
   "language": "python",
   "name": "python3"
  },
  "language_info": {
   "codemirror_mode": {
    "name": "ipython",
    "version": 3
   },
   "file_extension": ".py",
   "mimetype": "text/x-python",
   "name": "python",
   "nbconvert_exporter": "python",
   "pygments_lexer": "ipython3",
   "version": "3.8.18"
  },
  "papermill": {
   "default_parameters": {},
   "duration": 2.880945,
   "end_time": "2023-12-04T15:32:11.715465",
   "environment_variables": {},
   "exception": null,
   "input_path": "/opt/airflow/notebooks/Extract_Children.ipynb",
   "output_path": "/opt/airflow/notebooks/Extract_Children.ipynb",
   "parameters": {},
   "start_time": "2023-12-04T15:32:08.834520",
   "version": "2.5.0"
  }
 },
 "nbformat": 4,
 "nbformat_minor": 5
}