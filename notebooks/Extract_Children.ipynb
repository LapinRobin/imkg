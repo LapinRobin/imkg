{
 "cells": [
  {
   "cell_type": "code",
   "execution_count": 1,
   "id": "bdd932bb-858c-4db7-bf41-d4c221ea265e",
   "metadata": {
    "execution": {
     "iopub.execute_input": "2023-12-20T08:25:00.115016Z",
     "iopub.status.busy": "2023-12-20T08:25:00.114629Z",
     "iopub.status.idle": "2023-12-20T08:25:00.831612Z",
     "shell.execute_reply": "2023-12-20T08:25:00.830762Z"
    },
    "jupyter": {
     "source_hidden": true
    },
    "papermill": {
     "duration": 0.736595,
     "end_time": "2023-12-20T08:25:00.834469",
     "exception": false,
     "start_time": "2023-12-20T08:25:00.097874",
     "status": "completed"
    },
    "tags": []
   },
   "outputs": [],
   "source": [
    "import pandas as pd\n",
    "\n",
    "import json, csv\n",
    "from csv import writer, reader\n",
    "import os\n",
    "\n",
    "def save2json(filename, dump):\n",
    "    out_file = open(filename, \"w\")\n",
    "    json.dump(dump, out_file, indent=6)\n",
    "    out_file.close()\n",
    "\n",
    "\n",
    "def save2csv(filename, header, data):\n",
    "    with open(filename, \"w\", newline=\"\") as csvfile:\n",
    "        csvw = csv.writer(\n",
    "            csvfile, delimiter=\",\", quotechar=\"|\", quoting=csv.QUOTE_MINIMAL\n",
    "        )\n",
    "        csvw.writerow(header)\n",
    "        for d in data:\n",
    "            csvw.writerow(d)"
   ]
  },
  {
   "cell_type": "code",
   "execution_count": 2,
   "id": "cf114457-9468-4d57-9bd0-54ee39905c83",
   "metadata": {
    "execution": {
     "iopub.execute_input": "2023-12-20T08:25:00.842491Z",
     "iopub.status.busy": "2023-12-20T08:25:00.841637Z",
     "iopub.status.idle": "2023-12-20T08:25:00.846823Z",
     "shell.execute_reply": "2023-12-20T08:25:00.845974Z"
    },
    "jupyter": {
     "source_hidden": true
    },
    "papermill": {
     "duration": 0.012496,
     "end_time": "2023-12-20T08:25:00.849878",
     "exception": false,
     "start_time": "2023-12-20T08:25:00.837382",
     "status": "completed"
    },
    "tags": []
   },
   "outputs": [],
   "source": [
    "def extract_X(infile, outfile, x):\n",
    "    xs = []\n",
    "    for m in infile:\n",
    "        if x in m.keys():\n",
    "            if type(m[x]) == list:\n",
    "                for s in m[x]:\n",
    "                    xs = xs + [[m[\"url\"], s]]\n",
    "            else:\n",
    "                xs = xs + [[m[\"url\"], m[x]]]\n",
    "    save2csv(outfile, [\"meme\", x], xs)"
   ]
  },
  {
   "cell_type": "code",
   "execution_count": 3,
   "id": "04bb5be2-329b-4dfe-9a92-7bf3c474e402",
   "metadata": {
    "execution": {
     "iopub.execute_input": "2023-12-20T08:25:00.856265Z",
     "iopub.status.busy": "2023-12-20T08:25:00.855276Z",
     "iopub.status.idle": "2023-12-20T08:25:00.866697Z",
     "shell.execute_reply": "2023-12-20T08:25:00.865797Z"
    },
    "jupyter": {
     "source_hidden": true
    },
    "papermill": {
     "duration": 0.017192,
     "end_time": "2023-12-20T08:25:00.869110",
     "exception": false,
     "start_time": "2023-12-20T08:25:00.851918",
     "status": "completed"
    },
    "tags": []
   },
   "outputs": [],
   "source": [
    "# raw_media_frames  = json.load(open('/opt/airflow/data/kym.media.frames.json'))\n",
    "seed_raw_media_frames = json.load(\n",
    "    open(\"/opt/airflow/notebooks/data/kym.seed.media.frames.json\")\n",
    ")\n",
    "\n",
    "extract_X(\n",
    "    seed_raw_media_frames,\n",
    "    \"/opt/airflow/notebooks/data/kym.children.media.frames.csv\",\n",
    "    \"children\",\n",
    ")"
   ]
  }
 ],
 "metadata": {
  "kernelspec": {
   "display_name": "Python 3 (ipykernel)",
   "language": "python",
   "name": "python3"
  },
  "language_info": {
   "codemirror_mode": {
    "name": "ipython",
    "version": 3
   },
   "file_extension": ".py",
   "mimetype": "text/x-python",
   "name": "python",
   "nbconvert_exporter": "python",
   "pygments_lexer": "ipython3",
   "version": "3.8.18"
  },
  "papermill": {
   "default_parameters": {},
   "duration": 3.310488,
   "end_time": "2023-12-20T08:25:01.291959",
   "environment_variables": {},
   "exception": null,
   "input_path": "/opt/airflow/notebooks/Extract_Children.ipynb",
   "output_path": "/opt/airflow/notebooks/Extract_Children.ipynb",
   "parameters": {},
   "start_time": "2023-12-20T08:24:57.981471",
   "version": "2.5.0"
  }
 },
 "nbformat": 4,
 "nbformat_minor": 5
}