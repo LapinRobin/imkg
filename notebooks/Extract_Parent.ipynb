{
 "cells": [
  {
   "cell_type": "code",
   "execution_count": 1,
   "id": "6a389d80-790e-4437-b4ab-7ce36a97cf62",
   "metadata": {
    "execution": {
     "iopub.execute_input": "2024-01-10T16:27:52.307974Z",
     "iopub.status.busy": "2024-01-10T16:27:52.307311Z",
     "iopub.status.idle": "2024-01-10T16:27:52.732878Z",
     "shell.execute_reply": "2024-01-10T16:27:52.732144Z"
    },
    "jupyter": {
     "source_hidden": true
    },
    "papermill": {
     "duration": 0.434508,
     "end_time": "2024-01-10T16:27:52.735960",
     "exception": false,
     "start_time": "2024-01-10T16:27:52.301452",
     "status": "completed"
    },
    "tags": []
   },
   "outputs": [],
   "source": [
    "import pandas as pd\n",
    "\n",
    "import json, csv\n",
    "from csv import writer, reader\n",
    "import os\n",
    "\n",
    "def save2json(filename, dump):\n",
    "    out_file = open(filename, \"w\")\n",
    "    json.dump(dump, out_file, indent=6)\n",
    "    out_file.close()\n",
    "\n",
    "\n",
    "def save2csv(filename, header, data):\n",
    "    with open(filename, \"w\", newline=\"\") as csvfile:\n",
    "        csvw = csv.writer(\n",
    "            csvfile, delimiter=\",\", quotechar=\"|\", quoting=csv.QUOTE_MINIMAL\n",
    "        )\n",
    "        csvw.writerow(header)\n",
    "        for d in data:\n",
    "            csvw.writerow(d)"
   ]
  },
  {
   "cell_type": "code",
   "execution_count": 2,
   "id": "2a60875d-d00e-4d6a-ad30-08f592771c14",
   "metadata": {
    "execution": {
     "iopub.execute_input": "2024-01-10T16:27:52.745123Z",
     "iopub.status.busy": "2024-01-10T16:27:52.744160Z",
     "iopub.status.idle": "2024-01-10T16:27:52.749383Z",
     "shell.execute_reply": "2024-01-10T16:27:52.748508Z"
    },
    "jupyter": {
     "source_hidden": true
    },
    "papermill": {
     "duration": 0.01108,
     "end_time": "2024-01-10T16:27:52.750807",
     "exception": false,
     "start_time": "2024-01-10T16:27:52.739727",
     "status": "completed"
    },
    "tags": []
   },
   "outputs": [],
   "source": [
    "def extract_X(infile, outfile, x):\n",
    "    xs = []\n",
    "    for m in infile:\n",
    "        if x in m.keys():\n",
    "            if type(m[x]) == list:\n",
    "                for s in m[x]:\n",
    "                    xs = xs + [[m[\"url\"], s]]\n",
    "            else:\n",
    "                xs = xs + [[m[\"url\"], m[x]]]\n",
    "    save2csv(outfile, [\"meme\", x], xs)"
   ]
  },
  {
   "cell_type": "code",
   "execution_count": 3,
   "id": "aaf3910a-49dd-4ae2-a165-e26fe4d9e3ae",
   "metadata": {
    "execution": {
     "iopub.execute_input": "2024-01-10T16:27:52.754822Z",
     "iopub.status.busy": "2024-01-10T16:27:52.754166Z",
     "iopub.status.idle": "2024-01-10T16:27:52.763234Z",
     "shell.execute_reply": "2024-01-10T16:27:52.762643Z"
    },
    "jupyter": {
     "source_hidden": true
    },
    "papermill": {
     "duration": 0.013473,
     "end_time": "2024-01-10T16:27:52.765480",
     "exception": false,
     "start_time": "2024-01-10T16:27:52.752007",
     "status": "completed"
    },
    "tags": []
   },
   "outputs": [],
   "source": [
    "# raw_media_frames  = json.load(open('/opt/airflow/data/kym.media.frames.json'))\n",
    "seed_raw_media_frames = json.load(\n",
    "    open(\"/opt/airflow/notebooks/data/kym.seed.media.frames.json\")\n",
    ")\n",
    "\n",
    "extract_X(\n",
    "    seed_raw_media_frames,\n",
    "    \"/opt/airflow/notebooks/data/kym.parent.media.frames.csv\",\n",
    "    \"parent\",\n",
    ")"
   ]
  }
 ],
 "metadata": {
  "kernelspec": {
   "display_name": "Python 3 (ipykernel)",
   "language": "python",
   "name": "python3"
  },
  "language_info": {
   "codemirror_mode": {
    "name": "ipython",
    "version": 3
   },
   "file_extension": ".py",
   "mimetype": "text/x-python",
   "name": "python",
   "nbconvert_exporter": "python",
   "pygments_lexer": "ipython3",
   "version": "3.8.18"
  },
  "papermill": {
   "default_parameters": {},
   "duration": 2.663638,
   "end_time": "2024-01-10T16:27:53.085495",
   "environment_variables": {},
   "exception": null,
   "input_path": "/opt/airflow/notebooks/Extract_Parent.ipynb",
   "output_path": "/opt/airflow/notebooks/Extract_Parent.ipynb",
   "parameters": {},
   "start_time": "2024-01-10T16:27:50.421857",
   "version": "2.5.0"
  }
 },
 "nbformat": 4,
 "nbformat_minor": 5
}