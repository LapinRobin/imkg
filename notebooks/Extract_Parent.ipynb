{
 "cells": [
  {
   "cell_type": "code",
   "execution_count": 1,
   "id": "6a389d80-790e-4437-b4ab-7ce36a97cf62",
   "metadata": {
    "execution": {
     "iopub.execute_input": "2023-11-21T10:11:27.599245Z",
     "iopub.status.busy": "2023-11-21T10:11:27.598748Z",
     "iopub.status.idle": "2023-11-21T10:11:28.067968Z",
     "shell.execute_reply": "2023-11-21T10:11:28.067094Z"
    },
    "jupyter": {
     "source_hidden": true
    },
    "papermill": {
     "duration": 0.478116,
     "end_time": "2023-11-21T10:11:28.070472",
     "exception": false,
     "start_time": "2023-11-21T10:11:27.592356",
     "status": "completed"
    },
    "tags": []
   },
   "outputs": [],
   "source": [
    "import pandas as pd\n",
    "\n",
    "import json, csv\n",
    "from csv import writer, reader\n",
    "import os\n",
    "\n",
    "def save2json(filename, dump):\n",
    "    out_file = open(filename, \"w\")\n",
    "    json.dump(dump, out_file, indent=6)\n",
    "    out_file.close()\n",
    "\n",
    "\n",
    "def save2csv(filename, header, data):\n",
    "    with open(filename, \"w\", newline=\"\") as csvfile:\n",
    "        csvw = csv.writer(\n",
    "            csvfile, delimiter=\",\", quotechar=\"|\", quoting=csv.QUOTE_MINIMAL\n",
    "        )\n",
    "        csvw.writerow(header)\n",
    "        for d in data:\n",
    "            csvw.writerow(d)"
   ]
  },
  {
   "cell_type": "code",
   "execution_count": 2,
   "id": "2a60875d-d00e-4d6a-ad30-08f592771c14",
   "metadata": {
    "execution": {
     "iopub.execute_input": "2023-11-21T10:11:28.078078Z",
     "iopub.status.busy": "2023-11-21T10:11:28.077404Z",
     "iopub.status.idle": "2023-11-21T10:11:28.084426Z",
     "shell.execute_reply": "2023-11-21T10:11:28.083372Z"
    },
    "jupyter": {
     "source_hidden": true
    },
    "papermill": {
     "duration": 0.012717,
     "end_time": "2023-11-21T10:11:28.086614",
     "exception": false,
     "start_time": "2023-11-21T10:11:28.073897",
     "status": "completed"
    },
    "tags": []
   },
   "outputs": [],
   "source": [
    "def extract_X(infile, outfile, x):\n",
    "    xs = []\n",
    "    for m in infile:\n",
    "        if x in m.keys():\n",
    "            if type(m[x]) == list:\n",
    "                for s in m[x]:\n",
    "                    xs = xs + [[m[\"url\"], s]]\n",
    "            else:\n",
    "                xs = xs + [[m[\"url\"], m[x]]]\n",
    "    save2csv(outfile, [\"meme\", x], xs)"
   ]
  },
  {
   "cell_type": "code",
   "execution_count": 3,
   "id": "aaf3910a-49dd-4ae2-a165-e26fe4d9e3ae",
   "metadata": {
    "execution": {
     "iopub.execute_input": "2023-11-21T10:11:28.092544Z",
     "iopub.status.busy": "2023-11-21T10:11:28.092216Z",
     "iopub.status.idle": "2023-11-21T10:11:28.104539Z",
     "shell.execute_reply": "2023-11-21T10:11:28.103395Z"
    },
    "jupyter": {
     "source_hidden": true
    },
    "papermill": {
     "duration": 0.018426,
     "end_time": "2023-11-21T10:11:28.107214",
     "exception": false,
     "start_time": "2023-11-21T10:11:28.088788",
     "status": "completed"
    },
    "tags": []
   },
   "outputs": [],
   "source": [
    "# raw_media_frames  = json.load(open('/opt/airflow/data/kym.media.frames.json'))\n",
    "seed_raw_media_frames = json.load(\n",
    "    open(\"/opt/airflow/notebooks/data/kym.seed.media.frames.json\")\n",
    ")\n",
    "\n",
    "extract_X(\n",
    "    seed_raw_media_frames,\n",
    "    \"/opt/airflow/notebooks/data/kym.parent.media.frames.csv\",\n",
    "    \"parent\",\n",
    ")"
   ]
  }
 ],
 "metadata": {
  "kernelspec": {
   "display_name": "Python 3 (ipykernel)",
   "language": "python",
   "name": "python3"
  },
  "language_info": {
   "codemirror_mode": {
    "name": "ipython",
    "version": 3
   },
   "file_extension": ".py",
   "mimetype": "text/x-python",
   "name": "python",
   "nbconvert_exporter": "python",
   "pygments_lexer": "ipython3",
   "version": "3.8.18"
  },
  "papermill": {
   "default_parameters": {},
   "duration": 2.832532,
   "end_time": "2023-11-21T10:11:28.530564",
   "environment_variables": {},
   "exception": null,
   "input_path": "/opt/airflow/notebooks/Extract_Parent.ipynb",
   "output_path": "/opt/airflow/notebooks/Extract_Parent.ipynb",
   "parameters": {},
   "start_time": "2023-11-21T10:11:25.698032",
   "version": "2.5.0"
  }
 },
 "nbformat": 4,
 "nbformat_minor": 5
}