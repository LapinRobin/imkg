{
 "cells": [
  {
   "cell_type": "code",
   "execution_count": 1,
   "id": "94c5b466",
   "metadata": {
    "execution": {
     "iopub.execute_input": "2023-12-20T06:58:54.770810Z",
     "iopub.status.busy": "2023-12-20T06:58:54.770233Z",
     "iopub.status.idle": "2023-12-20T06:58:54.782731Z",
     "shell.execute_reply": "2023-12-20T06:58:54.781297Z"
    },
    "jupyter": {
     "source_hidden": true
    },
    "papermill": {
     "duration": 0.019986,
     "end_time": "2023-12-20T06:58:54.784851",
     "exception": false,
     "start_time": "2023-12-20T06:58:54.764865",
     "status": "completed"
    },
    "tags": []
   },
   "outputs": [
    {
     "name": "stdout",
     "output_type": "stream",
     "text": [
      "Hello World!\n"
     ]
    }
   ],
   "source": [
    "print(\"Hello World!\")"
   ]
  }
 ],
 "metadata": {
  "kernelspec": {
   "display_name": "Python 3 (ipykernel)",
   "language": "python",
   "name": "python3"
  },
  "language_info": {
   "codemirror_mode": {
    "name": "ipython",
    "version": 3
   },
   "file_extension": ".py",
   "mimetype": "text/x-python",
   "name": "python",
   "nbconvert_exporter": "python",
   "pygments_lexer": "ipython3",
   "version": "3.8.18"
  },
  "papermill": {
   "default_parameters": {},
   "duration": 2.902404,
   "end_time": "2023-12-20T06:58:55.006743",
   "environment_variables": {},
   "exception": null,
   "input_path": "/opt/airflow/notebooks/hello_notebook.ipynb",
   "output_path": "/opt/airflow/notebooks/hello_notebook.ipynb",
   "parameters": {},
   "start_time": "2023-12-20T06:58:52.104339",
   "version": "2.5.0"
  }
 },
 "nbformat": 4,
 "nbformat_minor": 5
}