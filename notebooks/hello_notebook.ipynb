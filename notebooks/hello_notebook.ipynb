{
 "cells": [
  {
   "cell_type": "code",
   "execution_count": 1,
   "id": "94c5b466",
   "metadata": {
    "execution": {
     "iopub.execute_input": "2023-11-21T08:52:38.804509Z",
     "iopub.status.busy": "2023-11-21T08:52:38.804259Z",
     "iopub.status.idle": "2023-11-21T08:52:38.811929Z",
     "shell.execute_reply": "2023-11-21T08:52:38.811338Z"
    },
    "jupyter": {
     "source_hidden": true
    },
    "papermill": {
     "duration": 0.013946,
     "end_time": "2023-11-21T08:52:38.813905",
     "exception": false,
     "start_time": "2023-11-21T08:52:38.799959",
     "status": "completed"
    },
    "tags": []
   },
   "outputs": [
    {
     "name": "stdout",
     "output_type": "stream",
     "text": [
      "Hello World!\n"
     ]
    }
   ],
   "source": [
    "print(\"Hello World!\")"
   ]
  }
 ],
 "metadata": {
  "kernelspec": {
   "display_name": "Python 3 (ipykernel)",
   "language": "python",
   "name": "python3"
  },
  "language_info": {
   "codemirror_mode": {
    "name": "ipython",
    "version": 3
   },
   "file_extension": ".py",
   "mimetype": "text/x-python",
   "name": "python",
   "nbconvert_exporter": "python",
   "pygments_lexer": "ipython3",
   "version": "3.8.18"
  },
  "papermill": {
   "default_parameters": {},
   "duration": 4.387163,
   "end_time": "2023-11-21T08:52:41.476674",
   "environment_variables": {},
   "exception": null,
   "input_path": "/opt/airflow/notebooks/hello_notebook.ipynb",
   "output_path": "/opt/airflow/notebooks/hello_notebook.ipynb",
   "parameters": {},
   "start_time": "2023-11-21T08:52:37.089511",
   "version": "2.5.0"
  }
 },
 "nbformat": 4,
 "nbformat_minor": 5
}