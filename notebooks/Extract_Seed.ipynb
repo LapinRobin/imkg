{
 "cells": [
  {
   "cell_type": "code",
   "execution_count": 1,
   "id": "70cee2cc-69da-473e-9e6f-6fcb788382e3",
   "metadata": {
    "execution": {
     "iopub.execute_input": "2023-12-04T15:32:06.411903Z",
     "iopub.status.busy": "2023-12-04T15:32:06.411492Z",
     "iopub.status.idle": "2023-12-04T15:32:06.753332Z",
     "shell.execute_reply": "2023-12-04T15:32:06.752091Z"
    },
    "jupyter": {
     "source_hidden": true
    },
    "papermill": {
     "duration": 0.350359,
     "end_time": "2023-12-04T15:32:06.755354",
     "exception": false,
     "start_time": "2023-12-04T15:32:06.404995",
     "status": "completed"
    },
    "tags": []
   },
   "outputs": [],
   "source": [
    "import pandas as pd\n",
    "\n",
    "import json, csv\n",
    "from csv import writer, reader\n",
    "import os\n",
    "\n",
    "def save2json(filename, dump):\n",
    "    out_file = open(filename, \"w\")\n",
    "    json.dump(dump, out_file, indent=6)\n",
    "    out_file.close()\n",
    "\n",
    "\n",
    "def save2csv(filename, header, data):\n",
    "    with open(filename, \"w\", newline=\"\") as csvfile:\n",
    "        csvw = csv.writer(\n",
    "            csvfile, delimiter=\",\", quotechar=\"|\", quoting=csv.QUOTE_MINIMAL\n",
    "        )\n",
    "        csvw.writerow(header)\n",
    "        for d in data:\n",
    "            csvw.writerow(d)"
   ]
  },
  {
   "cell_type": "code",
   "execution_count": 2,
   "id": "a062a6df-1acb-4e3b-bde7-0b9007a9e078",
   "metadata": {
    "execution": {
     "iopub.execute_input": "2023-12-04T15:32:06.763559Z",
     "iopub.status.busy": "2023-12-04T15:32:06.763258Z",
     "iopub.status.idle": "2023-12-04T15:32:06.769332Z",
     "shell.execute_reply": "2023-12-04T15:32:06.768411Z"
    },
    "jupyter": {
     "source_hidden": true
    },
    "papermill": {
     "duration": 0.013915,
     "end_time": "2023-12-04T15:32:06.770806",
     "exception": false,
     "start_time": "2023-12-04T15:32:06.756891",
     "status": "completed"
    },
    "tags": []
   },
   "outputs": [],
   "source": [
    "def get_media_frame_from_seeds(seed,memefile,outfile):\n",
    "    dump = [ ]\n",
    "    with open(seed) as csvfile:\n",
    "        urls = reader(csvfile)\n",
    "        with open(memefile) as memes:\n",
    "            data = json.load(memes)\n",
    "            for row in urls:\n",
    "                for i in data:\n",
    "                    if (i['url'] == row[1]):\n",
    "                        dump.append(i)\n",
    "    save2json(outfile,dump)"
   ]
  },
  {
   "cell_type": "code",
   "execution_count": 3,
   "id": "2ff6b7fe-42dc-4119-b607-b22691f1eb8b",
   "metadata": {
    "execution": {
     "iopub.execute_input": "2023-12-04T15:32:06.774144Z",
     "iopub.status.busy": "2023-12-04T15:32:06.773937Z",
     "iopub.status.idle": "2023-12-04T15:32:06.813922Z",
     "shell.execute_reply": "2023-12-04T15:32:06.812979Z"
    },
    "jupyter": {
     "source_hidden": true
    },
    "papermill": {
     "duration": 0.043819,
     "end_time": "2023-12-04T15:32:06.815803",
     "exception": false,
     "start_time": "2023-12-04T15:32:06.771984",
     "status": "completed"
    },
    "tags": []
   },
   "outputs": [],
   "source": [
    "get_media_frame_from_seeds('/opt/airflow/notebooks/data/seeds.to.kym.media.frames.csv','/opt/airflow/notebooks/data/kym.media.frames.json','/opt/airflow/notebooks/data/kym.seed.media.frames.json')"
   ]
  }
 ],
 "metadata": {
  "kernelspec": {
   "display_name": "Python 3 (ipykernel)",
   "language": "python",
   "name": "python3"
  },
  "language_info": {
   "codemirror_mode": {
    "name": "ipython",
    "version": 3
   },
   "file_extension": ".py",
   "mimetype": "text/x-python",
   "name": "python",
   "nbconvert_exporter": "python",
   "pygments_lexer": "ipython3",
   "version": "3.8.18"
  },
  "papermill": {
   "default_parameters": {},
   "duration": 2.461947,
   "end_time": "2023-12-04T15:32:07.135527",
   "environment_variables": {},
   "exception": null,
   "input_path": "/opt/airflow/notebooks/Extract_Seed.ipynb",
   "output_path": "/opt/airflow/notebooks/Extract_Seed.ipynb",
   "parameters": {},
   "start_time": "2023-12-04T15:32:04.673580",
   "version": "2.5.0"
  }
 },
 "nbformat": 4,
 "nbformat_minor": 5
}