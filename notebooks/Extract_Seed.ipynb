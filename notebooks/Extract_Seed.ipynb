{
 "cells": [
  {
   "cell_type": "code",
   "execution_count": 1,
   "id": "70cee2cc-69da-473e-9e6f-6fcb788382e3",
   "metadata": {
    "execution": {
     "iopub.execute_input": "2024-01-10T16:27:46.533941Z",
     "iopub.status.busy": "2024-01-10T16:27:46.533433Z",
     "iopub.status.idle": "2024-01-10T16:27:46.857025Z",
     "shell.execute_reply": "2024-01-10T16:27:46.855975Z"
    },
    "jupyter": {
     "source_hidden": true
    },
    "papermill": {
     "duration": 0.332045,
     "end_time": "2024-01-10T16:27:46.860518",
     "exception": false,
     "start_time": "2024-01-10T16:27:46.528473",
     "status": "completed"
    },
    "tags": []
   },
   "outputs": [],
   "source": [
    "import pandas as pd\n",
    "\n",
    "import json, csv\n",
    "from csv import writer, reader\n",
    "import os\n",
    "\n",
    "def save2json(filename, dump):\n",
    "    out_file = open(filename, \"w\")\n",
    "    json.dump(dump, out_file, indent=6)\n",
    "    out_file.close()\n",
    "\n",
    "\n",
    "def save2csv(filename, header, data):\n",
    "    with open(filename, \"w\", newline=\"\") as csvfile:\n",
    "        csvw = csv.writer(\n",
    "            csvfile, delimiter=\",\", quotechar=\"|\", quoting=csv.QUOTE_MINIMAL\n",
    "        )\n",
    "        csvw.writerow(header)\n",
    "        for d in data:\n",
    "            csvw.writerow(d)"
   ]
  },
  {
   "cell_type": "code",
   "execution_count": 2,
   "id": "a062a6df-1acb-4e3b-bde7-0b9007a9e078",
   "metadata": {
    "execution": {
     "iopub.execute_input": "2024-01-10T16:27:46.871071Z",
     "iopub.status.busy": "2024-01-10T16:27:46.870792Z",
     "iopub.status.idle": "2024-01-10T16:27:46.876335Z",
     "shell.execute_reply": "2024-01-10T16:27:46.875326Z"
    },
    "jupyter": {
     "source_hidden": true
    },
    "papermill": {
     "duration": 0.015327,
     "end_time": "2024-01-10T16:27:46.879559",
     "exception": false,
     "start_time": "2024-01-10T16:27:46.864232",
     "status": "completed"
    },
    "tags": []
   },
   "outputs": [],
   "source": [
    "def get_media_frame_from_seeds(seed,memefile,outfile):\n",
    "    dump = [ ]\n",
    "    with open(seed) as csvfile:\n",
    "        urls = reader(csvfile)\n",
    "        with open(memefile) as memes:\n",
    "            data = json.load(memes)\n",
    "            for row in urls:\n",
    "                for i in data:\n",
    "                    if (i['url'] == row[1]):\n",
    "                        dump.append(i)\n",
    "    save2json(outfile,dump)"
   ]
  },
  {
   "cell_type": "code",
   "execution_count": 3,
   "id": "2ff6b7fe-42dc-4119-b607-b22691f1eb8b",
   "metadata": {
    "execution": {
     "iopub.execute_input": "2024-01-10T16:27:46.887624Z",
     "iopub.status.busy": "2024-01-10T16:27:46.887241Z",
     "iopub.status.idle": "2024-01-10T16:27:46.925901Z",
     "shell.execute_reply": "2024-01-10T16:27:46.924843Z"
    },
    "jupyter": {
     "source_hidden": true
    },
    "papermill": {
     "duration": 0.046965,
     "end_time": "2024-01-10T16:27:46.929487",
     "exception": false,
     "start_time": "2024-01-10T16:27:46.882522",
     "status": "completed"
    },
    "tags": []
   },
   "outputs": [],
   "source": [
    "get_media_frame_from_seeds('/opt/airflow/notebooks/baseData/seeds.to.kym.media.frames.csv','/opt/airflow/notebooks/data/kym.media.frames.json','/opt/airflow/notebooks/data/kym.seed.media.frames.json')"
   ]
  }
 ],
 "metadata": {
  "kernelspec": {
   "display_name": "Python 3 (ipykernel)",
   "language": "python",
   "name": "python3"
  },
  "language_info": {
   "codemirror_mode": {
    "name": "ipython",
    "version": 3
   },
   "file_extension": ".py",
   "mimetype": "text/x-python",
   "name": "python",
   "nbconvert_exporter": "python",
   "pygments_lexer": "ipython3",
   "version": "3.8.18"
  },
  "papermill": {
   "default_parameters": {},
   "duration": 2.117393,
   "end_time": "2024-01-10T16:27:47.255705",
   "environment_variables": {},
   "exception": null,
   "input_path": "/opt/airflow/notebooks/Extract_Seed.ipynb",
   "output_path": "/opt/airflow/notebooks/Extract_Seed.ipynb",
   "parameters": {},
   "start_time": "2024-01-10T16:27:45.138312",
   "version": "2.5.0"
  }
 },
 "nbformat": 4,
 "nbformat_minor": 5
}