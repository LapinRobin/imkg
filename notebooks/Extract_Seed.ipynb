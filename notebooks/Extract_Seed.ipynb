{
 "cells": [
  {
   "cell_type": "code",
   "execution_count": 1,
   "id": "70cee2cc-69da-473e-9e6f-6fcb788382e3",
   "metadata": {
    "execution": {
     "iopub.execute_input": "2024-01-10T14:34:17.286334Z",
     "iopub.status.busy": "2024-01-10T14:34:17.285943Z",
     "iopub.status.idle": "2024-01-10T14:34:17.631422Z",
     "shell.execute_reply": "2024-01-10T14:34:17.630581Z"
    },
    "jupyter": {
     "source_hidden": true
    },
    "papermill": {
     "duration": 0.351969,
     "end_time": "2024-01-10T14:34:17.633024",
     "exception": false,
     "start_time": "2024-01-10T14:34:17.281055",
     "status": "completed"
    },
    "tags": []
   },
   "outputs": [],
   "source": [
    "import pandas as pd\n",
    "\n",
    "import json, csv\n",
    "from csv import writer, reader\n",
    "import os\n",
    "\n",
    "def save2json(filename, dump):\n",
    "    out_file = open(filename, \"w\")\n",
    "    json.dump(dump, out_file, indent=6)\n",
    "    out_file.close()\n",
    "\n",
    "\n",
    "def save2csv(filename, header, data):\n",
    "    with open(filename, \"w\", newline=\"\") as csvfile:\n",
    "        csvw = csv.writer(\n",
    "            csvfile, delimiter=\",\", quotechar=\"|\", quoting=csv.QUOTE_MINIMAL\n",
    "        )\n",
    "        csvw.writerow(header)\n",
    "        for d in data:\n",
    "            csvw.writerow(d)"
   ]
  },
  {
   "cell_type": "code",
   "execution_count": 2,
   "id": "a062a6df-1acb-4e3b-bde7-0b9007a9e078",
   "metadata": {
    "execution": {
     "iopub.execute_input": "2024-01-10T14:34:17.637244Z",
     "iopub.status.busy": "2024-01-10T14:34:17.636847Z",
     "iopub.status.idle": "2024-01-10T14:34:17.642267Z",
     "shell.execute_reply": "2024-01-10T14:34:17.641306Z"
    },
    "jupyter": {
     "source_hidden": true
    },
    "papermill": {
     "duration": 0.009233,
     "end_time": "2024-01-10T14:34:17.643866",
     "exception": false,
     "start_time": "2024-01-10T14:34:17.634633",
     "status": "completed"
    },
    "tags": []
   },
   "outputs": [],
   "source": [
    "def get_media_frame_from_seeds(seed,memefile,outfile):\n",
    "    dump = [ ]\n",
    "    with open(seed) as csvfile:\n",
    "        urls = reader(csvfile)\n",
    "        with open(memefile) as memes:\n",
    "            data = json.load(memes)\n",
    "            for row in urls:\n",
    "                for i in data:\n",
    "                    if (i['url'] == row[1]):\n",
    "                        dump.append(i)\n",
    "    save2json(outfile,dump)"
   ]
  },
  {
   "cell_type": "code",
   "execution_count": 3,
   "id": "2ff6b7fe-42dc-4119-b607-b22691f1eb8b",
   "metadata": {
    "execution": {
     "iopub.execute_input": "2024-01-10T14:34:17.648418Z",
     "iopub.status.busy": "2024-01-10T14:34:17.647373Z",
     "iopub.status.idle": "2024-01-10T14:34:17.717466Z",
     "shell.execute_reply": "2024-01-10T14:34:17.716453Z"
    },
    "jupyter": {
     "source_hidden": true
    },
    "papermill": {
     "duration": 0.075328,
     "end_time": "2024-01-10T14:34:17.720343",
     "exception": false,
     "start_time": "2024-01-10T14:34:17.645015",
     "status": "completed"
    },
    "tags": []
   },
   "outputs": [],
   "source": [
    "get_media_frame_from_seeds('/opt/airflow/notebooks/baseData/seeds.to.kym.media.frames.csv','/opt/airflow/notebooks/data/kym.media.frames.json','/opt/airflow/notebooks/data/kym.seed.media.frames.json')"
   ]
  }
 ],
 "metadata": {
  "kernelspec": {
   "display_name": "Python 3 (ipykernel)",
   "language": "python",
   "name": "python3"
  },
  "language_info": {
   "codemirror_mode": {
    "name": "ipython",
    "version": 3
   },
   "file_extension": ".py",
   "mimetype": "text/x-python",
   "name": "python",
   "nbconvert_exporter": "python",
   "pygments_lexer": "ipython3",
   "version": "3.8.18"
  },
  "papermill": {
   "default_parameters": {},
   "duration": 2.302517,
   "end_time": "2024-01-10T14:34:17.941902",
   "environment_variables": {},
   "exception": null,
   "input_path": "/opt/airflow/notebooks/Extract_Seed.ipynb",
   "output_path": "/opt/airflow/notebooks/Extract_Seed.ipynb",
   "parameters": {},
   "start_time": "2024-01-10T14:34:15.639385",
   "version": "2.5.0"
  }
 },
 "nbformat": 4,
 "nbformat_minor": 5
}