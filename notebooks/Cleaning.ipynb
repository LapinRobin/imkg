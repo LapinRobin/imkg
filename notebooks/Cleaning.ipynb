{
 "cells": [
  {
   "cell_type": "code",
   "execution_count": 1,
   "id": "430872ff-3cb8-4959-b268-25bdb1ed88d3",
   "metadata": {
    "execution": {
     "iopub.execute_input": "2023-11-21T09:41:31.306750Z",
     "iopub.status.busy": "2023-11-21T09:41:31.306485Z",
     "iopub.status.idle": "2023-11-21T09:41:39.800297Z",
     "shell.execute_reply": "2023-11-21T09:41:39.798541Z"
    },
    "jupyter": {
     "source_hidden": true
    },
    "papermill": {
     "duration": 8.505272,
     "end_time": "2023-11-21T09:41:39.803372",
     "exception": false,
     "start_time": "2023-11-21T09:41:31.298100",
     "status": "completed"
    },
    "tags": []
   },
   "outputs": [
    {
     "name": "stdout",
     "output_type": "stream",
     "text": [
      "\u001b[33mWARNING: The directory '/home/airflow/.cache/pip' or its parent directory is not owned or is not writable by the current user. The cache has been disabled. Check the permissions and owner of that directory. If executing pip with sudo, you should use sudo's -H flag.\u001b[0m\u001b[33m\r\n",
      "\u001b[0mDefaulting to user installation because normal site-packages is not writeable\r\n"
     ]
    },
    {
     "name": "stdout",
     "output_type": "stream",
     "text": [
      "Requirement already satisfied: psycopg2-binary in /home/airflow/.local/lib/python3.8/site-packages (2.9.9)\r\n",
      "Requirement already satisfied: pandas in /home/airflow/.local/lib/python3.8/site-packages (2.0.3)\r\n"
     ]
    },
    {
     "name": "stdout",
     "output_type": "stream",
     "text": [
      "Requirement already satisfied: numpy>=1.20.3 in /home/airflow/.local/lib/python3.8/site-packages (from pandas) (1.24.4)\r\n",
      "Requirement already satisfied: pytz>=2020.1 in /home/airflow/.local/lib/python3.8/site-packages (from pandas) (2023.3.post1)\r\n",
      "Requirement already satisfied: tzdata>=2022.1 in /home/airflow/.local/lib/python3.8/site-packages (from pandas) (2023.3)\r\n",
      "Requirement already satisfied: python-dateutil>=2.8.2 in /home/airflow/.local/lib/python3.8/site-packages (from pandas) (2.8.2)\r\n",
      "Requirement already satisfied: six>=1.5 in /home/airflow/.local/lib/python3.8/site-packages (from python-dateutil>=2.8.2->pandas) (1.16.0)\r\n"
     ]
    },
    {
     "name": "stdout",
     "output_type": "stream",
     "text": [
      "\r\n",
      "\u001b[1m[\u001b[0m\u001b[34;49mnotice\u001b[0m\u001b[1;39;49m]\u001b[0m\u001b[39;49m A new release of pip is available: \u001b[0m\u001b[31;49m23.0.1\u001b[0m\u001b[39;49m -> \u001b[0m\u001b[32;49m23.3.1\u001b[0m\r\n",
      "\u001b[1m[\u001b[0m\u001b[34;49mnotice\u001b[0m\u001b[1;39;49m]\u001b[0m\u001b[39;49m To update, run: \u001b[0m\u001b[32;49mpip install --upgrade pip\u001b[0m\r\n"
     ]
    }
   ],
   "source": [
    "!pip install psycopg2-binary pandas"
   ]
  },
  {
   "cell_type": "code",
   "execution_count": 2,
   "id": "e5933520-aa83-466b-a668-92578487ef9b",
   "metadata": {
    "execution": {
     "iopub.execute_input": "2023-11-21T09:41:39.814355Z",
     "iopub.status.busy": "2023-11-21T09:41:39.813139Z",
     "iopub.status.idle": "2023-11-21T09:41:40.262923Z",
     "shell.execute_reply": "2023-11-21T09:41:40.262104Z"
    },
    "jupyter": {
     "source_hidden": true
    },
    "papermill": {
     "duration": 0.457916,
     "end_time": "2023-11-21T09:41:40.265502",
     "exception": false,
     "start_time": "2023-11-21T09:41:39.807586",
     "status": "completed"
    },
    "tags": []
   },
   "outputs": [],
   "source": [
    "import pandas as pd\n",
    "\n",
    "import json, csv\n",
    "from csv import writer, reader\n",
    "import os\n",
    "\n",
    "def save2json(filename, dump):\n",
    "    out_file = open(filename, \"w\")\n",
    "    json.dump(dump, out_file, indent=6)\n",
    "    out_file.close()\n",
    "\n",
    "\n",
    "def save2csv(filename, header, data):\n",
    "    with open(filename, \"w\", newline=\"\") as csvfile:\n",
    "        csvw = csv.writer(\n",
    "            csvfile, delimiter=\",\", quotechar=\"|\", quoting=csv.QUOTE_MINIMAL\n",
    "        )\n",
    "        csvw.writerow(header)\n",
    "        for d in data:\n",
    "            csvw.writerow(d)\n",
    "\n",
    "def delete_file(filename):\n",
    "    try:\n",
    "        os.remove(filename)\n",
    "        print(f\"File '{filename}' has been deleted.\")\n",
    "    except FileNotFoundError:\n",
    "        print(f\"File '{filename}' not found and cannot be deleted.\")\n",
    "    except Exception as e:\n",
    "        print(f\"An error occurred while deleting the file '{filename}': {str(e)}\")"
   ]
  },
  {
   "cell_type": "code",
   "execution_count": 3,
   "id": "fa6e5ef2-e58a-4d59-ace7-b0ae7a432b3f",
   "metadata": {
    "execution": {
     "iopub.execute_input": "2023-11-21T09:41:40.274492Z",
     "iopub.status.busy": "2023-11-21T09:41:40.274013Z",
     "iopub.status.idle": "2023-11-21T09:41:40.437235Z",
     "shell.execute_reply": "2023-11-21T09:41:40.436032Z"
    },
    "jupyter": {
     "source_hidden": true
    },
    "papermill": {
     "duration": 0.170459,
     "end_time": "2023-11-21T09:41:40.439390",
     "exception": false,
     "start_time": "2023-11-21T09:41:40.268931",
     "status": "completed"
    },
    "tags": []
   },
   "outputs": [
    {
     "name": "stdout",
     "output_type": "stream",
     "text": [
      "File '/opt/airflow/notebooks/data/raw_data.json' has been deleted.\n"
     ]
    }
   ],
   "source": [
    "raw_data = json.load(open(\"/opt/airflow/notebooks/data/raw_data.json\"))\n",
    "df_raw_data = pd.DataFrame(raw_data)\n",
    "delete_file(\"/opt/airflow/notebooks/data/raw_data.json\")\n",
    "\n",
    "raw_media_frames = []\n",
    "metas = []\n",
    "lds = []\n",
    "\n",
    "for index, row in df_raw_data.iterrows():\n",
    "    m = row.to_dict()\n",
    "\n",
    "    if (\n",
    "        \"sites\" in m[\"url\"]\n",
    "        or \"culture\" in m[\"url\"]\n",
    "        or \"subculture\" in m[\"url\"]\n",
    "        or \"event\" in m[\"url\"]\n",
    "        or \"people\" in m[\"url\"]\n",
    "        or \"type\" in m[\"url\"]\n",
    "    ):\n",
    "        continue\n",
    "    if (\n",
    "        \"content\" in m\n",
    "        and \"about\" in m[\"content\"]\n",
    "        and \"text\" in m[\"content\"][\"about\"]\n",
    "    ):\n",
    "        m[\"content\"][\"about\"][\"fulltext\"] = \"\".join(m[\"content\"][\"about\"][\"text\"])\n",
    "    if (\n",
    "        \"content\" in m\n",
    "        and \"origin\" in m[\"content\"]\n",
    "        and \"text\" in m[\"content\"][\"origin\"]\n",
    "    ):\n",
    "        m[\"content\"][\"origin\"][\"fulltext\"] = \"\".join(m[\"content\"][\"origin\"][\"text\"])\n",
    "    if (\n",
    "        \"content\" in m\n",
    "        and \"spread\" in m[\"content\"]\n",
    "        and \"text\" in m[\"content\"][\"spread\"]\n",
    "    ):\n",
    "        m[\"content\"][\"spread\"][\"fulltext\"] = \"\".join(m[\"content\"][\"spread\"][\"text\"])\n",
    "    if (\n",
    "        \"content\" in m\n",
    "        and \"subsection\" in m[\"content\"]\n",
    "        and \"text\" in m[\"content\"][\"subsection\"]\n",
    "    ):\n",
    "        m[\"content\"][\"subsection\"][\"fulltext\"] = \"\".join(\n",
    "            m[\"content\"][\"subsection\"][\"text\"]\n",
    "        )\n",
    "    if \"meta\" in m:\n",
    "        metas.append(m.pop(\"meta\", None))\n",
    "    if \"ld\" in m:\n",
    "        lds.append(m.pop(\"ld\", None))\n",
    "\n",
    "    raw_media_frames.append(m)\n",
    "\n",
    "save2json(\"/opt/airflow/notebooks/data/kym.media.frames.meta.json\", metas)\n",
    "\n",
    "save2json(\"/opt/airflow/notebooks/data/kym.media.frames.ls.json\", lds)\n",
    "\n",
    "save2json(\"/opt/airflow/notebooks/data/kym.media.frames.json\", raw_media_frames)\n",
    "\n",
    "save2csv(\n",
    "    \"/opt/airflow/notebooks/data/kym.media.frames.csv\",\n",
    "    [\"title\", \"meme\"],\n",
    "    [[m[\"title\"], m[\"url\"]] for m in raw_media_frames],\n",
    ")"
   ]
  },
  {
   "cell_type": "code",
   "execution_count": null,
   "id": "eb75fec4-536c-4c96-a4be-c0b152762dd4",
   "metadata": {
    "jupyter": {
     "source_hidden": true
    },
    "papermill": {
     "duration": 0.001439,
     "end_time": "2023-11-21T09:41:40.442448",
     "exception": false,
     "start_time": "2023-11-21T09:41:40.441009",
     "status": "completed"
    },
    "tags": []
   },
   "outputs": [],
   "source": []
  }
 ],
 "metadata": {
  "kernelspec": {
   "display_name": "Python 3 (ipykernel)",
   "language": "python",
   "name": "python3"
  },
  "language_info": {
   "codemirror_mode": {
    "name": "ipython",
    "version": 3
   },
   "file_extension": ".py",
   "mimetype": "text/x-python",
   "name": "python",
   "nbconvert_exporter": "python",
   "pygments_lexer": "ipython3",
   "version": "3.8.18"
  },
  "papermill": {
   "default_parameters": {},
   "duration": 11.751479,
   "end_time": "2023-11-21T09:41:40.764592",
   "environment_variables": {},
   "exception": null,
   "input_path": "/opt/airflow/notebooks/Cleaning.ipynb",
   "output_path": "/opt/airflow/notebooks/Cleaning.ipynb",
   "parameters": {},
   "start_time": "2023-11-21T09:41:29.013113",
   "version": "2.5.0"
  }
 },
 "nbformat": 4,
 "nbformat_minor": 5
}