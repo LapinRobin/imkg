{
 "cells": [
  {
   "cell_type": "markdown",
   "id": "brazilian-cookie",
   "metadata": {},
   "source": [
    "# Analysis and Visualization"
   ]
  },
  {
   "cell_type": "markdown",
   "id": "answering-monitor",
   "metadata": {},
   "source": [
    "Let's create a visualization of a single meme:"
   ]
  },
  {
   "cell_type": "markdown",
   "id": "occupational-toddler",
   "metadata": {},
   "source": [
    "## 0. Setup"
   ]
  },
  {
   "cell_type": "code",
   "execution_count": 1,
   "id": "korean-trunk",
   "metadata": {},
   "outputs": [],
   "source": [
    "import os\n",
    "import os.path\n",
    "\n",
    "from kgtk.configure_kgtk_notebooks import ConfigureKGTK\n",
    "from kgtk.functions import kgtk, kypher"
   ]
  },
  {
   "cell_type": "code",
   "execution_count": 2,
   "id": "delayed-radiation",
   "metadata": {},
   "outputs": [],
   "source": [
    "# Parameters\n",
    "\n",
    "# Folders on local machine where to create the output and temporary files:\n",
    "input_path = \"wikidata\"\n",
    "output_path = \"projects\"\n",
    "project_name = \"tutorial-kypher\""
   ]
  },
  {
   "cell_type": "code",
   "execution_count": 3,
   "id": "metric-grenada",
   "metadata": {},
   "outputs": [
    {
     "name": "stdout",
     "output_type": "stream",
     "text": [
      "User home: /Users/filipilievski\n",
      "Current dir: /Users/filipilievski/mcs/imkg\n",
      "KGTK dir: /Users/filipilievski/mcs\n",
      "Use-cases dir: /Users/filipilievski/mcs/use-cases\n"
     ]
    }
   ],
   "source": [
    "big_files=[\"label\"]\n",
    "\n",
    "additional_files = {\n",
    "    \"P31\": \"derived.P31.tsv.gz\",\n",
    "    \"items\": \"claims.wikibase-item.tsv.gz\",\n",
    "    \"P1963\": \"derived.P1963computed.count.star.tsv.gz\",\n",
    "    \"external\": \"claims.external-id.tsv.gz\",\n",
    "    \"indegree\": \"metadata.in_degree.tsv.gz\",\n",
    "    \"outdegree\": \"metadata.out_degree.tsv.gz\",\n",
    "    \"pagerank\": \"metadata.pagerank.directed.tsv.gz\"\n",
    "}\n",
    "\n",
    "ck = ConfigureKGTK(big_files)\n",
    "ck.configure_kgtk(input_graph_path=input_path, \n",
    "                  output_path=output_path, \n",
    "                  project_name=project_name,\n",
    "                  additional_files=additional_files)"
   ]
  },
  {
   "cell_type": "code",
   "execution_count": 4,
   "id": "sorted-notebook",
   "metadata": {},
   "outputs": [
    {
     "name": "stdout",
     "output_type": "stream",
     "text": [
      "KGTK_OPTION_DEBUG: false\n",
      "GRAPH: wikidata\n",
      "KGTK_LABEL_FILE: wikidata/labels.en.tsv.gz\n",
      "kypher: kgtk query --graph-cache projects/tutorial-kypher/temp.tutorial-kypher/wikidata.sqlite3.db\n",
      "KGTK_GRAPH_CACHE: projects/tutorial-kypher/temp.tutorial-kypher/wikidata.sqlite3.db\n",
      "OUT: projects/tutorial-kypher\n",
      "EXAMPLES_DIR: /Users/filipilievski/mcs/examples\n",
      "TEMP: projects/tutorial-kypher/temp.tutorial-kypher\n",
      "STORE: projects/tutorial-kypher/temp.tutorial-kypher/wikidata.sqlite3.db\n",
      "kgtk: kgtk\n",
      "USE_CASES_DIR: /Users/filipilievski/mcs/use-cases\n",
      "label: wikidata/labels.en.tsv.gz\n",
      "P31: wikidata/derived.P31.tsv.gz\n",
      "items: wikidata/claims.wikibase-item.tsv.gz\n",
      "P1963: wikidata/derived.P1963computed.count.star.tsv.gz\n",
      "external: wikidata/claims.external-id.tsv.gz\n",
      "indegree: wikidata/metadata.in_degree.tsv.gz\n",
      "outdegree: wikidata/metadata.out_degree.tsv.gz\n",
      "pagerank: wikidata/metadata.pagerank.directed.tsv.gz\n"
     ]
    }
   ],
   "source": [
    "ck.print_env_variables()"
   ]
  },
  {
   "cell_type": "code",
   "execution_count": 134,
   "id": "universal-tours",
   "metadata": {},
   "outputs": [],
   "source": [
    "!kgtk query -i $TEMP/templates.kgtk.gz \\\n",
    "            --match '(:`kym:distracted-boyfriend`)-[r]->()' \\\n",
    "            --where 'r.label in [\"kym:parent\", \"kym:year\", \"rdf:type\", \"m4s:fromAbout\", \"m4s:fromTags\"]' \\\n",
    "            -o $TEMP/db_subject.kgtk.gz"
   ]
  },
  {
   "cell_type": "markdown",
   "id": "grateful-partition",
   "metadata": {},
   "source": [
    "Create node file:"
   ]
  },
  {
   "cell_type": "code",
   "execution_count": 135,
   "id": "comprehensive-paradise",
   "metadata": {},
   "outputs": [],
   "source": [
    "!kgtk query -i $label -i $TEMP/templates.kgtk.gz \\\n",
    "            --match 'templates: ()-[]->(n), \\\n",
    "                label: (n)-[r]->(l)' \\\n",
    "            --return 'n as node1, r.label as label, l as node2' / deduplicate \\\n",
    "            -o $TEMP/labelfile.kgtk.gz "
   ]
  },
  {
   "cell_type": "code",
   "execution_count": 136,
   "id": "undefined-drink",
   "metadata": {},
   "outputs": [],
   "source": [
    "!kgtk query -i $TEMP/labelfile.kgtk.gz -i $TEMP/db_subject.kgtk.gz \\\n",
    "            --match 'db: ()-[]->(n), \\\n",
    "                label: (n)-[r]->(l)' \\\n",
    "            --return 'n as id, l as label' / deduplicate \\\n",
    "            -o $TEMP/nodefile.kgtk.gz "
   ]
  },
  {
   "cell_type": "code",
   "execution_count": 137,
   "id": "peripheral-scientist",
   "metadata": {},
   "outputs": [
    {
     "data": {
      "text/html": [
       "<div>\n",
       "<style scoped>\n",
       "    .dataframe tbody tr th:only-of-type {\n",
       "        vertical-align: middle;\n",
       "    }\n",
       "\n",
       "    .dataframe tbody tr th {\n",
       "        vertical-align: top;\n",
       "    }\n",
       "\n",
       "    .dataframe thead th {\n",
       "        text-align: right;\n",
       "    }\n",
       "</style>\n",
       "<table border=\"1\" class=\"dataframe\">\n",
       "  <thead>\n",
       "    <tr style=\"text-align: right;\">\n",
       "      <th></th>\n",
       "      <th>id</th>\n",
       "      <th>label</th>\n",
       "    </tr>\n",
       "  </thead>\n",
       "  <tbody>\n",
       "    <tr>\n",
       "      <th>0</th>\n",
       "      <td>Q1634416</td>\n",
       "      <td>'stock photography'@en</td>\n",
       "    </tr>\n",
       "    <tr>\n",
       "      <th>1</th>\n",
       "      <td>Q225613</td>\n",
       "      <td>'iStockphoto'@en</td>\n",
       "    </tr>\n",
       "    <tr>\n",
       "      <th>2</th>\n",
       "      <td>Q2920963</td>\n",
       "      <td>'stew'@en</td>\n",
       "    </tr>\n",
       "    <tr>\n",
       "      <th>3</th>\n",
       "      <td>Q6002242</td>\n",
       "      <td>'image macro'@en</td>\n",
       "    </tr>\n",
       "    <tr>\n",
       "      <th>4</th>\n",
       "      <td>Q622404</td>\n",
       "      <td>'boyfriend'@en</td>\n",
       "    </tr>\n",
       "  </tbody>\n",
       "</table>\n",
       "</div>"
      ],
      "text/plain": [
       "         id                   label\n",
       "0  Q1634416  'stock photography'@en\n",
       "1   Q225613        'iStockphoto'@en\n",
       "2  Q2920963               'stew'@en\n",
       "3  Q6002242        'image macro'@en\n",
       "4   Q622404          'boyfriend'@en"
      ]
     },
     "execution_count": 137,
     "metadata": {},
     "output_type": "execute_result"
    }
   ],
   "source": [
    "kgtk('''\n",
    "    cat -i $TEMP/nodefile.kgtk.gz\n",
    "''')"
   ]
  },
  {
   "cell_type": "code",
   "execution_count": 138,
   "id": "ancient-cleaner",
   "metadata": {},
   "outputs": [
    {
     "data": {
      "text/html": [
       "<div>\n",
       "<style scoped>\n",
       "    .dataframe tbody tr th:only-of-type {\n",
       "        vertical-align: middle;\n",
       "    }\n",
       "\n",
       "    .dataframe tbody tr th {\n",
       "        vertical-align: top;\n",
       "    }\n",
       "\n",
       "    .dataframe thead th {\n",
       "        text-align: right;\n",
       "    }\n",
       "</style>\n",
       "<table border=\"1\" class=\"dataframe\">\n",
       "  <thead>\n",
       "    <tr style=\"text-align: right;\">\n",
       "      <th></th>\n",
       "      <th>node1</th>\n",
       "      <th>label</th>\n",
       "      <th>node2</th>\n",
       "    </tr>\n",
       "  </thead>\n",
       "  <tbody>\n",
       "    <tr>\n",
       "      <th>0</th>\n",
       "      <td>kym:distracted-boyfriend</td>\n",
       "      <td>kym:parent</td>\n",
       "      <td>kym:object-labeling</td>\n",
       "    </tr>\n",
       "    <tr>\n",
       "      <th>1</th>\n",
       "      <td>kym:distracted-boyfriend</td>\n",
       "      <td>kym:year</td>\n",
       "      <td>2017</td>\n",
       "    </tr>\n",
       "    <tr>\n",
       "      <th>2</th>\n",
       "      <td>kym:distracted-boyfriend</td>\n",
       "      <td>m4s:fromAbout</td>\n",
       "      <td>Q1634416</td>\n",
       "    </tr>\n",
       "    <tr>\n",
       "      <th>3</th>\n",
       "      <td>kym:distracted-boyfriend</td>\n",
       "      <td>m4s:fromAbout</td>\n",
       "      <td>Q622404</td>\n",
       "    </tr>\n",
       "    <tr>\n",
       "      <th>4</th>\n",
       "      <td>kym:distracted-boyfriend</td>\n",
       "      <td>m4s:fromTags</td>\n",
       "      <td>Q1634416</td>\n",
       "    </tr>\n",
       "    <tr>\n",
       "      <th>5</th>\n",
       "      <td>kym:distracted-boyfriend</td>\n",
       "      <td>m4s:fromTags</td>\n",
       "      <td>Q225613</td>\n",
       "    </tr>\n",
       "    <tr>\n",
       "      <th>6</th>\n",
       "      <td>kym:distracted-boyfriend</td>\n",
       "      <td>m4s:fromTags</td>\n",
       "      <td>Q2920963</td>\n",
       "    </tr>\n",
       "    <tr>\n",
       "      <th>7</th>\n",
       "      <td>kym:distracted-boyfriend</td>\n",
       "      <td>m4s:fromTags</td>\n",
       "      <td>Q6002242</td>\n",
       "    </tr>\n",
       "    <tr>\n",
       "      <th>8</th>\n",
       "      <td>kym:distracted-boyfriend</td>\n",
       "      <td>rdf:type</td>\n",
       "      <td>kym:Meme</td>\n",
       "    </tr>\n",
       "    <tr>\n",
       "      <th>9</th>\n",
       "      <td>kym:distracted-boyfriend</td>\n",
       "      <td>rdf:type</td>\n",
       "      <td>kymt:image-macro</td>\n",
       "    </tr>\n",
       "    <tr>\n",
       "      <th>10</th>\n",
       "      <td>kym:distracted-boyfriend</td>\n",
       "      <td>rdf:type</td>\n",
       "      <td>kymt:photoshop</td>\n",
       "    </tr>\n",
       "  </tbody>\n",
       "</table>\n",
       "</div>"
      ],
      "text/plain": [
       "                       node1          label                node2\n",
       "0   kym:distracted-boyfriend     kym:parent  kym:object-labeling\n",
       "1   kym:distracted-boyfriend       kym:year                 2017\n",
       "2   kym:distracted-boyfriend  m4s:fromAbout             Q1634416\n",
       "3   kym:distracted-boyfriend  m4s:fromAbout              Q622404\n",
       "4   kym:distracted-boyfriend   m4s:fromTags             Q1634416\n",
       "5   kym:distracted-boyfriend   m4s:fromTags              Q225613\n",
       "6   kym:distracted-boyfriend   m4s:fromTags             Q2920963\n",
       "7   kym:distracted-boyfriend   m4s:fromTags             Q6002242\n",
       "8   kym:distracted-boyfriend       rdf:type             kym:Meme\n",
       "9   kym:distracted-boyfriend       rdf:type     kymt:image-macro\n",
       "10  kym:distracted-boyfriend       rdf:type       kymt:photoshop"
      ]
     },
     "execution_count": 138,
     "metadata": {},
     "output_type": "execute_result"
    }
   ],
   "source": [
    "kgtk('''\n",
    "    cat -i $TEMP/db_subject.kgtk.gz\n",
    "''')"
   ]
  },
  {
   "cell_type": "code",
   "execution_count": 141,
   "id": "national-citizenship",
   "metadata": {},
   "outputs": [],
   "source": [
    "kgtk(\"\"\"visualize-graph \n",
    "        -i $TEMP/db_subject.kgtk.gz\n",
    "        --node-file $TEMP/nodefile.kgtk.gz\n",
    "        --show-text above\n",
    "        --tooltip-column label\n",
    "        --direction arrow\n",
    "        --edge-color-column label\n",
    "        --edge-color-style d3.schemeDark2\n",
    "        -o distracted.graph.html\"\"\")"
   ]
  },
  {
   "cell_type": "code",
   "execution_count": 128,
   "id": "authorized-haven",
   "metadata": {},
   "outputs": [
    {
     "name": "stdout",
     "output_type": "stream",
     "text": [
      "<https://knowyourmeme.com/memes/one-does-not-simply-walk-into-mordor> <https://meme4.science/fromTags> <https://www.wikidata.org/wiki/Q219504> .\n",
      "<https://knowyourmeme.com/memes/one-does-not-simply-walk-into-mordor> <https://meme4.science/fromTags> <https://www.wikidata.org/wiki/Q4465> .\n",
      "<https://knowyourmeme.com/memes/one-does-not-simply-walk-into-mordor> <https://meme4.science/fromTags> <https://www.wikidata.org/wiki/Q2338287> .\n",
      "<https://knowyourmeme.com/memes/one-does-not-simply-walk-into-mordor> <https://meme4.science/fromTags> <https://www.wikidata.org/wiki/Q132311> .\n",
      "<https://knowyourmeme.com/memes/one-does-not-simply-walk-into-mordor> <https://meme4.science/fromTags> <https://www.wikidata.org/wiki/Q202886> .\n",
      "<https://knowyourmeme.com/memes/one-does-not-simply-walk-into-mordor> <https://meme4.science/fromTags> <https://www.wikidata.org/wiki/Q15228> .\n",
      "<https://knowyourmeme.com/memes/one-does-not-simply-walk-into-mordor> <https://meme4.science/fromTags> <https://www.wikidata.org/wiki/Q131265> .\n",
      "<https://knowyourmeme.com/memes/one-does-not-simply-walk-into-mordor> <https://meme4.science/fromTags> <https://www.wikidata.org/wiki/Q7188068> .\n",
      "<https://knowyourmeme.com/memes/one-does-not-simply-walk-into-mordor> <https://meme4.science/fromTags> <https://www.wikidata.org/wiki/Q111658718> .\n",
      "<https://knowyourmeme.com/memes/one-does-not-simply-walk-into-mordor> <https://meme4.science/fromTags> <https://www.wikidata.org/wiki/Q2708515> .\n",
      "<https://knowyourmeme.com/memes/one-does-not-simply-walk-into-mordor> <https://meme4.science/fromTags> <https://www.wikidata.org/wiki/Q892> .\n"
     ]
    }
   ],
   "source": [
    "!grep 'mordor' imkg02/templates.kym.nt"
   ]
  },
  {
   "cell_type": "markdown",
   "id": "portuguese-worcester",
   "metadata": {},
   "source": [
    "Issue: graph seems to be missing crucial information!\n",
    "\n",
    "Next step: improve the node file to include colors for relations"
   ]
  },
  {
   "cell_type": "code",
   "execution_count": null,
   "id": "adverse-pricing",
   "metadata": {},
   "outputs": [],
   "source": []
  }
 ],
 "metadata": {
  "kernelspec": {
   "display_name": "Python 3",
   "language": "python",
   "name": "python3"
  },
  "language_info": {
   "codemirror_mode": {
    "name": "ipython",
    "version": 3
   },
   "file_extension": ".py",
   "mimetype": "text/x-python",
   "name": "python",
   "nbconvert_exporter": "python",
   "pygments_lexer": "ipython3",
   "version": "3.8.5"
  }
 },
 "nbformat": 4,
 "nbformat_minor": 5
}
