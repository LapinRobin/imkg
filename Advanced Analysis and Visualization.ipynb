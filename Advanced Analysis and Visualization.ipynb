{
 "cells": [
  {
   "cell_type": "markdown",
   "id": "peripheral-gather",
   "metadata": {},
   "source": [
    "# Analysis and Visualization"
   ]
  },
  {
   "cell_type": "markdown",
   "id": "registered-speaker",
   "metadata": {},
   "source": [
    "Let's create a visualization of a single meme:"
   ]
  },
  {
   "cell_type": "markdown",
   "id": "architectural-chinese",
   "metadata": {},
   "source": [
    "## 0. Setup"
   ]
  },
  {
   "cell_type": "code",
   "execution_count": 8,
   "id": "clinical-giant",
   "metadata": {},
   "outputs": [],
   "source": [
    "import os\n",
    "import os.path\n",
    "\n",
    "from kgtk.configure_kgtk_notebooks import ConfigureKGTK\n",
    "from kgtk.functions import kgtk, kypher"
   ]
  },
  {
   "cell_type": "code",
   "execution_count": 9,
   "id": "sharp-hardware",
   "metadata": {},
   "outputs": [],
   "source": [
    "# Parameters\n",
    "\n",
    "# Folders on local machine where to create the output and temporary files:\n",
    "input_path = \"wikidata\"\n",
    "output_path = \"projects\"\n",
    "project_name = \"tutorial-kypher\""
   ]
  },
  {
   "cell_type": "code",
   "execution_count": 10,
   "id": "armed-clearance",
   "metadata": {},
   "outputs": [
    {
     "name": "stdout",
     "output_type": "stream",
     "text": [
      "User home: /Users/filipilievski\n",
      "Current dir: /Users/filipilievski/mcs/imkg\n",
      "KGTK dir: /Users/filipilievski/mcs\n",
      "Use-cases dir: /Users/filipilievski/mcs/use-cases\n"
     ]
    }
   ],
   "source": [
    "big_files=[\"label\"]\n",
    "\n",
    "additional_files = {\n",
    "    \"P31\": \"derived.P31.tsv.gz\",\n",
    "    \"items\": \"claims.wikibase-item.tsv.gz\",\n",
    "    \"P1963\": \"derived.P1963computed.count.star.tsv.gz\",\n",
    "    \"external\": \"claims.external-id.tsv.gz\",\n",
    "    \"indegree\": \"metadata.in_degree.tsv.gz\",\n",
    "    \"outdegree\": \"metadata.out_degree.tsv.gz\",\n",
    "    \"pagerank\": \"metadata.pagerank.directed.tsv.gz\"\n",
    "}\n",
    "\n",
    "ck = ConfigureKGTK(big_files)\n",
    "ck.configure_kgtk(input_graph_path=input_path, \n",
    "                  output_path=output_path, \n",
    "                  project_name=project_name,\n",
    "                  additional_files=additional_files)"
   ]
  },
  {
   "cell_type": "code",
   "execution_count": 11,
   "id": "built-better",
   "metadata": {},
   "outputs": [
    {
     "name": "stdout",
     "output_type": "stream",
     "text": [
      "OUT: projects/tutorial-kypher\n",
      "KGTK_LABEL_FILE: wikidata/labels.en.tsv.gz\n",
      "GRAPH: wikidata\n",
      "KGTK_GRAPH_CACHE: projects/tutorial-kypher/temp.tutorial-kypher/wikidata.sqlite3.db\n",
      "kgtk: kgtk\n",
      "USE_CASES_DIR: /Users/filipilievski/mcs/use-cases\n",
      "EXAMPLES_DIR: /Users/filipilievski/mcs/examples\n",
      "KGTK_OPTION_DEBUG: false\n",
      "STORE: projects/tutorial-kypher/temp.tutorial-kypher/wikidata.sqlite3.db\n",
      "kypher: kgtk query --graph-cache projects/tutorial-kypher/temp.tutorial-kypher/wikidata.sqlite3.db\n",
      "TEMP: projects/tutorial-kypher/temp.tutorial-kypher\n",
      "label: wikidata/labels.en.tsv.gz\n",
      "P31: wikidata/derived.P31.tsv.gz\n",
      "items: wikidata/claims.wikibase-item.tsv.gz\n",
      "P1963: wikidata/derived.P1963computed.count.star.tsv.gz\n",
      "external: wikidata/claims.external-id.tsv.gz\n",
      "indegree: wikidata/metadata.in_degree.tsv.gz\n",
      "outdegree: wikidata/metadata.out_degree.tsv.gz\n",
      "pagerank: wikidata/metadata.pagerank.directed.tsv.gz\n"
     ]
    }
   ],
   "source": [
    "ck.print_env_variables()"
   ]
  },
  {
   "cell_type": "markdown",
   "id": "improving-wagner",
   "metadata": {},
   "source": [
    "## 1. Visualize most relations for the Distracted-Boyfriend meme"
   ]
  },
  {
   "cell_type": "code",
   "execution_count": 5,
   "id": "ideal-turning",
   "metadata": {},
   "outputs": [],
   "source": [
    "!kgtk query -i $TEMP/templates.kgtk.gz \\\n",
    "            --match '(:`kym:distracted-boyfriend`)-[r]->()' \\\n",
    "             --where 'r.label in [\"kym:parent\", \"kym:child\", \"kym:year\", \"rdf:type\", \"m4s:fromAbout\", \"m4s:fromTags\", \"m4s:fromImage\"]' \\\n",
    "            -o $TEMP/db_subject.kgtk.gz"
   ]
  },
  {
   "cell_type": "markdown",
   "id": "precise-pasta",
   "metadata": {},
   "source": [
    "Create node file:"
   ]
  },
  {
   "cell_type": "code",
   "execution_count": 6,
   "id": "religious-calgary",
   "metadata": {},
   "outputs": [],
   "source": [
    "!kgtk query -i $TEMP/labelfile.kgtk.gz -i $TEMP/db_subject.kgtk.gz \\\n",
    "            --match 'db: ()-[]->(n), \\\n",
    "                label: (n)-[r]->(l)' \\\n",
    "            --return 'n as id, l as label' / deduplicate \\\n",
    "            -o $TEMP/nodefile.kgtk.gz "
   ]
  },
  {
   "cell_type": "code",
   "execution_count": 9,
   "id": "described-variable",
   "metadata": {},
   "outputs": [],
   "source": [
    "kgtk(\"\"\"visualize-graph \n",
    "        -i $TEMP/db_subject.kgtk.gz\n",
    "        --node-file $TEMP/nodefile.kgtk.gz\n",
    "        --show-text above\n",
    "        --tooltip-column label\n",
    "        --direction arrow\n",
    "        --edge-color-column label\n",
    "        --edge-color-style d3.schemeDark2\n",
    "        -o distracted.graph.html\"\"\")"
   ]
  },
  {
   "cell_type": "markdown",
   "id": "known-behavior",
   "metadata": {},
   "source": [
    "## 2. Visualize children and parents for the TLDR meme"
   ]
  },
  {
   "cell_type": "code",
   "execution_count": 16,
   "id": "hourly-laundry",
   "metadata": {},
   "outputs": [],
   "source": [
    "!kgtk query -i $TEMP/templates.kgtk.gz \\\n",
    "            --match '(n)-[r]->(n2)' \\\n",
    "            --where 'r.label in [\"kym:parent\", \"kym:child\"] and (n=\"kym:tldr\" or n2=\"kym:tldr\")' \\\n",
    "            -o $TEMP/db_subject.kgtk.gz"
   ]
  },
  {
   "cell_type": "code",
   "execution_count": 19,
   "id": "cleared-munich",
   "metadata": {},
   "outputs": [],
   "source": [
    "kgtk(\"\"\"visualize-graph \n",
    "        -i $TEMP/db_subject.kgtk.gz\n",
    "        --show-text above\n",
    "        --tooltip-column label\n",
    "        --direction arrow\n",
    "        --edge-color-column label\n",
    "        --edge-color-style d3.schemeDark2\n",
    "        -o tldr.graph.html\"\"\")"
   ]
  },
  {
   "cell_type": "markdown",
   "id": "accepted-supervisor",
   "metadata": {},
   "source": [
    "## 3. Visualize all sibling relations"
   ]
  },
  {
   "cell_type": "code",
   "execution_count": 20,
   "id": "ranking-confidence",
   "metadata": {},
   "outputs": [],
   "source": [
    "!kgtk query -i $TEMP/templates.kgtk.gz \\\n",
    "            --match '()-[r:`kym:sibling`]->()' \\\n",
    "            -o $TEMP/siblings.kgtk.gz"
   ]
  },
  {
   "cell_type": "code",
   "execution_count": 22,
   "id": "nasty-specification",
   "metadata": {},
   "outputs": [],
   "source": [
    "kgtk(\"\"\"visualize-graph \n",
    "        -i $TEMP/siblings.kgtk.gz\n",
    "        --direction arrow\n",
    "        -o sibling.graph.html\"\"\")"
   ]
  },
  {
   "cell_type": "markdown",
   "id": "current-pasta",
   "metadata": {},
   "source": [
    "## 4. Analyze graph"
   ]
  },
  {
   "cell_type": "code",
   "execution_count": 27,
   "id": "mathematical-salmon",
   "metadata": {},
   "outputs": [],
   "source": [
    "!kgtk cat -i $TEMP/templates.kgtk.gz -i $TEMP/wikidata_memes.kgtk.gz -i $TEMP/wikidata_ent.kgtk.gz -o $TEMP/templates_with_wd.kgtk.gz"
   ]
  },
  {
   "cell_type": "code",
   "execution_count": 28,
   "id": "contrary-legislature",
   "metadata": {},
   "outputs": [
    {
     "name": "stdout",
     "output_type": "stream",
     "text": [
      "\n",
      "(kgtk:7928): Gtk-\u001b[1;33mWARNING\u001b[0m **: \u001b[34m12:51:21.584\u001b[0m: Locale not supported by C library.\n",
      "\tUsing the fallback 'C' locale.\n",
      "objc[7928]: Class GNotificationCenterDelegate is implemented in both /Users/filipilievski/opt/anaconda3/envs/wikiEnv/lib/libgio-2.0.0.dylib (0x19c2b8960) and /usr/local/Cellar/glib/2.72.2/lib/libgio-2.0.0.dylib (0x1b07f66b0). One of the two will be used. Which one is undefined.\n"
     ]
    }
   ],
   "source": [
    "!kgtk graph-statistics \\\n",
    "     -i $TEMP/templates_with_wd.kgtk.gz \\\n",
    "     --log-file $TEMP/meme_summary.txt \\\n",
    "     --output-statistics-only \\\n",
    "     -o $TEMP/meme_stats.tsv"
   ]
  },
  {
   "cell_type": "code",
   "execution_count": 35,
   "id": "finished-ranking",
   "metadata": {},
   "outputs": [
    {
     "name": "stdout",
     "output_type": "stream",
     "text": [
      "graph loaded! It has 32275 nodes and 245720 edges\n",
      "\n",
      "*** Top relations:\n",
      "kym:sibling\t111053\n",
      "m4s:fromImage\t53794\n",
      "kym:tag\t11050\n",
      "m4s:fromAbout\t5403\n",
      "P31\t4419\n",
      "m4s:fromTags\t3733\n",
      "kym:spread\t3070\n",
      "m4s:structured_uri\t2812\n",
      "m4s:structured_value\t2812\n",
      "P279\t2656\n",
      "\n",
      "*** Degrees:\n",
      "in degree stats: mean=7.613323, std=0.212806, max=1\n",
      "out degree stats: mean=7.613323, std=0.181539, max=1\n",
      "total degree stats: mean=15.226646, std=0.329010, max=1\n",
      "\n",
      "*** PageRank\n",
      "Max pageranks\n",
      "28886\thttp://www.w3.org/2001/XMLSchema#timestamp\t0.017156\n",
      "4367\tQ336\t0.012597\n",
      "2089\tQ30\t0.010275\n",
      "18832\tQ151885\t0.008613\n",
      "21912\tQ11862829\t0.007663\n",
      "\n",
      "*** HITS\n",
      "HITS hubs\n",
      "570\tkym:Meme\t0.087287\n",
      "487\t0.5\t0.083497\n",
      "556\tQ2927074\t0.075007\n",
      "561\tQ4868296\t0.070277\n",
      "1159\tkym:lolspeak-chanspeak\t0.064123\n",
      "HITS auth\n",
      "1112\tkym:fap\t0.076770\n",
      "1094\tkym:derp\t0.076497\n",
      "1083\tkym:cool-story-bro\t0.075991\n",
      "1252\tkym:verbose-classy-memes\t0.075928\n",
      "1178\tkym:noice\t0.075895\n"
     ]
    }
   ],
   "source": [
    "!cat $TEMP/meme_summary.txt"
   ]
  },
  {
   "cell_type": "markdown",
   "id": "colonial-concrete",
   "metadata": {},
   "source": [
    "What are the most common relations?"
   ]
  },
  {
   "cell_type": "code",
   "execution_count": 34,
   "id": "thorough-blend",
   "metadata": {},
   "outputs": [],
   "source": [
    "!kgtk query -i $TEMP/templates_with_wd.kgtk.gz \\\n",
    "    --match '(n)-[r]->()' \\\n",
    "    --return 'r.label, count(n) as c' \\\n",
    "    --order-by 'c desc' \\\n",
    "    -o $TEMP/rel_stats.tsv"
   ]
  },
  {
   "cell_type": "markdown",
   "id": "marked-actor",
   "metadata": {},
   "source": [
    "Let's get nodes with highest indegree:"
   ]
  },
  {
   "cell_type": "code",
   "execution_count": 38,
   "id": "starting-thousand",
   "metadata": {},
   "outputs": [
    {
     "name": "stdout",
     "output_type": "stream",
     "text": [
      "node1\tnode2\n",
      "Q277421\t(99),\n",
      "Q9633\t(99),\n",
      "Q42602\t(99),\n",
      "Q712378\t(98),\n",
      "youtube\t(97),\n",
      "Q4868296\t(963),\n",
      "Q42586\t(96),\n",
      "Q56\t(95),\n",
      "catchphrase\t(95),\n",
      "kymt:slang\t(94),\n"
     ]
    }
   ],
   "source": [
    "!kgtk query -i $TEMP/meme_stats.tsv \\\n",
    "    --match '(n1)-[:vertex_in_degree]->(n2)' \\\n",
    "    --return 'n1 as node1, printf(\"(%d),\", n2) as node2' \\\n",
    "    --limit 10 \\\n",
    "    --order-by 'n2 desc'"
   ]
  },
  {
   "cell_type": "markdown",
   "id": "unable-envelope",
   "metadata": {},
   "source": [
    "## 4. Other stuff"
   ]
  },
  {
   "cell_type": "markdown",
   "id": "awful-retrieval",
   "metadata": {},
   "source": [
    "Issue: how are the instances and the templates linked?"
   ]
  },
  {
   "cell_type": "code",
   "execution_count": null,
   "id": "atmospheric-massachusetts",
   "metadata": {},
   "outputs": [],
   "source": []
  }
 ],
 "metadata": {
  "kernelspec": {
   "display_name": "Python 3",
   "language": "python",
   "name": "python3"
  },
  "language_info": {
   "codemirror_mode": {
    "name": "ipython",
    "version": 3
   },
   "file_extension": ".py",
   "mimetype": "text/x-python",
   "name": "python",
   "nbconvert_exporter": "python",
   "pygments_lexer": "ipython3",
   "version": "3.8.5"
  }
 },
 "nbformat": 4,
 "nbformat_minor": 5
}
