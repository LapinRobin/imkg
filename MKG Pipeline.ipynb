{
 "cells": [
  {
   "cell_type": "code",
   "execution_count": 2,
   "id": "5ea35de1-e21b-48ea-9006-4cfb35b34d5e",
   "metadata": {},
   "outputs": [],
   "source": [
    "import json, csv\n",
    "from csv import writer, reader"
   ]
  },
  {
   "cell_type": "markdown",
   "id": "1b101845-d71f-49c5-985f-344651853fbf",
   "metadata": {},
   "source": [
    "# Extracting Data Points classified as Memes"
   ]
  },
  {
   "cell_type": "code",
   "execution_count": 3,
   "id": "e59b39d5-51db-405a-844d-15f44173411b",
   "metadata": {},
   "outputs": [],
   "source": [
    "dump = []\n",
    "\n",
    "with open('kym.json') as data:\n",
    "    memes = json.load(data)\n",
    "    with open('kym.csv', 'w', newline='') as csvfile:\n",
    "        csvw = csv.writer(csvfile, delimiter=',',quotechar='|', quoting=csv.QUOTE_MINIMAL)\n",
    "        csvw.writerow([\"url\",\"title\"])\n",
    "        for m in memes:\n",
    "            if (\"sites\" in m['url'] or \"culture\" in m['url'] or \"subculture\" in m['url'] or \"event\" in m['url'] or \"people\" in m['url'] or \"type\" in m['url']  ):\n",
    "                continue\n",
    "            else:\n",
    "                dump.append(m)\n",
    "                csvw.writerow([m[\"url\"],m[\"title\"]])    "
   ]
  },
  {
   "cell_type": "markdown",
   "id": "10de689e-f7a7-4d20-9ce9-ec4045336cb6",
   "metadata": {},
   "source": [
    "## Saving Memes on file"
   ]
  },
  {
   "cell_type": "code",
   "execution_count": 4,
   "id": "ea1287f3-d259-4aa7-b72a-e6876acb9bdb",
   "metadata": {},
   "outputs": [],
   "source": [
    "out_file = open(\"kym.memes.json\", \"w\")\n",
    "  \n",
    "json.dump(dump, out_file, indent = 6)\n",
    "  \n",
    "out_file.close()"
   ]
  },
  {
   "cell_type": "markdown",
   "id": "7fe06349-2b72-4278-b9bb-5c8043b699c0",
   "metadata": {},
   "source": [
    "# Getting the subset that is present in Wikidata"
   ]
  },
  {
   "cell_type": "code",
   "execution_count": 5,
   "id": "e2050bef-ff7b-4ad0-9eb4-adc5e162f324",
   "metadata": {},
   "outputs": [],
   "source": [
    "dump = [ ]\n",
    "with open('aliases.csv') as csvfile:\n",
    "    urls = reader(csvfile)\n",
    "    with open('kym.memes.json') as memes:\n",
    "        data = json.load(memes)\n",
    "        for row in urls:\n",
    "            for i in data:\n",
    "                if (i['url'] == row[2]):\n",
    "                    dump.append(i)"
   ]
  },
  {
   "cell_type": "markdown",
   "id": "c78c6c1a-5fb4-4f64-aa08-392d85caa056",
   "metadata": {},
   "source": [
    "## Saving File"
   ]
  },
  {
   "cell_type": "code",
   "execution_count": 6,
   "id": "f7595c78-9efc-4078-acd1-ed117f33b473",
   "metadata": {},
   "outputs": [],
   "source": [
    "out_file = open(\"wiki.kym.memes.json\", \"w\")\n",
    "  \n",
    "json.dump(dump, out_file, indent = 6)\n",
    "  \n",
    "out_file.close()"
   ]
  },
  {
   "cell_type": "markdown",
   "id": "0672a5b4-a4d6-4fdf-b751-038a9d5efb38",
   "metadata": {},
   "source": [
    "# Gets Spotlights entities associated to KYM subset from Wikidata"
   ]
  },
  {
   "cell_type": "code",
   "execution_count": 7,
   "id": "2392aa2b-b215-4140-bdaa-461d6ae27cc5",
   "metadata": {},
   "outputs": [],
   "source": [
    "memes_entities = [] \n",
    "with open('aliases.csv') as csvfile:\n",
    "    urls = reader(csvfile)\n",
    "    with open('kym_spotlight.json') as memes:\n",
    "        data = json.load(memes)\n",
    "        for row in urls:\n",
    "            if(row[2] in data.keys()):\n",
    "                newdata = data[row[2]]\n",
    "                newdata['url']=row[2]\n",
    "                if(\"Resources\" in newdata.keys()):\n",
    "                    for r in newdata[\"Resources\"]:\n",
    "                        l = r[\"@types\"].replace(\"DUL:\", \"http://www.loa-cnr.it/ontologies/DOLCE-Lite#\").replace(\"Wikidata:\", \"https://www.wikidata.org/wiki/\").replace(\"Schema:\", \"https://schema.org/\").replace(\"DBpedia:\", \"https://dbpedia.org/ontology/\").split(\",\")\n",
    "                        l = list(filter(None, l))\n",
    "\n",
    "                        r[\"@types\"]=l\n",
    "                memes_entities.append(data[row[2]])"
   ]
  },
  {
   "cell_type": "code",
   "execution_count": 8,
   "id": "ba861215-496f-4bce-9d75-723f1455cbc3",
   "metadata": {},
   "outputs": [],
   "source": [
    "# add a step to convert dbpedia into wikidata entities."
   ]
  },
  {
   "cell_type": "markdown",
   "id": "406f14b2-559a-4932-9875-a3729ca01f67",
   "metadata": {
    "tags": []
   },
   "source": [
    "## Saving into a file"
   ]
  },
  {
   "cell_type": "code",
   "execution_count": 9,
   "id": "3838a588-d56a-4485-80d0-40c91541fe53",
   "metadata": {},
   "outputs": [],
   "source": [
    "out_file = open(\"wiki.kym.spotlight.json\", \"w\")\n",
    "\n",
    "json.dump(memes_entities, out_file, indent = 6) \n",
    "\n",
    "out_file.close()"
   ]
  },
  {
   "cell_type": "markdown",
   "id": "df500a8d-0a6d-477a-a8d5-2ee30c4cd9fa",
   "metadata": {},
   "source": [
    "# Gets Google Vision entities associated to KYM subset from Wikidata"
   ]
  },
  {
   "cell_type": "code",
   "execution_count": 10,
   "id": "a0389408-af82-4d9d-b5b6-f4237d389059",
   "metadata": {},
   "outputs": [],
   "source": [
    "vision = []\n",
    "with open('aliases.csv') as csvfile:\n",
    "    urls = reader(csvfile)\n",
    "    with open('kym_vision.json') as memes:\n",
    "        data = json.load(memes)\n",
    "        for row in urls:\n",
    "            if(row[2] in data.keys()):\n",
    "                newdata = data[row[2]]\n",
    "                newdata['url']=row[2]\n",
    "                vision.append(data[row[2]])"
   ]
  },
  {
   "cell_type": "markdown",
   "id": "dee96ee6-4a07-4ddb-818f-ece4ff76e64a",
   "metadata": {},
   "source": [
    "## Save on file"
   ]
  },
  {
   "cell_type": "code",
   "execution_count": 11,
   "id": "c0f7262b-7653-4000-a0ab-0711c5197f1c",
   "metadata": {},
   "outputs": [],
   "source": [
    "out_file = open(\"wiki.kym.vision.json\", \"w\")\n",
    "  \n",
    "json.dump(vision, out_file, indent = 6)\n",
    "  \n",
    "out_file.close()"
   ]
  },
  {
   "cell_type": "markdown",
   "id": "4f34576a-c7d2-40a5-ae5f-b8d18345563c",
   "metadata": {},
   "source": [
    "## Clean Google Vision : Transform into CSVTransform into CSV"
   ]
  },
  {
   "cell_type": "code",
   "execution_count": 12,
   "id": "ca3a1f3e-923c-4e5a-8dce-572582ffc0bd",
   "metadata": {},
   "outputs": [],
   "source": [
    "# After we decided to simply link the meme directly to the string like in Wikidata."
   ]
  },
  {
   "cell_type": "code",
   "execution_count": 13,
   "id": "dde222f1-33cd-4832-8b68-8c71a6ceca89",
   "metadata": {},
   "outputs": [],
   "source": [
    "entities = []\n",
    "with open('wiki.kym.vision.json') as visions:\n",
    "    data = json.load(visions)\n",
    "    for m in data:\n",
    "        entities = entities + [a[\"mid\"] for a in m[\"labelAnnotations\"]]\n",
    "        entities = entities + [a[\"entityId\"] for a in m[\"webDetection\"][\"webEntities\"]]\n",
    "        # print([a for a in m[\"labelAnnotations\"]])"
   ]
  },
  {
   "cell_type": "code",
   "execution_count": 14,
   "id": "d4882236-25c8-4fde-a51e-523923dc889a",
   "metadata": {},
   "outputs": [],
   "source": [
    "entities = set(entities)\n",
    "with open('wiki.kym.vision.entities.csv', 'w', newline='') as csvfile:\n",
    "    csvw = csv.writer(csvfile, delimiter=',',quotechar='|', quoting=csv.QUOTE_MINIMAL)\n",
    "    for e in entities:\n",
    "        csvw.writerow([e])"
   ]
  },
  {
   "cell_type": "markdown",
   "id": "1ed1c8d9-9cb9-4a00-aef4-ac992e15e551",
   "metadata": {},
   "source": [
    "# Collect siblings"
   ]
  },
  {
   "cell_type": "code",
   "execution_count": 15,
   "id": "f52bbb98-bea4-44fa-8e26-71e0b4f52a67",
   "metadata": {},
   "outputs": [],
   "source": [
    "siblings = []\n",
    "with open('wiki.kym.memes.json') as memes:\n",
    "        data = json.load(memes)\n",
    "        for m in data:\n",
    "            if('siblings' in m.keys()):\n",
    "                siblings = siblings + m['siblings']"
   ]
  },
  {
   "cell_type": "markdown",
   "id": "1bc2b07e-e9c5-4fc7-84d5-e6b78693ac04",
   "metadata": {},
   "source": [
    "## Saving into a file"
   ]
  },
  {
   "cell_type": "code",
   "execution_count": 16,
   "id": "a5469400-de6b-4cc7-ab90-852cce3fdc92",
   "metadata": {},
   "outputs": [],
   "source": [
    "siblings = set(siblings)\n",
    "with open('siblings.csv', 'w', newline='') as csvfile:\n",
    "    csvw = csv.writer(csvfile, delimiter=',',quotechar='|', quoting=csv.QUOTE_MINIMAL)\n",
    "    for s in siblings:\n",
    "        csvw.writerow([s])"
   ]
  },
  {
   "cell_type": "markdown",
   "id": "e86f22d7-641c-48e4-bf25-bb528ddce493",
   "metadata": {},
   "source": [
    "## Add Meme Information from KYM"
   ]
  },
  {
   "cell_type": "code",
   "execution_count": 17,
   "id": "dba1c00d-7668-4455-ab3b-c8d0a96f51f4",
   "metadata": {},
   "outputs": [],
   "source": [
    "dump = [ ]\n",
    "with open('siblings.csv') as csvfile:\n",
    "    urls = reader(csvfile)\n",
    "    with open('kym.memes.json') as memes:\n",
    "        data = json.load(memes)\n",
    "        for row in urls:\n",
    "            for i in data:\n",
    "                if (i['url'] == row[0]):\n",
    "                    dump.append(i)"
   ]
  },
  {
   "cell_type": "code",
   "execution_count": 18,
   "id": "4ff67fc8-24f2-43eb-9a47-7284f347c751",
   "metadata": {},
   "outputs": [],
   "source": [
    "out_file = open(\"siblings.kym.memes.json\", \"w\")\n",
    "  \n",
    "json.dump(dump, out_file, indent = 6)\n",
    "  \n",
    "out_file.close()"
   ]
  },
  {
   "cell_type": "markdown",
   "id": "d636c92d-d06a-41e1-ab8c-f81526d1c673",
   "metadata": {},
   "source": [
    "## Add Spotlight Entities"
   ]
  },
  {
   "cell_type": "code",
   "execution_count": 19,
   "id": "b74028a0-fe80-43b4-b080-e8e106145f45",
   "metadata": {},
   "outputs": [],
   "source": [
    "memes_entities = [] \n",
    "with open('siblings.csv') as csvfile:\n",
    "    urls = reader(csvfile)\n",
    "    with open('kym_spotlight.json') as memes:\n",
    "        data = json.load(memes)\n",
    "        for row in urls:\n",
    "            if(row[0] in data.keys()):\n",
    "                newdata = data[row[0]]\n",
    "                newdata['url']=row[0]\n",
    "                if(\"Resources\" in newdata.keys()):\n",
    "                    for r in newdata[\"Resources\"]:\n",
    "                        l = r[\"@types\"].replace(\"DUL:\", \"http://www.loa-cnr.it/ontologies/DOLCE-Lite#\").replace(\"Wikidata:\", \"https://www.wikidata.org/wiki/\").replace(\"Schema:\", \"https://schema.org/\").replace(\"DBpedia:\", \"https://dbpedia.org/ontology/\").split(\",\")\n",
    "                        l = list(filter(None, l))\n",
    "\n",
    "                        r[\"@types\"]=l\n",
    "                memes_entities.append(data[row[0]])"
   ]
  },
  {
   "cell_type": "code",
   "execution_count": 20,
   "id": "fb922a26-bfb3-49de-b8ef-fc2255540641",
   "metadata": {},
   "outputs": [],
   "source": [
    "out_file = open(\"siblings.kym.spotlight.json\", \"w\")\n",
    "  \n",
    "json.dump(dump, out_file, indent = 6)\n",
    "  \n",
    "out_file.close()"
   ]
  },
  {
   "cell_type": "markdown",
   "id": "fc7756e6-cb23-466e-8e95-4b91c673d627",
   "metadata": {},
   "source": [
    "## Add Vision Entities"
   ]
  },
  {
   "cell_type": "code",
   "execution_count": 21,
   "id": "8327fc48-8dd9-48ce-bdce-a502a720902c",
   "metadata": {},
   "outputs": [],
   "source": [
    "vision = []\n",
    "with open('siblings.csv') as csvfile:\n",
    "    urls = reader(csvfile)\n",
    "    with open('kym_vision.json') as memes:\n",
    "        data = json.load(memes)\n",
    "        for row in urls:\n",
    "            if(row[0] in data.keys()):\n",
    "                newdata = data[row[0]]\n",
    "                newdata['url']=row[0]\n",
    "                vision.append(data[row[0]])"
   ]
  },
  {
   "cell_type": "code",
   "execution_count": 22,
   "id": "9b673f43-4ca7-4800-9e01-f877a7605d51",
   "metadata": {},
   "outputs": [],
   "source": [
    "out_file = open(\"siblings.kym.vision.json\", \"w\")\n",
    "  \n",
    "json.dump(vision, out_file, indent = 6)\n",
    "  \n",
    "out_file.close()"
   ]
  },
  {
   "cell_type": "code",
   "execution_count": null,
   "id": "0efa4cc9-3b9c-4e7a-b7a1-4e913bf99c1f",
   "metadata": {},
   "outputs": [],
   "source": []
  },
  {
   "cell_type": "code",
   "execution_count": null,
   "id": "1b24a634-d99d-463f-9c06-c181d2378b29",
   "metadata": {},
   "outputs": [],
   "source": []
  },
  {
   "cell_type": "code",
   "execution_count": null,
   "id": "94e1e002-cc0b-4d42-a8da-2fb790834477",
   "metadata": {},
   "outputs": [],
   "source": []
  }
 ],
 "metadata": {
  "kernelspec": {
   "display_name": "Python 3 (ipykernel)",
   "language": "python",
   "name": "python3"
  },
  "language_info": {
   "codemirror_mode": {
    "name": "ipython",
    "version": 3
   },
   "file_extension": ".py",
   "mimetype": "text/x-python",
   "name": "python",
   "nbconvert_exporter": "python",
   "pygments_lexer": "ipython3",
   "version": "3.10.5"
  }
 },
 "nbformat": 4,
 "nbformat_minor": 5
}
